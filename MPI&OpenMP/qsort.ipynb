{
 "cells": [
  {
   "cell_type": "markdown",
   "metadata": {},
   "source": [
    "# 选题介绍 - 快速排序\n",
    "\n",
    "## 小组成员\n",
    "\n",
    "- 计1504 41416058 徐经纬\n",
    "- 计1504 41524206 李凯\n",
    "- 计1504 41524208 李鸿卓\n",
    "- 计1504 41524201 朱柯佳\n",
    "- 计1502 61562034 艾万\n"
   ]
  },
  {
   "cell_type": "markdown",
   "metadata": {},
   "source": [
    "## 朴素快速排序算法\n",
    "\n",
    "\n",
    "众所周知的基于分治思想的排序算法，朴素的实现上，最优时间复杂度为$O(nlogn)$，最坏时间复杂度可以被卡到$O(n^2)$\n",
    "\n",
    "以下针对整形数组来介绍和探究快速排序算法的应用和扩展\n",
    "\n",
    "主要算法步骤：\n",
    "\n",
    "- 从数组中选择一个目标值aim，按照下面的方式划分数组：\n",
    "    \n",
    "    - 所有小于aim的元素都划分到aim的左侧\n",
    "    \n",
    "    - 所有不小于aim的元素都划分到aim的右侧\n",
    "\n",
    "- 递归对左右两部分分别进行上一步操作，直至整个数组处理完成"
   ]
  },
  {
   "cell_type": "markdown",
   "metadata": {},
   "source": [
    "### 一个简单的例子\n",
    "\n",
    "    8 5 7 3 9    - 选择目标值为7\n",
    "\n",
    "    7 5 8 3 9    - 将目标位置和当前最左边位置互换，令left=1(val=5), right=5(val=9)\n",
    "\n",
    "    7 5 8 3 9    - 右移left，左移right至满足交换条件：left=3(val=8), right=4(val=3), 交换两个位置的值\n",
    "\n",
    "    7 5 3 8 9    - left=4 > right=3, 结束交换，交换right位置和最左边位置\n",
    "\n",
    "    3 5 7 8 9    - 对[3 5]和[8 9]两部分递归进行处理\n",
    "    \n",
    "    3 5 7 8 9    - 完成排序"
   ]
  },
  {
   "cell_type": "markdown",
   "metadata": {},
   "source": [
    "### 优化\n",
    "\n",
    "主要算法步骤：\n",
    "\n",
    "- 从数组中选择一个目标值aim，按照下面的方式划分数组：\n",
    "    \n",
    "    - 所有小于aim的元素都划分到aim的左侧\n",
    "    \n",
    "    - 所有不小于aim的元素都划分到aim的右侧\n",
    "\n",
    "- 递归对左右两部分分别进行上一步操作，直至整个数组处理完成\n",
    "\n",
    "主要优化点：\n",
    "\n",
    "- [x] 目标位置选取优化：对于固定选取最左边位置，完全逆序数据会被卡到最差复杂度 => 结论：固定目标位置的选取都是不优秀的\n",
    "- [x] 划分方式优化：对于朴素二分方式，完全相同数据会被卡到最差复杂度 => 结论：对于存在大量相同数据的数据集，朴素二分方式是不优秀的\n"
   ]
  },
  {
   "cell_type": "markdown",
   "metadata": {},
   "source": [
    "```cpp\n",
    "using namespace std;\n",
    "typedef pair<int, int> P;\n",
    "\n",
    "P partition(int a[], int l, int r) {\n",
    "\tif (l >= r) return P(l, r);\n",
    "\tint cur = l;\n",
    "\tint left = l;\n",
    "\tint right = r;\n",
    "\tint p = rand() % (r - l + 1);\n",
    "\tint aim = a[l + p];\n",
    "\tswap(a[l + p], a[l]);\n",
    "\twhile (cur <= right) {\n",
    "\t\tif (a[cur] == aim) cur++;\n",
    "\t\telse if (a[cur] < aim) swap(a[cur++], a[left++]);\n",
    "\t\telse swap(a[cur], a[right--]);\n",
    "\t}\n",
    "\treturn P(left, right);\n",
    "}\n",
    "\n",
    "void qsort(int a[], int l, int r) {\n",
    "\tif (l >= r) return;\n",
    "\tP ret = partition(a, l, r);\n",
    "    int left = ret.first, right = ret.second;\n",
    "\tqsort(a, l, left - 1);\n",
    "\tqsort(a, right + 1, r);\n",
    "}\n",
    "```\n",
    "\n",
    "- $a[l...left - 1] < aim$\n",
    "- $a[left...right] = aim$\n",
    "- $a[right+ 1...r] > aim$"
   ]
  },
  {
   "cell_type": "code",
   "execution_count": 2,
   "metadata": {},
   "outputs": [],
   "source": [
    "import subprocess\n",
    "def run(method, workers, testSize, seed, compiled=True):\n",
    "    if method not in ['naive', 'openmp', 'mpi']:\n",
    "        raise ValueError(method)\n",
    "    # print(\"run: method={}, workers={}, n={}, seed={}\".format(method, workers, testSize, seed))\n",
    "    script = './run-{}.sh'.format(method)\n",
    "    cmd = [script, '-w {}'.format(workers), '-n {}'.format(testSize), '-s {}'.format(seed), ]\n",
    "    if not compiled:\n",
    "        cmd.append('-c')\n",
    "    return float(subprocess.check_output(cmd))"
   ]
  },
  {
   "cell_type": "code",
   "execution_count": 4,
   "metadata": {},
   "outputs": [
    {
     "data": {
      "text/plain": [
       "1.500005"
      ]
     },
     "execution_count": 4,
     "metadata": {},
     "output_type": "execute_result"
    }
   ],
   "source": [
    "run('naive', 2, 10000000, 4516)"
   ]
  },
  {
   "cell_type": "code",
   "execution_count": 3,
   "metadata": {},
   "outputs": [
    {
     "name": "stdout",
     "output_type": "stream",
     "text": [
      "run: method=mpi, workers=2, n=10000000, seed=4516\n"
     ]
    },
    {
     "data": {
      "text/plain": [
       "0.955845"
      ]
     },
     "execution_count": 3,
     "metadata": {},
     "output_type": "execute_result"
    }
   ],
   "source": [
    "run(\"mpi\", 2, 10000000, 4516)"
   ]
  },
  {
   "cell_type": "code",
   "execution_count": 4,
   "metadata": {},
   "outputs": [
    {
     "name": "stdout",
     "output_type": "stream",
     "text": [
      "run: method=openmp, workers=2, n=10000000, seed=4516\n"
     ]
    },
    {
     "data": {
      "text/plain": [
       "1.602312"
      ]
     },
     "execution_count": 4,
     "metadata": {},
     "output_type": "execute_result"
    }
   ],
   "source": [
    "run(\"openmp\", 2, 10000000, 4516)"
   ]
  },
  {
   "cell_type": "code",
   "execution_count": 5,
   "metadata": {},
   "outputs": [
    {
     "data": {
      "text/html": [
       "<script>requirejs.config({paths: { 'plotly': ['https://cdn.plot.ly/plotly-latest.min']},});if(!window.Plotly) {{require(['plotly'],function(plotly) {window.Plotly=plotly;});}}</script>"
      ],
      "text/vnd.plotly.v1+html": [
       "<script>requirejs.config({paths: { 'plotly': ['https://cdn.plot.ly/plotly-latest.min']},});if(!window.Plotly) {{require(['plotly'],function(plotly) {window.Plotly=plotly;});}}</script>"
      ]
     },
     "metadata": {},
     "output_type": "display_data"
    }
   ],
   "source": [
    "import math\n",
    "import random\n",
    "import plotly.plotly\n",
    "import plotly.graph_objs as go\n",
    "from plotly.offline import iplot, init_notebook_mode\n",
    "\n",
    "init_notebook_mode(connected=True)\n",
    "\n",
    "def trace1():\n",
    "    testSize = int(5e6)\n",
    "    seed = [i - 1 for i in range(20)]\n",
    "    y = []\n",
    "    for i in seed:\n",
    "        timeInSec = run('naive', 1, testSize, i)\n",
    "        y.append(timeInSec)\n",
    "\n",
    "    return go.Scatter(x=seed, y=y, mode='lines+markers', name='fixed test size')\n",
    "\n",
    "def trace2():\n",
    "    seed = 123456\n",
    "    y = []\n",
    "    testSize = [1000, ]\n",
    "    for i in range(16):\n",
    "        testSize.append(testSize[-1] * 2)\n",
    "    \n",
    "    for i in testSize:\n",
    "        timeInSec = run('naive', 1, i, seed)\n",
    "        y.append(timeInSec)\n",
    "\n",
    "    return go.Scatter(x=testSize, y=y, mode='lines+markers', name='fixed seed')"
   ]
  },
  {
   "cell_type": "code",
   "execution_count": 6,
   "metadata": {},
   "outputs": [
    {
     "name": "stdout",
     "output_type": "stream",
     "text": [
      "run: method=naive, workers=1, n=5000000, seed=-1\n",
      "run: method=naive, workers=1, n=5000000, seed=0\n",
      "run: method=naive, workers=1, n=5000000, seed=1\n",
      "run: method=naive, workers=1, n=5000000, seed=2\n",
      "run: method=naive, workers=1, n=5000000, seed=3\n",
      "run: method=naive, workers=1, n=5000000, seed=4\n",
      "run: method=naive, workers=1, n=5000000, seed=5\n",
      "run: method=naive, workers=1, n=5000000, seed=6\n",
      "run: method=naive, workers=1, n=5000000, seed=7\n",
      "run: method=naive, workers=1, n=5000000, seed=8\n",
      "run: method=naive, workers=1, n=5000000, seed=9\n",
      "run: method=naive, workers=1, n=5000000, seed=10\n",
      "run: method=naive, workers=1, n=5000000, seed=11\n",
      "run: method=naive, workers=1, n=5000000, seed=12\n",
      "run: method=naive, workers=1, n=5000000, seed=13\n",
      "run: method=naive, workers=1, n=5000000, seed=14\n",
      "run: method=naive, workers=1, n=5000000, seed=15\n",
      "run: method=naive, workers=1, n=5000000, seed=16\n",
      "run: method=naive, workers=1, n=5000000, seed=17\n",
      "run: method=naive, workers=1, n=5000000, seed=18\n",
      "run: method=naive, workers=1, n=1000, seed=123456\n",
      "run: method=naive, workers=1, n=2000, seed=123456\n",
      "run: method=naive, workers=1, n=4000, seed=123456\n",
      "run: method=naive, workers=1, n=8000, seed=123456\n",
      "run: method=naive, workers=1, n=16000, seed=123456\n",
      "run: method=naive, workers=1, n=32000, seed=123456\n",
      "run: method=naive, workers=1, n=64000, seed=123456\n",
      "run: method=naive, workers=1, n=128000, seed=123456\n",
      "run: method=naive, workers=1, n=256000, seed=123456\n",
      "run: method=naive, workers=1, n=512000, seed=123456\n",
      "run: method=naive, workers=1, n=1024000, seed=123456\n",
      "run: method=naive, workers=1, n=2048000, seed=123456\n",
      "run: method=naive, workers=1, n=4096000, seed=123456\n",
      "run: method=naive, workers=1, n=8192000, seed=123456\n",
      "run: method=naive, workers=1, n=16384000, seed=123456\n",
      "run: method=naive, workers=1, n=32768000, seed=123456\n",
      "run: method=naive, workers=1, n=65536000, seed=123456\n",
      "CPU times: user 92.2 ms, sys: 137 ms, total: 230 ms\n",
      "Wall time: 38.1 s\n"
     ]
    }
   ],
   "source": [
    "%%time\n",
    "trace_naive_testsize = trace1()\n",
    "trace_naive_seed = trace2()"
   ]
  },
  {
   "cell_type": "code",
   "execution_count": 7,
   "metadata": {},
   "outputs": [
    {
     "data": {
      "application/vnd.plotly.v1+json": {
       "data": [
        {
         "mode": "lines+markers",
         "name": "fixed test size",
         "type": "scatter",
         "uid": "aeba21d4-cedd-11e8-8f4c-4feb54ea2203",
         "x": [
          -1,
          0,
          1,
          2,
          3,
          4,
          5,
          6,
          7,
          8,
          9,
          10,
          11,
          12,
          13,
          14,
          15,
          16,
          17,
          18
         ],
         "y": [
          0.375706,
          0.003101,
          0.724356,
          0.713609,
          0.71161,
          0.711708,
          0.712614,
          0.703173,
          0.707377,
          0.719352,
          0.71769,
          0.731556,
          0.710874,
          0.712897,
          0.71267,
          0.714267,
          0.712177,
          0.71286,
          0.711808,
          0.716854
         ]
        },
        {
         "marker": {
          "color": "rgb(158,202,225)",
          "line": {
           "color": "rgb(8,48,107)",
           "width": 1.5
          }
         },
         "name": "bar trance",
         "opacity": 0.6,
         "type": "bar",
         "uid": "aeba2918-cedd-11e8-8f4c-4feb54ea2203",
         "x": [
          -1,
          0,
          1,
          2,
          3,
          4,
          5,
          6,
          7,
          8,
          9,
          10,
          11,
          12,
          13,
          14,
          15,
          16,
          17,
          18
         ],
         "y": [
          0.375706,
          0.003101,
          0.724356,
          0.713609,
          0.71161,
          0.711708,
          0.712614,
          0.703173,
          0.707377,
          0.719352,
          0.71769,
          0.731556,
          0.710874,
          0.712897,
          0.71267,
          0.714267,
          0.712177,
          0.71286,
          0.711808,
          0.716854
         ]
        }
       ],
       "layout": {
        "showlegend": true,
        "title": "plot 1 of quick sort<br>fixed test size: 5M elements",
        "xaxis": {
         "title": "seed"
        },
        "yaxis": {
         "title": "runtime(s)"
        }
       }
      },
      "text/html": [
       "<div id=\"1376fbef-481c-47ab-8a88-5ee39de7b750\" style=\"height: 525px; width: 100%;\" class=\"plotly-graph-div\"></div><script type=\"text/javascript\">require([\"plotly\"], function(Plotly) { window.PLOTLYENV=window.PLOTLYENV || {};window.PLOTLYENV.BASE_URL=\"https://plot.ly\";Plotly.newPlot(\"1376fbef-481c-47ab-8a88-5ee39de7b750\", [{\"mode\": \"lines+markers\", \"name\": \"fixed test size\", \"x\": [-1, 0, 1, 2, 3, 4, 5, 6, 7, 8, 9, 10, 11, 12, 13, 14, 15, 16, 17, 18], \"y\": [0.375706, 0.003101, 0.724356, 0.713609, 0.71161, 0.711708, 0.712614, 0.703173, 0.707377, 0.719352, 0.71769, 0.731556, 0.710874, 0.712897, 0.71267, 0.714267, 0.712177, 0.71286, 0.711808, 0.716854], \"type\": \"scatter\", \"uid\": \"aebd9544-cedd-11e8-8f4c-4feb54ea2203\"}, {\"marker\": {\"color\": \"rgb(158,202,225)\", \"line\": {\"color\": \"rgb(8,48,107)\", \"width\": 1.5}}, \"name\": \"bar trance\", \"opacity\": 0.6, \"x\": [-1, 0, 1, 2, 3, 4, 5, 6, 7, 8, 9, 10, 11, 12, 13, 14, 15, 16, 17, 18], \"y\": [0.375706, 0.003101, 0.724356, 0.713609, 0.71161, 0.711708, 0.712614, 0.703173, 0.707377, 0.719352, 0.71769, 0.731556, 0.710874, 0.712897, 0.71267, 0.714267, 0.712177, 0.71286, 0.711808, 0.716854], \"type\": \"bar\", \"uid\": \"aebd96de-cedd-11e8-8f4c-4feb54ea2203\"}], {\"showlegend\": true, \"title\": \"plot 1 of quick sort<br>fixed test size: 5M elements\", \"xaxis\": {\"title\": \"seed\"}, \"yaxis\": {\"title\": \"runtime(s)\"}}, {\"showLink\": true, \"linkText\": \"Export to plot.ly\"})});</script>"
      ],
      "text/vnd.plotly.v1+html": [
       "<div id=\"1376fbef-481c-47ab-8a88-5ee39de7b750\" style=\"height: 525px; width: 100%;\" class=\"plotly-graph-div\"></div><script type=\"text/javascript\">require([\"plotly\"], function(Plotly) { window.PLOTLYENV=window.PLOTLYENV || {};window.PLOTLYENV.BASE_URL=\"https://plot.ly\";Plotly.newPlot(\"1376fbef-481c-47ab-8a88-5ee39de7b750\", [{\"mode\": \"lines+markers\", \"name\": \"fixed test size\", \"x\": [-1, 0, 1, 2, 3, 4, 5, 6, 7, 8, 9, 10, 11, 12, 13, 14, 15, 16, 17, 18], \"y\": [0.375706, 0.003101, 0.724356, 0.713609, 0.71161, 0.711708, 0.712614, 0.703173, 0.707377, 0.719352, 0.71769, 0.731556, 0.710874, 0.712897, 0.71267, 0.714267, 0.712177, 0.71286, 0.711808, 0.716854], \"type\": \"scatter\", \"uid\": \"aebd9544-cedd-11e8-8f4c-4feb54ea2203\"}, {\"marker\": {\"color\": \"rgb(158,202,225)\", \"line\": {\"color\": \"rgb(8,48,107)\", \"width\": 1.5}}, \"name\": \"bar trance\", \"opacity\": 0.6, \"x\": [-1, 0, 1, 2, 3, 4, 5, 6, 7, 8, 9, 10, 11, 12, 13, 14, 15, 16, 17, 18], \"y\": [0.375706, 0.003101, 0.724356, 0.713609, 0.71161, 0.711708, 0.712614, 0.703173, 0.707377, 0.719352, 0.71769, 0.731556, 0.710874, 0.712897, 0.71267, 0.714267, 0.712177, 0.71286, 0.711808, 0.716854], \"type\": \"bar\", \"uid\": \"aebd96de-cedd-11e8-8f4c-4feb54ea2203\"}], {\"showlegend\": true, \"title\": \"plot 1 of quick sort<br>fixed test size: 5M elements\", \"xaxis\": {\"title\": \"seed\"}, \"yaxis\": {\"title\": \"runtime(s)\"}}, {\"showLink\": true, \"linkText\": \"Export to plot.ly\"})});</script>"
      ]
     },
     "metadata": {},
     "output_type": "display_data"
    },
    {
     "data": {
      "application/vnd.plotly.v1+json": {
       "data": [
        {
         "mode": "lines+markers",
         "name": "fixed seed",
         "type": "scatter",
         "uid": "aec2c096-cedd-11e8-8f4c-4feb54ea2203",
         "x": [
          1000,
          2000,
          4000,
          8000,
          16000,
          32000,
          64000,
          128000,
          256000,
          512000,
          1024000,
          2048000,
          4096000,
          8192000,
          16384000,
          32768000,
          65536000
         ],
         "y": [
          6.8e-05,
          0.000147,
          0.000331,
          0.000693,
          0.001458,
          0.003133,
          0.006556,
          0.014116,
          0.029522,
          0.062163,
          0.130714,
          0.27623,
          0.584172,
          1.197168,
          2.498285,
          5.20054,
          10.981232
         ]
        },
        {
         "name": "ratio",
         "type": "scatter",
         "uid": "aec2c244-cedd-11e8-8f4c-4feb54ea2203",
         "x": [
          1000,
          2000,
          4000,
          8000,
          16000,
          32000,
          64000,
          128000,
          256000,
          512000,
          1024000,
          2048000,
          4096000,
          8192000,
          16384000,
          32768000,
          65536000
         ],
         "y": [
          6.8233465683835735e-09,
          6.702666958605498e-09,
          6.915551712399674e-09,
          6.6810459049880465e-09,
          6.524875233829723e-09,
          6.5420059609131685e-09,
          6.4160643895464025e-09,
          6.500215265597814e-09,
          6.418885514419334e-09,
          6.401639265357868e-09,
          6.393457367114914e-09,
          6.433240362306525e-09,
          6.4928306378337e-09,
          6.363321629411981e-09,
          6.362538088503922e-09,
          6.357015823440038e-09,
          6.453119262542452e-09
         ],
         "yaxis": "y2"
        }
       ],
       "layout": {
        "showlegend": true,
        "title": "plot 2 of quick sort<br>fixed seed: SEED = 123456",
        "xaxis": {
         "title": "test size"
        },
        "yaxis": {
         "title": "runtime(s)"
        },
        "yaxis2": {
         "overlaying": "y",
         "side": "right",
         "title": "ratio"
        }
       }
      },
      "text/html": [
       "<div id=\"ffeea4c7-e751-4786-b1d0-67bc063cf4fb\" style=\"height: 525px; width: 100%;\" class=\"plotly-graph-div\"></div><script type=\"text/javascript\">require([\"plotly\"], function(Plotly) { window.PLOTLYENV=window.PLOTLYENV || {};window.PLOTLYENV.BASE_URL=\"https://plot.ly\";Plotly.newPlot(\"ffeea4c7-e751-4786-b1d0-67bc063cf4fb\", [{\"mode\": \"lines+markers\", \"name\": \"fixed seed\", \"x\": [1000, 2000, 4000, 8000, 16000, 32000, 64000, 128000, 256000, 512000, 1024000, 2048000, 4096000, 8192000, 16384000, 32768000, 65536000], \"y\": [6.8e-05, 0.000147, 0.000331, 0.000693, 0.001458, 0.003133, 0.006556, 0.014116, 0.029522, 0.062163, 0.130714, 0.27623, 0.584172, 1.197168, 2.498285, 5.20054, 10.981232], \"type\": \"scatter\", \"uid\": \"aec5552c-cedd-11e8-8f4c-4feb54ea2203\"}, {\"name\": \"ratio\", \"x\": [1000, 2000, 4000, 8000, 16000, 32000, 64000, 128000, 256000, 512000, 1024000, 2048000, 4096000, 8192000, 16384000, 32768000, 65536000], \"y\": [6.8233465683835735e-09, 6.702666958605498e-09, 6.915551712399674e-09, 6.6810459049880465e-09, 6.524875233829723e-09, 6.5420059609131685e-09, 6.4160643895464025e-09, 6.500215265597814e-09, 6.418885514419334e-09, 6.401639265357868e-09, 6.393457367114914e-09, 6.433240362306525e-09, 6.4928306378337e-09, 6.363321629411981e-09, 6.362538088503922e-09, 6.357015823440038e-09, 6.453119262542452e-09], \"yaxis\": \"y2\", \"type\": \"scatter\", \"uid\": \"aec5568a-cedd-11e8-8f4c-4feb54ea2203\"}], {\"showlegend\": true, \"title\": \"plot 2 of quick sort<br>fixed seed: SEED = 123456\", \"xaxis\": {\"title\": \"test size\"}, \"yaxis\": {\"title\": \"runtime(s)\"}, \"yaxis2\": {\"overlaying\": \"y\", \"side\": \"right\", \"title\": \"ratio\"}}, {\"showLink\": true, \"linkText\": \"Export to plot.ly\"})});</script>"
      ],
      "text/vnd.plotly.v1+html": [
       "<div id=\"ffeea4c7-e751-4786-b1d0-67bc063cf4fb\" style=\"height: 525px; width: 100%;\" class=\"plotly-graph-div\"></div><script type=\"text/javascript\">require([\"plotly\"], function(Plotly) { window.PLOTLYENV=window.PLOTLYENV || {};window.PLOTLYENV.BASE_URL=\"https://plot.ly\";Plotly.newPlot(\"ffeea4c7-e751-4786-b1d0-67bc063cf4fb\", [{\"mode\": \"lines+markers\", \"name\": \"fixed seed\", \"x\": [1000, 2000, 4000, 8000, 16000, 32000, 64000, 128000, 256000, 512000, 1024000, 2048000, 4096000, 8192000, 16384000, 32768000, 65536000], \"y\": [6.8e-05, 0.000147, 0.000331, 0.000693, 0.001458, 0.003133, 0.006556, 0.014116, 0.029522, 0.062163, 0.130714, 0.27623, 0.584172, 1.197168, 2.498285, 5.20054, 10.981232], \"type\": \"scatter\", \"uid\": \"aec5552c-cedd-11e8-8f4c-4feb54ea2203\"}, {\"name\": \"ratio\", \"x\": [1000, 2000, 4000, 8000, 16000, 32000, 64000, 128000, 256000, 512000, 1024000, 2048000, 4096000, 8192000, 16384000, 32768000, 65536000], \"y\": [6.8233465683835735e-09, 6.702666958605498e-09, 6.915551712399674e-09, 6.6810459049880465e-09, 6.524875233829723e-09, 6.5420059609131685e-09, 6.4160643895464025e-09, 6.500215265597814e-09, 6.418885514419334e-09, 6.401639265357868e-09, 6.393457367114914e-09, 6.433240362306525e-09, 6.4928306378337e-09, 6.363321629411981e-09, 6.362538088503922e-09, 6.357015823440038e-09, 6.453119262542452e-09], \"yaxis\": \"y2\", \"type\": \"scatter\", \"uid\": \"aec5568a-cedd-11e8-8f4c-4feb54ea2203\"}], {\"showlegend\": true, \"title\": \"plot 2 of quick sort<br>fixed seed: SEED = 123456\", \"xaxis\": {\"title\": \"test size\"}, \"yaxis\": {\"title\": \"runtime(s)\"}, \"yaxis2\": {\"overlaying\": \"y\", \"side\": \"right\", \"title\": \"ratio\"}}, {\"showLink\": true, \"linkText\": \"Export to plot.ly\"})});</script>"
      ]
     },
     "metadata": {},
     "output_type": "display_data"
    }
   ],
   "source": [
    "bar_trance = go.Bar(\n",
    "    x=trace_naive_testsize.x,\n",
    "    y=trace_naive_testsize.y,\n",
    "    name='bar trance',\n",
    "    marker=dict(\n",
    "        color='rgb(158,202,225)',\n",
    "        line=dict(\n",
    "            color='rgb(8,48,107)',\n",
    "            width=1.5),\n",
    "        ),\n",
    "    opacity=0.6\n",
    ")\n",
    "\n",
    "iplot({\n",
    "    \"data\": [trace_naive_testsize, bar_trance],\n",
    "    \"layout\": go.Layout(title=\"plot 1 of quick sort<br>fixed test size: 5M elements\", \n",
    "                        xaxis=dict(title='seed'),\n",
    "                        yaxis=dict(title='runtime(s)'),\n",
    "                        showlegend=True,\n",
    "                       )\n",
    "})\n",
    "\n",
    "def nlogn(val):\n",
    "    return math.log(val) / math.log(2) * val\n",
    "\n",
    "ratio_trace = go.Scatter(\n",
    "    x=trace_naive_seed.x,\n",
    "    y=[trace_naive_seed.y[i] / nlogn(trace_naive_seed.x[i]) for i in range(len(trace_naive_seed.x))],\n",
    "    name='ratio',\n",
    "    yaxis='y2'\n",
    ")\n",
    "\n",
    "iplot({\n",
    "    \"data\": [trace_naive_seed, ratio_trace],\n",
    "    \"layout\": go.Layout(title=\"plot 2 of quick sort<br>fixed seed: SEED = 123456\",\n",
    "                        xaxis=dict(title='test size'),\n",
    "                        yaxis=dict(title='runtime(s)'),\n",
    "                        yaxis2=dict(title='ratio', overlaying='y', side='right'),\n",
    "                        showlegend=True,\n",
    "                       )\n",
    "})"
   ]
  },
  {
   "cell_type": "markdown",
   "metadata": {},
   "source": [
    "# OpenMP\n",
    "\n",
    "```cpp\n",
    "void qsort(int a[], int l, int r) {\n",
    "\tif (l >= r) return;\n",
    "\tP ret = partition(a, l, r);\n",
    "\tqsort(a, l, ret.first - 1);\n",
    "\tqsort(a, ret.second + 1, r);\n",
    "}\n",
    "```"
   ]
  },
  {
   "cell_type": "markdown",
   "metadata": {},
   "source": [
    "# OpenMP\n",
    "\n",
    "```cpp\n",
    "void qsort(int a[], int l, int r) {\n",
    "\tif (l >= r) return;\n",
    "\tP ret = partition(a, l, r);\n",
    "\tint left = ret.first, right = ret.second;\n",
    "\t{\n",
    "\t\t#pragma omp task firstprivate(a, l, left)\n",
    "\t\t{\n",
    "\t\t\tqsort(a, l, left - 1);\n",
    "\t\t}\n",
    "\t\t#pragma omp task firstprivate(a, right, r)\n",
    "\t\t{\n",
    "\t\t\tqsort(a, right + 1, r);\n",
    "\t\t}\n",
    "\t}\n",
    "}\n",
    "\n",
    "/////////////////\n",
    "\n",
    "omp_set_nested(1);\n",
    "\n",
    "omp_set_num_threads(num_of_threads);\n",
    "\n",
    "#pragma omp parallel shared(data, n)\n",
    "{\n",
    "    #pragma omp single nowait\n",
    "    {\n",
    "        qsort(data, 0, n - 1);\n",
    "    }\n",
    "}\n",
    "```\n",
    "\n",
    "### section | task\n",
    "\n",
    "### firstprivate\n",
    "\n",
    "### single nowait\n",
    "\n"
   ]
  },
  {
   "cell_type": "code",
   "execution_count": 8,
   "metadata": {},
   "outputs": [],
   "source": [
    "def trace3():\n",
    "    # x轴为线程数\n",
    "    ret = []\n",
    "    seed = 123456\n",
    "    testSize = [10000, ]\n",
    "    for i in range(6):\n",
    "        testSize.append(testSize[-1] * 2)\n",
    "    threads = [2**i for i in range(10)]\n",
    "    \n",
    "    for n in testSize:\n",
    "        y = []\n",
    "        for thread in threads:\n",
    "            timeInSec = run('openmp', thread, n, seed)\n",
    "            y.append(timeInSec)\n",
    "        ret.append(go.Scatter(x=threads, y=y, mode='lines+markers', name='{} items'.format(n)))\n",
    "    return ret\n",
    "\n",
    "def trace4():\n",
    "    # 线程数量=4,8,16\n",
    "    # seed=123456\n",
    "    # 固定种子，增加测试集大小\n",
    "    ret = []\n",
    "    seed = 123456\n",
    "    testSize = [1000, ]\n",
    "    for i in range(16):\n",
    "        testSize.append(testSize[-1] * 2)\n",
    "\n",
    "    for thread in [1, 2, 4, 8, 16]:\n",
    "        y = []\n",
    "        for n in testSize:\n",
    "            timeInSec = run('openmp', thread, n, seed)\n",
    "            y.append(timeInSec)\n",
    "        ret.append(go.Scatter(x=testSize, y=y, mode='lines+markers', name='{} threads'.format(thread)))\n",
    "    return ret"
   ]
  },
  {
   "cell_type": "code",
   "execution_count": 9,
   "metadata": {},
   "outputs": [
    {
     "name": "stdout",
     "output_type": "stream",
     "text": [
      "run: method=openmp, workers=1, n=10000, seed=123456\n",
      "run: method=openmp, workers=2, n=10000, seed=123456\n",
      "run: method=openmp, workers=4, n=10000, seed=123456\n",
      "run: method=openmp, workers=8, n=10000, seed=123456\n",
      "run: method=openmp, workers=16, n=10000, seed=123456\n",
      "run: method=openmp, workers=32, n=10000, seed=123456\n",
      "run: method=openmp, workers=64, n=10000, seed=123456\n",
      "run: method=openmp, workers=128, n=10000, seed=123456\n",
      "run: method=openmp, workers=256, n=10000, seed=123456\n",
      "run: method=openmp, workers=512, n=10000, seed=123456\n",
      "run: method=openmp, workers=1, n=20000, seed=123456\n",
      "run: method=openmp, workers=2, n=20000, seed=123456\n",
      "run: method=openmp, workers=4, n=20000, seed=123456\n",
      "run: method=openmp, workers=8, n=20000, seed=123456\n",
      "run: method=openmp, workers=16, n=20000, seed=123456\n",
      "run: method=openmp, workers=32, n=20000, seed=123456\n",
      "run: method=openmp, workers=64, n=20000, seed=123456\n",
      "run: method=openmp, workers=128, n=20000, seed=123456\n",
      "run: method=openmp, workers=256, n=20000, seed=123456\n",
      "run: method=openmp, workers=512, n=20000, seed=123456\n",
      "run: method=openmp, workers=1, n=40000, seed=123456\n",
      "run: method=openmp, workers=2, n=40000, seed=123456\n",
      "run: method=openmp, workers=4, n=40000, seed=123456\n",
      "run: method=openmp, workers=8, n=40000, seed=123456\n",
      "run: method=openmp, workers=16, n=40000, seed=123456\n",
      "run: method=openmp, workers=32, n=40000, seed=123456\n",
      "run: method=openmp, workers=64, n=40000, seed=123456\n",
      "run: method=openmp, workers=128, n=40000, seed=123456\n",
      "run: method=openmp, workers=256, n=40000, seed=123456\n",
      "run: method=openmp, workers=512, n=40000, seed=123456\n",
      "run: method=openmp, workers=1, n=80000, seed=123456\n",
      "run: method=openmp, workers=2, n=80000, seed=123456\n",
      "run: method=openmp, workers=4, n=80000, seed=123456\n",
      "run: method=openmp, workers=8, n=80000, seed=123456\n",
      "run: method=openmp, workers=16, n=80000, seed=123456\n",
      "run: method=openmp, workers=32, n=80000, seed=123456\n",
      "run: method=openmp, workers=64, n=80000, seed=123456\n",
      "run: method=openmp, workers=128, n=80000, seed=123456\n",
      "run: method=openmp, workers=256, n=80000, seed=123456\n",
      "run: method=openmp, workers=512, n=80000, seed=123456\n",
      "run: method=openmp, workers=1, n=160000, seed=123456\n",
      "run: method=openmp, workers=2, n=160000, seed=123456\n",
      "run: method=openmp, workers=4, n=160000, seed=123456\n",
      "run: method=openmp, workers=8, n=160000, seed=123456\n",
      "run: method=openmp, workers=16, n=160000, seed=123456\n",
      "run: method=openmp, workers=32, n=160000, seed=123456\n",
      "run: method=openmp, workers=64, n=160000, seed=123456\n",
      "run: method=openmp, workers=128, n=160000, seed=123456\n",
      "run: method=openmp, workers=256, n=160000, seed=123456\n",
      "run: method=openmp, workers=512, n=160000, seed=123456\n",
      "run: method=openmp, workers=1, n=320000, seed=123456\n",
      "run: method=openmp, workers=2, n=320000, seed=123456\n",
      "run: method=openmp, workers=4, n=320000, seed=123456\n",
      "run: method=openmp, workers=8, n=320000, seed=123456\n",
      "run: method=openmp, workers=16, n=320000, seed=123456\n",
      "run: method=openmp, workers=32, n=320000, seed=123456\n",
      "run: method=openmp, workers=64, n=320000, seed=123456\n",
      "run: method=openmp, workers=128, n=320000, seed=123456\n",
      "run: method=openmp, workers=256, n=320000, seed=123456\n",
      "run: method=openmp, workers=512, n=320000, seed=123456\n",
      "run: method=openmp, workers=1, n=640000, seed=123456\n",
      "run: method=openmp, workers=2, n=640000, seed=123456\n",
      "run: method=openmp, workers=4, n=640000, seed=123456\n",
      "run: method=openmp, workers=8, n=640000, seed=123456\n",
      "run: method=openmp, workers=16, n=640000, seed=123456\n",
      "run: method=openmp, workers=32, n=640000, seed=123456\n",
      "run: method=openmp, workers=64, n=640000, seed=123456\n",
      "run: method=openmp, workers=128, n=640000, seed=123456\n",
      "run: method=openmp, workers=256, n=640000, seed=123456\n",
      "run: method=openmp, workers=512, n=640000, seed=123456\n",
      "run: method=openmp, workers=1, n=1000, seed=123456\n",
      "run: method=openmp, workers=1, n=2000, seed=123456\n",
      "run: method=openmp, workers=1, n=4000, seed=123456\n",
      "run: method=openmp, workers=1, n=8000, seed=123456\n",
      "run: method=openmp, workers=1, n=16000, seed=123456\n",
      "run: method=openmp, workers=1, n=32000, seed=123456\n",
      "run: method=openmp, workers=1, n=64000, seed=123456\n",
      "run: method=openmp, workers=1, n=128000, seed=123456\n",
      "run: method=openmp, workers=1, n=256000, seed=123456\n",
      "run: method=openmp, workers=1, n=512000, seed=123456\n",
      "run: method=openmp, workers=1, n=1024000, seed=123456\n",
      "run: method=openmp, workers=1, n=2048000, seed=123456\n",
      "run: method=openmp, workers=1, n=4096000, seed=123456\n",
      "run: method=openmp, workers=1, n=8192000, seed=123456\n",
      "run: method=openmp, workers=1, n=16384000, seed=123456\n",
      "run: method=openmp, workers=1, n=32768000, seed=123456\n",
      "run: method=openmp, workers=1, n=65536000, seed=123456\n",
      "run: method=openmp, workers=2, n=1000, seed=123456\n",
      "run: method=openmp, workers=2, n=2000, seed=123456\n",
      "run: method=openmp, workers=2, n=4000, seed=123456\n",
      "run: method=openmp, workers=2, n=8000, seed=123456\n",
      "run: method=openmp, workers=2, n=16000, seed=123456\n",
      "run: method=openmp, workers=2, n=32000, seed=123456\n",
      "run: method=openmp, workers=2, n=64000, seed=123456\n",
      "run: method=openmp, workers=2, n=128000, seed=123456\n",
      "run: method=openmp, workers=2, n=256000, seed=123456\n",
      "run: method=openmp, workers=2, n=512000, seed=123456\n",
      "run: method=openmp, workers=2, n=1024000, seed=123456\n",
      "run: method=openmp, workers=2, n=2048000, seed=123456\n",
      "run: method=openmp, workers=2, n=4096000, seed=123456\n",
      "run: method=openmp, workers=2, n=8192000, seed=123456\n",
      "run: method=openmp, workers=2, n=16384000, seed=123456\n",
      "run: method=openmp, workers=2, n=32768000, seed=123456\n",
      "run: method=openmp, workers=2, n=65536000, seed=123456\n",
      "run: method=openmp, workers=4, n=1000, seed=123456\n",
      "run: method=openmp, workers=4, n=2000, seed=123456\n",
      "run: method=openmp, workers=4, n=4000, seed=123456\n",
      "run: method=openmp, workers=4, n=8000, seed=123456\n",
      "run: method=openmp, workers=4, n=16000, seed=123456\n",
      "run: method=openmp, workers=4, n=32000, seed=123456\n",
      "run: method=openmp, workers=4, n=64000, seed=123456\n",
      "run: method=openmp, workers=4, n=128000, seed=123456\n",
      "run: method=openmp, workers=4, n=256000, seed=123456\n",
      "run: method=openmp, workers=4, n=512000, seed=123456\n",
      "run: method=openmp, workers=4, n=1024000, seed=123456\n",
      "run: method=openmp, workers=4, n=2048000, seed=123456\n",
      "run: method=openmp, workers=4, n=4096000, seed=123456\n",
      "run: method=openmp, workers=4, n=8192000, seed=123456\n",
      "run: method=openmp, workers=4, n=16384000, seed=123456\n",
      "run: method=openmp, workers=4, n=32768000, seed=123456\n",
      "run: method=openmp, workers=4, n=65536000, seed=123456\n",
      "run: method=openmp, workers=8, n=1000, seed=123456\n",
      "run: method=openmp, workers=8, n=2000, seed=123456\n",
      "run: method=openmp, workers=8, n=4000, seed=123456\n",
      "run: method=openmp, workers=8, n=8000, seed=123456\n",
      "run: method=openmp, workers=8, n=16000, seed=123456\n",
      "run: method=openmp, workers=8, n=32000, seed=123456\n",
      "run: method=openmp, workers=8, n=64000, seed=123456\n",
      "run: method=openmp, workers=8, n=128000, seed=123456\n",
      "run: method=openmp, workers=8, n=256000, seed=123456\n",
      "run: method=openmp, workers=8, n=512000, seed=123456\n",
      "run: method=openmp, workers=8, n=1024000, seed=123456\n",
      "run: method=openmp, workers=8, n=2048000, seed=123456\n",
      "run: method=openmp, workers=8, n=4096000, seed=123456\n",
      "run: method=openmp, workers=8, n=8192000, seed=123456\n",
      "run: method=openmp, workers=8, n=16384000, seed=123456\n",
      "run: method=openmp, workers=8, n=32768000, seed=123456\n",
      "run: method=openmp, workers=8, n=65536000, seed=123456\n",
      "run: method=openmp, workers=16, n=1000, seed=123456\n",
      "run: method=openmp, workers=16, n=2000, seed=123456\n",
      "run: method=openmp, workers=16, n=4000, seed=123456\n",
      "run: method=openmp, workers=16, n=8000, seed=123456\n",
      "run: method=openmp, workers=16, n=16000, seed=123456\n",
      "run: method=openmp, workers=16, n=32000, seed=123456\n",
      "run: method=openmp, workers=16, n=64000, seed=123456\n",
      "run: method=openmp, workers=16, n=128000, seed=123456\n",
      "run: method=openmp, workers=16, n=256000, seed=123456\n",
      "run: method=openmp, workers=16, n=512000, seed=123456\n",
      "run: method=openmp, workers=16, n=1024000, seed=123456\n",
      "run: method=openmp, workers=16, n=2048000, seed=123456\n",
      "run: method=openmp, workers=16, n=4096000, seed=123456\n",
      "run: method=openmp, workers=16, n=8192000, seed=123456\n",
      "run: method=openmp, workers=16, n=16384000, seed=123456\n",
      "run: method=openmp, workers=16, n=32768000, seed=123456\n"
     ]
    },
    {
     "name": "stdout",
     "output_type": "stream",
     "text": [
      "run: method=openmp, workers=16, n=65536000, seed=123456\n",
      "CPU times: user 246 ms, sys: 498 ms, total: 744 ms\n",
      "Wall time: 2min 26s\n"
     ]
    }
   ],
   "source": [
    "%%time\n",
    "trace_openmp_testsize = trace3()\n",
    "trace_openmp_seed = trace4()"
   ]
  },
  {
   "cell_type": "code",
   "execution_count": 10,
   "metadata": {},
   "outputs": [
    {
     "data": {
      "application/vnd.plotly.v1+json": {
       "data": [
        {
         "mode": "lines+markers",
         "name": "10000 items",
         "type": "scatter",
         "uid": "06565426-cede-11e8-8f4c-4feb54ea2203",
         "x": [
          1,
          2,
          4,
          8,
          16,
          32,
          64,
          128,
          256,
          512
         ],
         "y": [
          0.001198,
          0.002374,
          0.008409,
          0.018199,
          0.018652,
          0.021759,
          0.023675,
          0.021763,
          0.026489,
          0.039369
         ]
        },
        {
         "mode": "lines+markers",
         "name": "20000 items",
         "type": "scatter",
         "uid": "065656ce-cede-11e8-8f4c-4feb54ea2203",
         "x": [
          1,
          2,
          4,
          8,
          16,
          32,
          64,
          128,
          256,
          512
         ],
         "y": [
          0.00224,
          0.005385,
          0.008467,
          0.021548,
          0.028649,
          0.042592,
          0.041698,
          0.046596,
          0.051637,
          0.06097
         ]
        },
        {
         "mode": "lines+markers",
         "name": "40000 items",
         "type": "scatter",
         "uid": "065657d2-cede-11e8-8f4c-4feb54ea2203",
         "x": [
          1,
          2,
          4,
          8,
          16,
          32,
          64,
          128,
          256,
          512
         ],
         "y": [
          0.004603,
          0.0074,
          0.012452,
          0.025052,
          0.036346,
          0.064704,
          0.074438,
          0.075773,
          0.079545,
          0.097567
         ]
        },
        {
         "mode": "lines+markers",
         "name": "80000 items",
         "type": "scatter",
         "uid": "065658ae-cede-11e8-8f4c-4feb54ea2203",
         "x": [
          1,
          2,
          4,
          8,
          16,
          32,
          64,
          128,
          256,
          512
         ],
         "y": [
          0.010016,
          0.016041,
          0.019026,
          0.032251,
          0.042203,
          0.056424,
          0.111554,
          0.161888,
          0.158306,
          0.169549
         ]
        },
        {
         "mode": "lines+markers",
         "name": "160000 items",
         "type": "scatter",
         "uid": "06565976-cede-11e8-8f4c-4feb54ea2203",
         "x": [
          1,
          2,
          4,
          8,
          16,
          32,
          64,
          128,
          256,
          512
         ],
         "y": [
          0.020339,
          0.027994,
          0.032644,
          0.052553,
          0.067924,
          0.101398,
          0.157787,
          0.259469,
          0.316415,
          0.325591
         ]
        },
        {
         "mode": "lines+markers",
         "name": "320000 items",
         "type": "scatter",
         "uid": "06565a2a-cede-11e8-8f4c-4feb54ea2203",
         "x": [
          1,
          2,
          4,
          8,
          16,
          32,
          64,
          128,
          256,
          512
         ],
         "y": [
          0.042417,
          0.047911,
          0.056424,
          0.092138,
          0.110892,
          0.138926,
          0.270289,
          0.3396,
          0.611797,
          0.665898
         ]
        },
        {
         "mode": "lines+markers",
         "name": "640000 items",
         "type": "scatter",
         "uid": "06565ae8-cede-11e8-8f4c-4feb54ea2203",
         "x": [
          1,
          2,
          4,
          8,
          16,
          32,
          64,
          128,
          256,
          512
         ],
         "y": [
          0.089631,
          0.104732,
          0.11209,
          0.164574,
          0.194335,
          0.209012,
          0.304129,
          0.440803,
          0.906025,
          1.28882
         ]
        }
       ],
       "layout": {
        "showlegend": true,
        "title": "plot 3 of quick sort<br>openMP<br>fixed test size",
        "xaxis": {
         "title": "number of threads"
        },
        "yaxis": {
         "title": "runtime(s)"
        }
       }
      },
      "text/html": [
       "<div id=\"6f282a3a-6044-4f50-9454-423c33f44c41\" style=\"height: 525px; width: 100%;\" class=\"plotly-graph-div\"></div><script type=\"text/javascript\">require([\"plotly\"], function(Plotly) { window.PLOTLYENV=window.PLOTLYENV || {};window.PLOTLYENV.BASE_URL=\"https://plot.ly\";Plotly.newPlot(\"6f282a3a-6044-4f50-9454-423c33f44c41\", [{\"mode\": \"lines+markers\", \"name\": \"10000 items\", \"x\": [1, 2, 4, 8, 16, 32, 64, 128, 256, 512], \"y\": [0.001198, 0.002374, 0.008409, 0.018199, 0.018652, 0.021759, 0.023675, 0.021763, 0.026489, 0.039369], \"type\": \"scatter\", \"uid\": \"065b2474-cede-11e8-8f4c-4feb54ea2203\"}, {\"mode\": \"lines+markers\", \"name\": \"20000 items\", \"x\": [1, 2, 4, 8, 16, 32, 64, 128, 256, 512], \"y\": [0.00224, 0.005385, 0.008467, 0.021548, 0.028649, 0.042592, 0.041698, 0.046596, 0.051637, 0.06097], \"type\": \"scatter\", \"uid\": \"065b267c-cede-11e8-8f4c-4feb54ea2203\"}, {\"mode\": \"lines+markers\", \"name\": \"40000 items\", \"x\": [1, 2, 4, 8, 16, 32, 64, 128, 256, 512], \"y\": [0.004603, 0.0074, 0.012452, 0.025052, 0.036346, 0.064704, 0.074438, 0.075773, 0.079545, 0.097567], \"type\": \"scatter\", \"uid\": \"065b2794-cede-11e8-8f4c-4feb54ea2203\"}, {\"mode\": \"lines+markers\", \"name\": \"80000 items\", \"x\": [1, 2, 4, 8, 16, 32, 64, 128, 256, 512], \"y\": [0.010016, 0.016041, 0.019026, 0.032251, 0.042203, 0.056424, 0.111554, 0.161888, 0.158306, 0.169549], \"type\": \"scatter\", \"uid\": \"065b287a-cede-11e8-8f4c-4feb54ea2203\"}, {\"mode\": \"lines+markers\", \"name\": \"160000 items\", \"x\": [1, 2, 4, 8, 16, 32, 64, 128, 256, 512], \"y\": [0.020339, 0.027994, 0.032644, 0.052553, 0.067924, 0.101398, 0.157787, 0.259469, 0.316415, 0.325591], \"type\": \"scatter\", \"uid\": \"065b2956-cede-11e8-8f4c-4feb54ea2203\"}, {\"mode\": \"lines+markers\", \"name\": \"320000 items\", \"x\": [1, 2, 4, 8, 16, 32, 64, 128, 256, 512], \"y\": [0.042417, 0.047911, 0.056424, 0.092138, 0.110892, 0.138926, 0.270289, 0.3396, 0.611797, 0.665898], \"type\": \"scatter\", \"uid\": \"065b2a5a-cede-11e8-8f4c-4feb54ea2203\"}, {\"mode\": \"lines+markers\", \"name\": \"640000 items\", \"x\": [1, 2, 4, 8, 16, 32, 64, 128, 256, 512], \"y\": [0.089631, 0.104732, 0.11209, 0.164574, 0.194335, 0.209012, 0.304129, 0.440803, 0.906025, 1.28882], \"type\": \"scatter\", \"uid\": \"065b2b7c-cede-11e8-8f4c-4feb54ea2203\"}], {\"showlegend\": true, \"title\": \"plot 3 of quick sort<br>openMP<br>fixed test size\", \"xaxis\": {\"title\": \"number of threads\"}, \"yaxis\": {\"title\": \"runtime(s)\"}}, {\"showLink\": true, \"linkText\": \"Export to plot.ly\"})});</script>"
      ],
      "text/vnd.plotly.v1+html": [
       "<div id=\"6f282a3a-6044-4f50-9454-423c33f44c41\" style=\"height: 525px; width: 100%;\" class=\"plotly-graph-div\"></div><script type=\"text/javascript\">require([\"plotly\"], function(Plotly) { window.PLOTLYENV=window.PLOTLYENV || {};window.PLOTLYENV.BASE_URL=\"https://plot.ly\";Plotly.newPlot(\"6f282a3a-6044-4f50-9454-423c33f44c41\", [{\"mode\": \"lines+markers\", \"name\": \"10000 items\", \"x\": [1, 2, 4, 8, 16, 32, 64, 128, 256, 512], \"y\": [0.001198, 0.002374, 0.008409, 0.018199, 0.018652, 0.021759, 0.023675, 0.021763, 0.026489, 0.039369], \"type\": \"scatter\", \"uid\": \"065b2474-cede-11e8-8f4c-4feb54ea2203\"}, {\"mode\": \"lines+markers\", \"name\": \"20000 items\", \"x\": [1, 2, 4, 8, 16, 32, 64, 128, 256, 512], \"y\": [0.00224, 0.005385, 0.008467, 0.021548, 0.028649, 0.042592, 0.041698, 0.046596, 0.051637, 0.06097], \"type\": \"scatter\", \"uid\": \"065b267c-cede-11e8-8f4c-4feb54ea2203\"}, {\"mode\": \"lines+markers\", \"name\": \"40000 items\", \"x\": [1, 2, 4, 8, 16, 32, 64, 128, 256, 512], \"y\": [0.004603, 0.0074, 0.012452, 0.025052, 0.036346, 0.064704, 0.074438, 0.075773, 0.079545, 0.097567], \"type\": \"scatter\", \"uid\": \"065b2794-cede-11e8-8f4c-4feb54ea2203\"}, {\"mode\": \"lines+markers\", \"name\": \"80000 items\", \"x\": [1, 2, 4, 8, 16, 32, 64, 128, 256, 512], \"y\": [0.010016, 0.016041, 0.019026, 0.032251, 0.042203, 0.056424, 0.111554, 0.161888, 0.158306, 0.169549], \"type\": \"scatter\", \"uid\": \"065b287a-cede-11e8-8f4c-4feb54ea2203\"}, {\"mode\": \"lines+markers\", \"name\": \"160000 items\", \"x\": [1, 2, 4, 8, 16, 32, 64, 128, 256, 512], \"y\": [0.020339, 0.027994, 0.032644, 0.052553, 0.067924, 0.101398, 0.157787, 0.259469, 0.316415, 0.325591], \"type\": \"scatter\", \"uid\": \"065b2956-cede-11e8-8f4c-4feb54ea2203\"}, {\"mode\": \"lines+markers\", \"name\": \"320000 items\", \"x\": [1, 2, 4, 8, 16, 32, 64, 128, 256, 512], \"y\": [0.042417, 0.047911, 0.056424, 0.092138, 0.110892, 0.138926, 0.270289, 0.3396, 0.611797, 0.665898], \"type\": \"scatter\", \"uid\": \"065b2a5a-cede-11e8-8f4c-4feb54ea2203\"}, {\"mode\": \"lines+markers\", \"name\": \"640000 items\", \"x\": [1, 2, 4, 8, 16, 32, 64, 128, 256, 512], \"y\": [0.089631, 0.104732, 0.11209, 0.164574, 0.194335, 0.209012, 0.304129, 0.440803, 0.906025, 1.28882], \"type\": \"scatter\", \"uid\": \"065b2b7c-cede-11e8-8f4c-4feb54ea2203\"}], {\"showlegend\": true, \"title\": \"plot 3 of quick sort<br>openMP<br>fixed test size\", \"xaxis\": {\"title\": \"number of threads\"}, \"yaxis\": {\"title\": \"runtime(s)\"}}, {\"showLink\": true, \"linkText\": \"Export to plot.ly\"})});</script>"
      ]
     },
     "metadata": {},
     "output_type": "display_data"
    },
    {
     "data": {
      "application/vnd.plotly.v1+json": {
       "data": [
        {
         "mode": "lines+markers",
         "name": "1 threads",
         "type": "scatter",
         "uid": "0660e620-cede-11e8-8f4c-4feb54ea2203",
         "x": [
          1000,
          2000,
          4000,
          8000,
          16000,
          32000,
          64000,
          128000,
          256000,
          512000,
          1024000,
          2048000,
          4096000,
          8192000,
          16384000,
          32768000,
          65536000
         ],
         "y": [
          0.000143,
          0.000244,
          0.000595,
          0.000889,
          0.001776,
          0.003719,
          0.007568,
          0.015942,
          0.03376,
          0.06988,
          0.145978,
          0.307065,
          0.635408,
          1.327822,
          2.731053,
          5.681017,
          11.786195
         ]
        },
        {
         "mode": "lines+markers",
         "name": "2 threads",
         "type": "scatter",
         "uid": "0660e788-cede-11e8-8f4c-4feb54ea2203",
         "x": [
          1000,
          2000,
          4000,
          8000,
          16000,
          32000,
          64000,
          128000,
          256000,
          512000,
          1024000,
          2048000,
          4096000,
          8192000,
          16384000,
          32768000,
          65536000
         ],
         "y": [
          0.000527,
          0.000918,
          0.001381,
          0.002012,
          0.003069,
          0.00596,
          0.011178,
          0.022882,
          0.042717,
          0.076494,
          0.151311,
          0.330766,
          0.614841,
          1.17678,
          2.453865,
          4.855414,
          9.912487
         ]
        },
        {
         "mode": "lines+markers",
         "name": "4 threads",
         "type": "scatter",
         "uid": "0660e882-cede-11e8-8f4c-4feb54ea2203",
         "x": [
          1000,
          2000,
          4000,
          8000,
          16000,
          32000,
          64000,
          128000,
          256000,
          512000,
          1024000,
          2048000,
          4096000,
          8192000,
          16384000,
          32768000,
          65536000
         ],
         "y": [
          0.001753,
          0.004308,
          0.005112,
          0.005545,
          0.008614,
          0.010956,
          0.017884,
          0.028264,
          0.048031,
          0.08776,
          0.176546,
          0.350605,
          0.685851,
          1.373329,
          2.700258,
          5.257592,
          10.844767
         ]
        },
        {
         "mode": "lines+markers",
         "name": "8 threads",
         "type": "scatter",
         "uid": "0660e95e-cede-11e8-8f4c-4feb54ea2203",
         "x": [
          1000,
          2000,
          4000,
          8000,
          16000,
          32000,
          64000,
          128000,
          256000,
          512000,
          1024000,
          2048000,
          4096000,
          8192000,
          16384000,
          32768000,
          65536000
         ],
         "y": [
          0.003866,
          0.005904,
          0.009307,
          0.013682,
          0.014013,
          0.017235,
          0.034079,
          0.051114,
          0.080723,
          0.131507,
          0.273663,
          0.487254,
          0.95324,
          1.892478,
          3.731049,
          7.437704,
          15.055103
         ]
        },
        {
         "mode": "lines+markers",
         "name": "16 threads",
         "type": "scatter",
         "uid": "0660e9ea-cede-11e8-8f4c-4feb54ea2203",
         "x": [
          1000,
          2000,
          4000,
          8000,
          16000,
          32000,
          64000,
          128000,
          256000,
          512000,
          1024000,
          2048000,
          4096000,
          8192000,
          16384000,
          32768000,
          65536000
         ],
         "y": [
          0.002081,
          0.003852,
          0.007054,
          0.016753,
          0.017728,
          0.026474,
          0.042029,
          0.055805,
          0.089483,
          0.171171,
          0.293511,
          0.552338,
          1.061038,
          1.992885,
          4.052537,
          7.952537,
          15.65234
         ]
        }
       ],
       "layout": {
        "showlegend": true,
        "title": "plot 4 of quick sort<br>openMP<br>fixed seed: 123456",
        "xaxis": {
         "title": "size of test"
        },
        "yaxis": {
         "title": "runtime(s)"
        }
       }
      },
      "text/html": [
       "<div id=\"1a63dcae-b558-4166-95e4-95c2560fd36c\" style=\"height: 525px; width: 100%;\" class=\"plotly-graph-div\"></div><script type=\"text/javascript\">require([\"plotly\"], function(Plotly) { window.PLOTLYENV=window.PLOTLYENV || {};window.PLOTLYENV.BASE_URL=\"https://plot.ly\";Plotly.newPlot(\"1a63dcae-b558-4166-95e4-95c2560fd36c\", [{\"mode\": \"lines+markers\", \"name\": \"1 threads\", \"x\": [1000, 2000, 4000, 8000, 16000, 32000, 64000, 128000, 256000, 512000, 1024000, 2048000, 4096000, 8192000, 16384000, 32768000, 65536000], \"y\": [0.000143, 0.000244, 0.000595, 0.000889, 0.001776, 0.003719, 0.007568, 0.015942, 0.03376, 0.06988, 0.145978, 0.307065, 0.635408, 1.327822, 2.731053, 5.681017, 11.786195], \"type\": \"scatter\", \"uid\": \"0664932e-cede-11e8-8f4c-4feb54ea2203\"}, {\"mode\": \"lines+markers\", \"name\": \"2 threads\", \"x\": [1000, 2000, 4000, 8000, 16000, 32000, 64000, 128000, 256000, 512000, 1024000, 2048000, 4096000, 8192000, 16384000, 32768000, 65536000], \"y\": [0.000527, 0.000918, 0.001381, 0.002012, 0.003069, 0.00596, 0.011178, 0.022882, 0.042717, 0.076494, 0.151311, 0.330766, 0.614841, 1.17678, 2.453865, 4.855414, 9.912487], \"type\": \"scatter\", \"uid\": \"0664950e-cede-11e8-8f4c-4feb54ea2203\"}, {\"mode\": \"lines+markers\", \"name\": \"4 threads\", \"x\": [1000, 2000, 4000, 8000, 16000, 32000, 64000, 128000, 256000, 512000, 1024000, 2048000, 4096000, 8192000, 16384000, 32768000, 65536000], \"y\": [0.001753, 0.004308, 0.005112, 0.005545, 0.008614, 0.010956, 0.017884, 0.028264, 0.048031, 0.08776, 0.176546, 0.350605, 0.685851, 1.373329, 2.700258, 5.257592, 10.844767], \"type\": \"scatter\", \"uid\": \"066495d6-cede-11e8-8f4c-4feb54ea2203\"}, {\"mode\": \"lines+markers\", \"name\": \"8 threads\", \"x\": [1000, 2000, 4000, 8000, 16000, 32000, 64000, 128000, 256000, 512000, 1024000, 2048000, 4096000, 8192000, 16384000, 32768000, 65536000], \"y\": [0.003866, 0.005904, 0.009307, 0.013682, 0.014013, 0.017235, 0.034079, 0.051114, 0.080723, 0.131507, 0.273663, 0.487254, 0.95324, 1.892478, 3.731049, 7.437704, 15.055103], \"type\": \"scatter\", \"uid\": \"06649680-cede-11e8-8f4c-4feb54ea2203\"}, {\"mode\": \"lines+markers\", \"name\": \"16 threads\", \"x\": [1000, 2000, 4000, 8000, 16000, 32000, 64000, 128000, 256000, 512000, 1024000, 2048000, 4096000, 8192000, 16384000, 32768000, 65536000], \"y\": [0.002081, 0.003852, 0.007054, 0.016753, 0.017728, 0.026474, 0.042029, 0.055805, 0.089483, 0.171171, 0.293511, 0.552338, 1.061038, 1.992885, 4.052537, 7.952537, 15.65234], \"type\": \"scatter\", \"uid\": \"0664970c-cede-11e8-8f4c-4feb54ea2203\"}], {\"showlegend\": true, \"title\": \"plot 4 of quick sort<br>openMP<br>fixed seed: 123456\", \"xaxis\": {\"title\": \"size of test\"}, \"yaxis\": {\"title\": \"runtime(s)\"}}, {\"showLink\": true, \"linkText\": \"Export to plot.ly\"})});</script>"
      ],
      "text/vnd.plotly.v1+html": [
       "<div id=\"1a63dcae-b558-4166-95e4-95c2560fd36c\" style=\"height: 525px; width: 100%;\" class=\"plotly-graph-div\"></div><script type=\"text/javascript\">require([\"plotly\"], function(Plotly) { window.PLOTLYENV=window.PLOTLYENV || {};window.PLOTLYENV.BASE_URL=\"https://plot.ly\";Plotly.newPlot(\"1a63dcae-b558-4166-95e4-95c2560fd36c\", [{\"mode\": \"lines+markers\", \"name\": \"1 threads\", \"x\": [1000, 2000, 4000, 8000, 16000, 32000, 64000, 128000, 256000, 512000, 1024000, 2048000, 4096000, 8192000, 16384000, 32768000, 65536000], \"y\": [0.000143, 0.000244, 0.000595, 0.000889, 0.001776, 0.003719, 0.007568, 0.015942, 0.03376, 0.06988, 0.145978, 0.307065, 0.635408, 1.327822, 2.731053, 5.681017, 11.786195], \"type\": \"scatter\", \"uid\": \"0664932e-cede-11e8-8f4c-4feb54ea2203\"}, {\"mode\": \"lines+markers\", \"name\": \"2 threads\", \"x\": [1000, 2000, 4000, 8000, 16000, 32000, 64000, 128000, 256000, 512000, 1024000, 2048000, 4096000, 8192000, 16384000, 32768000, 65536000], \"y\": [0.000527, 0.000918, 0.001381, 0.002012, 0.003069, 0.00596, 0.011178, 0.022882, 0.042717, 0.076494, 0.151311, 0.330766, 0.614841, 1.17678, 2.453865, 4.855414, 9.912487], \"type\": \"scatter\", \"uid\": \"0664950e-cede-11e8-8f4c-4feb54ea2203\"}, {\"mode\": \"lines+markers\", \"name\": \"4 threads\", \"x\": [1000, 2000, 4000, 8000, 16000, 32000, 64000, 128000, 256000, 512000, 1024000, 2048000, 4096000, 8192000, 16384000, 32768000, 65536000], \"y\": [0.001753, 0.004308, 0.005112, 0.005545, 0.008614, 0.010956, 0.017884, 0.028264, 0.048031, 0.08776, 0.176546, 0.350605, 0.685851, 1.373329, 2.700258, 5.257592, 10.844767], \"type\": \"scatter\", \"uid\": \"066495d6-cede-11e8-8f4c-4feb54ea2203\"}, {\"mode\": \"lines+markers\", \"name\": \"8 threads\", \"x\": [1000, 2000, 4000, 8000, 16000, 32000, 64000, 128000, 256000, 512000, 1024000, 2048000, 4096000, 8192000, 16384000, 32768000, 65536000], \"y\": [0.003866, 0.005904, 0.009307, 0.013682, 0.014013, 0.017235, 0.034079, 0.051114, 0.080723, 0.131507, 0.273663, 0.487254, 0.95324, 1.892478, 3.731049, 7.437704, 15.055103], \"type\": \"scatter\", \"uid\": \"06649680-cede-11e8-8f4c-4feb54ea2203\"}, {\"mode\": \"lines+markers\", \"name\": \"16 threads\", \"x\": [1000, 2000, 4000, 8000, 16000, 32000, 64000, 128000, 256000, 512000, 1024000, 2048000, 4096000, 8192000, 16384000, 32768000, 65536000], \"y\": [0.002081, 0.003852, 0.007054, 0.016753, 0.017728, 0.026474, 0.042029, 0.055805, 0.089483, 0.171171, 0.293511, 0.552338, 1.061038, 1.992885, 4.052537, 7.952537, 15.65234], \"type\": \"scatter\", \"uid\": \"0664970c-cede-11e8-8f4c-4feb54ea2203\"}], {\"showlegend\": true, \"title\": \"plot 4 of quick sort<br>openMP<br>fixed seed: 123456\", \"xaxis\": {\"title\": \"size of test\"}, \"yaxis\": {\"title\": \"runtime(s)\"}}, {\"showLink\": true, \"linkText\": \"Export to plot.ly\"})});</script>"
      ]
     },
     "metadata": {},
     "output_type": "display_data"
    }
   ],
   "source": [
    "iplot({\n",
    "    \"data\": trace_openmp_testsize,\n",
    "    \"layout\": go.Layout(title=\"plot 3 of quick sort<br>openMP<br>fixed test size\", \n",
    "                        xaxis=dict(title='number of threads'),\n",
    "                        yaxis=dict(title='runtime(s)'),\n",
    "                        showlegend=True,\n",
    "                       )\n",
    "})\n",
    "\n",
    "iplot({\n",
    "    \"data\": trace_openmp_seed,\n",
    "    \"layout\": go.Layout(title=\"plot 4 of quick sort<br>openMP<br>fixed seed: 123456\", \n",
    "                        xaxis=dict(title='size of test'),\n",
    "                        yaxis=dict(title='runtime(s)'),\n",
    "                        showlegend=True,\n",
    "                       )\n",
    "})"
   ]
  },
  {
   "cell_type": "markdown",
   "metadata": {},
   "source": [
    "# MPI\n",
    "\n",
    "### 任务划分\n",
    "\n",
    "### 数据划分"
   ]
  },
  {
   "cell_type": "code",
   "execution_count": 11,
   "metadata": {},
   "outputs": [
    {
     "data": {
      "application/vnd.plotly.v1+json": {
       "data": [
        {
         "mode": "text",
         "text": [
          "8",
          "9",
          "10",
          "11",
          "12",
          "13",
          "14",
          "15",
          "4",
          "5",
          "6",
          "7",
          "2",
          "3",
          "1"
         ],
         "type": "scatter",
         "uid": "06695652-cede-11e8-8f4c-4feb54ea2203",
         "x": [
          2.5,
          6.5,
          10.5,
          14.5,
          18.5,
          22.5,
          26.5,
          30.5,
          4.5,
          12.5,
          20.5,
          28.5,
          8.5,
          24.5,
          16.5
         ],
         "y": [
          1.5,
          1.5,
          1.5,
          1.5,
          1.5,
          1.5,
          1.5,
          1.5,
          3.5,
          3.5,
          3.5,
          3.5,
          5.5,
          5.5,
          7.5
         ]
        }
       ],
       "layout": {
        "shapes": [
         {
          "fillcolor": "gray",
          "line": {
           "color": "rgba(128, 0, 128, 1)",
           "width": 2
          },
          "opacity": 0.3,
          "type": "rect",
          "x0": 1,
          "x1": 4,
          "y0": 1,
          "y1": 2
         },
         {
          "fillcolor": "gray",
          "line": {
           "color": "rgba(128, 0, 128, 1)",
           "width": 2
          },
          "opacity": 0.3,
          "type": "rect",
          "x0": 5,
          "x1": 8,
          "y0": 1,
          "y1": 2
         },
         {
          "fillcolor": "gray",
          "line": {
           "color": "rgba(128, 0, 128, 1)",
           "width": 2
          },
          "opacity": 0.3,
          "type": "rect",
          "x0": 9,
          "x1": 12,
          "y0": 1,
          "y1": 2
         },
         {
          "fillcolor": "gray",
          "line": {
           "color": "rgba(128, 0, 128, 1)",
           "width": 2
          },
          "opacity": 0.3,
          "type": "rect",
          "x0": 13,
          "x1": 16,
          "y0": 1,
          "y1": 2
         },
         {
          "fillcolor": "gray",
          "line": {
           "color": "rgba(128, 0, 128, 1)",
           "width": 2
          },
          "opacity": 0.3,
          "type": "rect",
          "x0": 17,
          "x1": 20,
          "y0": 1,
          "y1": 2
         },
         {
          "fillcolor": "gray",
          "line": {
           "color": "rgba(128, 0, 128, 1)",
           "width": 2
          },
          "opacity": 0.3,
          "type": "rect",
          "x0": 21,
          "x1": 24,
          "y0": 1,
          "y1": 2
         },
         {
          "fillcolor": "gray",
          "line": {
           "color": "rgba(128, 0, 128, 1)",
           "width": 2
          },
          "opacity": 0.3,
          "type": "rect",
          "x0": 25,
          "x1": 28,
          "y0": 1,
          "y1": 2
         },
         {
          "fillcolor": "gray",
          "line": {
           "color": "rgba(128, 0, 128, 1)",
           "width": 2
          },
          "opacity": 0.3,
          "type": "rect",
          "x0": 29,
          "x1": 32,
          "y0": 1,
          "y1": 2
         },
         {
          "fillcolor": "gray",
          "line": {
           "color": "rgba(128, 0, 128, 1)",
           "width": 2
          },
          "opacity": 0.3,
          "type": "rect",
          "x0": 1,
          "x1": 8,
          "y0": 3,
          "y1": 4
         },
         {
          "fillcolor": "gray",
          "line": {
           "color": "rgba(128, 0, 128, 1)",
           "width": 2
          },
          "opacity": 0.3,
          "type": "rect",
          "x0": 9,
          "x1": 16,
          "y0": 3,
          "y1": 4
         },
         {
          "fillcolor": "gray",
          "line": {
           "color": "rgba(128, 0, 128, 1)",
           "width": 2
          },
          "opacity": 0.3,
          "type": "rect",
          "x0": 17,
          "x1": 24,
          "y0": 3,
          "y1": 4
         },
         {
          "fillcolor": "gray",
          "line": {
           "color": "rgba(128, 0, 128, 1)",
           "width": 2
          },
          "opacity": 0.3,
          "type": "rect",
          "x0": 25,
          "x1": 32,
          "y0": 3,
          "y1": 4
         },
         {
          "fillcolor": "gray",
          "line": {
           "color": "rgba(128, 0, 128, 1)",
           "width": 2
          },
          "opacity": 0.3,
          "type": "rect",
          "x0": 1,
          "x1": 16,
          "y0": 5,
          "y1": 6
         },
         {
          "fillcolor": "gray",
          "line": {
           "color": "rgba(128, 0, 128, 1)",
           "width": 2
          },
          "opacity": 0.3,
          "type": "rect",
          "x0": 17,
          "x1": 32,
          "y0": 5,
          "y1": 6
         },
         {
          "fillcolor": "gray",
          "line": {
           "color": "rgba(128, 0, 128, 1)",
           "width": 2
          },
          "opacity": 0.3,
          "type": "rect",
          "x0": 1,
          "x1": 32,
          "y0": 7,
          "y1": 8
         }
        ],
        "xaxis": {
         "range": [
          0,
          35
         ],
         "showgrid": false,
         "showline": false,
         "showticklabels": false,
         "ticks": "",
         "zeroline": false
        },
        "yaxis": {
         "range": [
          0,
          10
         ],
         "showgrid": false,
         "showline": false,
         "showticklabels": false,
         "ticks": "",
         "zeroline": false
        }
       }
      },
      "text/html": [
       "<div id=\"1e494587-e234-4624-a682-3708736b7da3\" style=\"height: 525px; width: 100%;\" class=\"plotly-graph-div\"></div><script type=\"text/javascript\">require([\"plotly\"], function(Plotly) { window.PLOTLYENV=window.PLOTLYENV || {};window.PLOTLYENV.BASE_URL=\"https://plot.ly\";Plotly.newPlot(\"1e494587-e234-4624-a682-3708736b7da3\", [{\"mode\": \"text\", \"text\": [\"8\", \"9\", \"10\", \"11\", \"12\", \"13\", \"14\", \"15\", \"4\", \"5\", \"6\", \"7\", \"2\", \"3\", \"1\"], \"x\": [2.5, 6.5, 10.5, 14.5, 18.5, 22.5, 26.5, 30.5, 4.5, 12.5, 20.5, 28.5, 8.5, 24.5, 16.5], \"y\": [1.5, 1.5, 1.5, 1.5, 1.5, 1.5, 1.5, 1.5, 3.5, 3.5, 3.5, 3.5, 5.5, 5.5, 7.5], \"type\": \"scatter\", \"uid\": \"06797aaa-cede-11e8-8f4c-4feb54ea2203\"}], {\"shapes\": [{\"fillcolor\": \"gray\", \"line\": {\"color\": \"rgba(128, 0, 128, 1)\", \"width\": 2}, \"opacity\": 0.3, \"type\": \"rect\", \"x0\": 1, \"x1\": 4, \"y0\": 1, \"y1\": 2}, {\"fillcolor\": \"gray\", \"line\": {\"color\": \"rgba(128, 0, 128, 1)\", \"width\": 2}, \"opacity\": 0.3, \"type\": \"rect\", \"x0\": 5, \"x1\": 8, \"y0\": 1, \"y1\": 2}, {\"fillcolor\": \"gray\", \"line\": {\"color\": \"rgba(128, 0, 128, 1)\", \"width\": 2}, \"opacity\": 0.3, \"type\": \"rect\", \"x0\": 9, \"x1\": 12, \"y0\": 1, \"y1\": 2}, {\"fillcolor\": \"gray\", \"line\": {\"color\": \"rgba(128, 0, 128, 1)\", \"width\": 2}, \"opacity\": 0.3, \"type\": \"rect\", \"x0\": 13, \"x1\": 16, \"y0\": 1, \"y1\": 2}, {\"fillcolor\": \"gray\", \"line\": {\"color\": \"rgba(128, 0, 128, 1)\", \"width\": 2}, \"opacity\": 0.3, \"type\": \"rect\", \"x0\": 17, \"x1\": 20, \"y0\": 1, \"y1\": 2}, {\"fillcolor\": \"gray\", \"line\": {\"color\": \"rgba(128, 0, 128, 1)\", \"width\": 2}, \"opacity\": 0.3, \"type\": \"rect\", \"x0\": 21, \"x1\": 24, \"y0\": 1, \"y1\": 2}, {\"fillcolor\": \"gray\", \"line\": {\"color\": \"rgba(128, 0, 128, 1)\", \"width\": 2}, \"opacity\": 0.3, \"type\": \"rect\", \"x0\": 25, \"x1\": 28, \"y0\": 1, \"y1\": 2}, {\"fillcolor\": \"gray\", \"line\": {\"color\": \"rgba(128, 0, 128, 1)\", \"width\": 2}, \"opacity\": 0.3, \"type\": \"rect\", \"x0\": 29, \"x1\": 32, \"y0\": 1, \"y1\": 2}, {\"fillcolor\": \"gray\", \"line\": {\"color\": \"rgba(128, 0, 128, 1)\", \"width\": 2}, \"opacity\": 0.3, \"type\": \"rect\", \"x0\": 1, \"x1\": 8, \"y0\": 3, \"y1\": 4}, {\"fillcolor\": \"gray\", \"line\": {\"color\": \"rgba(128, 0, 128, 1)\", \"width\": 2}, \"opacity\": 0.3, \"type\": \"rect\", \"x0\": 9, \"x1\": 16, \"y0\": 3, \"y1\": 4}, {\"fillcolor\": \"gray\", \"line\": {\"color\": \"rgba(128, 0, 128, 1)\", \"width\": 2}, \"opacity\": 0.3, \"type\": \"rect\", \"x0\": 17, \"x1\": 24, \"y0\": 3, \"y1\": 4}, {\"fillcolor\": \"gray\", \"line\": {\"color\": \"rgba(128, 0, 128, 1)\", \"width\": 2}, \"opacity\": 0.3, \"type\": \"rect\", \"x0\": 25, \"x1\": 32, \"y0\": 3, \"y1\": 4}, {\"fillcolor\": \"gray\", \"line\": {\"color\": \"rgba(128, 0, 128, 1)\", \"width\": 2}, \"opacity\": 0.3, \"type\": \"rect\", \"x0\": 1, \"x1\": 16, \"y0\": 5, \"y1\": 6}, {\"fillcolor\": \"gray\", \"line\": {\"color\": \"rgba(128, 0, 128, 1)\", \"width\": 2}, \"opacity\": 0.3, \"type\": \"rect\", \"x0\": 17, \"x1\": 32, \"y0\": 5, \"y1\": 6}, {\"fillcolor\": \"gray\", \"line\": {\"color\": \"rgba(128, 0, 128, 1)\", \"width\": 2}, \"opacity\": 0.3, \"type\": \"rect\", \"x0\": 1, \"x1\": 32, \"y0\": 7, \"y1\": 8}], \"xaxis\": {\"range\": [0, 35], \"showgrid\": false, \"showline\": false, \"showticklabels\": false, \"ticks\": \"\", \"zeroline\": false}, \"yaxis\": {\"range\": [0, 10], \"showgrid\": false, \"showline\": false, \"showticklabels\": false, \"ticks\": \"\", \"zeroline\": false}}, {\"showLink\": true, \"linkText\": \"Export to plot.ly\"})});</script>"
      ],
      "text/vnd.plotly.v1+html": [
       "<div id=\"1e494587-e234-4624-a682-3708736b7da3\" style=\"height: 525px; width: 100%;\" class=\"plotly-graph-div\"></div><script type=\"text/javascript\">require([\"plotly\"], function(Plotly) { window.PLOTLYENV=window.PLOTLYENV || {};window.PLOTLYENV.BASE_URL=\"https://plot.ly\";Plotly.newPlot(\"1e494587-e234-4624-a682-3708736b7da3\", [{\"mode\": \"text\", \"text\": [\"8\", \"9\", \"10\", \"11\", \"12\", \"13\", \"14\", \"15\", \"4\", \"5\", \"6\", \"7\", \"2\", \"3\", \"1\"], \"x\": [2.5, 6.5, 10.5, 14.5, 18.5, 22.5, 26.5, 30.5, 4.5, 12.5, 20.5, 28.5, 8.5, 24.5, 16.5], \"y\": [1.5, 1.5, 1.5, 1.5, 1.5, 1.5, 1.5, 1.5, 3.5, 3.5, 3.5, 3.5, 5.5, 5.5, 7.5], \"type\": \"scatter\", \"uid\": \"06797aaa-cede-11e8-8f4c-4feb54ea2203\"}], {\"shapes\": [{\"fillcolor\": \"gray\", \"line\": {\"color\": \"rgba(128, 0, 128, 1)\", \"width\": 2}, \"opacity\": 0.3, \"type\": \"rect\", \"x0\": 1, \"x1\": 4, \"y0\": 1, \"y1\": 2}, {\"fillcolor\": \"gray\", \"line\": {\"color\": \"rgba(128, 0, 128, 1)\", \"width\": 2}, \"opacity\": 0.3, \"type\": \"rect\", \"x0\": 5, \"x1\": 8, \"y0\": 1, \"y1\": 2}, {\"fillcolor\": \"gray\", \"line\": {\"color\": \"rgba(128, 0, 128, 1)\", \"width\": 2}, \"opacity\": 0.3, \"type\": \"rect\", \"x0\": 9, \"x1\": 12, \"y0\": 1, \"y1\": 2}, {\"fillcolor\": \"gray\", \"line\": {\"color\": \"rgba(128, 0, 128, 1)\", \"width\": 2}, \"opacity\": 0.3, \"type\": \"rect\", \"x0\": 13, \"x1\": 16, \"y0\": 1, \"y1\": 2}, {\"fillcolor\": \"gray\", \"line\": {\"color\": \"rgba(128, 0, 128, 1)\", \"width\": 2}, \"opacity\": 0.3, \"type\": \"rect\", \"x0\": 17, \"x1\": 20, \"y0\": 1, \"y1\": 2}, {\"fillcolor\": \"gray\", \"line\": {\"color\": \"rgba(128, 0, 128, 1)\", \"width\": 2}, \"opacity\": 0.3, \"type\": \"rect\", \"x0\": 21, \"x1\": 24, \"y0\": 1, \"y1\": 2}, {\"fillcolor\": \"gray\", \"line\": {\"color\": \"rgba(128, 0, 128, 1)\", \"width\": 2}, \"opacity\": 0.3, \"type\": \"rect\", \"x0\": 25, \"x1\": 28, \"y0\": 1, \"y1\": 2}, {\"fillcolor\": \"gray\", \"line\": {\"color\": \"rgba(128, 0, 128, 1)\", \"width\": 2}, \"opacity\": 0.3, \"type\": \"rect\", \"x0\": 29, \"x1\": 32, \"y0\": 1, \"y1\": 2}, {\"fillcolor\": \"gray\", \"line\": {\"color\": \"rgba(128, 0, 128, 1)\", \"width\": 2}, \"opacity\": 0.3, \"type\": \"rect\", \"x0\": 1, \"x1\": 8, \"y0\": 3, \"y1\": 4}, {\"fillcolor\": \"gray\", \"line\": {\"color\": \"rgba(128, 0, 128, 1)\", \"width\": 2}, \"opacity\": 0.3, \"type\": \"rect\", \"x0\": 9, \"x1\": 16, \"y0\": 3, \"y1\": 4}, {\"fillcolor\": \"gray\", \"line\": {\"color\": \"rgba(128, 0, 128, 1)\", \"width\": 2}, \"opacity\": 0.3, \"type\": \"rect\", \"x0\": 17, \"x1\": 24, \"y0\": 3, \"y1\": 4}, {\"fillcolor\": \"gray\", \"line\": {\"color\": \"rgba(128, 0, 128, 1)\", \"width\": 2}, \"opacity\": 0.3, \"type\": \"rect\", \"x0\": 25, \"x1\": 32, \"y0\": 3, \"y1\": 4}, {\"fillcolor\": \"gray\", \"line\": {\"color\": \"rgba(128, 0, 128, 1)\", \"width\": 2}, \"opacity\": 0.3, \"type\": \"rect\", \"x0\": 1, \"x1\": 16, \"y0\": 5, \"y1\": 6}, {\"fillcolor\": \"gray\", \"line\": {\"color\": \"rgba(128, 0, 128, 1)\", \"width\": 2}, \"opacity\": 0.3, \"type\": \"rect\", \"x0\": 17, \"x1\": 32, \"y0\": 5, \"y1\": 6}, {\"fillcolor\": \"gray\", \"line\": {\"color\": \"rgba(128, 0, 128, 1)\", \"width\": 2}, \"opacity\": 0.3, \"type\": \"rect\", \"x0\": 1, \"x1\": 32, \"y0\": 7, \"y1\": 8}], \"xaxis\": {\"range\": [0, 35], \"showgrid\": false, \"showline\": false, \"showticklabels\": false, \"ticks\": \"\", \"zeroline\": false}, \"yaxis\": {\"range\": [0, 10], \"showgrid\": false, \"showline\": false, \"showticklabels\": false, \"ticks\": \"\", \"zeroline\": false}}, {\"showLink\": true, \"linkText\": \"Export to plot.ly\"})});</script>"
      ]
     },
     "metadata": {},
     "output_type": "display_data"
    }
   ],
   "source": [
    "def gen_shapes(stx, sty, width, height, n, gapx=1):\n",
    "    ret = []\n",
    "    point_x = []\n",
    "    point_y = []\n",
    "    edy = sty + height\n",
    "    for i in range(n):\n",
    "        x = stx + i * (width + gapx)\n",
    "        edx = x + width\n",
    "        ret.append({\n",
    "            'type': 'rect',\n",
    "            'x0': x,\n",
    "            'y0': sty,\n",
    "            'x1': edx,\n",
    "            'y1': edy,\n",
    "            'line': {\n",
    "                'color': 'rgba(128, 0, 128, 1)',\n",
    "                'width': 2,\n",
    "            },\n",
    "            'fillcolor': 'gray',\n",
    "            'opacity': 0.3,\n",
    "        })\n",
    "        point_x.append(x / 2 + edx / 2)\n",
    "        point_y.append(sty / 2 + edy / 2)\n",
    "    return ret, point_x, point_y\n",
    "\n",
    "def gen_all_shapes(stx, sty, base_width, base_height, n, gapx, gapy):\n",
    "    ret = []\n",
    "    point_x = []\n",
    "    point_y = []\n",
    "    for i in range(n):\n",
    "        l = 2 ** (n - i - 1)\n",
    "        cnt = 2 ** i\n",
    "        curx = stx\n",
    "        cury = sty + i * (base_height + gapy)\n",
    "        width = cnt * (base_width + gapx) - gapx\n",
    "        shapes, px, py = gen_shapes(curx, cury, width, base_height, l, gapx)\n",
    "        ret.extend(shapes)\n",
    "        point_x.extend(px)\n",
    "        point_y.extend(py)\n",
    "    return ret, point_x, point_y\n",
    "\n",
    "shapes, x, y = gen_all_shapes(1, 1, 3, 1, 4, 1, 1)\n",
    "text = []\n",
    "for i in range(4):\n",
    "    l = 2 ** (3 - i)\n",
    "    for j in range(l, l + l):\n",
    "        text.append(j)\n",
    "\n",
    "trace0 = go.Scatter(\n",
    "    x=x,\n",
    "    y=y,\n",
    "    text=text,\n",
    "    mode='text',\n",
    ")\n",
    "data = [trace0]\n",
    "\n",
    "layout = {\n",
    "    'xaxis': {\n",
    "        'range': [0, 35],\n",
    "        'showgrid': False,\n",
    "        'zeroline': False,\n",
    "        'showline': False,\n",
    "        'ticks': '',\n",
    "        'showticklabels': False,\n",
    "    },\n",
    "    'yaxis': {\n",
    "        'range': [0, 10],\n",
    "        'showgrid': False,\n",
    "        'zeroline': False,\n",
    "        'showline': False,\n",
    "        'ticks': '',\n",
    "        'showticklabels': False,\n",
    "    },\n",
    "    'shapes': shapes,\n",
    "}\n",
    "fig = {\n",
    "    'data': data,\n",
    "    'layout': layout,\n",
    "}\n",
    "iplot(fig)"
   ]
  },
  {
   "cell_type": "code",
   "execution_count": 12,
   "metadata": {},
   "outputs": [
    {
     "data": {
      "application/vnd.plotly.v1+json": {
       "data": [
        {
         "mode": "text",
         "text": [
          "1",
          "5",
          "3",
          "6",
          "2",
          "7",
          "4",
          "8",
          "1",
          "3",
          "2",
          "4",
          "1",
          "2",
          "1"
         ],
         "type": "scatter",
         "uid": "067df03a-cede-11e8-8f4c-4feb54ea2203",
         "x": [
          2.5,
          6.5,
          10.5,
          14.5,
          18.5,
          22.5,
          26.5,
          30.5,
          4.5,
          12.5,
          20.5,
          28.5,
          8.5,
          24.5,
          16.5
         ],
         "y": [
          1.5,
          1.5,
          1.5,
          1.5,
          1.5,
          1.5,
          1.5,
          1.5,
          3.5,
          3.5,
          3.5,
          3.5,
          5.5,
          5.5,
          7.5
         ]
        }
       ],
       "layout": {
        "shapes": [
         {
          "fillcolor": "gray",
          "line": {
           "color": "rgba(128, 0, 128, 1)",
           "width": 2
          },
          "opacity": 0.3,
          "type": "rect",
          "x0": 1,
          "x1": 4,
          "y0": 1,
          "y1": 2
         },
         {
          "fillcolor": "gray",
          "line": {
           "color": "rgba(128, 0, 128, 1)",
           "width": 2
          },
          "opacity": 0.3,
          "type": "rect",
          "x0": 5,
          "x1": 8,
          "y0": 1,
          "y1": 2
         },
         {
          "fillcolor": "gray",
          "line": {
           "color": "rgba(128, 0, 128, 1)",
           "width": 2
          },
          "opacity": 0.3,
          "type": "rect",
          "x0": 9,
          "x1": 12,
          "y0": 1,
          "y1": 2
         },
         {
          "fillcolor": "gray",
          "line": {
           "color": "rgba(128, 0, 128, 1)",
           "width": 2
          },
          "opacity": 0.3,
          "type": "rect",
          "x0": 13,
          "x1": 16,
          "y0": 1,
          "y1": 2
         },
         {
          "fillcolor": "gray",
          "line": {
           "color": "rgba(128, 0, 128, 1)",
           "width": 2
          },
          "opacity": 0.3,
          "type": "rect",
          "x0": 17,
          "x1": 20,
          "y0": 1,
          "y1": 2
         },
         {
          "fillcolor": "gray",
          "line": {
           "color": "rgba(128, 0, 128, 1)",
           "width": 2
          },
          "opacity": 0.3,
          "type": "rect",
          "x0": 21,
          "x1": 24,
          "y0": 1,
          "y1": 2
         },
         {
          "fillcolor": "gray",
          "line": {
           "color": "rgba(128, 0, 128, 1)",
           "width": 2
          },
          "opacity": 0.3,
          "type": "rect",
          "x0": 25,
          "x1": 28,
          "y0": 1,
          "y1": 2
         },
         {
          "fillcolor": "gray",
          "line": {
           "color": "rgba(128, 0, 128, 1)",
           "width": 2
          },
          "opacity": 0.3,
          "type": "rect",
          "x0": 29,
          "x1": 32,
          "y0": 1,
          "y1": 2
         },
         {
          "fillcolor": "gray",
          "line": {
           "color": "rgba(128, 0, 128, 1)",
           "width": 2
          },
          "opacity": 0.3,
          "type": "rect",
          "x0": 1,
          "x1": 8,
          "y0": 3,
          "y1": 4
         },
         {
          "fillcolor": "gray",
          "line": {
           "color": "rgba(128, 0, 128, 1)",
           "width": 2
          },
          "opacity": 0.3,
          "type": "rect",
          "x0": 9,
          "x1": 16,
          "y0": 3,
          "y1": 4
         },
         {
          "fillcolor": "gray",
          "line": {
           "color": "rgba(128, 0, 128, 1)",
           "width": 2
          },
          "opacity": 0.3,
          "type": "rect",
          "x0": 17,
          "x1": 24,
          "y0": 3,
          "y1": 4
         },
         {
          "fillcolor": "gray",
          "line": {
           "color": "rgba(128, 0, 128, 1)",
           "width": 2
          },
          "opacity": 0.3,
          "type": "rect",
          "x0": 25,
          "x1": 32,
          "y0": 3,
          "y1": 4
         },
         {
          "fillcolor": "gray",
          "line": {
           "color": "rgba(128, 0, 128, 1)",
           "width": 2
          },
          "opacity": 0.3,
          "type": "rect",
          "x0": 1,
          "x1": 16,
          "y0": 5,
          "y1": 6
         },
         {
          "fillcolor": "gray",
          "line": {
           "color": "rgba(128, 0, 128, 1)",
           "width": 2
          },
          "opacity": 0.3,
          "type": "rect",
          "x0": 17,
          "x1": 32,
          "y0": 5,
          "y1": 6
         },
         {
          "fillcolor": "gray",
          "line": {
           "color": "rgba(128, 0, 128, 1)",
           "width": 2
          },
          "opacity": 0.3,
          "type": "rect",
          "x0": 1,
          "x1": 32,
          "y0": 7,
          "y1": 8
         }
        ],
        "xaxis": {
         "range": [
          0,
          35
         ],
         "showgrid": false,
         "showline": false,
         "showticklabels": false,
         "ticks": "",
         "zeroline": false
        },
        "yaxis": {
         "range": [
          0,
          10
         ],
         "showgrid": false,
         "showline": false,
         "showticklabels": false,
         "ticks": "",
         "zeroline": false
        }
       }
      },
      "text/html": [
       "<div id=\"0426d2ee-6cbc-4ba5-8da7-5eca9aa726f7\" style=\"height: 525px; width: 100%;\" class=\"plotly-graph-div\"></div><script type=\"text/javascript\">require([\"plotly\"], function(Plotly) { window.PLOTLYENV=window.PLOTLYENV || {};window.PLOTLYENV.BASE_URL=\"https://plot.ly\";Plotly.newPlot(\"0426d2ee-6cbc-4ba5-8da7-5eca9aa726f7\", [{\"mode\": \"text\", \"text\": [\"1\", \"5\", \"3\", \"6\", \"2\", \"7\", \"4\", \"8\", \"1\", \"3\", \"2\", \"4\", \"1\", \"2\", \"1\"], \"x\": [2.5, 6.5, 10.5, 14.5, 18.5, 22.5, 26.5, 30.5, 4.5, 12.5, 20.5, 28.5, 8.5, 24.5, 16.5], \"y\": [1.5, 1.5, 1.5, 1.5, 1.5, 1.5, 1.5, 1.5, 3.5, 3.5, 3.5, 3.5, 5.5, 5.5, 7.5], \"type\": \"scatter\", \"uid\": \"0680ed12-cede-11e8-8f4c-4feb54ea2203\"}], {\"shapes\": [{\"fillcolor\": \"gray\", \"line\": {\"color\": \"rgba(128, 0, 128, 1)\", \"width\": 2}, \"opacity\": 0.3, \"type\": \"rect\", \"x0\": 1, \"x1\": 4, \"y0\": 1, \"y1\": 2}, {\"fillcolor\": \"gray\", \"line\": {\"color\": \"rgba(128, 0, 128, 1)\", \"width\": 2}, \"opacity\": 0.3, \"type\": \"rect\", \"x0\": 5, \"x1\": 8, \"y0\": 1, \"y1\": 2}, {\"fillcolor\": \"gray\", \"line\": {\"color\": \"rgba(128, 0, 128, 1)\", \"width\": 2}, \"opacity\": 0.3, \"type\": \"rect\", \"x0\": 9, \"x1\": 12, \"y0\": 1, \"y1\": 2}, {\"fillcolor\": \"gray\", \"line\": {\"color\": \"rgba(128, 0, 128, 1)\", \"width\": 2}, \"opacity\": 0.3, \"type\": \"rect\", \"x0\": 13, \"x1\": 16, \"y0\": 1, \"y1\": 2}, {\"fillcolor\": \"gray\", \"line\": {\"color\": \"rgba(128, 0, 128, 1)\", \"width\": 2}, \"opacity\": 0.3, \"type\": \"rect\", \"x0\": 17, \"x1\": 20, \"y0\": 1, \"y1\": 2}, {\"fillcolor\": \"gray\", \"line\": {\"color\": \"rgba(128, 0, 128, 1)\", \"width\": 2}, \"opacity\": 0.3, \"type\": \"rect\", \"x0\": 21, \"x1\": 24, \"y0\": 1, \"y1\": 2}, {\"fillcolor\": \"gray\", \"line\": {\"color\": \"rgba(128, 0, 128, 1)\", \"width\": 2}, \"opacity\": 0.3, \"type\": \"rect\", \"x0\": 25, \"x1\": 28, \"y0\": 1, \"y1\": 2}, {\"fillcolor\": \"gray\", \"line\": {\"color\": \"rgba(128, 0, 128, 1)\", \"width\": 2}, \"opacity\": 0.3, \"type\": \"rect\", \"x0\": 29, \"x1\": 32, \"y0\": 1, \"y1\": 2}, {\"fillcolor\": \"gray\", \"line\": {\"color\": \"rgba(128, 0, 128, 1)\", \"width\": 2}, \"opacity\": 0.3, \"type\": \"rect\", \"x0\": 1, \"x1\": 8, \"y0\": 3, \"y1\": 4}, {\"fillcolor\": \"gray\", \"line\": {\"color\": \"rgba(128, 0, 128, 1)\", \"width\": 2}, \"opacity\": 0.3, \"type\": \"rect\", \"x0\": 9, \"x1\": 16, \"y0\": 3, \"y1\": 4}, {\"fillcolor\": \"gray\", \"line\": {\"color\": \"rgba(128, 0, 128, 1)\", \"width\": 2}, \"opacity\": 0.3, \"type\": \"rect\", \"x0\": 17, \"x1\": 24, \"y0\": 3, \"y1\": 4}, {\"fillcolor\": \"gray\", \"line\": {\"color\": \"rgba(128, 0, 128, 1)\", \"width\": 2}, \"opacity\": 0.3, \"type\": \"rect\", \"x0\": 25, \"x1\": 32, \"y0\": 3, \"y1\": 4}, {\"fillcolor\": \"gray\", \"line\": {\"color\": \"rgba(128, 0, 128, 1)\", \"width\": 2}, \"opacity\": 0.3, \"type\": \"rect\", \"x0\": 1, \"x1\": 16, \"y0\": 5, \"y1\": 6}, {\"fillcolor\": \"gray\", \"line\": {\"color\": \"rgba(128, 0, 128, 1)\", \"width\": 2}, \"opacity\": 0.3, \"type\": \"rect\", \"x0\": 17, \"x1\": 32, \"y0\": 5, \"y1\": 6}, {\"fillcolor\": \"gray\", \"line\": {\"color\": \"rgba(128, 0, 128, 1)\", \"width\": 2}, \"opacity\": 0.3, \"type\": \"rect\", \"x0\": 1, \"x1\": 32, \"y0\": 7, \"y1\": 8}], \"xaxis\": {\"range\": [0, 35], \"showgrid\": false, \"showline\": false, \"showticklabels\": false, \"ticks\": \"\", \"zeroline\": false}, \"yaxis\": {\"range\": [0, 10], \"showgrid\": false, \"showline\": false, \"showticklabels\": false, \"ticks\": \"\", \"zeroline\": false}}, {\"showLink\": true, \"linkText\": \"Export to plot.ly\"})});</script>"
      ],
      "text/vnd.plotly.v1+html": [
       "<div id=\"0426d2ee-6cbc-4ba5-8da7-5eca9aa726f7\" style=\"height: 525px; width: 100%;\" class=\"plotly-graph-div\"></div><script type=\"text/javascript\">require([\"plotly\"], function(Plotly) { window.PLOTLYENV=window.PLOTLYENV || {};window.PLOTLYENV.BASE_URL=\"https://plot.ly\";Plotly.newPlot(\"0426d2ee-6cbc-4ba5-8da7-5eca9aa726f7\", [{\"mode\": \"text\", \"text\": [\"1\", \"5\", \"3\", \"6\", \"2\", \"7\", \"4\", \"8\", \"1\", \"3\", \"2\", \"4\", \"1\", \"2\", \"1\"], \"x\": [2.5, 6.5, 10.5, 14.5, 18.5, 22.5, 26.5, 30.5, 4.5, 12.5, 20.5, 28.5, 8.5, 24.5, 16.5], \"y\": [1.5, 1.5, 1.5, 1.5, 1.5, 1.5, 1.5, 1.5, 3.5, 3.5, 3.5, 3.5, 5.5, 5.5, 7.5], \"type\": \"scatter\", \"uid\": \"0680ed12-cede-11e8-8f4c-4feb54ea2203\"}], {\"shapes\": [{\"fillcolor\": \"gray\", \"line\": {\"color\": \"rgba(128, 0, 128, 1)\", \"width\": 2}, \"opacity\": 0.3, \"type\": \"rect\", \"x0\": 1, \"x1\": 4, \"y0\": 1, \"y1\": 2}, {\"fillcolor\": \"gray\", \"line\": {\"color\": \"rgba(128, 0, 128, 1)\", \"width\": 2}, \"opacity\": 0.3, \"type\": \"rect\", \"x0\": 5, \"x1\": 8, \"y0\": 1, \"y1\": 2}, {\"fillcolor\": \"gray\", \"line\": {\"color\": \"rgba(128, 0, 128, 1)\", \"width\": 2}, \"opacity\": 0.3, \"type\": \"rect\", \"x0\": 9, \"x1\": 12, \"y0\": 1, \"y1\": 2}, {\"fillcolor\": \"gray\", \"line\": {\"color\": \"rgba(128, 0, 128, 1)\", \"width\": 2}, \"opacity\": 0.3, \"type\": \"rect\", \"x0\": 13, \"x1\": 16, \"y0\": 1, \"y1\": 2}, {\"fillcolor\": \"gray\", \"line\": {\"color\": \"rgba(128, 0, 128, 1)\", \"width\": 2}, \"opacity\": 0.3, \"type\": \"rect\", \"x0\": 17, \"x1\": 20, \"y0\": 1, \"y1\": 2}, {\"fillcolor\": \"gray\", \"line\": {\"color\": \"rgba(128, 0, 128, 1)\", \"width\": 2}, \"opacity\": 0.3, \"type\": \"rect\", \"x0\": 21, \"x1\": 24, \"y0\": 1, \"y1\": 2}, {\"fillcolor\": \"gray\", \"line\": {\"color\": \"rgba(128, 0, 128, 1)\", \"width\": 2}, \"opacity\": 0.3, \"type\": \"rect\", \"x0\": 25, \"x1\": 28, \"y0\": 1, \"y1\": 2}, {\"fillcolor\": \"gray\", \"line\": {\"color\": \"rgba(128, 0, 128, 1)\", \"width\": 2}, \"opacity\": 0.3, \"type\": \"rect\", \"x0\": 29, \"x1\": 32, \"y0\": 1, \"y1\": 2}, {\"fillcolor\": \"gray\", \"line\": {\"color\": \"rgba(128, 0, 128, 1)\", \"width\": 2}, \"opacity\": 0.3, \"type\": \"rect\", \"x0\": 1, \"x1\": 8, \"y0\": 3, \"y1\": 4}, {\"fillcolor\": \"gray\", \"line\": {\"color\": \"rgba(128, 0, 128, 1)\", \"width\": 2}, \"opacity\": 0.3, \"type\": \"rect\", \"x0\": 9, \"x1\": 16, \"y0\": 3, \"y1\": 4}, {\"fillcolor\": \"gray\", \"line\": {\"color\": \"rgba(128, 0, 128, 1)\", \"width\": 2}, \"opacity\": 0.3, \"type\": \"rect\", \"x0\": 17, \"x1\": 24, \"y0\": 3, \"y1\": 4}, {\"fillcolor\": \"gray\", \"line\": {\"color\": \"rgba(128, 0, 128, 1)\", \"width\": 2}, \"opacity\": 0.3, \"type\": \"rect\", \"x0\": 25, \"x1\": 32, \"y0\": 3, \"y1\": 4}, {\"fillcolor\": \"gray\", \"line\": {\"color\": \"rgba(128, 0, 128, 1)\", \"width\": 2}, \"opacity\": 0.3, \"type\": \"rect\", \"x0\": 1, \"x1\": 16, \"y0\": 5, \"y1\": 6}, {\"fillcolor\": \"gray\", \"line\": {\"color\": \"rgba(128, 0, 128, 1)\", \"width\": 2}, \"opacity\": 0.3, \"type\": \"rect\", \"x0\": 17, \"x1\": 32, \"y0\": 5, \"y1\": 6}, {\"fillcolor\": \"gray\", \"line\": {\"color\": \"rgba(128, 0, 128, 1)\", \"width\": 2}, \"opacity\": 0.3, \"type\": \"rect\", \"x0\": 1, \"x1\": 32, \"y0\": 7, \"y1\": 8}], \"xaxis\": {\"range\": [0, 35], \"showgrid\": false, \"showline\": false, \"showticklabels\": false, \"ticks\": \"\", \"zeroline\": false}, \"yaxis\": {\"range\": [0, 10], \"showgrid\": false, \"showline\": false, \"showticklabels\": false, \"ticks\": \"\", \"zeroline\": false}}, {\"showLink\": true, \"linkText\": \"Export to plot.ly\"})});</script>"
      ]
     },
     "metadata": {},
     "output_type": "display_data"
    }
   ],
   "source": [
    "trace1 = go.Scatter(\n",
    "    x=x,\n",
    "    y=y,\n",
    "    text=[1,5,3,6,2,7,4,8,1,3,2,4,1,2,1],\n",
    "    mode='text',\n",
    ")\n",
    "iplot({\n",
    "    'data': [trace1],\n",
    "    'layout': layout,\n",
    "})"
   ]
  },
  {
   "cell_type": "code",
   "execution_count": 13,
   "metadata": {},
   "outputs": [
    {
     "data": {
      "application/vnd.plotly.v1+json": {
       "data": [
        {
         "mode": "text",
         "text": [
          "1",
          "5=1+2^2",
          "3",
          "7=3+2^2",
          "2",
          "6=2+2^2",
          "4",
          "8=4+2^2",
          "1",
          "3=1+2^1",
          "2",
          "4=2+2^1",
          "1",
          "2=1+2^0",
          "1"
         ],
         "type": "scatter",
         "uid": "068536e2-cede-11e8-8f4c-4feb54ea2203",
         "x": [
          2.5,
          6.5,
          10.5,
          14.5,
          18.5,
          22.5,
          26.5,
          30.5,
          4.5,
          12.5,
          20.5,
          28.5,
          8.5,
          24.5,
          16.5
         ],
         "y": [
          1.5,
          1.5,
          1.5,
          1.5,
          1.5,
          1.5,
          1.5,
          1.5,
          3.5,
          3.5,
          3.5,
          3.5,
          5.5,
          5.5,
          7.5
         ]
        }
       ],
       "layout": {
        "shapes": [
         {
          "fillcolor": "gray",
          "line": {
           "color": "rgba(128, 0, 128, 1)",
           "width": 2
          },
          "opacity": 0.3,
          "type": "rect",
          "x0": 1,
          "x1": 4,
          "y0": 1,
          "y1": 2
         },
         {
          "fillcolor": "gray",
          "line": {
           "color": "rgba(128, 0, 128, 1)",
           "width": 2
          },
          "opacity": 0.3,
          "type": "rect",
          "x0": 5,
          "x1": 8,
          "y0": 1,
          "y1": 2
         },
         {
          "fillcolor": "gray",
          "line": {
           "color": "rgba(128, 0, 128, 1)",
           "width": 2
          },
          "opacity": 0.3,
          "type": "rect",
          "x0": 9,
          "x1": 12,
          "y0": 1,
          "y1": 2
         },
         {
          "fillcolor": "gray",
          "line": {
           "color": "rgba(128, 0, 128, 1)",
           "width": 2
          },
          "opacity": 0.3,
          "type": "rect",
          "x0": 13,
          "x1": 16,
          "y0": 1,
          "y1": 2
         },
         {
          "fillcolor": "gray",
          "line": {
           "color": "rgba(128, 0, 128, 1)",
           "width": 2
          },
          "opacity": 0.3,
          "type": "rect",
          "x0": 17,
          "x1": 20,
          "y0": 1,
          "y1": 2
         },
         {
          "fillcolor": "gray",
          "line": {
           "color": "rgba(128, 0, 128, 1)",
           "width": 2
          },
          "opacity": 0.3,
          "type": "rect",
          "x0": 21,
          "x1": 24,
          "y0": 1,
          "y1": 2
         },
         {
          "fillcolor": "gray",
          "line": {
           "color": "rgba(128, 0, 128, 1)",
           "width": 2
          },
          "opacity": 0.3,
          "type": "rect",
          "x0": 25,
          "x1": 28,
          "y0": 1,
          "y1": 2
         },
         {
          "fillcolor": "gray",
          "line": {
           "color": "rgba(128, 0, 128, 1)",
           "width": 2
          },
          "opacity": 0.3,
          "type": "rect",
          "x0": 29,
          "x1": 32,
          "y0": 1,
          "y1": 2
         },
         {
          "fillcolor": "gray",
          "line": {
           "color": "rgba(128, 0, 128, 1)",
           "width": 2
          },
          "opacity": 0.3,
          "type": "rect",
          "x0": 1,
          "x1": 8,
          "y0": 3,
          "y1": 4
         },
         {
          "fillcolor": "gray",
          "line": {
           "color": "rgba(128, 0, 128, 1)",
           "width": 2
          },
          "opacity": 0.3,
          "type": "rect",
          "x0": 9,
          "x1": 16,
          "y0": 3,
          "y1": 4
         },
         {
          "fillcolor": "gray",
          "line": {
           "color": "rgba(128, 0, 128, 1)",
           "width": 2
          },
          "opacity": 0.3,
          "type": "rect",
          "x0": 17,
          "x1": 24,
          "y0": 3,
          "y1": 4
         },
         {
          "fillcolor": "gray",
          "line": {
           "color": "rgba(128, 0, 128, 1)",
           "width": 2
          },
          "opacity": 0.3,
          "type": "rect",
          "x0": 25,
          "x1": 32,
          "y0": 3,
          "y1": 4
         },
         {
          "fillcolor": "gray",
          "line": {
           "color": "rgba(128, 0, 128, 1)",
           "width": 2
          },
          "opacity": 0.3,
          "type": "rect",
          "x0": 1,
          "x1": 16,
          "y0": 5,
          "y1": 6
         },
         {
          "fillcolor": "gray",
          "line": {
           "color": "rgba(128, 0, 128, 1)",
           "width": 2
          },
          "opacity": 0.3,
          "type": "rect",
          "x0": 17,
          "x1": 32,
          "y0": 5,
          "y1": 6
         },
         {
          "fillcolor": "gray",
          "line": {
           "color": "rgba(128, 0, 128, 1)",
           "width": 2
          },
          "opacity": 0.3,
          "type": "rect",
          "x0": 1,
          "x1": 32,
          "y0": 7,
          "y1": 8
         }
        ],
        "xaxis": {
         "range": [
          0,
          35
         ],
         "showgrid": false,
         "showline": false,
         "showticklabels": false,
         "ticks": "",
         "zeroline": false
        },
        "yaxis": {
         "range": [
          0,
          10
         ],
         "showgrid": false,
         "showline": false,
         "showticklabels": false,
         "ticks": "",
         "zeroline": false
        }
       }
      },
      "text/html": [
       "<div id=\"130eba00-de3b-46a3-8502-931c61f1bd39\" style=\"height: 525px; width: 100%;\" class=\"plotly-graph-div\"></div><script type=\"text/javascript\">require([\"plotly\"], function(Plotly) { window.PLOTLYENV=window.PLOTLYENV || {};window.PLOTLYENV.BASE_URL=\"https://plot.ly\";Plotly.newPlot(\"130eba00-de3b-46a3-8502-931c61f1bd39\", [{\"mode\": \"text\", \"text\": [\"1\", \"5=1+2^2\", \"3\", \"7=3+2^2\", \"2\", \"6=2+2^2\", \"4\", \"8=4+2^2\", \"1\", \"3=1+2^1\", \"2\", \"4=2+2^1\", \"1\", \"2=1+2^0\", \"1\"], \"x\": [2.5, 6.5, 10.5, 14.5, 18.5, 22.5, 26.5, 30.5, 4.5, 12.5, 20.5, 28.5, 8.5, 24.5, 16.5], \"y\": [1.5, 1.5, 1.5, 1.5, 1.5, 1.5, 1.5, 1.5, 3.5, 3.5, 3.5, 3.5, 5.5, 5.5, 7.5], \"type\": \"scatter\", \"uid\": \"068841d4-cede-11e8-8f4c-4feb54ea2203\"}], {\"shapes\": [{\"fillcolor\": \"gray\", \"line\": {\"color\": \"rgba(128, 0, 128, 1)\", \"width\": 2}, \"opacity\": 0.3, \"type\": \"rect\", \"x0\": 1, \"x1\": 4, \"y0\": 1, \"y1\": 2}, {\"fillcolor\": \"gray\", \"line\": {\"color\": \"rgba(128, 0, 128, 1)\", \"width\": 2}, \"opacity\": 0.3, \"type\": \"rect\", \"x0\": 5, \"x1\": 8, \"y0\": 1, \"y1\": 2}, {\"fillcolor\": \"gray\", \"line\": {\"color\": \"rgba(128, 0, 128, 1)\", \"width\": 2}, \"opacity\": 0.3, \"type\": \"rect\", \"x0\": 9, \"x1\": 12, \"y0\": 1, \"y1\": 2}, {\"fillcolor\": \"gray\", \"line\": {\"color\": \"rgba(128, 0, 128, 1)\", \"width\": 2}, \"opacity\": 0.3, \"type\": \"rect\", \"x0\": 13, \"x1\": 16, \"y0\": 1, \"y1\": 2}, {\"fillcolor\": \"gray\", \"line\": {\"color\": \"rgba(128, 0, 128, 1)\", \"width\": 2}, \"opacity\": 0.3, \"type\": \"rect\", \"x0\": 17, \"x1\": 20, \"y0\": 1, \"y1\": 2}, {\"fillcolor\": \"gray\", \"line\": {\"color\": \"rgba(128, 0, 128, 1)\", \"width\": 2}, \"opacity\": 0.3, \"type\": \"rect\", \"x0\": 21, \"x1\": 24, \"y0\": 1, \"y1\": 2}, {\"fillcolor\": \"gray\", \"line\": {\"color\": \"rgba(128, 0, 128, 1)\", \"width\": 2}, \"opacity\": 0.3, \"type\": \"rect\", \"x0\": 25, \"x1\": 28, \"y0\": 1, \"y1\": 2}, {\"fillcolor\": \"gray\", \"line\": {\"color\": \"rgba(128, 0, 128, 1)\", \"width\": 2}, \"opacity\": 0.3, \"type\": \"rect\", \"x0\": 29, \"x1\": 32, \"y0\": 1, \"y1\": 2}, {\"fillcolor\": \"gray\", \"line\": {\"color\": \"rgba(128, 0, 128, 1)\", \"width\": 2}, \"opacity\": 0.3, \"type\": \"rect\", \"x0\": 1, \"x1\": 8, \"y0\": 3, \"y1\": 4}, {\"fillcolor\": \"gray\", \"line\": {\"color\": \"rgba(128, 0, 128, 1)\", \"width\": 2}, \"opacity\": 0.3, \"type\": \"rect\", \"x0\": 9, \"x1\": 16, \"y0\": 3, \"y1\": 4}, {\"fillcolor\": \"gray\", \"line\": {\"color\": \"rgba(128, 0, 128, 1)\", \"width\": 2}, \"opacity\": 0.3, \"type\": \"rect\", \"x0\": 17, \"x1\": 24, \"y0\": 3, \"y1\": 4}, {\"fillcolor\": \"gray\", \"line\": {\"color\": \"rgba(128, 0, 128, 1)\", \"width\": 2}, \"opacity\": 0.3, \"type\": \"rect\", \"x0\": 25, \"x1\": 32, \"y0\": 3, \"y1\": 4}, {\"fillcolor\": \"gray\", \"line\": {\"color\": \"rgba(128, 0, 128, 1)\", \"width\": 2}, \"opacity\": 0.3, \"type\": \"rect\", \"x0\": 1, \"x1\": 16, \"y0\": 5, \"y1\": 6}, {\"fillcolor\": \"gray\", \"line\": {\"color\": \"rgba(128, 0, 128, 1)\", \"width\": 2}, \"opacity\": 0.3, \"type\": \"rect\", \"x0\": 17, \"x1\": 32, \"y0\": 5, \"y1\": 6}, {\"fillcolor\": \"gray\", \"line\": {\"color\": \"rgba(128, 0, 128, 1)\", \"width\": 2}, \"opacity\": 0.3, \"type\": \"rect\", \"x0\": 1, \"x1\": 32, \"y0\": 7, \"y1\": 8}], \"xaxis\": {\"range\": [0, 35], \"showgrid\": false, \"showline\": false, \"showticklabels\": false, \"ticks\": \"\", \"zeroline\": false}, \"yaxis\": {\"range\": [0, 10], \"showgrid\": false, \"showline\": false, \"showticklabels\": false, \"ticks\": \"\", \"zeroline\": false}}, {\"showLink\": true, \"linkText\": \"Export to plot.ly\"})});</script>"
      ],
      "text/vnd.plotly.v1+html": [
       "<div id=\"130eba00-de3b-46a3-8502-931c61f1bd39\" style=\"height: 525px; width: 100%;\" class=\"plotly-graph-div\"></div><script type=\"text/javascript\">require([\"plotly\"], function(Plotly) { window.PLOTLYENV=window.PLOTLYENV || {};window.PLOTLYENV.BASE_URL=\"https://plot.ly\";Plotly.newPlot(\"130eba00-de3b-46a3-8502-931c61f1bd39\", [{\"mode\": \"text\", \"text\": [\"1\", \"5=1+2^2\", \"3\", \"7=3+2^2\", \"2\", \"6=2+2^2\", \"4\", \"8=4+2^2\", \"1\", \"3=1+2^1\", \"2\", \"4=2+2^1\", \"1\", \"2=1+2^0\", \"1\"], \"x\": [2.5, 6.5, 10.5, 14.5, 18.5, 22.5, 26.5, 30.5, 4.5, 12.5, 20.5, 28.5, 8.5, 24.5, 16.5], \"y\": [1.5, 1.5, 1.5, 1.5, 1.5, 1.5, 1.5, 1.5, 3.5, 3.5, 3.5, 3.5, 5.5, 5.5, 7.5], \"type\": \"scatter\", \"uid\": \"068841d4-cede-11e8-8f4c-4feb54ea2203\"}], {\"shapes\": [{\"fillcolor\": \"gray\", \"line\": {\"color\": \"rgba(128, 0, 128, 1)\", \"width\": 2}, \"opacity\": 0.3, \"type\": \"rect\", \"x0\": 1, \"x1\": 4, \"y0\": 1, \"y1\": 2}, {\"fillcolor\": \"gray\", \"line\": {\"color\": \"rgba(128, 0, 128, 1)\", \"width\": 2}, \"opacity\": 0.3, \"type\": \"rect\", \"x0\": 5, \"x1\": 8, \"y0\": 1, \"y1\": 2}, {\"fillcolor\": \"gray\", \"line\": {\"color\": \"rgba(128, 0, 128, 1)\", \"width\": 2}, \"opacity\": 0.3, \"type\": \"rect\", \"x0\": 9, \"x1\": 12, \"y0\": 1, \"y1\": 2}, {\"fillcolor\": \"gray\", \"line\": {\"color\": \"rgba(128, 0, 128, 1)\", \"width\": 2}, \"opacity\": 0.3, \"type\": \"rect\", \"x0\": 13, \"x1\": 16, \"y0\": 1, \"y1\": 2}, {\"fillcolor\": \"gray\", \"line\": {\"color\": \"rgba(128, 0, 128, 1)\", \"width\": 2}, \"opacity\": 0.3, \"type\": \"rect\", \"x0\": 17, \"x1\": 20, \"y0\": 1, \"y1\": 2}, {\"fillcolor\": \"gray\", \"line\": {\"color\": \"rgba(128, 0, 128, 1)\", \"width\": 2}, \"opacity\": 0.3, \"type\": \"rect\", \"x0\": 21, \"x1\": 24, \"y0\": 1, \"y1\": 2}, {\"fillcolor\": \"gray\", \"line\": {\"color\": \"rgba(128, 0, 128, 1)\", \"width\": 2}, \"opacity\": 0.3, \"type\": \"rect\", \"x0\": 25, \"x1\": 28, \"y0\": 1, \"y1\": 2}, {\"fillcolor\": \"gray\", \"line\": {\"color\": \"rgba(128, 0, 128, 1)\", \"width\": 2}, \"opacity\": 0.3, \"type\": \"rect\", \"x0\": 29, \"x1\": 32, \"y0\": 1, \"y1\": 2}, {\"fillcolor\": \"gray\", \"line\": {\"color\": \"rgba(128, 0, 128, 1)\", \"width\": 2}, \"opacity\": 0.3, \"type\": \"rect\", \"x0\": 1, \"x1\": 8, \"y0\": 3, \"y1\": 4}, {\"fillcolor\": \"gray\", \"line\": {\"color\": \"rgba(128, 0, 128, 1)\", \"width\": 2}, \"opacity\": 0.3, \"type\": \"rect\", \"x0\": 9, \"x1\": 16, \"y0\": 3, \"y1\": 4}, {\"fillcolor\": \"gray\", \"line\": {\"color\": \"rgba(128, 0, 128, 1)\", \"width\": 2}, \"opacity\": 0.3, \"type\": \"rect\", \"x0\": 17, \"x1\": 24, \"y0\": 3, \"y1\": 4}, {\"fillcolor\": \"gray\", \"line\": {\"color\": \"rgba(128, 0, 128, 1)\", \"width\": 2}, \"opacity\": 0.3, \"type\": \"rect\", \"x0\": 25, \"x1\": 32, \"y0\": 3, \"y1\": 4}, {\"fillcolor\": \"gray\", \"line\": {\"color\": \"rgba(128, 0, 128, 1)\", \"width\": 2}, \"opacity\": 0.3, \"type\": \"rect\", \"x0\": 1, \"x1\": 16, \"y0\": 5, \"y1\": 6}, {\"fillcolor\": \"gray\", \"line\": {\"color\": \"rgba(128, 0, 128, 1)\", \"width\": 2}, \"opacity\": 0.3, \"type\": \"rect\", \"x0\": 17, \"x1\": 32, \"y0\": 5, \"y1\": 6}, {\"fillcolor\": \"gray\", \"line\": {\"color\": \"rgba(128, 0, 128, 1)\", \"width\": 2}, \"opacity\": 0.3, \"type\": \"rect\", \"x0\": 1, \"x1\": 32, \"y0\": 7, \"y1\": 8}], \"xaxis\": {\"range\": [0, 35], \"showgrid\": false, \"showline\": false, \"showticklabels\": false, \"ticks\": \"\", \"zeroline\": false}, \"yaxis\": {\"range\": [0, 10], \"showgrid\": false, \"showline\": false, \"showticklabels\": false, \"ticks\": \"\", \"zeroline\": false}}, {\"showLink\": true, \"linkText\": \"Export to plot.ly\"})});</script>"
      ]
     },
     "metadata": {},
     "output_type": "display_data"
    }
   ],
   "source": [
    "trace2 = go.Scatter(\n",
    "    x=x,\n",
    "    y=y,\n",
    "    text=[1,'5=1+2^2',3,'7=3+2^2',2,'6=2+2^2',4,'8=4+2^2',1,'3=1+2^1',2,'4=2+2^1',1,'2=1+2^0',1],\n",
    "    mode='text',\n",
    ")\n",
    "iplot({\n",
    "    'data': [trace2],\n",
    "    'layout': layout,\n",
    "})"
   ]
  },
  {
   "cell_type": "markdown",
   "metadata": {},
   "source": [
    "$$ RANK\\_LSON = RANK $$\n",
    "$$ RANK\\_RSON = RANK + 2^{depth} $$"
   ]
  },
  {
   "cell_type": "markdown",
   "metadata": {},
   "source": [
    "# MPI\n",
    "\n",
    "```cpp\n",
    "/* Skipped: Base sort and help func */\n",
    "void mpi_sort(int a[], int l, int r, int id, int max_id, int deep) {\n",
    "\tMPI_Status status;\n",
    "\tint rson_id = id + pow(2, deep);\n",
    "\tif (rson_id > max_id) {\n",
    "\t\tqsort(a, l, r);\n",
    "\t\treturn;\n",
    "\t}\n",
    "\trson_id--;\n",
    "\t\n",
    "\tif (l > r) {\n",
    "\t\tMPI_Send(a + l, 0, MPI::INT, rson_id, 0, MPI_COMM_WORLD);\n",
    "\t\tMPI_Recv(a + l, 0, MPI::INT, rson_id, MPI_ANY_TAG, MPI_COMM_WORLD, &status);\n",
    "\t\treturn;\n",
    "\t}\n",
    "\t\n",
    "\tP ret = partition(a, l, r);\n",
    "\tint lsize = ret.first - l;\n",
    "\tint rsize = r - ret.second;\n",
    "\tif (lsize < rsize) {\n",
    "\t\tMPI_Send(a + l, lsize, MPI::INT, rson_id, l, MPI_COMM_WORLD);\n",
    "\t\tmpi_sort(a, ret.second + 1, r, id, max_id, deep + 1);\n",
    "\t\tMPI_Recv(a + l, lsize, MPI::INT, rson_id, MPI_ANY_TAG, MPI_COMM_WORLD, &status);\n",
    "\t} else {\n",
    "\t\tMPI_Send(a + ret.second + 1, rsize, MPI::INT, rson_id, ret.second + 1, MPI_COMM_WORLD);\n",
    "\t\tmpi_sort(a, l, ret.first - 1, id, max_id, deep + 1);\n",
    "\t\tMPI_Recv(a + ret.second + 1, rsize, MPI::INT, rson_id, MPI_ANY_TAG, MPI_COMM_WORLD, &status);\n",
    "\t}\n",
    "}\n",
    "```"
   ]
  },
  {
   "cell_type": "markdown",
   "metadata": {},
   "source": [
    "# MPI\n",
    "\n",
    "```cpp\n",
    "int main(int argc, char *argv[]) {\n",
    "    /* Skipped: input and initialisation*/\n",
    "\tmyid++;\n",
    "    // id start from 1\n",
    "\tint retcode = 0;\n",
    "\tif (myid == 1) {\n",
    "\t\tint n, seed;\n",
    "\t\tsscanf(argv[1], \"%d\", &n);\n",
    "\t\tsscanf(argv[2], \"%d\", &seed);\n",
    "\t\tint *data = (int*)malloc(sizeof(int)*n);\n",
    "\t\tsrand(seed);\n",
    "\t\tfor (int i = 0; i < n; i++)\n",
    "\t\t\tif (0 == seed) data[i] = 0;\n",
    "\t\t\telse if (-1 == seed) data[i] = n - i;\n",
    "\t\t\telse data[i] = rand() % n + 1;\n",
    "\n",
    "\t\tdouble tmp = MPI_Wtime();\n",
    "\t\tmpi_sort(data, 0, n - 1, myid, numprocs, 0);\n",
    "\t\ttmp = MPI_Wtime() - tmp;\n",
    "\t\tprintf(\"%lf\\n\", tmp);\n",
    "\t\tretcode = validate(data, n);\n",
    "\t\tfree(data);\n",
    "\t} else {\n",
    "\t\tint *subarray = NULL;\n",
    "\t\tMPI_Status status;\n",
    "\t\tint sub_size = 0;\n",
    "\t\tint index = 0;\n",
    "\t\tint parent_id = 0;\n",
    "\t\twhile (pow(2, index) < myid) index++;\n",
    "\t\tMPI_Probe(MPI_ANY_SOURCE, MPI_ANY_TAG, MPI_COMM_WORLD, &status);\n",
    "\t\tMPI_Get_count(&status, MPI::INT, &sub_size);\n",
    "\t\tparent_id = status.MPI_SOURCE;\n",
    "\t\tsubarray = (int*)malloc(sub_size * sizeof(int));\n",
    "\t\t\n",
    "\t\tMPI_Recv(subarray, sub_size, MPI::INT, MPI_ANY_SOURCE, MPI_ANY_TAG, MPI_COMM_WORLD, &status);\n",
    "\t\tmpi_sort(subarray, 0, sub_size - 1, myid, numprocs, index);\n",
    "\t\tMPI_Send(subarray, sub_size, MPI::INT, parent_id, parent_id,MPI_COMM_WORLD);\n",
    "\t\t\n",
    "\t\tfree(subarray);\n",
    "\t}\n",
    "\tMPI_Finalize();\n",
    "\treturn retcode;\n",
    "}\n",
    "```"
   ]
  },
  {
   "cell_type": "code",
   "execution_count": 20,
   "metadata": {},
   "outputs": [],
   "source": [
    "def trace5():\n",
    "    # x轴为线程数\n",
    "    ret = []\n",
    "    seed = 123456\n",
    "    testSize = [1000, ]\n",
    "    for i in range(6):\n",
    "        testSize.append(testSize[-1] * 2)\n",
    "    procs = [i + 1 for i in range(32)]\n",
    "    \n",
    "    for n in testSize:\n",
    "        y = []\n",
    "        for proc in procs:\n",
    "            timeInSec = run('mpi', proc, n, seed)\n",
    "            y.append(timeInSec)\n",
    "        ret.append(go.Scatter(x=procs, y=y, mode='lines+markers', name='{} items'.format(n)))\n",
    "    return ret\n",
    "\n",
    "def trace6():\n",
    "    # 线程数量=4,8,16\n",
    "    # seed=123456\n",
    "    # 固定种子，增加测试集大小\n",
    "    ret = []\n",
    "    seed = 123456\n",
    "    testSize = [1000, ]\n",
    "    for i in range(16):\n",
    "        testSize.append(testSize[-1] * 2)\n",
    "\n",
    "    for proc in [1, 2, 4, 8, 16]:\n",
    "        y = []\n",
    "        for n in testSize:\n",
    "            timeInSec = run('mpi', proc, n, seed)\n",
    "            y.append(timeInSec)\n",
    "        ret.append(go.Scatter(x=testSize, y=y, mode='lines+markers', name='{} procs'.format(proc)))\n",
    "    return ret"
   ]
  },
  {
   "cell_type": "code",
   "execution_count": 21,
   "metadata": {
    "scrolled": true
   },
   "outputs": [
    {
     "name": "stdout",
     "output_type": "stream",
     "text": [
      "run: method=mpi, workers=1, n=1000, seed=123456\n",
      "run: method=mpi, workers=2, n=1000, seed=123456\n",
      "run: method=mpi, workers=3, n=1000, seed=123456\n",
      "run: method=mpi, workers=4, n=1000, seed=123456\n",
      "run: method=mpi, workers=5, n=1000, seed=123456\n",
      "run: method=mpi, workers=6, n=1000, seed=123456\n",
      "run: method=mpi, workers=7, n=1000, seed=123456\n",
      "run: method=mpi, workers=8, n=1000, seed=123456\n",
      "run: method=mpi, workers=9, n=1000, seed=123456\n",
      "run: method=mpi, workers=10, n=1000, seed=123456\n",
      "run: method=mpi, workers=11, n=1000, seed=123456\n",
      "run: method=mpi, workers=12, n=1000, seed=123456\n",
      "run: method=mpi, workers=13, n=1000, seed=123456\n",
      "run: method=mpi, workers=14, n=1000, seed=123456\n",
      "run: method=mpi, workers=15, n=1000, seed=123456\n",
      "run: method=mpi, workers=16, n=1000, seed=123456\n",
      "run: method=mpi, workers=17, n=1000, seed=123456\n",
      "run: method=mpi, workers=18, n=1000, seed=123456\n",
      "run: method=mpi, workers=19, n=1000, seed=123456\n",
      "run: method=mpi, workers=20, n=1000, seed=123456\n",
      "run: method=mpi, workers=21, n=1000, seed=123456\n",
      "run: method=mpi, workers=22, n=1000, seed=123456\n",
      "run: method=mpi, workers=23, n=1000, seed=123456\n",
      "run: method=mpi, workers=24, n=1000, seed=123456\n",
      "run: method=mpi, workers=25, n=1000, seed=123456\n",
      "run: method=mpi, workers=26, n=1000, seed=123456\n",
      "run: method=mpi, workers=27, n=1000, seed=123456\n",
      "run: method=mpi, workers=28, n=1000, seed=123456\n",
      "run: method=mpi, workers=29, n=1000, seed=123456\n",
      "run: method=mpi, workers=30, n=1000, seed=123456\n",
      "run: method=mpi, workers=31, n=1000, seed=123456\n",
      "run: method=mpi, workers=32, n=1000, seed=123456\n",
      "run: method=mpi, workers=1, n=2000, seed=123456\n",
      "run: method=mpi, workers=2, n=2000, seed=123456\n",
      "run: method=mpi, workers=3, n=2000, seed=123456\n",
      "run: method=mpi, workers=4, n=2000, seed=123456\n",
      "run: method=mpi, workers=5, n=2000, seed=123456\n",
      "run: method=mpi, workers=6, n=2000, seed=123456\n",
      "run: method=mpi, workers=7, n=2000, seed=123456\n",
      "run: method=mpi, workers=8, n=2000, seed=123456\n",
      "run: method=mpi, workers=9, n=2000, seed=123456\n",
      "run: method=mpi, workers=10, n=2000, seed=123456\n",
      "run: method=mpi, workers=11, n=2000, seed=123456\n",
      "run: method=mpi, workers=12, n=2000, seed=123456\n",
      "run: method=mpi, workers=13, n=2000, seed=123456\n",
      "run: method=mpi, workers=14, n=2000, seed=123456\n",
      "run: method=mpi, workers=15, n=2000, seed=123456\n",
      "run: method=mpi, workers=16, n=2000, seed=123456\n",
      "run: method=mpi, workers=17, n=2000, seed=123456\n",
      "run: method=mpi, workers=18, n=2000, seed=123456\n",
      "run: method=mpi, workers=19, n=2000, seed=123456\n",
      "run: method=mpi, workers=20, n=2000, seed=123456\n",
      "run: method=mpi, workers=21, n=2000, seed=123456\n",
      "run: method=mpi, workers=22, n=2000, seed=123456\n",
      "run: method=mpi, workers=23, n=2000, seed=123456\n",
      "run: method=mpi, workers=24, n=2000, seed=123456\n",
      "run: method=mpi, workers=25, n=2000, seed=123456\n",
      "run: method=mpi, workers=26, n=2000, seed=123456\n",
      "run: method=mpi, workers=27, n=2000, seed=123456\n",
      "run: method=mpi, workers=28, n=2000, seed=123456\n",
      "run: method=mpi, workers=29, n=2000, seed=123456\n",
      "run: method=mpi, workers=30, n=2000, seed=123456\n",
      "run: method=mpi, workers=31, n=2000, seed=123456\n",
      "run: method=mpi, workers=32, n=2000, seed=123456\n",
      "run: method=mpi, workers=1, n=4000, seed=123456\n",
      "run: method=mpi, workers=2, n=4000, seed=123456\n",
      "run: method=mpi, workers=3, n=4000, seed=123456\n",
      "run: method=mpi, workers=4, n=4000, seed=123456\n",
      "run: method=mpi, workers=5, n=4000, seed=123456\n",
      "run: method=mpi, workers=6, n=4000, seed=123456\n",
      "run: method=mpi, workers=7, n=4000, seed=123456\n",
      "run: method=mpi, workers=8, n=4000, seed=123456\n",
      "run: method=mpi, workers=9, n=4000, seed=123456\n",
      "run: method=mpi, workers=10, n=4000, seed=123456\n",
      "run: method=mpi, workers=11, n=4000, seed=123456\n",
      "run: method=mpi, workers=12, n=4000, seed=123456\n",
      "run: method=mpi, workers=13, n=4000, seed=123456\n",
      "run: method=mpi, workers=14, n=4000, seed=123456\n",
      "run: method=mpi, workers=15, n=4000, seed=123456\n",
      "run: method=mpi, workers=16, n=4000, seed=123456\n",
      "run: method=mpi, workers=17, n=4000, seed=123456\n",
      "run: method=mpi, workers=18, n=4000, seed=123456\n",
      "run: method=mpi, workers=19, n=4000, seed=123456\n",
      "run: method=mpi, workers=20, n=4000, seed=123456\n",
      "run: method=mpi, workers=21, n=4000, seed=123456\n",
      "run: method=mpi, workers=22, n=4000, seed=123456\n",
      "run: method=mpi, workers=23, n=4000, seed=123456\n",
      "run: method=mpi, workers=24, n=4000, seed=123456\n",
      "run: method=mpi, workers=25, n=4000, seed=123456\n",
      "run: method=mpi, workers=26, n=4000, seed=123456\n",
      "run: method=mpi, workers=27, n=4000, seed=123456\n",
      "run: method=mpi, workers=28, n=4000, seed=123456\n",
      "run: method=mpi, workers=29, n=4000, seed=123456\n",
      "run: method=mpi, workers=30, n=4000, seed=123456\n",
      "run: method=mpi, workers=31, n=4000, seed=123456\n",
      "run: method=mpi, workers=32, n=4000, seed=123456\n",
      "run: method=mpi, workers=1, n=8000, seed=123456\n",
      "run: method=mpi, workers=2, n=8000, seed=123456\n",
      "run: method=mpi, workers=3, n=8000, seed=123456\n",
      "run: method=mpi, workers=4, n=8000, seed=123456\n",
      "run: method=mpi, workers=5, n=8000, seed=123456\n",
      "run: method=mpi, workers=6, n=8000, seed=123456\n",
      "run: method=mpi, workers=7, n=8000, seed=123456\n",
      "run: method=mpi, workers=8, n=8000, seed=123456\n",
      "run: method=mpi, workers=9, n=8000, seed=123456\n",
      "run: method=mpi, workers=10, n=8000, seed=123456\n",
      "run: method=mpi, workers=11, n=8000, seed=123456\n",
      "run: method=mpi, workers=12, n=8000, seed=123456\n",
      "run: method=mpi, workers=13, n=8000, seed=123456\n",
      "run: method=mpi, workers=14, n=8000, seed=123456\n",
      "run: method=mpi, workers=15, n=8000, seed=123456\n",
      "run: method=mpi, workers=16, n=8000, seed=123456\n",
      "run: method=mpi, workers=17, n=8000, seed=123456\n",
      "run: method=mpi, workers=18, n=8000, seed=123456\n",
      "run: method=mpi, workers=19, n=8000, seed=123456\n",
      "run: method=mpi, workers=20, n=8000, seed=123456\n",
      "run: method=mpi, workers=21, n=8000, seed=123456\n",
      "run: method=mpi, workers=22, n=8000, seed=123456\n",
      "run: method=mpi, workers=23, n=8000, seed=123456\n",
      "run: method=mpi, workers=24, n=8000, seed=123456\n",
      "run: method=mpi, workers=25, n=8000, seed=123456\n",
      "run: method=mpi, workers=26, n=8000, seed=123456\n",
      "run: method=mpi, workers=27, n=8000, seed=123456\n",
      "run: method=mpi, workers=28, n=8000, seed=123456\n",
      "run: method=mpi, workers=29, n=8000, seed=123456\n",
      "run: method=mpi, workers=30, n=8000, seed=123456\n",
      "run: method=mpi, workers=31, n=8000, seed=123456\n",
      "run: method=mpi, workers=32, n=8000, seed=123456\n",
      "run: method=mpi, workers=1, n=16000, seed=123456\n",
      "run: method=mpi, workers=2, n=16000, seed=123456\n",
      "run: method=mpi, workers=3, n=16000, seed=123456\n",
      "run: method=mpi, workers=4, n=16000, seed=123456\n",
      "run: method=mpi, workers=5, n=16000, seed=123456\n",
      "run: method=mpi, workers=6, n=16000, seed=123456\n",
      "run: method=mpi, workers=7, n=16000, seed=123456\n",
      "run: method=mpi, workers=8, n=16000, seed=123456\n",
      "run: method=mpi, workers=9, n=16000, seed=123456\n",
      "run: method=mpi, workers=10, n=16000, seed=123456\n",
      "run: method=mpi, workers=11, n=16000, seed=123456\n",
      "run: method=mpi, workers=12, n=16000, seed=123456\n",
      "run: method=mpi, workers=13, n=16000, seed=123456\n",
      "run: method=mpi, workers=14, n=16000, seed=123456\n",
      "run: method=mpi, workers=15, n=16000, seed=123456\n",
      "run: method=mpi, workers=16, n=16000, seed=123456\n",
      "run: method=mpi, workers=17, n=16000, seed=123456\n",
      "run: method=mpi, workers=18, n=16000, seed=123456\n",
      "run: method=mpi, workers=19, n=16000, seed=123456\n",
      "run: method=mpi, workers=20, n=16000, seed=123456\n",
      "run: method=mpi, workers=21, n=16000, seed=123456\n",
      "run: method=mpi, workers=22, n=16000, seed=123456\n",
      "run: method=mpi, workers=23, n=16000, seed=123456\n",
      "run: method=mpi, workers=24, n=16000, seed=123456\n",
      "run: method=mpi, workers=25, n=16000, seed=123456\n",
      "run: method=mpi, workers=26, n=16000, seed=123456\n",
      "run: method=mpi, workers=27, n=16000, seed=123456\n",
      "run: method=mpi, workers=28, n=16000, seed=123456\n",
      "run: method=mpi, workers=29, n=16000, seed=123456\n",
      "run: method=mpi, workers=30, n=16000, seed=123456\n",
      "run: method=mpi, workers=31, n=16000, seed=123456\n",
      "run: method=mpi, workers=32, n=16000, seed=123456\n",
      "run: method=mpi, workers=1, n=32000, seed=123456\n",
      "run: method=mpi, workers=2, n=32000, seed=123456\n",
      "run: method=mpi, workers=3, n=32000, seed=123456\n",
      "run: method=mpi, workers=4, n=32000, seed=123456\n",
      "run: method=mpi, workers=5, n=32000, seed=123456\n",
      "run: method=mpi, workers=6, n=32000, seed=123456\n",
      "run: method=mpi, workers=7, n=32000, seed=123456\n",
      "run: method=mpi, workers=8, n=32000, seed=123456\n",
      "run: method=mpi, workers=9, n=32000, seed=123456\n"
     ]
    },
    {
     "name": "stdout",
     "output_type": "stream",
     "text": [
      "run: method=mpi, workers=10, n=32000, seed=123456\n",
      "run: method=mpi, workers=11, n=32000, seed=123456\n",
      "run: method=mpi, workers=12, n=32000, seed=123456\n",
      "run: method=mpi, workers=13, n=32000, seed=123456\n",
      "run: method=mpi, workers=14, n=32000, seed=123456\n",
      "run: method=mpi, workers=15, n=32000, seed=123456\n",
      "run: method=mpi, workers=16, n=32000, seed=123456\n",
      "run: method=mpi, workers=17, n=32000, seed=123456\n",
      "run: method=mpi, workers=18, n=32000, seed=123456\n",
      "run: method=mpi, workers=19, n=32000, seed=123456\n",
      "run: method=mpi, workers=20, n=32000, seed=123456\n",
      "run: method=mpi, workers=21, n=32000, seed=123456\n",
      "run: method=mpi, workers=22, n=32000, seed=123456\n",
      "run: method=mpi, workers=23, n=32000, seed=123456\n",
      "run: method=mpi, workers=24, n=32000, seed=123456\n",
      "run: method=mpi, workers=25, n=32000, seed=123456\n",
      "run: method=mpi, workers=26, n=32000, seed=123456\n",
      "run: method=mpi, workers=27, n=32000, seed=123456\n",
      "run: method=mpi, workers=28, n=32000, seed=123456\n",
      "run: method=mpi, workers=29, n=32000, seed=123456\n",
      "run: method=mpi, workers=30, n=32000, seed=123456\n",
      "run: method=mpi, workers=31, n=32000, seed=123456\n",
      "run: method=mpi, workers=32, n=32000, seed=123456\n",
      "run: method=mpi, workers=1, n=64000, seed=123456\n",
      "run: method=mpi, workers=2, n=64000, seed=123456\n",
      "run: method=mpi, workers=3, n=64000, seed=123456\n",
      "run: method=mpi, workers=4, n=64000, seed=123456\n",
      "run: method=mpi, workers=5, n=64000, seed=123456\n",
      "run: method=mpi, workers=6, n=64000, seed=123456\n",
      "run: method=mpi, workers=7, n=64000, seed=123456\n",
      "run: method=mpi, workers=8, n=64000, seed=123456\n",
      "run: method=mpi, workers=9, n=64000, seed=123456\n",
      "run: method=mpi, workers=10, n=64000, seed=123456\n",
      "run: method=mpi, workers=11, n=64000, seed=123456\n",
      "run: method=mpi, workers=12, n=64000, seed=123456\n",
      "run: method=mpi, workers=13, n=64000, seed=123456\n",
      "run: method=mpi, workers=14, n=64000, seed=123456\n",
      "run: method=mpi, workers=15, n=64000, seed=123456\n",
      "run: method=mpi, workers=16, n=64000, seed=123456\n",
      "run: method=mpi, workers=17, n=64000, seed=123456\n",
      "run: method=mpi, workers=18, n=64000, seed=123456\n",
      "run: method=mpi, workers=19, n=64000, seed=123456\n",
      "run: method=mpi, workers=20, n=64000, seed=123456\n",
      "run: method=mpi, workers=21, n=64000, seed=123456\n",
      "run: method=mpi, workers=22, n=64000, seed=123456\n",
      "run: method=mpi, workers=23, n=64000, seed=123456\n",
      "run: method=mpi, workers=24, n=64000, seed=123456\n",
      "run: method=mpi, workers=25, n=64000, seed=123456\n",
      "run: method=mpi, workers=26, n=64000, seed=123456\n",
      "run: method=mpi, workers=27, n=64000, seed=123456\n",
      "run: method=mpi, workers=28, n=64000, seed=123456\n",
      "run: method=mpi, workers=29, n=64000, seed=123456\n",
      "run: method=mpi, workers=30, n=64000, seed=123456\n",
      "run: method=mpi, workers=31, n=64000, seed=123456\n",
      "run: method=mpi, workers=32, n=64000, seed=123456\n",
      "CPU times: user 334 ms, sys: 796 ms, total: 1.13 s\n",
      "Wall time: 57.6 s\n"
     ]
    }
   ],
   "source": [
    "%%time\n",
    "trace_mpi_testsize = trace5()"
   ]
  },
  {
   "cell_type": "code",
   "execution_count": 22,
   "metadata": {},
   "outputs": [
    {
     "name": "stdout",
     "output_type": "stream",
     "text": [
      "run: method=mpi, workers=1, n=1000, seed=123456\n",
      "run: method=mpi, workers=1, n=2000, seed=123456\n",
      "run: method=mpi, workers=1, n=4000, seed=123456\n",
      "run: method=mpi, workers=1, n=8000, seed=123456\n",
      "run: method=mpi, workers=1, n=16000, seed=123456\n",
      "run: method=mpi, workers=1, n=32000, seed=123456\n",
      "run: method=mpi, workers=1, n=64000, seed=123456\n",
      "run: method=mpi, workers=1, n=128000, seed=123456\n",
      "run: method=mpi, workers=1, n=256000, seed=123456\n",
      "run: method=mpi, workers=1, n=512000, seed=123456\n",
      "run: method=mpi, workers=1, n=1024000, seed=123456\n",
      "run: method=mpi, workers=1, n=2048000, seed=123456\n",
      "run: method=mpi, workers=1, n=4096000, seed=123456\n",
      "run: method=mpi, workers=1, n=8192000, seed=123456\n",
      "run: method=mpi, workers=1, n=16384000, seed=123456\n",
      "run: method=mpi, workers=1, n=32768000, seed=123456\n",
      "run: method=mpi, workers=1, n=65536000, seed=123456\n",
      "run: method=mpi, workers=2, n=1000, seed=123456\n",
      "run: method=mpi, workers=2, n=2000, seed=123456\n",
      "run: method=mpi, workers=2, n=4000, seed=123456\n",
      "run: method=mpi, workers=2, n=8000, seed=123456\n",
      "run: method=mpi, workers=2, n=16000, seed=123456\n",
      "run: method=mpi, workers=2, n=32000, seed=123456\n",
      "run: method=mpi, workers=2, n=64000, seed=123456\n",
      "run: method=mpi, workers=2, n=128000, seed=123456\n",
      "run: method=mpi, workers=2, n=256000, seed=123456\n",
      "run: method=mpi, workers=2, n=512000, seed=123456\n",
      "run: method=mpi, workers=2, n=1024000, seed=123456\n",
      "run: method=mpi, workers=2, n=2048000, seed=123456\n",
      "run: method=mpi, workers=2, n=4096000, seed=123456\n",
      "run: method=mpi, workers=2, n=8192000, seed=123456\n",
      "run: method=mpi, workers=2, n=16384000, seed=123456\n",
      "run: method=mpi, workers=2, n=32768000, seed=123456\n",
      "run: method=mpi, workers=2, n=65536000, seed=123456\n",
      "run: method=mpi, workers=4, n=1000, seed=123456\n",
      "run: method=mpi, workers=4, n=2000, seed=123456\n",
      "run: method=mpi, workers=4, n=4000, seed=123456\n",
      "run: method=mpi, workers=4, n=8000, seed=123456\n",
      "run: method=mpi, workers=4, n=16000, seed=123456\n",
      "run: method=mpi, workers=4, n=32000, seed=123456\n",
      "run: method=mpi, workers=4, n=64000, seed=123456\n",
      "run: method=mpi, workers=4, n=128000, seed=123456\n",
      "run: method=mpi, workers=4, n=256000, seed=123456\n",
      "run: method=mpi, workers=4, n=512000, seed=123456\n",
      "run: method=mpi, workers=4, n=1024000, seed=123456\n",
      "run: method=mpi, workers=4, n=2048000, seed=123456\n",
      "run: method=mpi, workers=4, n=4096000, seed=123456\n",
      "run: method=mpi, workers=4, n=8192000, seed=123456\n",
      "run: method=mpi, workers=4, n=16384000, seed=123456\n",
      "run: method=mpi, workers=4, n=32768000, seed=123456\n",
      "run: method=mpi, workers=4, n=65536000, seed=123456\n",
      "run: method=mpi, workers=8, n=1000, seed=123456\n",
      "run: method=mpi, workers=8, n=2000, seed=123456\n",
      "run: method=mpi, workers=8, n=4000, seed=123456\n",
      "run: method=mpi, workers=8, n=8000, seed=123456\n",
      "run: method=mpi, workers=8, n=16000, seed=123456\n",
      "run: method=mpi, workers=8, n=32000, seed=123456\n",
      "run: method=mpi, workers=8, n=64000, seed=123456\n",
      "run: method=mpi, workers=8, n=128000, seed=123456\n",
      "run: method=mpi, workers=8, n=256000, seed=123456\n",
      "run: method=mpi, workers=8, n=512000, seed=123456\n",
      "run: method=mpi, workers=8, n=1024000, seed=123456\n",
      "run: method=mpi, workers=8, n=2048000, seed=123456\n",
      "run: method=mpi, workers=8, n=4096000, seed=123456\n",
      "run: method=mpi, workers=8, n=8192000, seed=123456\n",
      "run: method=mpi, workers=8, n=16384000, seed=123456\n",
      "run: method=mpi, workers=8, n=32768000, seed=123456\n",
      "run: method=mpi, workers=8, n=65536000, seed=123456\n",
      "run: method=mpi, workers=16, n=1000, seed=123456\n",
      "run: method=mpi, workers=16, n=2000, seed=123456\n",
      "run: method=mpi, workers=16, n=4000, seed=123456\n",
      "run: method=mpi, workers=16, n=8000, seed=123456\n",
      "run: method=mpi, workers=16, n=16000, seed=123456\n",
      "run: method=mpi, workers=16, n=32000, seed=123456\n",
      "run: method=mpi, workers=16, n=64000, seed=123456\n",
      "run: method=mpi, workers=16, n=128000, seed=123456\n",
      "run: method=mpi, workers=16, n=256000, seed=123456\n",
      "run: method=mpi, workers=16, n=512000, seed=123456\n",
      "run: method=mpi, workers=16, n=1024000, seed=123456\n",
      "run: method=mpi, workers=16, n=2048000, seed=123456\n",
      "run: method=mpi, workers=16, n=4096000, seed=123456\n",
      "run: method=mpi, workers=16, n=8192000, seed=123456\n",
      "run: method=mpi, workers=16, n=16384000, seed=123456\n",
      "run: method=mpi, workers=16, n=32768000, seed=123456\n",
      "run: method=mpi, workers=16, n=65536000, seed=123456\n",
      "CPU times: user 110 ms, sys: 318 ms, total: 428 ms\n",
      "Wall time: 1min 37s\n"
     ]
    }
   ],
   "source": [
    "%%time\n",
    "trace_mpi_seed = trace6()"
   ]
  },
  {
   "cell_type": "code",
   "execution_count": 23,
   "metadata": {},
   "outputs": [
    {
     "data": {
      "application/vnd.plotly.v1+json": {
       "data": [
        {
         "mode": "lines+markers",
         "name": "1000 items",
         "type": "scatter",
         "uid": "2da45f90-cedf-11e8-8f4c-4feb54ea2203",
         "x": [
          1,
          2,
          3,
          4,
          5,
          6,
          7,
          8,
          9,
          10,
          11,
          12,
          13,
          14,
          15,
          16,
          17,
          18,
          19,
          20,
          21,
          22,
          23,
          24,
          25,
          26,
          27,
          28,
          29,
          30,
          31,
          32
         ],
         "y": [
          8.4e-05,
          9.6e-05,
          0.000166,
          0.000123,
          7.9e-05,
          0.000127,
          0.000262,
          8.8e-05,
          0.00387,
          0.021615,
          0.016205,
          0.051865,
          0.029603,
          0.057615,
          0.029674,
          0.076987,
          0.065882,
          0.065734,
          0.097648,
          0.07311,
          0.069134,
          0.105487,
          0.061765,
          0.073656,
          0.113642,
          0.065821,
          0.117608,
          0.090987,
          0.074486,
          0.125754,
          0.145063,
          0.125126
         ]
        },
        {
         "mode": "lines+markers",
         "name": "2000 items",
         "type": "scatter",
         "uid": "2da46530-cedf-11e8-8f4c-4feb54ea2203",
         "x": [
          1,
          2,
          3,
          4,
          5,
          6,
          7,
          8,
          9,
          10,
          11,
          12,
          13,
          14,
          15,
          16,
          17,
          18,
          19,
          20,
          21,
          22,
          23,
          24,
          25,
          26,
          27,
          28,
          29,
          30,
          31,
          32
         ],
         "y": [
          0.000163,
          0.00015,
          0.000149,
          0.000505,
          0.00016,
          0.000204,
          0.000169,
          0.000579,
          0.016094,
          0.01557,
          0.027336,
          0.033595,
          0.037751,
          0.041814,
          0.05593,
          0.057727,
          0.044997,
          0.065334,
          0.07237,
          0.065791,
          0.115748,
          0.069535,
          0.057699,
          0.097843,
          0.101726,
          0.097728,
          0.133687,
          0.10186,
          0.109603,
          0.081755,
          0.137791,
          0.125495
         ]
        },
        {
         "mode": "lines+markers",
         "name": "4000 items",
         "type": "scatter",
         "uid": "2da4665c-cedf-11e8-8f4c-4feb54ea2203",
         "x": [
          1,
          2,
          3,
          4,
          5,
          6,
          7,
          8,
          9,
          10,
          11,
          12,
          13,
          14,
          15,
          16,
          17,
          18,
          19,
          20,
          21,
          22,
          23,
          24,
          25,
          26,
          27,
          28,
          29,
          30,
          31,
          32
         ],
         "y": [
          0.000335,
          0.000274,
          0.000258,
          0.000251,
          0.000199,
          0.0002,
          0.000187,
          0.000222,
          0.037674,
          0.015907,
          0.036052,
          0.045669,
          0.037648,
          0.057621,
          0.06975,
          0.061604,
          0.061817,
          0.081604,
          0.065609,
          0.037723,
          0.061834,
          0.06975,
          0.113844,
          0.093046,
          0.105592,
          0.132069,
          0.093658,
          0.094761,
          0.109736,
          0.105659,
          0.105774,
          0.105657
         ]
        },
        {
         "mode": "lines+markers",
         "name": "8000 items",
         "type": "scatter",
         "uid": "2da46742-cedf-11e8-8f4c-4feb54ea2203",
         "x": [
          1,
          2,
          3,
          4,
          5,
          6,
          7,
          8,
          9,
          10,
          11,
          12,
          13,
          14,
          15,
          16,
          17,
          18,
          19,
          20,
          21,
          22,
          23,
          24,
          25,
          26,
          27,
          28,
          29,
          30,
          31,
          32
         ],
         "y": [
          0.000683,
          0.000581,
          0.000417,
          0.000421,
          0.000581,
          0.000543,
          0.000648,
          0.000496,
          0.015915,
          0.045104,
          0.045619,
          0.017035,
          0.033595,
          0.070471,
          0.05377,
          0.08965,
          0.057528,
          0.081527,
          0.05777,
          0.045557,
          0.033564,
          0.097652,
          0.061547,
          0.10152,
          0.081563,
          0.061716,
          0.093012,
          0.103195,
          0.113261,
          0.153652,
          0.09352,
          0.116426
         ]
        },
        {
         "mode": "lines+markers",
         "name": "16000 items",
         "type": "scatter",
         "uid": "2da4681e-cedf-11e8-8f4c-4feb54ea2203",
         "x": [
          1,
          2,
          3,
          4,
          5,
          6,
          7,
          8,
          9,
          10,
          11,
          12,
          13,
          14,
          15,
          16,
          17,
          18,
          19,
          20,
          21,
          22,
          23,
          24,
          25,
          26,
          27,
          28,
          29,
          30,
          31,
          32
         ],
         "y": [
          0.001548,
          0.001189,
          0.000736,
          0.000743,
          0.000736,
          0.000736,
          0.000698,
          0.000745,
          0.029507,
          0.015728,
          0.019812,
          0.041864,
          0.028417,
          0.037467,
          0.04553,
          0.038039,
          0.033454,
          0.1215,
          0.061556,
          0.08954,
          0.093521,
          0.075577,
          0.105523,
          0.093493,
          0.080976,
          0.085553,
          0.073404,
          0.112141,
          0.117551,
          0.113509,
          0.128884,
          0.141459
         ]
        },
        {
         "mode": "lines+markers",
         "name": "32000 items",
         "type": "scatter",
         "uid": "2da468e6-cedf-11e8-8f4c-4feb54ea2203",
         "x": [
          1,
          2,
          3,
          4,
          5,
          6,
          7,
          8,
          9,
          10,
          11,
          12,
          13,
          14,
          15,
          16,
          17,
          18,
          19,
          20,
          21,
          22,
          23,
          24,
          25,
          26,
          27,
          28,
          29,
          30,
          31,
          32
         ],
         "y": [
          0.003134,
          0.002041,
          0.001763,
          0.001686,
          0.001689,
          0.001734,
          0.001691,
          0.001688,
          0.015381,
          0.01588,
          0.033204,
          0.029339,
          0.029347,
          0.057365,
          0.045458,
          0.048439,
          0.037442,
          0.065008,
          0.064374,
          0.059737,
          0.068815,
          0.085191,
          0.069165,
          0.089401,
          0.088434,
          0.113468,
          0.093148,
          0.097402,
          0.096844,
          0.109296,
          0.105099,
          0.088721
         ]
        },
        {
         "mode": "lines+markers",
         "name": "64000 items",
         "type": "scatter",
         "uid": "2da469a4-cedf-11e8-8f4c-4feb54ea2203",
         "x": [
          1,
          2,
          3,
          4,
          5,
          6,
          7,
          8,
          9,
          10,
          11,
          12,
          13,
          14,
          15,
          16,
          17,
          18,
          19,
          20,
          21,
          22,
          23,
          24,
          25,
          26,
          27,
          28,
          29,
          30,
          31,
          32
         ],
         "y": [
          0.006822,
          0.00715,
          0.005698,
          0.005672,
          0.003703,
          0.004019,
          0.003697,
          0.003778,
          0.012523,
          0.015258,
          0.023149,
          0.052818,
          0.041012,
          0.052811,
          0.057067,
          0.084842,
          0.037757,
          0.068787,
          0.068827,
          0.060879,
          0.079976,
          0.09682,
          0.061073,
          0.136886,
          0.119966,
          0.092913,
          0.076671,
          0.128995,
          0.112771,
          0.104841,
          0.132789,
          0.140823
         ]
        }
       ],
       "layout": {
        "showlegend": true,
        "title": "plot 5 of quick sort<br>mpi<br>fixed test size",
        "xaxis": {
         "title": "number of procs"
        },
        "yaxis": {
         "title": "runtime(s)"
        }
       }
      },
      "text/html": [
       "<div id=\"bdc7a92c-26c7-49b6-afba-5a4687d4e7bd\" style=\"height: 525px; width: 100%;\" class=\"plotly-graph-div\"></div><script type=\"text/javascript\">require([\"plotly\"], function(Plotly) { window.PLOTLYENV=window.PLOTLYENV || {};window.PLOTLYENV.BASE_URL=\"https://plot.ly\";Plotly.newPlot(\"bdc7a92c-26c7-49b6-afba-5a4687d4e7bd\", [{\"mode\": \"lines+markers\", \"name\": \"1000 items\", \"x\": [1, 2, 3, 4, 5, 6, 7, 8, 9, 10, 11, 12, 13, 14, 15, 16, 17, 18, 19, 20, 21, 22, 23, 24, 25, 26, 27, 28, 29, 30, 31, 32], \"y\": [8.4e-05, 9.6e-05, 0.000166, 0.000123, 7.9e-05, 0.000127, 0.000262, 8.8e-05, 0.00387, 0.021615, 0.016205, 0.051865, 0.029603, 0.057615, 0.029674, 0.076987, 0.065882, 0.065734, 0.097648, 0.07311, 0.069134, 0.105487, 0.061765, 0.073656, 0.113642, 0.065821, 0.117608, 0.090987, 0.074486, 0.125754, 0.145063, 0.125126], \"type\": \"scatter\", \"uid\": \"2da923e0-cedf-11e8-8f4c-4feb54ea2203\"}, {\"mode\": \"lines+markers\", \"name\": \"2000 items\", \"x\": [1, 2, 3, 4, 5, 6, 7, 8, 9, 10, 11, 12, 13, 14, 15, 16, 17, 18, 19, 20, 21, 22, 23, 24, 25, 26, 27, 28, 29, 30, 31, 32], \"y\": [0.000163, 0.00015, 0.000149, 0.000505, 0.00016, 0.000204, 0.000169, 0.000579, 0.016094, 0.01557, 0.027336, 0.033595, 0.037751, 0.041814, 0.05593, 0.057727, 0.044997, 0.065334, 0.07237, 0.065791, 0.115748, 0.069535, 0.057699, 0.097843, 0.101726, 0.097728, 0.133687, 0.10186, 0.109603, 0.081755, 0.137791, 0.125495], \"type\": \"scatter\", \"uid\": \"2da92674-cedf-11e8-8f4c-4feb54ea2203\"}, {\"mode\": \"lines+markers\", \"name\": \"4000 items\", \"x\": [1, 2, 3, 4, 5, 6, 7, 8, 9, 10, 11, 12, 13, 14, 15, 16, 17, 18, 19, 20, 21, 22, 23, 24, 25, 26, 27, 28, 29, 30, 31, 32], \"y\": [0.000335, 0.000274, 0.000258, 0.000251, 0.000199, 0.0002, 0.000187, 0.000222, 0.037674, 0.015907, 0.036052, 0.045669, 0.037648, 0.057621, 0.06975, 0.061604, 0.061817, 0.081604, 0.065609, 0.037723, 0.061834, 0.06975, 0.113844, 0.093046, 0.105592, 0.132069, 0.093658, 0.094761, 0.109736, 0.105659, 0.105774, 0.105657], \"type\": \"scatter\", \"uid\": \"2da9273c-cedf-11e8-8f4c-4feb54ea2203\"}, {\"mode\": \"lines+markers\", \"name\": \"8000 items\", \"x\": [1, 2, 3, 4, 5, 6, 7, 8, 9, 10, 11, 12, 13, 14, 15, 16, 17, 18, 19, 20, 21, 22, 23, 24, 25, 26, 27, 28, 29, 30, 31, 32], \"y\": [0.000683, 0.000581, 0.000417, 0.000421, 0.000581, 0.000543, 0.000648, 0.000496, 0.015915, 0.045104, 0.045619, 0.017035, 0.033595, 0.070471, 0.05377, 0.08965, 0.057528, 0.081527, 0.05777, 0.045557, 0.033564, 0.097652, 0.061547, 0.10152, 0.081563, 0.061716, 0.093012, 0.103195, 0.113261, 0.153652, 0.09352, 0.116426], \"type\": \"scatter\", \"uid\": \"2da927dc-cedf-11e8-8f4c-4feb54ea2203\"}, {\"mode\": \"lines+markers\", \"name\": \"16000 items\", \"x\": [1, 2, 3, 4, 5, 6, 7, 8, 9, 10, 11, 12, 13, 14, 15, 16, 17, 18, 19, 20, 21, 22, 23, 24, 25, 26, 27, 28, 29, 30, 31, 32], \"y\": [0.001548, 0.001189, 0.000736, 0.000743, 0.000736, 0.000736, 0.000698, 0.000745, 0.029507, 0.015728, 0.019812, 0.041864, 0.028417, 0.037467, 0.04553, 0.038039, 0.033454, 0.1215, 0.061556, 0.08954, 0.093521, 0.075577, 0.105523, 0.093493, 0.080976, 0.085553, 0.073404, 0.112141, 0.117551, 0.113509, 0.128884, 0.141459], \"type\": \"scatter\", \"uid\": \"2da92868-cedf-11e8-8f4c-4feb54ea2203\"}, {\"mode\": \"lines+markers\", \"name\": \"32000 items\", \"x\": [1, 2, 3, 4, 5, 6, 7, 8, 9, 10, 11, 12, 13, 14, 15, 16, 17, 18, 19, 20, 21, 22, 23, 24, 25, 26, 27, 28, 29, 30, 31, 32], \"y\": [0.003134, 0.002041, 0.001763, 0.001686, 0.001689, 0.001734, 0.001691, 0.001688, 0.015381, 0.01588, 0.033204, 0.029339, 0.029347, 0.057365, 0.045458, 0.048439, 0.037442, 0.065008, 0.064374, 0.059737, 0.068815, 0.085191, 0.069165, 0.089401, 0.088434, 0.113468, 0.093148, 0.097402, 0.096844, 0.109296, 0.105099, 0.088721], \"type\": \"scatter\", \"uid\": \"2da928f4-cedf-11e8-8f4c-4feb54ea2203\"}, {\"mode\": \"lines+markers\", \"name\": \"64000 items\", \"x\": [1, 2, 3, 4, 5, 6, 7, 8, 9, 10, 11, 12, 13, 14, 15, 16, 17, 18, 19, 20, 21, 22, 23, 24, 25, 26, 27, 28, 29, 30, 31, 32], \"y\": [0.006822, 0.00715, 0.005698, 0.005672, 0.003703, 0.004019, 0.003697, 0.003778, 0.012523, 0.015258, 0.023149, 0.052818, 0.041012, 0.052811, 0.057067, 0.084842, 0.037757, 0.068787, 0.068827, 0.060879, 0.079976, 0.09682, 0.061073, 0.136886, 0.119966, 0.092913, 0.076671, 0.128995, 0.112771, 0.104841, 0.132789, 0.140823], \"type\": \"scatter\", \"uid\": \"2da92976-cedf-11e8-8f4c-4feb54ea2203\"}], {\"showlegend\": true, \"title\": \"plot 5 of quick sort<br>mpi<br>fixed test size\", \"xaxis\": {\"title\": \"number of procs\"}, \"yaxis\": {\"title\": \"runtime(s)\"}}, {\"showLink\": true, \"linkText\": \"Export to plot.ly\"})});</script>"
      ],
      "text/vnd.plotly.v1+html": [
       "<div id=\"bdc7a92c-26c7-49b6-afba-5a4687d4e7bd\" style=\"height: 525px; width: 100%;\" class=\"plotly-graph-div\"></div><script type=\"text/javascript\">require([\"plotly\"], function(Plotly) { window.PLOTLYENV=window.PLOTLYENV || {};window.PLOTLYENV.BASE_URL=\"https://plot.ly\";Plotly.newPlot(\"bdc7a92c-26c7-49b6-afba-5a4687d4e7bd\", [{\"mode\": \"lines+markers\", \"name\": \"1000 items\", \"x\": [1, 2, 3, 4, 5, 6, 7, 8, 9, 10, 11, 12, 13, 14, 15, 16, 17, 18, 19, 20, 21, 22, 23, 24, 25, 26, 27, 28, 29, 30, 31, 32], \"y\": [8.4e-05, 9.6e-05, 0.000166, 0.000123, 7.9e-05, 0.000127, 0.000262, 8.8e-05, 0.00387, 0.021615, 0.016205, 0.051865, 0.029603, 0.057615, 0.029674, 0.076987, 0.065882, 0.065734, 0.097648, 0.07311, 0.069134, 0.105487, 0.061765, 0.073656, 0.113642, 0.065821, 0.117608, 0.090987, 0.074486, 0.125754, 0.145063, 0.125126], \"type\": \"scatter\", \"uid\": \"2da923e0-cedf-11e8-8f4c-4feb54ea2203\"}, {\"mode\": \"lines+markers\", \"name\": \"2000 items\", \"x\": [1, 2, 3, 4, 5, 6, 7, 8, 9, 10, 11, 12, 13, 14, 15, 16, 17, 18, 19, 20, 21, 22, 23, 24, 25, 26, 27, 28, 29, 30, 31, 32], \"y\": [0.000163, 0.00015, 0.000149, 0.000505, 0.00016, 0.000204, 0.000169, 0.000579, 0.016094, 0.01557, 0.027336, 0.033595, 0.037751, 0.041814, 0.05593, 0.057727, 0.044997, 0.065334, 0.07237, 0.065791, 0.115748, 0.069535, 0.057699, 0.097843, 0.101726, 0.097728, 0.133687, 0.10186, 0.109603, 0.081755, 0.137791, 0.125495], \"type\": \"scatter\", \"uid\": \"2da92674-cedf-11e8-8f4c-4feb54ea2203\"}, {\"mode\": \"lines+markers\", \"name\": \"4000 items\", \"x\": [1, 2, 3, 4, 5, 6, 7, 8, 9, 10, 11, 12, 13, 14, 15, 16, 17, 18, 19, 20, 21, 22, 23, 24, 25, 26, 27, 28, 29, 30, 31, 32], \"y\": [0.000335, 0.000274, 0.000258, 0.000251, 0.000199, 0.0002, 0.000187, 0.000222, 0.037674, 0.015907, 0.036052, 0.045669, 0.037648, 0.057621, 0.06975, 0.061604, 0.061817, 0.081604, 0.065609, 0.037723, 0.061834, 0.06975, 0.113844, 0.093046, 0.105592, 0.132069, 0.093658, 0.094761, 0.109736, 0.105659, 0.105774, 0.105657], \"type\": \"scatter\", \"uid\": \"2da9273c-cedf-11e8-8f4c-4feb54ea2203\"}, {\"mode\": \"lines+markers\", \"name\": \"8000 items\", \"x\": [1, 2, 3, 4, 5, 6, 7, 8, 9, 10, 11, 12, 13, 14, 15, 16, 17, 18, 19, 20, 21, 22, 23, 24, 25, 26, 27, 28, 29, 30, 31, 32], \"y\": [0.000683, 0.000581, 0.000417, 0.000421, 0.000581, 0.000543, 0.000648, 0.000496, 0.015915, 0.045104, 0.045619, 0.017035, 0.033595, 0.070471, 0.05377, 0.08965, 0.057528, 0.081527, 0.05777, 0.045557, 0.033564, 0.097652, 0.061547, 0.10152, 0.081563, 0.061716, 0.093012, 0.103195, 0.113261, 0.153652, 0.09352, 0.116426], \"type\": \"scatter\", \"uid\": \"2da927dc-cedf-11e8-8f4c-4feb54ea2203\"}, {\"mode\": \"lines+markers\", \"name\": \"16000 items\", \"x\": [1, 2, 3, 4, 5, 6, 7, 8, 9, 10, 11, 12, 13, 14, 15, 16, 17, 18, 19, 20, 21, 22, 23, 24, 25, 26, 27, 28, 29, 30, 31, 32], \"y\": [0.001548, 0.001189, 0.000736, 0.000743, 0.000736, 0.000736, 0.000698, 0.000745, 0.029507, 0.015728, 0.019812, 0.041864, 0.028417, 0.037467, 0.04553, 0.038039, 0.033454, 0.1215, 0.061556, 0.08954, 0.093521, 0.075577, 0.105523, 0.093493, 0.080976, 0.085553, 0.073404, 0.112141, 0.117551, 0.113509, 0.128884, 0.141459], \"type\": \"scatter\", \"uid\": \"2da92868-cedf-11e8-8f4c-4feb54ea2203\"}, {\"mode\": \"lines+markers\", \"name\": \"32000 items\", \"x\": [1, 2, 3, 4, 5, 6, 7, 8, 9, 10, 11, 12, 13, 14, 15, 16, 17, 18, 19, 20, 21, 22, 23, 24, 25, 26, 27, 28, 29, 30, 31, 32], \"y\": [0.003134, 0.002041, 0.001763, 0.001686, 0.001689, 0.001734, 0.001691, 0.001688, 0.015381, 0.01588, 0.033204, 0.029339, 0.029347, 0.057365, 0.045458, 0.048439, 0.037442, 0.065008, 0.064374, 0.059737, 0.068815, 0.085191, 0.069165, 0.089401, 0.088434, 0.113468, 0.093148, 0.097402, 0.096844, 0.109296, 0.105099, 0.088721], \"type\": \"scatter\", \"uid\": \"2da928f4-cedf-11e8-8f4c-4feb54ea2203\"}, {\"mode\": \"lines+markers\", \"name\": \"64000 items\", \"x\": [1, 2, 3, 4, 5, 6, 7, 8, 9, 10, 11, 12, 13, 14, 15, 16, 17, 18, 19, 20, 21, 22, 23, 24, 25, 26, 27, 28, 29, 30, 31, 32], \"y\": [0.006822, 0.00715, 0.005698, 0.005672, 0.003703, 0.004019, 0.003697, 0.003778, 0.012523, 0.015258, 0.023149, 0.052818, 0.041012, 0.052811, 0.057067, 0.084842, 0.037757, 0.068787, 0.068827, 0.060879, 0.079976, 0.09682, 0.061073, 0.136886, 0.119966, 0.092913, 0.076671, 0.128995, 0.112771, 0.104841, 0.132789, 0.140823], \"type\": \"scatter\", \"uid\": \"2da92976-cedf-11e8-8f4c-4feb54ea2203\"}], {\"showlegend\": true, \"title\": \"plot 5 of quick sort<br>mpi<br>fixed test size\", \"xaxis\": {\"title\": \"number of procs\"}, \"yaxis\": {\"title\": \"runtime(s)\"}}, {\"showLink\": true, \"linkText\": \"Export to plot.ly\"})});</script>"
      ]
     },
     "metadata": {},
     "output_type": "display_data"
    },
    {
     "data": {
      "application/vnd.plotly.v1+json": {
       "data": [
        {
         "mode": "lines+markers",
         "name": "1 procs",
         "type": "scatter",
         "uid": "2daf39d8-cedf-11e8-8f4c-4feb54ea2203",
         "x": [
          1000,
          2000,
          4000,
          8000,
          16000,
          32000,
          64000,
          128000,
          256000,
          512000,
          1024000,
          2048000,
          4096000,
          8192000,
          16384000,
          32768000,
          65536000
         ],
         "y": [
          7.9e-05,
          0.000156,
          0.00034,
          0.000698,
          0.001476,
          0.003378,
          0.006598,
          0.014055,
          0.029563,
          0.066422,
          0.137445,
          0.276768,
          0.590444,
          1.193168,
          2.508147,
          5.290516,
          11.033717
         ]
        },
        {
         "mode": "lines+markers",
         "name": "2 procs",
         "type": "scatter",
         "uid": "2daf3b9a-cedf-11e8-8f4c-4feb54ea2203",
         "x": [
          1000,
          2000,
          4000,
          8000,
          16000,
          32000,
          64000,
          128000,
          256000,
          512000,
          1024000,
          2048000,
          4096000,
          8192000,
          16384000,
          32768000,
          65536000
         ],
         "y": [
          0.000128,
          0.000179,
          0.00022,
          0.000571,
          0.001188,
          0.001996,
          0.006447,
          0.009748,
          0.029272,
          0.056022,
          0.121763,
          0.165115,
          0.589711,
          1.098798,
          1.862412,
          4.378757,
          7.826914
         ]
        },
        {
         "mode": "lines+markers",
         "name": "4 procs",
         "type": "scatter",
         "uid": "2daf3c58-cedf-11e8-8f4c-4feb54ea2203",
         "x": [
          1000,
          2000,
          4000,
          8000,
          16000,
          32000,
          64000,
          128000,
          256000,
          512000,
          1024000,
          2048000,
          4096000,
          8192000,
          16384000,
          32768000,
          65536000
         ],
         "y": [
          0.000139,
          0.000154,
          0.000206,
          0.000413,
          0.000756,
          0.00171,
          0.005653,
          0.008748,
          0.025616,
          0.037028,
          0.09746,
          0.137844,
          0.347927,
          0.633635,
          1.609903,
          4.058308,
          5.634346
         ]
        },
        {
         "mode": "lines+markers",
         "name": "8 procs",
         "type": "scatter",
         "uid": "2daf3cee-cedf-11e8-8f4c-4feb54ea2203",
         "x": [
          1000,
          2000,
          4000,
          8000,
          16000,
          32000,
          64000,
          128000,
          256000,
          512000,
          1024000,
          2048000,
          4096000,
          8192000,
          16384000,
          32768000,
          65536000
         ],
         "y": [
          0.000666,
          0.000553,
          0.000185,
          0.000406,
          0.000702,
          0.001693,
          0.003739,
          0.008393,
          0.022124,
          0.026836,
          0.06678,
          0.102235,
          0.264407,
          0.525027,
          1.112121,
          2.936229,
          5.100094
         ]
        },
        {
         "mode": "lines+markers",
         "name": "16 procs",
         "type": "scatter",
         "uid": "2daf3d7a-cedf-11e8-8f4c-4feb54ea2203",
         "x": [
          1000,
          2000,
          4000,
          8000,
          16000,
          32000,
          64000,
          128000,
          256000,
          512000,
          1024000,
          2048000,
          4096000,
          8192000,
          16384000,
          32768000,
          65536000
         ],
         "y": [
          0.056856,
          0.033683,
          0.057336,
          0.025643,
          0.033574,
          0.069122,
          0.064964,
          0.084155,
          0.075653,
          0.094581,
          0.218951,
          0.436912,
          0.636969,
          1.219655,
          3.838387,
          5.12903,
          8.52238
         ]
        }
       ],
       "layout": {
        "showlegend": true,
        "title": "plot 6 of quick sort<br>mpi<br>fixed seed: 123456",
        "xaxis": {
         "title": "size of test"
        },
        "yaxis": {
         "title": "runtime(s)"
        }
       }
      },
      "text/html": [
       "<div id=\"0aed98e5-95b5-4099-84ba-3a94efbd8ae2\" style=\"height: 525px; width: 100%;\" class=\"plotly-graph-div\"></div><script type=\"text/javascript\">require([\"plotly\"], function(Plotly) { window.PLOTLYENV=window.PLOTLYENV || {};window.PLOTLYENV.BASE_URL=\"https://plot.ly\";Plotly.newPlot(\"0aed98e5-95b5-4099-84ba-3a94efbd8ae2\", [{\"mode\": \"lines+markers\", \"name\": \"1 procs\", \"x\": [1000, 2000, 4000, 8000, 16000, 32000, 64000, 128000, 256000, 512000, 1024000, 2048000, 4096000, 8192000, 16384000, 32768000, 65536000], \"y\": [7.9e-05, 0.000156, 0.00034, 0.000698, 0.001476, 0.003378, 0.006598, 0.014055, 0.029563, 0.066422, 0.137445, 0.276768, 0.590444, 1.193168, 2.508147, 5.290516, 11.033717], \"type\": \"scatter\", \"uid\": \"2dbf217c-cedf-11e8-8f4c-4feb54ea2203\"}, {\"mode\": \"lines+markers\", \"name\": \"2 procs\", \"x\": [1000, 2000, 4000, 8000, 16000, 32000, 64000, 128000, 256000, 512000, 1024000, 2048000, 4096000, 8192000, 16384000, 32768000, 65536000], \"y\": [0.000128, 0.000179, 0.00022, 0.000571, 0.001188, 0.001996, 0.006447, 0.009748, 0.029272, 0.056022, 0.121763, 0.165115, 0.589711, 1.098798, 1.862412, 4.378757, 7.826914], \"type\": \"scatter\", \"uid\": \"2dbf2366-cedf-11e8-8f4c-4feb54ea2203\"}, {\"mode\": \"lines+markers\", \"name\": \"4 procs\", \"x\": [1000, 2000, 4000, 8000, 16000, 32000, 64000, 128000, 256000, 512000, 1024000, 2048000, 4096000, 8192000, 16384000, 32768000, 65536000], \"y\": [0.000139, 0.000154, 0.000206, 0.000413, 0.000756, 0.00171, 0.005653, 0.008748, 0.025616, 0.037028, 0.09746, 0.137844, 0.347927, 0.633635, 1.609903, 4.058308, 5.634346], \"type\": \"scatter\", \"uid\": \"2dbf2424-cedf-11e8-8f4c-4feb54ea2203\"}, {\"mode\": \"lines+markers\", \"name\": \"8 procs\", \"x\": [1000, 2000, 4000, 8000, 16000, 32000, 64000, 128000, 256000, 512000, 1024000, 2048000, 4096000, 8192000, 16384000, 32768000, 65536000], \"y\": [0.000666, 0.000553, 0.000185, 0.000406, 0.000702, 0.001693, 0.003739, 0.008393, 0.022124, 0.026836, 0.06678, 0.102235, 0.264407, 0.525027, 1.112121, 2.936229, 5.100094], \"type\": \"scatter\", \"uid\": \"2dbf24ba-cedf-11e8-8f4c-4feb54ea2203\"}, {\"mode\": \"lines+markers\", \"name\": \"16 procs\", \"x\": [1000, 2000, 4000, 8000, 16000, 32000, 64000, 128000, 256000, 512000, 1024000, 2048000, 4096000, 8192000, 16384000, 32768000, 65536000], \"y\": [0.056856, 0.033683, 0.057336, 0.025643, 0.033574, 0.069122, 0.064964, 0.084155, 0.075653, 0.094581, 0.218951, 0.436912, 0.636969, 1.219655, 3.838387, 5.12903, 8.52238], \"type\": \"scatter\", \"uid\": \"2dbf2546-cedf-11e8-8f4c-4feb54ea2203\"}], {\"showlegend\": true, \"title\": \"plot 6 of quick sort<br>mpi<br>fixed seed: 123456\", \"xaxis\": {\"title\": \"size of test\"}, \"yaxis\": {\"title\": \"runtime(s)\"}}, {\"showLink\": true, \"linkText\": \"Export to plot.ly\"})});</script>"
      ],
      "text/vnd.plotly.v1+html": [
       "<div id=\"0aed98e5-95b5-4099-84ba-3a94efbd8ae2\" style=\"height: 525px; width: 100%;\" class=\"plotly-graph-div\"></div><script type=\"text/javascript\">require([\"plotly\"], function(Plotly) { window.PLOTLYENV=window.PLOTLYENV || {};window.PLOTLYENV.BASE_URL=\"https://plot.ly\";Plotly.newPlot(\"0aed98e5-95b5-4099-84ba-3a94efbd8ae2\", [{\"mode\": \"lines+markers\", \"name\": \"1 procs\", \"x\": [1000, 2000, 4000, 8000, 16000, 32000, 64000, 128000, 256000, 512000, 1024000, 2048000, 4096000, 8192000, 16384000, 32768000, 65536000], \"y\": [7.9e-05, 0.000156, 0.00034, 0.000698, 0.001476, 0.003378, 0.006598, 0.014055, 0.029563, 0.066422, 0.137445, 0.276768, 0.590444, 1.193168, 2.508147, 5.290516, 11.033717], \"type\": \"scatter\", \"uid\": \"2dbf217c-cedf-11e8-8f4c-4feb54ea2203\"}, {\"mode\": \"lines+markers\", \"name\": \"2 procs\", \"x\": [1000, 2000, 4000, 8000, 16000, 32000, 64000, 128000, 256000, 512000, 1024000, 2048000, 4096000, 8192000, 16384000, 32768000, 65536000], \"y\": [0.000128, 0.000179, 0.00022, 0.000571, 0.001188, 0.001996, 0.006447, 0.009748, 0.029272, 0.056022, 0.121763, 0.165115, 0.589711, 1.098798, 1.862412, 4.378757, 7.826914], \"type\": \"scatter\", \"uid\": \"2dbf2366-cedf-11e8-8f4c-4feb54ea2203\"}, {\"mode\": \"lines+markers\", \"name\": \"4 procs\", \"x\": [1000, 2000, 4000, 8000, 16000, 32000, 64000, 128000, 256000, 512000, 1024000, 2048000, 4096000, 8192000, 16384000, 32768000, 65536000], \"y\": [0.000139, 0.000154, 0.000206, 0.000413, 0.000756, 0.00171, 0.005653, 0.008748, 0.025616, 0.037028, 0.09746, 0.137844, 0.347927, 0.633635, 1.609903, 4.058308, 5.634346], \"type\": \"scatter\", \"uid\": \"2dbf2424-cedf-11e8-8f4c-4feb54ea2203\"}, {\"mode\": \"lines+markers\", \"name\": \"8 procs\", \"x\": [1000, 2000, 4000, 8000, 16000, 32000, 64000, 128000, 256000, 512000, 1024000, 2048000, 4096000, 8192000, 16384000, 32768000, 65536000], \"y\": [0.000666, 0.000553, 0.000185, 0.000406, 0.000702, 0.001693, 0.003739, 0.008393, 0.022124, 0.026836, 0.06678, 0.102235, 0.264407, 0.525027, 1.112121, 2.936229, 5.100094], \"type\": \"scatter\", \"uid\": \"2dbf24ba-cedf-11e8-8f4c-4feb54ea2203\"}, {\"mode\": \"lines+markers\", \"name\": \"16 procs\", \"x\": [1000, 2000, 4000, 8000, 16000, 32000, 64000, 128000, 256000, 512000, 1024000, 2048000, 4096000, 8192000, 16384000, 32768000, 65536000], \"y\": [0.056856, 0.033683, 0.057336, 0.025643, 0.033574, 0.069122, 0.064964, 0.084155, 0.075653, 0.094581, 0.218951, 0.436912, 0.636969, 1.219655, 3.838387, 5.12903, 8.52238], \"type\": \"scatter\", \"uid\": \"2dbf2546-cedf-11e8-8f4c-4feb54ea2203\"}], {\"showlegend\": true, \"title\": \"plot 6 of quick sort<br>mpi<br>fixed seed: 123456\", \"xaxis\": {\"title\": \"size of test\"}, \"yaxis\": {\"title\": \"runtime(s)\"}}, {\"showLink\": true, \"linkText\": \"Export to plot.ly\"})});</script>"
      ]
     },
     "metadata": {},
     "output_type": "display_data"
    }
   ],
   "source": [
    "iplot({\n",
    "    \"data\": trace_mpi_testsize,\n",
    "    \"layout\": go.Layout(title=\"plot 5 of quick sort<br>mpi<br>fixed test size\", \n",
    "                        xaxis=dict(title='number of procs'),\n",
    "                        yaxis=dict(title='runtime(s)'),\n",
    "                        showlegend=True,\n",
    "                       )\n",
    "})\n",
    "\n",
    "iplot({\n",
    "    \"data\": trace_mpi_seed,\n",
    "    \"layout\": go.Layout(title=\"plot 6 of quick sort<br>mpi<br>fixed seed: 123456\", \n",
    "                        xaxis=dict(title='size of test'),\n",
    "                        yaxis=dict(title='runtime(s)'),\n",
    "                        showlegend=True,\n",
    "                       )\n",
    "})"
   ]
  }
 ],
 "metadata": {
  "kernelspec": {
   "display_name": "Python 3",
   "language": "python",
   "name": "python3"
  },
  "language_info": {
   "codemirror_mode": {
    "name": "ipython",
    "version": 3
   },
   "file_extension": ".py",
   "mimetype": "text/x-python",
   "name": "python",
   "nbconvert_exporter": "python",
   "pygments_lexer": "ipython3",
   "version": "3.7.0"
  }
 },
 "nbformat": 4,
 "nbformat_minor": 2
}
