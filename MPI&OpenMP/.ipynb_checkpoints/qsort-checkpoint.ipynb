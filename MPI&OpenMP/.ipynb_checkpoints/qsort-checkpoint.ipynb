{
 "cells": [
  {
   "cell_type": "markdown",
   "metadata": {},
   "source": [
    "# 选题介绍 - 快速排序\n",
    "\n",
    "## 小组成员\n",
    "\n",
    "- 计1504 41416058 徐经纬\n",
    "- 计1504 41524206 李凯\n",
    "- 计1504 41524208 李鸿卓\n",
    "- 计1504 41524201 朱柯佳\n",
    "- 计1502 61562034 艾万\n"
   ]
  },
  {
   "cell_type": "markdown",
   "metadata": {},
   "source": [
    "## 朴素快速排序算法\n",
    "\n",
    "\n",
    "众所周知的基于分治思想的排序算法，朴素的实现上，最优时间复杂度为$O(nlogn)$，最坏时间复杂度可以被卡到$O(n^2)$\n",
    "\n",
    "以下针对整形数组来介绍和探究快速排序算法的应用和扩展\n",
    "\n",
    "主要算法步骤：\n",
    "\n",
    "- 从数组中选择一个目标值aim，按照下面的方式划分数组：\n",
    "    \n",
    "    - 所有小于aim的元素都划分到aim的左侧\n",
    "    \n",
    "    - 所有不小于aim的元素都划分到aim的右侧\n",
    "\n",
    "- 递归对左右两部分分别进行上一步操作，直至整个数组处理完成"
   ]
  },
  {
   "cell_type": "markdown",
   "metadata": {},
   "source": [
    "### 一个简单的例子\n",
    "\n",
    "    8 5 7 3 9    - 选择目标值为7\n",
    "\n",
    "    7 5 8 3 9    - 将目标位置和当前最左边位置互换，令left=1(val=5), right=5(val=9)\n",
    "\n",
    "    7 5 8 3 9    - 右移left，左移right至满足交换条件：left=3(val=8), right=4(val=3), 交换两个位置的值\n",
    "\n",
    "    7 5 3 8 9    - left=4 > right=3, 结束交换，交换right位置和最左边位置\n",
    "\n",
    "    3 5 7 8 9    - 对[3 5]和[8 9]两部分递归进行处理\n",
    "    \n",
    "    3 5 7 8 9    - 完成排序"
   ]
  },
  {
   "cell_type": "markdown",
   "metadata": {},
   "source": [
    "### 优化\n",
    "\n",
    "主要算法步骤：\n",
    "\n",
    "- 从数组中选择一个目标值aim，按照下面的方式划分数组：\n",
    "    \n",
    "    - 所有小于aim的元素都划分到aim的左侧\n",
    "    \n",
    "    - 所有不小于aim的元素都划分到aim的右侧\n",
    "\n",
    "- 递归对左右两部分分别进行上一步操作，直至整个数组处理完成\n",
    "\n",
    "主要优化点：\n",
    "\n",
    "- [x] 目标位置选取优化：对于固定选取最左边位置，完全逆序数据会被卡到最差复杂度 => 结论：固定目标位置的选取都是不优秀的\n",
    "- [x] 划分方式优化：对于朴素二分方式，完全相同数据会被卡到最差复杂度 => 结论：对于存在大量相同数据的数据集，朴素二分方式是不优秀的\n"
   ]
  },
  {
   "cell_type": "markdown",
   "metadata": {},
   "source": [
    "```cpp\n",
    "using namespace std;\n",
    "typedef pair<int, int> P;\n",
    "\n",
    "P partition(int a[], int l, int r) {\n",
    "\tif (l >= r) return P(l, r);\n",
    "\tint cur = l;\n",
    "\tint left = l;\n",
    "\tint right = r;\n",
    "\tint p = rand() % (r - l + 1);\n",
    "\tint aim = a[l + p];\n",
    "\tswap(a[l + p], a[l]);\n",
    "\twhile (cur <= right) {\n",
    "\t\tif (a[cur] == aim) cur++;\n",
    "\t\telse if (a[cur] < aim) swap(a[cur++], a[left++]);\n",
    "\t\telse swap(a[cur], a[right--]);\n",
    "\t}\n",
    "\treturn P(left, right);\n",
    "}\n",
    "\n",
    "void qsort(int a[], int l, int r) {\n",
    "\tif (l >= r) return;\n",
    "\tP ret = partition(a, l, r);\n",
    "    int left = ret.first, right = ret.second;\n",
    "\tqsort(a, l, left - 1);\n",
    "\tqsort(a, right + 1, r);\n",
    "}\n",
    "```\n",
    "\n",
    "- $a[l...left - 1] < aim$\n",
    "- $a[left...right] = aim$\n",
    "- $a[right+ 1...r] > aim$"
   ]
  },
  {
   "cell_type": "code",
   "execution_count": 1,
   "metadata": {},
   "outputs": [],
   "source": [
    "import subprocess\n",
    "def run(method, workers, testSize, seed, compiled=True):\n",
    "    if method not in ['naive', 'openmp', 'mpi']:\n",
    "        raise ValueError(method)\n",
    "    # print(\"run: method={}, workers={}, n={}, seed={}\".format(method, workers, testSize, seed))\n",
    "    script = './run-{}.sh'.format(method)\n",
    "    cmd = [script, '-w {}'.format(workers), '-n {}'.format(testSize), '-s {}'.format(seed), ]\n",
    "    if not compiled:\n",
    "        cmd.append('-c')\n",
    "    return float(subprocess.check_output(cmd))"
   ]
  },
  {
   "cell_type": "code",
   "execution_count": 2,
   "metadata": {},
   "outputs": [
    {
     "data": {
      "text/plain": [
       "5.188803"
      ]
     },
     "execution_count": 2,
     "metadata": {},
     "output_type": "execute_result"
    }
   ],
   "source": [
    "run('naive', 2, 10000000, 4516)"
   ]
  },
  {
   "cell_type": "code",
   "execution_count": 3,
   "metadata": {},
   "outputs": [
    {
     "data": {
      "text/plain": [
       "3.395418"
      ]
     },
     "execution_count": 3,
     "metadata": {},
     "output_type": "execute_result"
    }
   ],
   "source": [
    "run('openmp', 2, 10000000, 4516)"
   ]
  },
  {
   "cell_type": "code",
   "execution_count": 4,
   "metadata": {},
   "outputs": [
    {
     "data": {
      "text/plain": [
       "3.239426"
      ]
     },
     "execution_count": 4,
     "metadata": {},
     "output_type": "execute_result"
    }
   ],
   "source": [
    "run(\"mpi\", 2, 10000000, 4516)"
   ]
  },
  {
   "cell_type": "code",
   "execution_count": 8,
   "metadata": {},
   "outputs": [
    {
     "data": {
      "text/html": [
       "<script>requirejs.config({paths: { 'plotly': ['https://cdn.plot.ly/plotly-latest.min']},});if(!window.Plotly) {{require(['plotly'],function(plotly) {window.Plotly=plotly;});}}</script>"
      ],
      "text/vnd.plotly.v1+html": [
       "<script>requirejs.config({paths: { 'plotly': ['https://cdn.plot.ly/plotly-latest.min']},});if(!window.Plotly) {{require(['plotly'],function(plotly) {window.Plotly=plotly;});}}</script>"
      ]
     },
     "metadata": {},
     "output_type": "display_data"
    }
   ],
   "source": [
    "import math\n",
    "import random\n",
    "import plotly.plotly\n",
    "import plotly.graph_objs as go\n",
    "from plotly.offline import iplot, init_notebook_mode\n",
    "\n",
    "init_notebook_mode(connected=True)\n",
    "\n",
    "def trace1():\n",
    "    testSize = int(5e6)\n",
    "    seed = [i - 1 for i in range(20)]\n",
    "    y = []\n",
    "    for i in seed:\n",
    "        timeInSec = run('naive', 1, testSize, i)\n",
    "        y.append(timeInSec)\n",
    "\n",
    "    return go.Scatter(x=seed, y=y, mode='lines+markers', name='fixed test size')\n",
    "\n",
    "def trace2():\n",
    "    seed = 123456\n",
    "    y = []\n",
    "    testSize = [1000, ]\n",
    "    for i in range(16):\n",
    "        testSize.append(testSize[-1] * 2)\n",
    "    \n",
    "    for i in testSize:\n",
    "        timeInSec = run('naive', 1, i, seed)\n",
    "        y.append(timeInSec)\n",
    "\n",
    "    return go.Scatter(x=testSize, y=y, mode='lines+markers', name='fixed seed')"
   ]
  },
  {
   "cell_type": "code",
   "execution_count": 6,
   "metadata": {},
   "outputs": [
    {
     "name": "stdout",
     "output_type": "stream",
     "text": [
      "CPU times: user 49.7 ms, sys: 110 ms, total: 159 ms\n",
      "Wall time: 2min 3s\n"
     ]
    }
   ],
   "source": [
    "%%time\n",
    "trace_naive_testsize = trace1()\n",
    "trace_naive_seed = trace2()"
   ]
  },
  {
   "cell_type": "code",
   "execution_count": 7,
   "metadata": {},
   "outputs": [
    {
     "data": {
      "application/vnd.plotly.v1+json": {
       "data": [
        {
         "mode": "lines+markers",
         "name": "fixed test size",
         "type": "scatter",
         "uid": "5b3db42e-cf25-11e8-ae2e-bda3ede16b9c",
         "x": [
          -1,
          0,
          1,
          2,
          3,
          4,
          5,
          6,
          7,
          8,
          9,
          10,
          11,
          12,
          13,
          14,
          15,
          16,
          17,
          18
         ],
         "y": [
          2.110392,
          0.014663,
          2.561744,
          2.405011,
          2.431646,
          2.494968,
          2.438343,
          2.424301,
          2.372837,
          2.521866,
          2.500155,
          2.610791,
          2.463033,
          2.504689,
          2.392687,
          2.429523,
          2.408311,
          2.455472,
          2.488892,
          2.390968
         ]
        },
        {
         "marker": {
          "color": "rgb(158,202,225)",
          "line": {
           "color": "rgb(8,48,107)",
           "width": 1.5
          }
         },
         "name": "bar trance",
         "opacity": 0.6,
         "type": "bar",
         "uid": "5b3db8de-cf25-11e8-ae2e-bda3ede16b9c",
         "x": [
          -1,
          0,
          1,
          2,
          3,
          4,
          5,
          6,
          7,
          8,
          9,
          10,
          11,
          12,
          13,
          14,
          15,
          16,
          17,
          18
         ],
         "y": [
          2.110392,
          0.014663,
          2.561744,
          2.405011,
          2.431646,
          2.494968,
          2.438343,
          2.424301,
          2.372837,
          2.521866,
          2.500155,
          2.610791,
          2.463033,
          2.504689,
          2.392687,
          2.429523,
          2.408311,
          2.455472,
          2.488892,
          2.390968
         ]
        }
       ],
       "layout": {
        "showlegend": true,
        "title": "plot 1 of quick sort<br>fixed test size: 5M elements",
        "xaxis": {
         "title": "seed"
        },
        "yaxis": {
         "title": "runtime(s)"
        }
       }
      },
      "text/html": [
       "<div id=\"94c32add-c381-4dc3-af37-a1625863c9a9\" style=\"height: 525px; width: 100%;\" class=\"plotly-graph-div\"></div><script type=\"text/javascript\">require([\"plotly\"], function(Plotly) { window.PLOTLYENV=window.PLOTLYENV || {};window.PLOTLYENV.BASE_URL=\"https://plot.ly\";Plotly.newPlot(\"94c32add-c381-4dc3-af37-a1625863c9a9\", [{\"mode\": \"lines+markers\", \"name\": \"fixed test size\", \"x\": [-1, 0, 1, 2, 3, 4, 5, 6, 7, 8, 9, 10, 11, 12, 13, 14, 15, 16, 17, 18], \"y\": [2.110392, 0.014663, 2.561744, 2.405011, 2.431646, 2.494968, 2.438343, 2.424301, 2.372837, 2.521866, 2.500155, 2.610791, 2.463033, 2.504689, 2.392687, 2.429523, 2.408311, 2.455472, 2.488892, 2.390968], \"type\": \"scatter\", \"uid\": \"5b40a6fc-cf25-11e8-ae2e-bda3ede16b9c\"}, {\"marker\": {\"color\": \"rgb(158,202,225)\", \"line\": {\"color\": \"rgb(8,48,107)\", \"width\": 1.5}}, \"name\": \"bar trance\", \"opacity\": 0.6, \"x\": [-1, 0, 1, 2, 3, 4, 5, 6, 7, 8, 9, 10, 11, 12, 13, 14, 15, 16, 17, 18], \"y\": [2.110392, 0.014663, 2.561744, 2.405011, 2.431646, 2.494968, 2.438343, 2.424301, 2.372837, 2.521866, 2.500155, 2.610791, 2.463033, 2.504689, 2.392687, 2.429523, 2.408311, 2.455472, 2.488892, 2.390968], \"type\": \"bar\", \"uid\": \"5b40a8aa-cf25-11e8-ae2e-bda3ede16b9c\"}], {\"showlegend\": true, \"title\": \"plot 1 of quick sort<br>fixed test size: 5M elements\", \"xaxis\": {\"title\": \"seed\"}, \"yaxis\": {\"title\": \"runtime(s)\"}}, {\"showLink\": true, \"linkText\": \"Export to plot.ly\"})});</script>"
      ],
      "text/vnd.plotly.v1+html": [
       "<div id=\"94c32add-c381-4dc3-af37-a1625863c9a9\" style=\"height: 525px; width: 100%;\" class=\"plotly-graph-div\"></div><script type=\"text/javascript\">require([\"plotly\"], function(Plotly) { window.PLOTLYENV=window.PLOTLYENV || {};window.PLOTLYENV.BASE_URL=\"https://plot.ly\";Plotly.newPlot(\"94c32add-c381-4dc3-af37-a1625863c9a9\", [{\"mode\": \"lines+markers\", \"name\": \"fixed test size\", \"x\": [-1, 0, 1, 2, 3, 4, 5, 6, 7, 8, 9, 10, 11, 12, 13, 14, 15, 16, 17, 18], \"y\": [2.110392, 0.014663, 2.561744, 2.405011, 2.431646, 2.494968, 2.438343, 2.424301, 2.372837, 2.521866, 2.500155, 2.610791, 2.463033, 2.504689, 2.392687, 2.429523, 2.408311, 2.455472, 2.488892, 2.390968], \"type\": \"scatter\", \"uid\": \"5b40a6fc-cf25-11e8-ae2e-bda3ede16b9c\"}, {\"marker\": {\"color\": \"rgb(158,202,225)\", \"line\": {\"color\": \"rgb(8,48,107)\", \"width\": 1.5}}, \"name\": \"bar trance\", \"opacity\": 0.6, \"x\": [-1, 0, 1, 2, 3, 4, 5, 6, 7, 8, 9, 10, 11, 12, 13, 14, 15, 16, 17, 18], \"y\": [2.110392, 0.014663, 2.561744, 2.405011, 2.431646, 2.494968, 2.438343, 2.424301, 2.372837, 2.521866, 2.500155, 2.610791, 2.463033, 2.504689, 2.392687, 2.429523, 2.408311, 2.455472, 2.488892, 2.390968], \"type\": \"bar\", \"uid\": \"5b40a8aa-cf25-11e8-ae2e-bda3ede16b9c\"}], {\"showlegend\": true, \"title\": \"plot 1 of quick sort<br>fixed test size: 5M elements\", \"xaxis\": {\"title\": \"seed\"}, \"yaxis\": {\"title\": \"runtime(s)\"}}, {\"showLink\": true, \"linkText\": \"Export to plot.ly\"})});</script>"
      ]
     },
     "metadata": {},
     "output_type": "display_data"
    },
    {
     "data": {
      "application/vnd.plotly.v1+json": {
       "data": [
        {
         "mode": "lines+markers",
         "name": "fixed seed",
         "type": "scatter",
         "uid": "5b45a9d6-cf25-11e8-ae2e-bda3ede16b9c",
         "x": [
          1000,
          2000,
          4000,
          8000,
          16000,
          32000,
          64000,
          128000,
          256000,
          512000,
          1024000,
          2048000,
          4096000,
          8192000,
          16384000,
          32768000,
          65536000
         ],
         "y": [
          0.000219,
          0.00048,
          0.000995,
          0.002251,
          0.00473,
          0.00993,
          0.02174,
          0.045956,
          0.101007,
          0.209511,
          0.456306,
          0.933993,
          2.090645,
          4.083886,
          8.928899,
          18.103857,
          37.491209
         ]
        },
        {
         "name": "ratio",
         "type": "scatter",
         "uid": "5b45ab5c-cf25-11e8-ae2e-bda3ede16b9c",
         "x": [
          1000,
          2000,
          4000,
          8000,
          16000,
          32000,
          64000,
          128000,
          256000,
          512000,
          1024000,
          2048000,
          4096000,
          8192000,
          16384000,
          32768000,
          65536000
         ],
         "y": [
          2.1975189683470628e-08,
          2.1886259456671012e-08,
          2.0788440948150075e-08,
          2.1701348242609078e-08,
          2.11678051138646e-08,
          2.0734797060921725e-08,
          2.1275967026958323e-08,
          2.11620779785926e-08,
          2.1961668218784423e-08,
          2.157575799308901e-08,
          2.231874900438161e-08,
          2.1752168358656768e-08,
          2.32366561711856e-08,
          2.170712892079706e-08,
          2.2739783481830365e-08,
          2.21297221854453e-08,
          2.2031703088861515e-08
         ],
         "yaxis": "y2"
        }
       ],
       "layout": {
        "showlegend": true,
        "title": "plot 2 of quick sort<br>fixed seed: SEED = 123456",
        "xaxis": {
         "title": "test size"
        },
        "yaxis": {
         "title": "runtime(s)"
        },
        "yaxis2": {
         "overlaying": "y",
         "side": "right",
         "title": "ratio"
        }
       }
      },
      "text/html": [
       "<div id=\"b3b47284-b39e-49f7-83aa-6e034c3ce0ea\" style=\"height: 525px; width: 100%;\" class=\"plotly-graph-div\"></div><script type=\"text/javascript\">require([\"plotly\"], function(Plotly) { window.PLOTLYENV=window.PLOTLYENV || {};window.PLOTLYENV.BASE_URL=\"https://plot.ly\";Plotly.newPlot(\"b3b47284-b39e-49f7-83aa-6e034c3ce0ea\", [{\"mode\": \"lines+markers\", \"name\": \"fixed seed\", \"x\": [1000, 2000, 4000, 8000, 16000, 32000, 64000, 128000, 256000, 512000, 1024000, 2048000, 4096000, 8192000, 16384000, 32768000, 65536000], \"y\": [0.000219, 0.00048, 0.000995, 0.002251, 0.00473, 0.00993, 0.02174, 0.045956, 0.101007, 0.209511, 0.456306, 0.933993, 2.090645, 4.083886, 8.928899, 18.103857, 37.491209], \"type\": \"scatter\", \"uid\": \"5b483ec6-cf25-11e8-ae2e-bda3ede16b9c\"}, {\"name\": \"ratio\", \"x\": [1000, 2000, 4000, 8000, 16000, 32000, 64000, 128000, 256000, 512000, 1024000, 2048000, 4096000, 8192000, 16384000, 32768000, 65536000], \"y\": [2.1975189683470628e-08, 2.1886259456671012e-08, 2.0788440948150075e-08, 2.1701348242609078e-08, 2.11678051138646e-08, 2.0734797060921725e-08, 2.1275967026958323e-08, 2.11620779785926e-08, 2.1961668218784423e-08, 2.157575799308901e-08, 2.231874900438161e-08, 2.1752168358656768e-08, 2.32366561711856e-08, 2.170712892079706e-08, 2.2739783481830365e-08, 2.21297221854453e-08, 2.2031703088861515e-08], \"yaxis\": \"y2\", \"type\": \"scatter\", \"uid\": \"5b48401a-cf25-11e8-ae2e-bda3ede16b9c\"}], {\"showlegend\": true, \"title\": \"plot 2 of quick sort<br>fixed seed: SEED = 123456\", \"xaxis\": {\"title\": \"test size\"}, \"yaxis\": {\"title\": \"runtime(s)\"}, \"yaxis2\": {\"overlaying\": \"y\", \"side\": \"right\", \"title\": \"ratio\"}}, {\"showLink\": true, \"linkText\": \"Export to plot.ly\"})});</script>"
      ],
      "text/vnd.plotly.v1+html": [
       "<div id=\"b3b47284-b39e-49f7-83aa-6e034c3ce0ea\" style=\"height: 525px; width: 100%;\" class=\"plotly-graph-div\"></div><script type=\"text/javascript\">require([\"plotly\"], function(Plotly) { window.PLOTLYENV=window.PLOTLYENV || {};window.PLOTLYENV.BASE_URL=\"https://plot.ly\";Plotly.newPlot(\"b3b47284-b39e-49f7-83aa-6e034c3ce0ea\", [{\"mode\": \"lines+markers\", \"name\": \"fixed seed\", \"x\": [1000, 2000, 4000, 8000, 16000, 32000, 64000, 128000, 256000, 512000, 1024000, 2048000, 4096000, 8192000, 16384000, 32768000, 65536000], \"y\": [0.000219, 0.00048, 0.000995, 0.002251, 0.00473, 0.00993, 0.02174, 0.045956, 0.101007, 0.209511, 0.456306, 0.933993, 2.090645, 4.083886, 8.928899, 18.103857, 37.491209], \"type\": \"scatter\", \"uid\": \"5b483ec6-cf25-11e8-ae2e-bda3ede16b9c\"}, {\"name\": \"ratio\", \"x\": [1000, 2000, 4000, 8000, 16000, 32000, 64000, 128000, 256000, 512000, 1024000, 2048000, 4096000, 8192000, 16384000, 32768000, 65536000], \"y\": [2.1975189683470628e-08, 2.1886259456671012e-08, 2.0788440948150075e-08, 2.1701348242609078e-08, 2.11678051138646e-08, 2.0734797060921725e-08, 2.1275967026958323e-08, 2.11620779785926e-08, 2.1961668218784423e-08, 2.157575799308901e-08, 2.231874900438161e-08, 2.1752168358656768e-08, 2.32366561711856e-08, 2.170712892079706e-08, 2.2739783481830365e-08, 2.21297221854453e-08, 2.2031703088861515e-08], \"yaxis\": \"y2\", \"type\": \"scatter\", \"uid\": \"5b48401a-cf25-11e8-ae2e-bda3ede16b9c\"}], {\"showlegend\": true, \"title\": \"plot 2 of quick sort<br>fixed seed: SEED = 123456\", \"xaxis\": {\"title\": \"test size\"}, \"yaxis\": {\"title\": \"runtime(s)\"}, \"yaxis2\": {\"overlaying\": \"y\", \"side\": \"right\", \"title\": \"ratio\"}}, {\"showLink\": true, \"linkText\": \"Export to plot.ly\"})});</script>"
      ]
     },
     "metadata": {},
     "output_type": "display_data"
    }
   ],
   "source": [
    "bar_trance = go.Bar(\n",
    "    x=trace_naive_testsize.x,\n",
    "    y=trace_naive_testsize.y,\n",
    "    name='bar trance',\n",
    "    marker=dict(\n",
    "        color='rgb(158,202,225)',\n",
    "        line=dict(\n",
    "            color='rgb(8,48,107)',\n",
    "            width=1.5),\n",
    "        ),\n",
    "    opacity=0.6\n",
    ")\n",
    "\n",
    "iplot({\n",
    "    \"data\": [trace_naive_testsize, bar_trance],\n",
    "    \"layout\": go.Layout(title=\"plot 1 of quick sort<br>fixed test size: 5M elements\", \n",
    "                        xaxis=dict(title='seed'),\n",
    "                        yaxis=dict(title='runtime(s)'),\n",
    "                        showlegend=True,\n",
    "                       )\n",
    "})\n",
    "\n",
    "def nlogn(val):\n",
    "    return math.log(val) / math.log(2) * val\n",
    "\n",
    "ratio_trace = go.Scatter(\n",
    "    x=trace_naive_seed.x,\n",
    "    y=[trace_naive_seed.y[i] / nlogn(trace_naive_seed.x[i]) for i in range(len(trace_naive_seed.x))],\n",
    "    name='ratio',\n",
    "    yaxis='y2'\n",
    ")\n",
    "\n",
    "iplot({\n",
    "    \"data\": [trace_naive_seed, ratio_trace],\n",
    "    \"layout\": go.Layout(title=\"plot 2 of quick sort<br>fixed seed: SEED = 123456\",\n",
    "                        xaxis=dict(title='test size'),\n",
    "                        yaxis=dict(title='runtime(s)'),\n",
    "                        yaxis2=dict(title='ratio', overlaying='y', side='right'),\n",
    "                        showlegend=True,\n",
    "                       )\n",
    "})"
   ]
  },
  {
   "cell_type": "markdown",
   "metadata": {},
   "source": [
    "# OpenMP\n",
    "\n",
    "```cpp\n",
    "void qsort(int a[], int l, int r) {\n",
    "\tif (l >= r) return;\n",
    "\tP ret = partition(a, l, r);\n",
    "\tqsort(a, l, ret.first - 1);\n",
    "\tqsort(a, ret.second + 1, r);\n",
    "}\n",
    "```"
   ]
  },
  {
   "cell_type": "markdown",
   "metadata": {},
   "source": [
    "# OpenMP\n",
    "\n",
    "```cpp\n",
    "void qsort(int a[], int l, int r) {\n",
    "\tif (l >= r) return;\n",
    "\tP ret = partition(a, l, r);\n",
    "\tint left = ret.first, right = ret.second;\n",
    "\t{\n",
    "\t\t#pragma omp task firstprivate(a, l, left)\n",
    "\t\t{\n",
    "\t\t\tqsort(a, l, left - 1);\n",
    "\t\t}\n",
    "\t\t#pragma omp task firstprivate(a, right, r)\n",
    "\t\t{\n",
    "\t\t\tqsort(a, right + 1, r);\n",
    "\t\t}\n",
    "\t}\n",
    "}\n",
    "\n",
    "/////////////////\n",
    "\n",
    "omp_set_num_threads(num_of_threads);\n",
    "\n",
    "#pragma omp parallel shared(data, n)\n",
    "{\n",
    "    #pragma omp single nowait\n",
    "    {\n",
    "        qsort(data, 0, n - 1);\n",
    "    }\n",
    "}\n",
    "```\n",
    "\n",
    "### section | task\n",
    "\n",
    "### firstprivate\n",
    "\n",
    "### single nowait\n",
    "\n"
   ]
  },
  {
   "cell_type": "code",
   "execution_count": 8,
   "metadata": {},
   "outputs": [],
   "source": [
    "def trace3():\n",
    "    # x轴为线程数\n",
    "    ret = []\n",
    "    seed = 123456\n",
    "    testSize = [int(1e4), ]\n",
    "    for i in range(3):\n",
    "        testSize.append(testSize[-1] * 2)\n",
    "    testSize.append(int(1e7))\n",
    "    for i in range(3):\n",
    "        testSize.append(testSize[-1] * 2)\n",
    "        \n",
    "    threads = [i + 1 for i in range(20)]\n",
    "    \n",
    "    for n in testSize:\n",
    "        y = []\n",
    "        for thread in threads:\n",
    "            timeInSec = run('openmp', thread, n, seed)\n",
    "            y.append(timeInSec)\n",
    "        ret.append(go.Scatter(x=threads, y=y, mode='lines+markers', name='{} items'.format(n)))\n",
    "    return ret\n",
    "\n",
    "def trace4():\n",
    "    # 线程数量=4,8,16\n",
    "    # seed=123456\n",
    "    # 固定种子，增加测试集大小\n",
    "    ret = []\n",
    "    seed = 123456\n",
    "    testSize = [1000, ]\n",
    "    for i in range(16):\n",
    "        testSize.append(testSize[-1] * 2)\n",
    "\n",
    "    for thread in [1, 2, 3, 4, 5, 6]:\n",
    "        y = []\n",
    "        for n in testSize:\n",
    "            timeInSec = run('openmp', thread, n, seed)\n",
    "            y.append(timeInSec)\n",
    "        ret.append(go.Scatter(x=testSize, y=y, mode='lines+markers', name='{} threads'.format(thread)))\n",
    "    return ret"
   ]
  },
  {
   "cell_type": "code",
   "execution_count": 9,
   "metadata": {},
   "outputs": [
    {
     "name": "stdout",
     "output_type": "stream",
     "text": [
      "CPU times: user 186 ms, sys: 754 ms, total: 940 ms\n",
      "Wall time: 21min 1s\n"
     ]
    }
   ],
   "source": [
    "%%time\n",
    "trace_openmp_testsize = trace3()\n",
    "trace_openmp_seed = trace4()"
   ]
  },
  {
   "cell_type": "code",
   "execution_count": 10,
   "metadata": {},
   "outputs": [
    {
     "data": {
      "application/vnd.plotly.v1+json": {
       "data": [
        {
         "mode": "lines+markers",
         "name": "10000 items",
         "type": "scatter",
         "uid": "4b127852-cf28-11e8-ae2e-bda3ede16b9c",
         "x": [
          1,
          2,
          3,
          4,
          5,
          6,
          7,
          8,
          9,
          10,
          11,
          12,
          13,
          14,
          15,
          16,
          17,
          18,
          19,
          20
         ],
         "y": [
          0.003231,
          0.002927,
          0.00398,
          0.007846,
          0.005377,
          0.012162,
          0.015278,
          0.018833,
          0.012518,
          0.012063,
          0.013673,
          0.014565,
          0.015277,
          0.019756,
          0.020499,
          0.019746,
          0.018495,
          0.019279,
          0.021809,
          0.020943
         ]
        },
        {
         "mode": "lines+markers",
         "name": "20000 items",
         "type": "scatter",
         "uid": "4b127b36-cf28-11e8-ae2e-bda3ede16b9c",
         "x": [
          1,
          2,
          3,
          4,
          5,
          6,
          7,
          8,
          9,
          10,
          11,
          12,
          13,
          14,
          15,
          16,
          17,
          18,
          19,
          20
         ],
         "y": [
          0.006635,
          0.005301,
          0.006491,
          0.011653,
          0.013333,
          0.016927,
          0.017636,
          0.021774,
          0.015757,
          0.017382,
          0.018228,
          0.021415,
          0.021882,
          0.023166,
          0.025479,
          0.027189,
          0.03029,
          0.032545,
          0.03047,
          0.033944
         ]
        },
        {
         "mode": "lines+markers",
         "name": "40000 items",
         "type": "scatter",
         "uid": "4b127c94-cf28-11e8-ae2e-bda3ede16b9c",
         "x": [
          1,
          2,
          3,
          4,
          5,
          6,
          7,
          8,
          9,
          10,
          11,
          12,
          13,
          14,
          15,
          16,
          17,
          18,
          19,
          20
         ],
         "y": [
          0.013946,
          0.010612,
          0.012785,
          0.01695,
          0.018216,
          0.02313,
          0.025014,
          0.02467,
          0.024145,
          0.025266,
          0.025614,
          0.03078,
          0.028948,
          0.030191,
          0.031066,
          0.038666,
          0.044491,
          0.039735,
          0.038301,
          0.037874
         ]
        },
        {
         "mode": "lines+markers",
         "name": "80000 items",
         "type": "scatter",
         "uid": "4b127db6-cf28-11e8-ae2e-bda3ede16b9c",
         "x": [
          1,
          2,
          3,
          4,
          5,
          6,
          7,
          8,
          9,
          10,
          11,
          12,
          13,
          14,
          15,
          16,
          17,
          18,
          19,
          20
         ],
         "y": [
          0.028893,
          0.022139,
          0.021628,
          0.026906,
          0.027796,
          0.031303,
          0.036924,
          0.039501,
          0.036718,
          0.037669,
          0.036215,
          0.037186,
          0.04472,
          0.045045,
          0.045079,
          0.045446,
          0.045568,
          0.049532,
          0.052503,
          0.063149
         ]
        }
       ],
       "layout": {
        "showlegend": true,
        "title": "plot 3.1 of quick sort<br>openMP<br>fixed small test size",
        "xaxis": {
         "title": "number of threads"
        },
        "yaxis": {
         "title": "runtime(s)"
        }
       }
      },
      "text/html": [
       "<div id=\"8eca2a90-8386-438f-91b6-18a51c764335\" style=\"height: 525px; width: 100%;\" class=\"plotly-graph-div\"></div><script type=\"text/javascript\">require([\"plotly\"], function(Plotly) { window.PLOTLYENV=window.PLOTLYENV || {};window.PLOTLYENV.BASE_URL=\"https://plot.ly\";Plotly.newPlot(\"8eca2a90-8386-438f-91b6-18a51c764335\", [{\"mode\": \"lines+markers\", \"name\": \"10000 items\", \"x\": [1, 2, 3, 4, 5, 6, 7, 8, 9, 10, 11, 12, 13, 14, 15, 16, 17, 18, 19, 20], \"y\": [0.003231, 0.002927, 0.00398, 0.007846, 0.005377, 0.012162, 0.015278, 0.018833, 0.012518, 0.012063, 0.013673, 0.014565, 0.015277, 0.019756, 0.020499, 0.019746, 0.018495, 0.019279, 0.021809, 0.020943], \"type\": \"scatter\", \"uid\": \"4b16cace-cf28-11e8-ae2e-bda3ede16b9c\"}, {\"mode\": \"lines+markers\", \"name\": \"20000 items\", \"x\": [1, 2, 3, 4, 5, 6, 7, 8, 9, 10, 11, 12, 13, 14, 15, 16, 17, 18, 19, 20], \"y\": [0.006635, 0.005301, 0.006491, 0.011653, 0.013333, 0.016927, 0.017636, 0.021774, 0.015757, 0.017382, 0.018228, 0.021415, 0.021882, 0.023166, 0.025479, 0.027189, 0.03029, 0.032545, 0.03047, 0.033944], \"type\": \"scatter\", \"uid\": \"4b16cca4-cf28-11e8-ae2e-bda3ede16b9c\"}, {\"mode\": \"lines+markers\", \"name\": \"40000 items\", \"x\": [1, 2, 3, 4, 5, 6, 7, 8, 9, 10, 11, 12, 13, 14, 15, 16, 17, 18, 19, 20], \"y\": [0.013946, 0.010612, 0.012785, 0.01695, 0.018216, 0.02313, 0.025014, 0.02467, 0.024145, 0.025266, 0.025614, 0.03078, 0.028948, 0.030191, 0.031066, 0.038666, 0.044491, 0.039735, 0.038301, 0.037874], \"type\": \"scatter\", \"uid\": \"4b16cd62-cf28-11e8-ae2e-bda3ede16b9c\"}, {\"mode\": \"lines+markers\", \"name\": \"80000 items\", \"x\": [1, 2, 3, 4, 5, 6, 7, 8, 9, 10, 11, 12, 13, 14, 15, 16, 17, 18, 19, 20], \"y\": [0.028893, 0.022139, 0.021628, 0.026906, 0.027796, 0.031303, 0.036924, 0.039501, 0.036718, 0.037669, 0.036215, 0.037186, 0.04472, 0.045045, 0.045079, 0.045446, 0.045568, 0.049532, 0.052503, 0.063149], \"type\": \"scatter\", \"uid\": \"4b16cdf8-cf28-11e8-ae2e-bda3ede16b9c\"}], {\"showlegend\": true, \"title\": \"plot 3.1 of quick sort<br>openMP<br>fixed small test size\", \"xaxis\": {\"title\": \"number of threads\"}, \"yaxis\": {\"title\": \"runtime(s)\"}}, {\"showLink\": true, \"linkText\": \"Export to plot.ly\"})});</script>"
      ],
      "text/vnd.plotly.v1+html": [
       "<div id=\"8eca2a90-8386-438f-91b6-18a51c764335\" style=\"height: 525px; width: 100%;\" class=\"plotly-graph-div\"></div><script type=\"text/javascript\">require([\"plotly\"], function(Plotly) { window.PLOTLYENV=window.PLOTLYENV || {};window.PLOTLYENV.BASE_URL=\"https://plot.ly\";Plotly.newPlot(\"8eca2a90-8386-438f-91b6-18a51c764335\", [{\"mode\": \"lines+markers\", \"name\": \"10000 items\", \"x\": [1, 2, 3, 4, 5, 6, 7, 8, 9, 10, 11, 12, 13, 14, 15, 16, 17, 18, 19, 20], \"y\": [0.003231, 0.002927, 0.00398, 0.007846, 0.005377, 0.012162, 0.015278, 0.018833, 0.012518, 0.012063, 0.013673, 0.014565, 0.015277, 0.019756, 0.020499, 0.019746, 0.018495, 0.019279, 0.021809, 0.020943], \"type\": \"scatter\", \"uid\": \"4b16cace-cf28-11e8-ae2e-bda3ede16b9c\"}, {\"mode\": \"lines+markers\", \"name\": \"20000 items\", \"x\": [1, 2, 3, 4, 5, 6, 7, 8, 9, 10, 11, 12, 13, 14, 15, 16, 17, 18, 19, 20], \"y\": [0.006635, 0.005301, 0.006491, 0.011653, 0.013333, 0.016927, 0.017636, 0.021774, 0.015757, 0.017382, 0.018228, 0.021415, 0.021882, 0.023166, 0.025479, 0.027189, 0.03029, 0.032545, 0.03047, 0.033944], \"type\": \"scatter\", \"uid\": \"4b16cca4-cf28-11e8-ae2e-bda3ede16b9c\"}, {\"mode\": \"lines+markers\", \"name\": \"40000 items\", \"x\": [1, 2, 3, 4, 5, 6, 7, 8, 9, 10, 11, 12, 13, 14, 15, 16, 17, 18, 19, 20], \"y\": [0.013946, 0.010612, 0.012785, 0.01695, 0.018216, 0.02313, 0.025014, 0.02467, 0.024145, 0.025266, 0.025614, 0.03078, 0.028948, 0.030191, 0.031066, 0.038666, 0.044491, 0.039735, 0.038301, 0.037874], \"type\": \"scatter\", \"uid\": \"4b16cd62-cf28-11e8-ae2e-bda3ede16b9c\"}, {\"mode\": \"lines+markers\", \"name\": \"80000 items\", \"x\": [1, 2, 3, 4, 5, 6, 7, 8, 9, 10, 11, 12, 13, 14, 15, 16, 17, 18, 19, 20], \"y\": [0.028893, 0.022139, 0.021628, 0.026906, 0.027796, 0.031303, 0.036924, 0.039501, 0.036718, 0.037669, 0.036215, 0.037186, 0.04472, 0.045045, 0.045079, 0.045446, 0.045568, 0.049532, 0.052503, 0.063149], \"type\": \"scatter\", \"uid\": \"4b16cdf8-cf28-11e8-ae2e-bda3ede16b9c\"}], {\"showlegend\": true, \"title\": \"plot 3.1 of quick sort<br>openMP<br>fixed small test size\", \"xaxis\": {\"title\": \"number of threads\"}, \"yaxis\": {\"title\": \"runtime(s)\"}}, {\"showLink\": true, \"linkText\": \"Export to plot.ly\"})});</script>"
      ]
     },
     "metadata": {},
     "output_type": "display_data"
    },
    {
     "data": {
      "application/vnd.plotly.v1+json": {
       "data": [
        {
         "mode": "lines+markers",
         "name": "10000000 items",
         "type": "scatter",
         "uid": "4b1c07fa-cf28-11e8-ae2e-bda3ede16b9c",
         "x": [
          1,
          2,
          3,
          4,
          5,
          6,
          7,
          8,
          9,
          10,
          11,
          12,
          13,
          14,
          15,
          16,
          17,
          18,
          19,
          20
         ],
         "y": [
          5.330739,
          3.164974,
          2.721289,
          2.702265,
          2.719147,
          2.882004,
          3.017405,
          3.141352,
          3.200914,
          3.296336,
          3.222735,
          3.364488,
          3.253268,
          3.274184,
          3.308645,
          3.326771,
          3.30159,
          3.408613,
          3.315415,
          3.28268
         ]
        },
        {
         "mode": "lines+markers",
         "name": "20000000 items",
         "type": "scatter",
         "uid": "4b1c0994-cf28-11e8-ae2e-bda3ede16b9c",
         "x": [
          1,
          2,
          3,
          4,
          5,
          6,
          7,
          8,
          9,
          10,
          11,
          12,
          13,
          14,
          15,
          16,
          17,
          18,
          19,
          20
         ],
         "y": [
          10.826111,
          6.444506,
          5.365443,
          5.063215,
          5.228297,
          5.509091,
          5.79628,
          6.142762,
          6.073987,
          6.278164,
          6.075933,
          6.325463,
          6.468479,
          6.322343,
          6.386121,
          6.304389,
          6.287683,
          6.271713,
          6.454019,
          6.362444
         ]
        },
        {
         "mode": "lines+markers",
         "name": "40000000 items",
         "type": "scatter",
         "uid": "4b1c0a52-cf28-11e8-ae2e-bda3ede16b9c",
         "x": [
          1,
          2,
          3,
          4,
          5,
          6,
          7,
          8,
          9,
          10,
          11,
          12,
          13,
          14,
          15,
          16,
          17,
          18,
          19,
          20
         ],
         "y": [
          22.994495,
          13.184837,
          10.594399,
          10.391795,
          10.392789,
          11.057938,
          11.23463,
          11.86308,
          11.930876,
          12.149011,
          12.068818,
          11.877306,
          12.172723,
          12.255592,
          12.11719,
          12.900446,
          12.28298,
          12.515357,
          12.508605,
          12.530545
         ]
        },
        {
         "mode": "lines+markers",
         "name": "80000000 items",
         "type": "scatter",
         "uid": "4b1c0ae8-cf28-11e8-ae2e-bda3ede16b9c",
         "x": [
          1,
          2,
          3,
          4,
          5,
          6,
          7,
          8,
          9,
          10,
          11,
          12,
          13,
          14,
          15,
          16,
          17,
          18,
          19,
          20
         ],
         "y": [
          47.103221,
          26.494977,
          21.983956,
          20.647372,
          20.233751,
          21.530771,
          22.768304,
          23.669191,
          23.881351,
          23.680639,
          24.156119,
          24.140335,
          24.650719,
          24.545414,
          24.148735,
          24.356829,
          24.235939,
          24.117595,
          24.87727,
          24.335454
         ]
        }
       ],
       "layout": {
        "showlegend": true,
        "title": "plot 3.2 of quick sort<br>openMP<br>fixed big test size",
        "xaxis": {
         "title": "number of threads"
        },
        "yaxis": {
         "title": "runtime(s)"
        }
       }
      },
      "text/html": [
       "<div id=\"1ad73cc1-cb96-439f-a2f4-8c39ff9ff367\" style=\"height: 525px; width: 100%;\" class=\"plotly-graph-div\"></div><script type=\"text/javascript\">require([\"plotly\"], function(Plotly) { window.PLOTLYENV=window.PLOTLYENV || {};window.PLOTLYENV.BASE_URL=\"https://plot.ly\";Plotly.newPlot(\"1ad73cc1-cb96-439f-a2f4-8c39ff9ff367\", [{\"mode\": \"lines+markers\", \"name\": \"10000000 items\", \"x\": [1, 2, 3, 4, 5, 6, 7, 8, 9, 10, 11, 12, 13, 14, 15, 16, 17, 18, 19, 20], \"y\": [5.330739, 3.164974, 2.721289, 2.702265, 2.719147, 2.882004, 3.017405, 3.141352, 3.200914, 3.296336, 3.222735, 3.364488, 3.253268, 3.274184, 3.308645, 3.326771, 3.30159, 3.408613, 3.315415, 3.28268], \"type\": \"scatter\", \"uid\": \"4b1f3c22-cf28-11e8-ae2e-bda3ede16b9c\"}, {\"mode\": \"lines+markers\", \"name\": \"20000000 items\", \"x\": [1, 2, 3, 4, 5, 6, 7, 8, 9, 10, 11, 12, 13, 14, 15, 16, 17, 18, 19, 20], \"y\": [10.826111, 6.444506, 5.365443, 5.063215, 5.228297, 5.509091, 5.79628, 6.142762, 6.073987, 6.278164, 6.075933, 6.325463, 6.468479, 6.322343, 6.386121, 6.304389, 6.287683, 6.271713, 6.454019, 6.362444], \"type\": \"scatter\", \"uid\": \"4b1f3dbc-cf28-11e8-ae2e-bda3ede16b9c\"}, {\"mode\": \"lines+markers\", \"name\": \"40000000 items\", \"x\": [1, 2, 3, 4, 5, 6, 7, 8, 9, 10, 11, 12, 13, 14, 15, 16, 17, 18, 19, 20], \"y\": [22.994495, 13.184837, 10.594399, 10.391795, 10.392789, 11.057938, 11.23463, 11.86308, 11.930876, 12.149011, 12.068818, 11.877306, 12.172723, 12.255592, 12.11719, 12.900446, 12.28298, 12.515357, 12.508605, 12.530545], \"type\": \"scatter\", \"uid\": \"4b1f3e70-cf28-11e8-ae2e-bda3ede16b9c\"}, {\"mode\": \"lines+markers\", \"name\": \"80000000 items\", \"x\": [1, 2, 3, 4, 5, 6, 7, 8, 9, 10, 11, 12, 13, 14, 15, 16, 17, 18, 19, 20], \"y\": [47.103221, 26.494977, 21.983956, 20.647372, 20.233751, 21.530771, 22.768304, 23.669191, 23.881351, 23.680639, 24.156119, 24.140335, 24.650719, 24.545414, 24.148735, 24.356829, 24.235939, 24.117595, 24.87727, 24.335454], \"type\": \"scatter\", \"uid\": \"4b1f3f06-cf28-11e8-ae2e-bda3ede16b9c\"}], {\"showlegend\": true, \"title\": \"plot 3.2 of quick sort<br>openMP<br>fixed big test size\", \"xaxis\": {\"title\": \"number of threads\"}, \"yaxis\": {\"title\": \"runtime(s)\"}}, {\"showLink\": true, \"linkText\": \"Export to plot.ly\"})});</script>"
      ],
      "text/vnd.plotly.v1+html": [
       "<div id=\"1ad73cc1-cb96-439f-a2f4-8c39ff9ff367\" style=\"height: 525px; width: 100%;\" class=\"plotly-graph-div\"></div><script type=\"text/javascript\">require([\"plotly\"], function(Plotly) { window.PLOTLYENV=window.PLOTLYENV || {};window.PLOTLYENV.BASE_URL=\"https://plot.ly\";Plotly.newPlot(\"1ad73cc1-cb96-439f-a2f4-8c39ff9ff367\", [{\"mode\": \"lines+markers\", \"name\": \"10000000 items\", \"x\": [1, 2, 3, 4, 5, 6, 7, 8, 9, 10, 11, 12, 13, 14, 15, 16, 17, 18, 19, 20], \"y\": [5.330739, 3.164974, 2.721289, 2.702265, 2.719147, 2.882004, 3.017405, 3.141352, 3.200914, 3.296336, 3.222735, 3.364488, 3.253268, 3.274184, 3.308645, 3.326771, 3.30159, 3.408613, 3.315415, 3.28268], \"type\": \"scatter\", \"uid\": \"4b1f3c22-cf28-11e8-ae2e-bda3ede16b9c\"}, {\"mode\": \"lines+markers\", \"name\": \"20000000 items\", \"x\": [1, 2, 3, 4, 5, 6, 7, 8, 9, 10, 11, 12, 13, 14, 15, 16, 17, 18, 19, 20], \"y\": [10.826111, 6.444506, 5.365443, 5.063215, 5.228297, 5.509091, 5.79628, 6.142762, 6.073987, 6.278164, 6.075933, 6.325463, 6.468479, 6.322343, 6.386121, 6.304389, 6.287683, 6.271713, 6.454019, 6.362444], \"type\": \"scatter\", \"uid\": \"4b1f3dbc-cf28-11e8-ae2e-bda3ede16b9c\"}, {\"mode\": \"lines+markers\", \"name\": \"40000000 items\", \"x\": [1, 2, 3, 4, 5, 6, 7, 8, 9, 10, 11, 12, 13, 14, 15, 16, 17, 18, 19, 20], \"y\": [22.994495, 13.184837, 10.594399, 10.391795, 10.392789, 11.057938, 11.23463, 11.86308, 11.930876, 12.149011, 12.068818, 11.877306, 12.172723, 12.255592, 12.11719, 12.900446, 12.28298, 12.515357, 12.508605, 12.530545], \"type\": \"scatter\", \"uid\": \"4b1f3e70-cf28-11e8-ae2e-bda3ede16b9c\"}, {\"mode\": \"lines+markers\", \"name\": \"80000000 items\", \"x\": [1, 2, 3, 4, 5, 6, 7, 8, 9, 10, 11, 12, 13, 14, 15, 16, 17, 18, 19, 20], \"y\": [47.103221, 26.494977, 21.983956, 20.647372, 20.233751, 21.530771, 22.768304, 23.669191, 23.881351, 23.680639, 24.156119, 24.140335, 24.650719, 24.545414, 24.148735, 24.356829, 24.235939, 24.117595, 24.87727, 24.335454], \"type\": \"scatter\", \"uid\": \"4b1f3f06-cf28-11e8-ae2e-bda3ede16b9c\"}], {\"showlegend\": true, \"title\": \"plot 3.2 of quick sort<br>openMP<br>fixed big test size\", \"xaxis\": {\"title\": \"number of threads\"}, \"yaxis\": {\"title\": \"runtime(s)\"}}, {\"showLink\": true, \"linkText\": \"Export to plot.ly\"})});</script>"
      ]
     },
     "metadata": {},
     "output_type": "display_data"
    },
    {
     "data": {
      "application/vnd.plotly.v1+json": {
       "data": [
        {
         "mode": "lines+markers",
         "name": "1 threads",
         "type": "scatter",
         "uid": "4b2514e4-cf28-11e8-ae2e-bda3ede16b9c",
         "x": [
          1000,
          2000,
          4000,
          8000,
          16000,
          32000,
          64000,
          128000,
          256000,
          512000,
          1024000,
          2048000,
          4096000,
          8192000,
          16384000,
          32768000,
          65536000
         ],
         "y": [
          0.000312,
          0.000604,
          0.001198,
          0.002561,
          0.005428,
          0.011235,
          0.024316,
          0.049435,
          0.108496,
          0.220253,
          0.47121,
          0.970011,
          2.038873,
          4.229666,
          8.786103,
          18.476102,
          38.618944
         ]
        },
        {
         "mode": "lines+markers",
         "name": "2 threads",
         "type": "scatter",
         "uid": "4b25166a-cf28-11e8-ae2e-bda3ede16b9c",
         "x": [
          1000,
          2000,
          4000,
          8000,
          16000,
          32000,
          64000,
          128000,
          256000,
          512000,
          1024000,
          2048000,
          4096000,
          8192000,
          16384000,
          32768000,
          65536000
         ],
         "y": [
          0.001274,
          0.001688,
          0.002766,
          0.004477,
          0.004487,
          0.012609,
          0.016468,
          0.036004,
          0.067781,
          0.132577,
          0.308386,
          0.663498,
          1.328477,
          2.461215,
          5.128207,
          10.46133,
          21.885873
         ]
        },
        {
         "mode": "lines+markers",
         "name": "3 threads",
         "type": "scatter",
         "uid": "4b25178c-cf28-11e8-ae2e-bda3ede16b9c",
         "x": [
          1000,
          2000,
          4000,
          8000,
          16000,
          32000,
          64000,
          128000,
          256000,
          512000,
          1024000,
          2048000,
          4096000,
          8192000,
          16384000,
          32768000,
          65536000
         ],
         "y": [
          0.000791,
          0.003557,
          0.003845,
          0.004656,
          0.007296,
          0.011597,
          0.020489,
          0.039135,
          0.064781,
          0.128715,
          0.255577,
          0.530287,
          1.069057,
          2.091251,
          4.300665,
          8.821513,
          18.084366
         ]
        },
        {
         "mode": "lines+markers",
         "name": "4 threads",
         "type": "scatter",
         "uid": "4b25182c-cf28-11e8-ae2e-bda3ede16b9c",
         "x": [
          1000,
          2000,
          4000,
          8000,
          16000,
          32000,
          64000,
          128000,
          256000,
          512000,
          1024000,
          2048000,
          4096000,
          8192000,
          16384000,
          32768000,
          65536000
         ],
         "y": [
          0.001,
          0.00189,
          0.002405,
          0.00666,
          0.008123,
          0.008701,
          0.01777,
          0.039174,
          0.069585,
          0.134224,
          0.265981,
          0.506948,
          1.01817,
          2.121524,
          4.240717,
          8.429914,
          16.719583
         ]
        },
        {
         "mode": "lines+markers",
         "name": "5 threads",
         "type": "scatter",
         "uid": "4b2518b8-cf28-11e8-ae2e-bda3ede16b9c",
         "x": [
          1000,
          2000,
          4000,
          8000,
          16000,
          32000,
          64000,
          128000,
          256000,
          512000,
          1024000,
          2048000,
          4096000,
          8192000,
          16384000,
          32768000,
          65536000
         ],
         "y": [
          0.001727,
          0.003997,
          0.005516,
          0.008001,
          0.010198,
          0.015021,
          0.025126,
          0.04193,
          0.078557,
          0.140634,
          0.283589,
          0.575116,
          1.141285,
          2.202869,
          4.342947,
          8.823106,
          17.110503
         ]
        },
        {
         "mode": "lines+markers",
         "name": "6 threads",
         "type": "scatter",
         "uid": "4b25193a-cf28-11e8-ae2e-bda3ede16b9c",
         "x": [
          1000,
          2000,
          4000,
          8000,
          16000,
          32000,
          64000,
          128000,
          256000,
          512000,
          1024000,
          2048000,
          4096000,
          8192000,
          16384000,
          32768000,
          65536000
         ],
         "y": [
          0.002057,
          0.004956,
          0.00811,
          0.011162,
          0.016218,
          0.018298,
          0.03105,
          0.052753,
          0.084862,
          0.173884,
          0.314963,
          0.617951,
          1.182889,
          2.360305,
          4.553658,
          8.891057,
          18.192513
         ]
        }
       ],
       "layout": {
        "showlegend": true,
        "title": "plot 4 of quick sort<br>openMP<br>fixed seed: 123456",
        "xaxis": {
         "title": "size of test"
        },
        "yaxis": {
         "title": "runtime(s)"
        }
       }
      },
      "text/html": [
       "<div id=\"5a0bcb3c-8247-40e0-92af-5e81fe2f8a7a\" style=\"height: 525px; width: 100%;\" class=\"plotly-graph-div\"></div><script type=\"text/javascript\">require([\"plotly\"], function(Plotly) { window.PLOTLYENV=window.PLOTLYENV || {};window.PLOTLYENV.BASE_URL=\"https://plot.ly\";Plotly.newPlot(\"5a0bcb3c-8247-40e0-92af-5e81fe2f8a7a\", [{\"mode\": \"lines+markers\", \"name\": \"1 threads\", \"x\": [1000, 2000, 4000, 8000, 16000, 32000, 64000, 128000, 256000, 512000, 1024000, 2048000, 4096000, 8192000, 16384000, 32768000, 65536000], \"y\": [0.000312, 0.000604, 0.001198, 0.002561, 0.005428, 0.011235, 0.024316, 0.049435, 0.108496, 0.220253, 0.47121, 0.970011, 2.038873, 4.229666, 8.786103, 18.476102, 38.618944], \"type\": \"scatter\", \"uid\": \"4b339794-cf28-11e8-ae2e-bda3ede16b9c\"}, {\"mode\": \"lines+markers\", \"name\": \"2 threads\", \"x\": [1000, 2000, 4000, 8000, 16000, 32000, 64000, 128000, 256000, 512000, 1024000, 2048000, 4096000, 8192000, 16384000, 32768000, 65536000], \"y\": [0.001274, 0.001688, 0.002766, 0.004477, 0.004487, 0.012609, 0.016468, 0.036004, 0.067781, 0.132577, 0.308386, 0.663498, 1.328477, 2.461215, 5.128207, 10.46133, 21.885873], \"type\": \"scatter\", \"uid\": \"4b339956-cf28-11e8-ae2e-bda3ede16b9c\"}, {\"mode\": \"lines+markers\", \"name\": \"3 threads\", \"x\": [1000, 2000, 4000, 8000, 16000, 32000, 64000, 128000, 256000, 512000, 1024000, 2048000, 4096000, 8192000, 16384000, 32768000, 65536000], \"y\": [0.000791, 0.003557, 0.003845, 0.004656, 0.007296, 0.011597, 0.020489, 0.039135, 0.064781, 0.128715, 0.255577, 0.530287, 1.069057, 2.091251, 4.300665, 8.821513, 18.084366], \"type\": \"scatter\", \"uid\": \"4b339a14-cf28-11e8-ae2e-bda3ede16b9c\"}, {\"mode\": \"lines+markers\", \"name\": \"4 threads\", \"x\": [1000, 2000, 4000, 8000, 16000, 32000, 64000, 128000, 256000, 512000, 1024000, 2048000, 4096000, 8192000, 16384000, 32768000, 65536000], \"y\": [0.001, 0.00189, 0.002405, 0.00666, 0.008123, 0.008701, 0.01777, 0.039174, 0.069585, 0.134224, 0.265981, 0.506948, 1.01817, 2.121524, 4.240717, 8.429914, 16.719583], \"type\": \"scatter\", \"uid\": \"4b339aaa-cf28-11e8-ae2e-bda3ede16b9c\"}, {\"mode\": \"lines+markers\", \"name\": \"5 threads\", \"x\": [1000, 2000, 4000, 8000, 16000, 32000, 64000, 128000, 256000, 512000, 1024000, 2048000, 4096000, 8192000, 16384000, 32768000, 65536000], \"y\": [0.001727, 0.003997, 0.005516, 0.008001, 0.010198, 0.015021, 0.025126, 0.04193, 0.078557, 0.140634, 0.283589, 0.575116, 1.141285, 2.202869, 4.342947, 8.823106, 17.110503], \"type\": \"scatter\", \"uid\": \"4b339b36-cf28-11e8-ae2e-bda3ede16b9c\"}, {\"mode\": \"lines+markers\", \"name\": \"6 threads\", \"x\": [1000, 2000, 4000, 8000, 16000, 32000, 64000, 128000, 256000, 512000, 1024000, 2048000, 4096000, 8192000, 16384000, 32768000, 65536000], \"y\": [0.002057, 0.004956, 0.00811, 0.011162, 0.016218, 0.018298, 0.03105, 0.052753, 0.084862, 0.173884, 0.314963, 0.617951, 1.182889, 2.360305, 4.553658, 8.891057, 18.192513], \"type\": \"scatter\", \"uid\": \"4b339bb8-cf28-11e8-ae2e-bda3ede16b9c\"}], {\"showlegend\": true, \"title\": \"plot 4 of quick sort<br>openMP<br>fixed seed: 123456\", \"xaxis\": {\"title\": \"size of test\"}, \"yaxis\": {\"title\": \"runtime(s)\"}}, {\"showLink\": true, \"linkText\": \"Export to plot.ly\"})});</script>"
      ],
      "text/vnd.plotly.v1+html": [
       "<div id=\"5a0bcb3c-8247-40e0-92af-5e81fe2f8a7a\" style=\"height: 525px; width: 100%;\" class=\"plotly-graph-div\"></div><script type=\"text/javascript\">require([\"plotly\"], function(Plotly) { window.PLOTLYENV=window.PLOTLYENV || {};window.PLOTLYENV.BASE_URL=\"https://plot.ly\";Plotly.newPlot(\"5a0bcb3c-8247-40e0-92af-5e81fe2f8a7a\", [{\"mode\": \"lines+markers\", \"name\": \"1 threads\", \"x\": [1000, 2000, 4000, 8000, 16000, 32000, 64000, 128000, 256000, 512000, 1024000, 2048000, 4096000, 8192000, 16384000, 32768000, 65536000], \"y\": [0.000312, 0.000604, 0.001198, 0.002561, 0.005428, 0.011235, 0.024316, 0.049435, 0.108496, 0.220253, 0.47121, 0.970011, 2.038873, 4.229666, 8.786103, 18.476102, 38.618944], \"type\": \"scatter\", \"uid\": \"4b339794-cf28-11e8-ae2e-bda3ede16b9c\"}, {\"mode\": \"lines+markers\", \"name\": \"2 threads\", \"x\": [1000, 2000, 4000, 8000, 16000, 32000, 64000, 128000, 256000, 512000, 1024000, 2048000, 4096000, 8192000, 16384000, 32768000, 65536000], \"y\": [0.001274, 0.001688, 0.002766, 0.004477, 0.004487, 0.012609, 0.016468, 0.036004, 0.067781, 0.132577, 0.308386, 0.663498, 1.328477, 2.461215, 5.128207, 10.46133, 21.885873], \"type\": \"scatter\", \"uid\": \"4b339956-cf28-11e8-ae2e-bda3ede16b9c\"}, {\"mode\": \"lines+markers\", \"name\": \"3 threads\", \"x\": [1000, 2000, 4000, 8000, 16000, 32000, 64000, 128000, 256000, 512000, 1024000, 2048000, 4096000, 8192000, 16384000, 32768000, 65536000], \"y\": [0.000791, 0.003557, 0.003845, 0.004656, 0.007296, 0.011597, 0.020489, 0.039135, 0.064781, 0.128715, 0.255577, 0.530287, 1.069057, 2.091251, 4.300665, 8.821513, 18.084366], \"type\": \"scatter\", \"uid\": \"4b339a14-cf28-11e8-ae2e-bda3ede16b9c\"}, {\"mode\": \"lines+markers\", \"name\": \"4 threads\", \"x\": [1000, 2000, 4000, 8000, 16000, 32000, 64000, 128000, 256000, 512000, 1024000, 2048000, 4096000, 8192000, 16384000, 32768000, 65536000], \"y\": [0.001, 0.00189, 0.002405, 0.00666, 0.008123, 0.008701, 0.01777, 0.039174, 0.069585, 0.134224, 0.265981, 0.506948, 1.01817, 2.121524, 4.240717, 8.429914, 16.719583], \"type\": \"scatter\", \"uid\": \"4b339aaa-cf28-11e8-ae2e-bda3ede16b9c\"}, {\"mode\": \"lines+markers\", \"name\": \"5 threads\", \"x\": [1000, 2000, 4000, 8000, 16000, 32000, 64000, 128000, 256000, 512000, 1024000, 2048000, 4096000, 8192000, 16384000, 32768000, 65536000], \"y\": [0.001727, 0.003997, 0.005516, 0.008001, 0.010198, 0.015021, 0.025126, 0.04193, 0.078557, 0.140634, 0.283589, 0.575116, 1.141285, 2.202869, 4.342947, 8.823106, 17.110503], \"type\": \"scatter\", \"uid\": \"4b339b36-cf28-11e8-ae2e-bda3ede16b9c\"}, {\"mode\": \"lines+markers\", \"name\": \"6 threads\", \"x\": [1000, 2000, 4000, 8000, 16000, 32000, 64000, 128000, 256000, 512000, 1024000, 2048000, 4096000, 8192000, 16384000, 32768000, 65536000], \"y\": [0.002057, 0.004956, 0.00811, 0.011162, 0.016218, 0.018298, 0.03105, 0.052753, 0.084862, 0.173884, 0.314963, 0.617951, 1.182889, 2.360305, 4.553658, 8.891057, 18.192513], \"type\": \"scatter\", \"uid\": \"4b339bb8-cf28-11e8-ae2e-bda3ede16b9c\"}], {\"showlegend\": true, \"title\": \"plot 4 of quick sort<br>openMP<br>fixed seed: 123456\", \"xaxis\": {\"title\": \"size of test\"}, \"yaxis\": {\"title\": \"runtime(s)\"}}, {\"showLink\": true, \"linkText\": \"Export to plot.ly\"})});</script>"
      ]
     },
     "metadata": {},
     "output_type": "display_data"
    }
   ],
   "source": [
    "iplot({\n",
    "    \"data\": trace_openmp_testsize[:4],\n",
    "    \"layout\": go.Layout(title=\"plot 3.1 of quick sort<br>openMP<br>fixed small test size\", \n",
    "                        xaxis=dict(title='number of threads'),\n",
    "                        yaxis=dict(title='runtime(s)'),\n",
    "                        showlegend=True,\n",
    "                       )\n",
    "})\n",
    "\n",
    "iplot({\n",
    "    \"data\": trace_openmp_testsize[4:],\n",
    "    \"layout\": go.Layout(title=\"plot 3.2 of quick sort<br>openMP<br>fixed big test size\", \n",
    "                        xaxis=dict(title='number of threads'),\n",
    "                        yaxis=dict(title='runtime(s)'),\n",
    "                        showlegend=True,\n",
    "                       )\n",
    "})\n",
    "\n",
    "iplot({\n",
    "    \"data\": trace_openmp_seed,\n",
    "    \"layout\": go.Layout(title=\"plot 4 of quick sort<br>openMP<br>fixed seed: 123456\", \n",
    "                        xaxis=dict(title='size of test'),\n",
    "                        yaxis=dict(title='runtime(s)'),\n",
    "                        showlegend=True,\n",
    "                       )\n",
    "})"
   ]
  },
  {
   "cell_type": "markdown",
   "metadata": {},
   "source": [
    "# MPI\n",
    "\n",
    "### 任务划分\n",
    "\n",
    "### 数据划分"
   ]
  },
  {
   "cell_type": "code",
   "execution_count": 11,
   "metadata": {},
   "outputs": [
    {
     "data": {
      "application/vnd.plotly.v1+json": {
       "data": [
        {
         "mode": "text",
         "text": [
          "8",
          "9",
          "10",
          "11",
          "12",
          "13",
          "14",
          "15",
          "4",
          "5",
          "6",
          "7",
          "2",
          "3",
          "1"
         ],
         "type": "scatter",
         "uid": "4b3871d8-cf28-11e8-ae2e-bda3ede16b9c",
         "x": [
          2.5,
          6.5,
          10.5,
          14.5,
          18.5,
          22.5,
          26.5,
          30.5,
          4.5,
          12.5,
          20.5,
          28.5,
          8.5,
          24.5,
          16.5
         ],
         "y": [
          1.5,
          1.5,
          1.5,
          1.5,
          1.5,
          1.5,
          1.5,
          1.5,
          3.5,
          3.5,
          3.5,
          3.5,
          5.5,
          5.5,
          7.5
         ]
        }
       ],
       "layout": {
        "shapes": [
         {
          "fillcolor": "gray",
          "line": {
           "color": "rgba(128, 0, 128, 1)",
           "width": 2
          },
          "opacity": 0.3,
          "type": "rect",
          "x0": 1,
          "x1": 4,
          "y0": 1,
          "y1": 2
         },
         {
          "fillcolor": "gray",
          "line": {
           "color": "rgba(128, 0, 128, 1)",
           "width": 2
          },
          "opacity": 0.3,
          "type": "rect",
          "x0": 5,
          "x1": 8,
          "y0": 1,
          "y1": 2
         },
         {
          "fillcolor": "gray",
          "line": {
           "color": "rgba(128, 0, 128, 1)",
           "width": 2
          },
          "opacity": 0.3,
          "type": "rect",
          "x0": 9,
          "x1": 12,
          "y0": 1,
          "y1": 2
         },
         {
          "fillcolor": "gray",
          "line": {
           "color": "rgba(128, 0, 128, 1)",
           "width": 2
          },
          "opacity": 0.3,
          "type": "rect",
          "x0": 13,
          "x1": 16,
          "y0": 1,
          "y1": 2
         },
         {
          "fillcolor": "gray",
          "line": {
           "color": "rgba(128, 0, 128, 1)",
           "width": 2
          },
          "opacity": 0.3,
          "type": "rect",
          "x0": 17,
          "x1": 20,
          "y0": 1,
          "y1": 2
         },
         {
          "fillcolor": "gray",
          "line": {
           "color": "rgba(128, 0, 128, 1)",
           "width": 2
          },
          "opacity": 0.3,
          "type": "rect",
          "x0": 21,
          "x1": 24,
          "y0": 1,
          "y1": 2
         },
         {
          "fillcolor": "gray",
          "line": {
           "color": "rgba(128, 0, 128, 1)",
           "width": 2
          },
          "opacity": 0.3,
          "type": "rect",
          "x0": 25,
          "x1": 28,
          "y0": 1,
          "y1": 2
         },
         {
          "fillcolor": "gray",
          "line": {
           "color": "rgba(128, 0, 128, 1)",
           "width": 2
          },
          "opacity": 0.3,
          "type": "rect",
          "x0": 29,
          "x1": 32,
          "y0": 1,
          "y1": 2
         },
         {
          "fillcolor": "gray",
          "line": {
           "color": "rgba(128, 0, 128, 1)",
           "width": 2
          },
          "opacity": 0.3,
          "type": "rect",
          "x0": 1,
          "x1": 8,
          "y0": 3,
          "y1": 4
         },
         {
          "fillcolor": "gray",
          "line": {
           "color": "rgba(128, 0, 128, 1)",
           "width": 2
          },
          "opacity": 0.3,
          "type": "rect",
          "x0": 9,
          "x1": 16,
          "y0": 3,
          "y1": 4
         },
         {
          "fillcolor": "gray",
          "line": {
           "color": "rgba(128, 0, 128, 1)",
           "width": 2
          },
          "opacity": 0.3,
          "type": "rect",
          "x0": 17,
          "x1": 24,
          "y0": 3,
          "y1": 4
         },
         {
          "fillcolor": "gray",
          "line": {
           "color": "rgba(128, 0, 128, 1)",
           "width": 2
          },
          "opacity": 0.3,
          "type": "rect",
          "x0": 25,
          "x1": 32,
          "y0": 3,
          "y1": 4
         },
         {
          "fillcolor": "gray",
          "line": {
           "color": "rgba(128, 0, 128, 1)",
           "width": 2
          },
          "opacity": 0.3,
          "type": "rect",
          "x0": 1,
          "x1": 16,
          "y0": 5,
          "y1": 6
         },
         {
          "fillcolor": "gray",
          "line": {
           "color": "rgba(128, 0, 128, 1)",
           "width": 2
          },
          "opacity": 0.3,
          "type": "rect",
          "x0": 17,
          "x1": 32,
          "y0": 5,
          "y1": 6
         },
         {
          "fillcolor": "gray",
          "line": {
           "color": "rgba(128, 0, 128, 1)",
           "width": 2
          },
          "opacity": 0.3,
          "type": "rect",
          "x0": 1,
          "x1": 32,
          "y0": 7,
          "y1": 8
         }
        ],
        "xaxis": {
         "range": [
          0,
          35
         ],
         "showgrid": false,
         "showline": false,
         "showticklabels": false,
         "ticks": "",
         "zeroline": false
        },
        "yaxis": {
         "range": [
          0,
          10
         ],
         "showgrid": false,
         "showline": false,
         "showticklabels": false,
         "ticks": "",
         "zeroline": false
        }
       }
      },
      "text/html": [
       "<div id=\"6aa51e95-1032-4beb-a2c0-f68b6f6dc92a\" style=\"height: 525px; width: 100%;\" class=\"plotly-graph-div\"></div><script type=\"text/javascript\">require([\"plotly\"], function(Plotly) { window.PLOTLYENV=window.PLOTLYENV || {};window.PLOTLYENV.BASE_URL=\"https://plot.ly\";Plotly.newPlot(\"6aa51e95-1032-4beb-a2c0-f68b6f6dc92a\", [{\"mode\": \"text\", \"text\": [\"8\", \"9\", \"10\", \"11\", \"12\", \"13\", \"14\", \"15\", \"4\", \"5\", \"6\", \"7\", \"2\", \"3\", \"1\"], \"x\": [2.5, 6.5, 10.5, 14.5, 18.5, 22.5, 26.5, 30.5, 4.5, 12.5, 20.5, 28.5, 8.5, 24.5, 16.5], \"y\": [1.5, 1.5, 1.5, 1.5, 1.5, 1.5, 1.5, 1.5, 3.5, 3.5, 3.5, 3.5, 5.5, 5.5, 7.5], \"type\": \"scatter\", \"uid\": \"4b3d0090-cf28-11e8-ae2e-bda3ede16b9c\"}], {\"shapes\": [{\"fillcolor\": \"gray\", \"line\": {\"color\": \"rgba(128, 0, 128, 1)\", \"width\": 2}, \"opacity\": 0.3, \"type\": \"rect\", \"x0\": 1, \"x1\": 4, \"y0\": 1, \"y1\": 2}, {\"fillcolor\": \"gray\", \"line\": {\"color\": \"rgba(128, 0, 128, 1)\", \"width\": 2}, \"opacity\": 0.3, \"type\": \"rect\", \"x0\": 5, \"x1\": 8, \"y0\": 1, \"y1\": 2}, {\"fillcolor\": \"gray\", \"line\": {\"color\": \"rgba(128, 0, 128, 1)\", \"width\": 2}, \"opacity\": 0.3, \"type\": \"rect\", \"x0\": 9, \"x1\": 12, \"y0\": 1, \"y1\": 2}, {\"fillcolor\": \"gray\", \"line\": {\"color\": \"rgba(128, 0, 128, 1)\", \"width\": 2}, \"opacity\": 0.3, \"type\": \"rect\", \"x0\": 13, \"x1\": 16, \"y0\": 1, \"y1\": 2}, {\"fillcolor\": \"gray\", \"line\": {\"color\": \"rgba(128, 0, 128, 1)\", \"width\": 2}, \"opacity\": 0.3, \"type\": \"rect\", \"x0\": 17, \"x1\": 20, \"y0\": 1, \"y1\": 2}, {\"fillcolor\": \"gray\", \"line\": {\"color\": \"rgba(128, 0, 128, 1)\", \"width\": 2}, \"opacity\": 0.3, \"type\": \"rect\", \"x0\": 21, \"x1\": 24, \"y0\": 1, \"y1\": 2}, {\"fillcolor\": \"gray\", \"line\": {\"color\": \"rgba(128, 0, 128, 1)\", \"width\": 2}, \"opacity\": 0.3, \"type\": \"rect\", \"x0\": 25, \"x1\": 28, \"y0\": 1, \"y1\": 2}, {\"fillcolor\": \"gray\", \"line\": {\"color\": \"rgba(128, 0, 128, 1)\", \"width\": 2}, \"opacity\": 0.3, \"type\": \"rect\", \"x0\": 29, \"x1\": 32, \"y0\": 1, \"y1\": 2}, {\"fillcolor\": \"gray\", \"line\": {\"color\": \"rgba(128, 0, 128, 1)\", \"width\": 2}, \"opacity\": 0.3, \"type\": \"rect\", \"x0\": 1, \"x1\": 8, \"y0\": 3, \"y1\": 4}, {\"fillcolor\": \"gray\", \"line\": {\"color\": \"rgba(128, 0, 128, 1)\", \"width\": 2}, \"opacity\": 0.3, \"type\": \"rect\", \"x0\": 9, \"x1\": 16, \"y0\": 3, \"y1\": 4}, {\"fillcolor\": \"gray\", \"line\": {\"color\": \"rgba(128, 0, 128, 1)\", \"width\": 2}, \"opacity\": 0.3, \"type\": \"rect\", \"x0\": 17, \"x1\": 24, \"y0\": 3, \"y1\": 4}, {\"fillcolor\": \"gray\", \"line\": {\"color\": \"rgba(128, 0, 128, 1)\", \"width\": 2}, \"opacity\": 0.3, \"type\": \"rect\", \"x0\": 25, \"x1\": 32, \"y0\": 3, \"y1\": 4}, {\"fillcolor\": \"gray\", \"line\": {\"color\": \"rgba(128, 0, 128, 1)\", \"width\": 2}, \"opacity\": 0.3, \"type\": \"rect\", \"x0\": 1, \"x1\": 16, \"y0\": 5, \"y1\": 6}, {\"fillcolor\": \"gray\", \"line\": {\"color\": \"rgba(128, 0, 128, 1)\", \"width\": 2}, \"opacity\": 0.3, \"type\": \"rect\", \"x0\": 17, \"x1\": 32, \"y0\": 5, \"y1\": 6}, {\"fillcolor\": \"gray\", \"line\": {\"color\": \"rgba(128, 0, 128, 1)\", \"width\": 2}, \"opacity\": 0.3, \"type\": \"rect\", \"x0\": 1, \"x1\": 32, \"y0\": 7, \"y1\": 8}], \"xaxis\": {\"range\": [0, 35], \"showgrid\": false, \"showline\": false, \"showticklabels\": false, \"ticks\": \"\", \"zeroline\": false}, \"yaxis\": {\"range\": [0, 10], \"showgrid\": false, \"showline\": false, \"showticklabels\": false, \"ticks\": \"\", \"zeroline\": false}}, {\"showLink\": true, \"linkText\": \"Export to plot.ly\"})});</script>"
      ],
      "text/vnd.plotly.v1+html": [
       "<div id=\"6aa51e95-1032-4beb-a2c0-f68b6f6dc92a\" style=\"height: 525px; width: 100%;\" class=\"plotly-graph-div\"></div><script type=\"text/javascript\">require([\"plotly\"], function(Plotly) { window.PLOTLYENV=window.PLOTLYENV || {};window.PLOTLYENV.BASE_URL=\"https://plot.ly\";Plotly.newPlot(\"6aa51e95-1032-4beb-a2c0-f68b6f6dc92a\", [{\"mode\": \"text\", \"text\": [\"8\", \"9\", \"10\", \"11\", \"12\", \"13\", \"14\", \"15\", \"4\", \"5\", \"6\", \"7\", \"2\", \"3\", \"1\"], \"x\": [2.5, 6.5, 10.5, 14.5, 18.5, 22.5, 26.5, 30.5, 4.5, 12.5, 20.5, 28.5, 8.5, 24.5, 16.5], \"y\": [1.5, 1.5, 1.5, 1.5, 1.5, 1.5, 1.5, 1.5, 3.5, 3.5, 3.5, 3.5, 5.5, 5.5, 7.5], \"type\": \"scatter\", \"uid\": \"4b3d0090-cf28-11e8-ae2e-bda3ede16b9c\"}], {\"shapes\": [{\"fillcolor\": \"gray\", \"line\": {\"color\": \"rgba(128, 0, 128, 1)\", \"width\": 2}, \"opacity\": 0.3, \"type\": \"rect\", \"x0\": 1, \"x1\": 4, \"y0\": 1, \"y1\": 2}, {\"fillcolor\": \"gray\", \"line\": {\"color\": \"rgba(128, 0, 128, 1)\", \"width\": 2}, \"opacity\": 0.3, \"type\": \"rect\", \"x0\": 5, \"x1\": 8, \"y0\": 1, \"y1\": 2}, {\"fillcolor\": \"gray\", \"line\": {\"color\": \"rgba(128, 0, 128, 1)\", \"width\": 2}, \"opacity\": 0.3, \"type\": \"rect\", \"x0\": 9, \"x1\": 12, \"y0\": 1, \"y1\": 2}, {\"fillcolor\": \"gray\", \"line\": {\"color\": \"rgba(128, 0, 128, 1)\", \"width\": 2}, \"opacity\": 0.3, \"type\": \"rect\", \"x0\": 13, \"x1\": 16, \"y0\": 1, \"y1\": 2}, {\"fillcolor\": \"gray\", \"line\": {\"color\": \"rgba(128, 0, 128, 1)\", \"width\": 2}, \"opacity\": 0.3, \"type\": \"rect\", \"x0\": 17, \"x1\": 20, \"y0\": 1, \"y1\": 2}, {\"fillcolor\": \"gray\", \"line\": {\"color\": \"rgba(128, 0, 128, 1)\", \"width\": 2}, \"opacity\": 0.3, \"type\": \"rect\", \"x0\": 21, \"x1\": 24, \"y0\": 1, \"y1\": 2}, {\"fillcolor\": \"gray\", \"line\": {\"color\": \"rgba(128, 0, 128, 1)\", \"width\": 2}, \"opacity\": 0.3, \"type\": \"rect\", \"x0\": 25, \"x1\": 28, \"y0\": 1, \"y1\": 2}, {\"fillcolor\": \"gray\", \"line\": {\"color\": \"rgba(128, 0, 128, 1)\", \"width\": 2}, \"opacity\": 0.3, \"type\": \"rect\", \"x0\": 29, \"x1\": 32, \"y0\": 1, \"y1\": 2}, {\"fillcolor\": \"gray\", \"line\": {\"color\": \"rgba(128, 0, 128, 1)\", \"width\": 2}, \"opacity\": 0.3, \"type\": \"rect\", \"x0\": 1, \"x1\": 8, \"y0\": 3, \"y1\": 4}, {\"fillcolor\": \"gray\", \"line\": {\"color\": \"rgba(128, 0, 128, 1)\", \"width\": 2}, \"opacity\": 0.3, \"type\": \"rect\", \"x0\": 9, \"x1\": 16, \"y0\": 3, \"y1\": 4}, {\"fillcolor\": \"gray\", \"line\": {\"color\": \"rgba(128, 0, 128, 1)\", \"width\": 2}, \"opacity\": 0.3, \"type\": \"rect\", \"x0\": 17, \"x1\": 24, \"y0\": 3, \"y1\": 4}, {\"fillcolor\": \"gray\", \"line\": {\"color\": \"rgba(128, 0, 128, 1)\", \"width\": 2}, \"opacity\": 0.3, \"type\": \"rect\", \"x0\": 25, \"x1\": 32, \"y0\": 3, \"y1\": 4}, {\"fillcolor\": \"gray\", \"line\": {\"color\": \"rgba(128, 0, 128, 1)\", \"width\": 2}, \"opacity\": 0.3, \"type\": \"rect\", \"x0\": 1, \"x1\": 16, \"y0\": 5, \"y1\": 6}, {\"fillcolor\": \"gray\", \"line\": {\"color\": \"rgba(128, 0, 128, 1)\", \"width\": 2}, \"opacity\": 0.3, \"type\": \"rect\", \"x0\": 17, \"x1\": 32, \"y0\": 5, \"y1\": 6}, {\"fillcolor\": \"gray\", \"line\": {\"color\": \"rgba(128, 0, 128, 1)\", \"width\": 2}, \"opacity\": 0.3, \"type\": \"rect\", \"x0\": 1, \"x1\": 32, \"y0\": 7, \"y1\": 8}], \"xaxis\": {\"range\": [0, 35], \"showgrid\": false, \"showline\": false, \"showticklabels\": false, \"ticks\": \"\", \"zeroline\": false}, \"yaxis\": {\"range\": [0, 10], \"showgrid\": false, \"showline\": false, \"showticklabels\": false, \"ticks\": \"\", \"zeroline\": false}}, {\"showLink\": true, \"linkText\": \"Export to plot.ly\"})});</script>"
      ]
     },
     "metadata": {},
     "output_type": "display_data"
    }
   ],
   "source": [
    "def gen_shapes(stx, sty, width, height, n, gapx=1):\n",
    "    ret = []\n",
    "    point_x = []\n",
    "    point_y = []\n",
    "    edy = sty + height\n",
    "    for i in range(n):\n",
    "        x = stx + i * (width + gapx)\n",
    "        edx = x + width\n",
    "        ret.append({\n",
    "            'type': 'rect',\n",
    "            'x0': x,\n",
    "            'y0': sty,\n",
    "            'x1': edx,\n",
    "            'y1': edy,\n",
    "            'line': {\n",
    "                'color': 'rgba(128, 0, 128, 1)',\n",
    "                'width': 2,\n",
    "            },\n",
    "            'fillcolor': 'gray',\n",
    "            'opacity': 0.3,\n",
    "        })\n",
    "        point_x.append(x / 2 + edx / 2)\n",
    "        point_y.append(sty / 2 + edy / 2)\n",
    "    return ret, point_x, point_y\n",
    "\n",
    "def gen_all_shapes(stx, sty, base_width, base_height, n, gapx, gapy):\n",
    "    ret = []\n",
    "    point_x = []\n",
    "    point_y = []\n",
    "    for i in range(n):\n",
    "        l = 2 ** (n - i - 1)\n",
    "        cnt = 2 ** i\n",
    "        curx = stx\n",
    "        cury = sty + i * (base_height + gapy)\n",
    "        width = cnt * (base_width + gapx) - gapx\n",
    "        shapes, px, py = gen_shapes(curx, cury, width, base_height, l, gapx)\n",
    "        ret.extend(shapes)\n",
    "        point_x.extend(px)\n",
    "        point_y.extend(py)\n",
    "    return ret, point_x, point_y\n",
    "\n",
    "shapes, x, y = gen_all_shapes(1, 1, 3, 1, 4, 1, 1)\n",
    "text = []\n",
    "for i in range(4):\n",
    "    l = 2 ** (3 - i)\n",
    "    for j in range(l, l + l):\n",
    "        text.append(j)\n",
    "\n",
    "trace0 = go.Scatter(\n",
    "    x=x,\n",
    "    y=y,\n",
    "    text=text,\n",
    "    mode='text',\n",
    ")\n",
    "data = [trace0]\n",
    "\n",
    "layout = {\n",
    "    'xaxis': {\n",
    "        'range': [0, 35],\n",
    "        'showgrid': False,\n",
    "        'zeroline': False,\n",
    "        'showline': False,\n",
    "        'ticks': '',\n",
    "        'showticklabels': False,\n",
    "    },\n",
    "    'yaxis': {\n",
    "        'range': [0, 10],\n",
    "        'showgrid': False,\n",
    "        'zeroline': False,\n",
    "        'showline': False,\n",
    "        'ticks': '',\n",
    "        'showticklabels': False,\n",
    "    },\n",
    "    'shapes': shapes,\n",
    "}\n",
    "fig = {\n",
    "    'data': data,\n",
    "    'layout': layout,\n",
    "}\n",
    "iplot(fig)"
   ]
  },
  {
   "cell_type": "code",
   "execution_count": 12,
   "metadata": {},
   "outputs": [
    {
     "data": {
      "application/vnd.plotly.v1+json": {
       "data": [
        {
         "mode": "text",
         "text": [
          "1",
          "5",
          "3",
          "6",
          "2",
          "7",
          "4",
          "8",
          "1",
          "3",
          "2",
          "4",
          "1",
          "2",
          "1"
         ],
         "type": "scatter",
         "uid": "4b41bf22-cf28-11e8-ae2e-bda3ede16b9c",
         "x": [
          2.5,
          6.5,
          10.5,
          14.5,
          18.5,
          22.5,
          26.5,
          30.5,
          4.5,
          12.5,
          20.5,
          28.5,
          8.5,
          24.5,
          16.5
         ],
         "y": [
          1.5,
          1.5,
          1.5,
          1.5,
          1.5,
          1.5,
          1.5,
          1.5,
          3.5,
          3.5,
          3.5,
          3.5,
          5.5,
          5.5,
          7.5
         ]
        }
       ],
       "layout": {
        "shapes": [
         {
          "fillcolor": "gray",
          "line": {
           "color": "rgba(128, 0, 128, 1)",
           "width": 2
          },
          "opacity": 0.3,
          "type": "rect",
          "x0": 1,
          "x1": 4,
          "y0": 1,
          "y1": 2
         },
         {
          "fillcolor": "gray",
          "line": {
           "color": "rgba(128, 0, 128, 1)",
           "width": 2
          },
          "opacity": 0.3,
          "type": "rect",
          "x0": 5,
          "x1": 8,
          "y0": 1,
          "y1": 2
         },
         {
          "fillcolor": "gray",
          "line": {
           "color": "rgba(128, 0, 128, 1)",
           "width": 2
          },
          "opacity": 0.3,
          "type": "rect",
          "x0": 9,
          "x1": 12,
          "y0": 1,
          "y1": 2
         },
         {
          "fillcolor": "gray",
          "line": {
           "color": "rgba(128, 0, 128, 1)",
           "width": 2
          },
          "opacity": 0.3,
          "type": "rect",
          "x0": 13,
          "x1": 16,
          "y0": 1,
          "y1": 2
         },
         {
          "fillcolor": "gray",
          "line": {
           "color": "rgba(128, 0, 128, 1)",
           "width": 2
          },
          "opacity": 0.3,
          "type": "rect",
          "x0": 17,
          "x1": 20,
          "y0": 1,
          "y1": 2
         },
         {
          "fillcolor": "gray",
          "line": {
           "color": "rgba(128, 0, 128, 1)",
           "width": 2
          },
          "opacity": 0.3,
          "type": "rect",
          "x0": 21,
          "x1": 24,
          "y0": 1,
          "y1": 2
         },
         {
          "fillcolor": "gray",
          "line": {
           "color": "rgba(128, 0, 128, 1)",
           "width": 2
          },
          "opacity": 0.3,
          "type": "rect",
          "x0": 25,
          "x1": 28,
          "y0": 1,
          "y1": 2
         },
         {
          "fillcolor": "gray",
          "line": {
           "color": "rgba(128, 0, 128, 1)",
           "width": 2
          },
          "opacity": 0.3,
          "type": "rect",
          "x0": 29,
          "x1": 32,
          "y0": 1,
          "y1": 2
         },
         {
          "fillcolor": "gray",
          "line": {
           "color": "rgba(128, 0, 128, 1)",
           "width": 2
          },
          "opacity": 0.3,
          "type": "rect",
          "x0": 1,
          "x1": 8,
          "y0": 3,
          "y1": 4
         },
         {
          "fillcolor": "gray",
          "line": {
           "color": "rgba(128, 0, 128, 1)",
           "width": 2
          },
          "opacity": 0.3,
          "type": "rect",
          "x0": 9,
          "x1": 16,
          "y0": 3,
          "y1": 4
         },
         {
          "fillcolor": "gray",
          "line": {
           "color": "rgba(128, 0, 128, 1)",
           "width": 2
          },
          "opacity": 0.3,
          "type": "rect",
          "x0": 17,
          "x1": 24,
          "y0": 3,
          "y1": 4
         },
         {
          "fillcolor": "gray",
          "line": {
           "color": "rgba(128, 0, 128, 1)",
           "width": 2
          },
          "opacity": 0.3,
          "type": "rect",
          "x0": 25,
          "x1": 32,
          "y0": 3,
          "y1": 4
         },
         {
          "fillcolor": "gray",
          "line": {
           "color": "rgba(128, 0, 128, 1)",
           "width": 2
          },
          "opacity": 0.3,
          "type": "rect",
          "x0": 1,
          "x1": 16,
          "y0": 5,
          "y1": 6
         },
         {
          "fillcolor": "gray",
          "line": {
           "color": "rgba(128, 0, 128, 1)",
           "width": 2
          },
          "opacity": 0.3,
          "type": "rect",
          "x0": 17,
          "x1": 32,
          "y0": 5,
          "y1": 6
         },
         {
          "fillcolor": "gray",
          "line": {
           "color": "rgba(128, 0, 128, 1)",
           "width": 2
          },
          "opacity": 0.3,
          "type": "rect",
          "x0": 1,
          "x1": 32,
          "y0": 7,
          "y1": 8
         }
        ],
        "xaxis": {
         "range": [
          0,
          35
         ],
         "showgrid": false,
         "showline": false,
         "showticklabels": false,
         "ticks": "",
         "zeroline": false
        },
        "yaxis": {
         "range": [
          0,
          10
         ],
         "showgrid": false,
         "showline": false,
         "showticklabels": false,
         "ticks": "",
         "zeroline": false
        }
       }
      },
      "text/html": [
       "<div id=\"ba690150-02b8-469a-95ed-33d632678d0f\" style=\"height: 525px; width: 100%;\" class=\"plotly-graph-div\"></div><script type=\"text/javascript\">require([\"plotly\"], function(Plotly) { window.PLOTLYENV=window.PLOTLYENV || {};window.PLOTLYENV.BASE_URL=\"https://plot.ly\";Plotly.newPlot(\"ba690150-02b8-469a-95ed-33d632678d0f\", [{\"mode\": \"text\", \"text\": [\"1\", \"5\", \"3\", \"6\", \"2\", \"7\", \"4\", \"8\", \"1\", \"3\", \"2\", \"4\", \"1\", \"2\", \"1\"], \"x\": [2.5, 6.5, 10.5, 14.5, 18.5, 22.5, 26.5, 30.5, 4.5, 12.5, 20.5, 28.5, 8.5, 24.5, 16.5], \"y\": [1.5, 1.5, 1.5, 1.5, 1.5, 1.5, 1.5, 1.5, 3.5, 3.5, 3.5, 3.5, 5.5, 5.5, 7.5], \"type\": \"scatter\", \"uid\": \"4b454520-cf28-11e8-ae2e-bda3ede16b9c\"}], {\"shapes\": [{\"fillcolor\": \"gray\", \"line\": {\"color\": \"rgba(128, 0, 128, 1)\", \"width\": 2}, \"opacity\": 0.3, \"type\": \"rect\", \"x0\": 1, \"x1\": 4, \"y0\": 1, \"y1\": 2}, {\"fillcolor\": \"gray\", \"line\": {\"color\": \"rgba(128, 0, 128, 1)\", \"width\": 2}, \"opacity\": 0.3, \"type\": \"rect\", \"x0\": 5, \"x1\": 8, \"y0\": 1, \"y1\": 2}, {\"fillcolor\": \"gray\", \"line\": {\"color\": \"rgba(128, 0, 128, 1)\", \"width\": 2}, \"opacity\": 0.3, \"type\": \"rect\", \"x0\": 9, \"x1\": 12, \"y0\": 1, \"y1\": 2}, {\"fillcolor\": \"gray\", \"line\": {\"color\": \"rgba(128, 0, 128, 1)\", \"width\": 2}, \"opacity\": 0.3, \"type\": \"rect\", \"x0\": 13, \"x1\": 16, \"y0\": 1, \"y1\": 2}, {\"fillcolor\": \"gray\", \"line\": {\"color\": \"rgba(128, 0, 128, 1)\", \"width\": 2}, \"opacity\": 0.3, \"type\": \"rect\", \"x0\": 17, \"x1\": 20, \"y0\": 1, \"y1\": 2}, {\"fillcolor\": \"gray\", \"line\": {\"color\": \"rgba(128, 0, 128, 1)\", \"width\": 2}, \"opacity\": 0.3, \"type\": \"rect\", \"x0\": 21, \"x1\": 24, \"y0\": 1, \"y1\": 2}, {\"fillcolor\": \"gray\", \"line\": {\"color\": \"rgba(128, 0, 128, 1)\", \"width\": 2}, \"opacity\": 0.3, \"type\": \"rect\", \"x0\": 25, \"x1\": 28, \"y0\": 1, \"y1\": 2}, {\"fillcolor\": \"gray\", \"line\": {\"color\": \"rgba(128, 0, 128, 1)\", \"width\": 2}, \"opacity\": 0.3, \"type\": \"rect\", \"x0\": 29, \"x1\": 32, \"y0\": 1, \"y1\": 2}, {\"fillcolor\": \"gray\", \"line\": {\"color\": \"rgba(128, 0, 128, 1)\", \"width\": 2}, \"opacity\": 0.3, \"type\": \"rect\", \"x0\": 1, \"x1\": 8, \"y0\": 3, \"y1\": 4}, {\"fillcolor\": \"gray\", \"line\": {\"color\": \"rgba(128, 0, 128, 1)\", \"width\": 2}, \"opacity\": 0.3, \"type\": \"rect\", \"x0\": 9, \"x1\": 16, \"y0\": 3, \"y1\": 4}, {\"fillcolor\": \"gray\", \"line\": {\"color\": \"rgba(128, 0, 128, 1)\", \"width\": 2}, \"opacity\": 0.3, \"type\": \"rect\", \"x0\": 17, \"x1\": 24, \"y0\": 3, \"y1\": 4}, {\"fillcolor\": \"gray\", \"line\": {\"color\": \"rgba(128, 0, 128, 1)\", \"width\": 2}, \"opacity\": 0.3, \"type\": \"rect\", \"x0\": 25, \"x1\": 32, \"y0\": 3, \"y1\": 4}, {\"fillcolor\": \"gray\", \"line\": {\"color\": \"rgba(128, 0, 128, 1)\", \"width\": 2}, \"opacity\": 0.3, \"type\": \"rect\", \"x0\": 1, \"x1\": 16, \"y0\": 5, \"y1\": 6}, {\"fillcolor\": \"gray\", \"line\": {\"color\": \"rgba(128, 0, 128, 1)\", \"width\": 2}, \"opacity\": 0.3, \"type\": \"rect\", \"x0\": 17, \"x1\": 32, \"y0\": 5, \"y1\": 6}, {\"fillcolor\": \"gray\", \"line\": {\"color\": \"rgba(128, 0, 128, 1)\", \"width\": 2}, \"opacity\": 0.3, \"type\": \"rect\", \"x0\": 1, \"x1\": 32, \"y0\": 7, \"y1\": 8}], \"xaxis\": {\"range\": [0, 35], \"showgrid\": false, \"showline\": false, \"showticklabels\": false, \"ticks\": \"\", \"zeroline\": false}, \"yaxis\": {\"range\": [0, 10], \"showgrid\": false, \"showline\": false, \"showticklabels\": false, \"ticks\": \"\", \"zeroline\": false}}, {\"showLink\": true, \"linkText\": \"Export to plot.ly\"})});</script>"
      ],
      "text/vnd.plotly.v1+html": [
       "<div id=\"ba690150-02b8-469a-95ed-33d632678d0f\" style=\"height: 525px; width: 100%;\" class=\"plotly-graph-div\"></div><script type=\"text/javascript\">require([\"plotly\"], function(Plotly) { window.PLOTLYENV=window.PLOTLYENV || {};window.PLOTLYENV.BASE_URL=\"https://plot.ly\";Plotly.newPlot(\"ba690150-02b8-469a-95ed-33d632678d0f\", [{\"mode\": \"text\", \"text\": [\"1\", \"5\", \"3\", \"6\", \"2\", \"7\", \"4\", \"8\", \"1\", \"3\", \"2\", \"4\", \"1\", \"2\", \"1\"], \"x\": [2.5, 6.5, 10.5, 14.5, 18.5, 22.5, 26.5, 30.5, 4.5, 12.5, 20.5, 28.5, 8.5, 24.5, 16.5], \"y\": [1.5, 1.5, 1.5, 1.5, 1.5, 1.5, 1.5, 1.5, 3.5, 3.5, 3.5, 3.5, 5.5, 5.5, 7.5], \"type\": \"scatter\", \"uid\": \"4b454520-cf28-11e8-ae2e-bda3ede16b9c\"}], {\"shapes\": [{\"fillcolor\": \"gray\", \"line\": {\"color\": \"rgba(128, 0, 128, 1)\", \"width\": 2}, \"opacity\": 0.3, \"type\": \"rect\", \"x0\": 1, \"x1\": 4, \"y0\": 1, \"y1\": 2}, {\"fillcolor\": \"gray\", \"line\": {\"color\": \"rgba(128, 0, 128, 1)\", \"width\": 2}, \"opacity\": 0.3, \"type\": \"rect\", \"x0\": 5, \"x1\": 8, \"y0\": 1, \"y1\": 2}, {\"fillcolor\": \"gray\", \"line\": {\"color\": \"rgba(128, 0, 128, 1)\", \"width\": 2}, \"opacity\": 0.3, \"type\": \"rect\", \"x0\": 9, \"x1\": 12, \"y0\": 1, \"y1\": 2}, {\"fillcolor\": \"gray\", \"line\": {\"color\": \"rgba(128, 0, 128, 1)\", \"width\": 2}, \"opacity\": 0.3, \"type\": \"rect\", \"x0\": 13, \"x1\": 16, \"y0\": 1, \"y1\": 2}, {\"fillcolor\": \"gray\", \"line\": {\"color\": \"rgba(128, 0, 128, 1)\", \"width\": 2}, \"opacity\": 0.3, \"type\": \"rect\", \"x0\": 17, \"x1\": 20, \"y0\": 1, \"y1\": 2}, {\"fillcolor\": \"gray\", \"line\": {\"color\": \"rgba(128, 0, 128, 1)\", \"width\": 2}, \"opacity\": 0.3, \"type\": \"rect\", \"x0\": 21, \"x1\": 24, \"y0\": 1, \"y1\": 2}, {\"fillcolor\": \"gray\", \"line\": {\"color\": \"rgba(128, 0, 128, 1)\", \"width\": 2}, \"opacity\": 0.3, \"type\": \"rect\", \"x0\": 25, \"x1\": 28, \"y0\": 1, \"y1\": 2}, {\"fillcolor\": \"gray\", \"line\": {\"color\": \"rgba(128, 0, 128, 1)\", \"width\": 2}, \"opacity\": 0.3, \"type\": \"rect\", \"x0\": 29, \"x1\": 32, \"y0\": 1, \"y1\": 2}, {\"fillcolor\": \"gray\", \"line\": {\"color\": \"rgba(128, 0, 128, 1)\", \"width\": 2}, \"opacity\": 0.3, \"type\": \"rect\", \"x0\": 1, \"x1\": 8, \"y0\": 3, \"y1\": 4}, {\"fillcolor\": \"gray\", \"line\": {\"color\": \"rgba(128, 0, 128, 1)\", \"width\": 2}, \"opacity\": 0.3, \"type\": \"rect\", \"x0\": 9, \"x1\": 16, \"y0\": 3, \"y1\": 4}, {\"fillcolor\": \"gray\", \"line\": {\"color\": \"rgba(128, 0, 128, 1)\", \"width\": 2}, \"opacity\": 0.3, \"type\": \"rect\", \"x0\": 17, \"x1\": 24, \"y0\": 3, \"y1\": 4}, {\"fillcolor\": \"gray\", \"line\": {\"color\": \"rgba(128, 0, 128, 1)\", \"width\": 2}, \"opacity\": 0.3, \"type\": \"rect\", \"x0\": 25, \"x1\": 32, \"y0\": 3, \"y1\": 4}, {\"fillcolor\": \"gray\", \"line\": {\"color\": \"rgba(128, 0, 128, 1)\", \"width\": 2}, \"opacity\": 0.3, \"type\": \"rect\", \"x0\": 1, \"x1\": 16, \"y0\": 5, \"y1\": 6}, {\"fillcolor\": \"gray\", \"line\": {\"color\": \"rgba(128, 0, 128, 1)\", \"width\": 2}, \"opacity\": 0.3, \"type\": \"rect\", \"x0\": 17, \"x1\": 32, \"y0\": 5, \"y1\": 6}, {\"fillcolor\": \"gray\", \"line\": {\"color\": \"rgba(128, 0, 128, 1)\", \"width\": 2}, \"opacity\": 0.3, \"type\": \"rect\", \"x0\": 1, \"x1\": 32, \"y0\": 7, \"y1\": 8}], \"xaxis\": {\"range\": [0, 35], \"showgrid\": false, \"showline\": false, \"showticklabels\": false, \"ticks\": \"\", \"zeroline\": false}, \"yaxis\": {\"range\": [0, 10], \"showgrid\": false, \"showline\": false, \"showticklabels\": false, \"ticks\": \"\", \"zeroline\": false}}, {\"showLink\": true, \"linkText\": \"Export to plot.ly\"})});</script>"
      ]
     },
     "metadata": {},
     "output_type": "display_data"
    }
   ],
   "source": [
    "trace1 = go.Scatter(\n",
    "    x=x,\n",
    "    y=y,\n",
    "    text=[1,5,3,6,2,7,4,8,1,3,2,4,1,2,1],\n",
    "    mode='text',\n",
    ")\n",
    "iplot({\n",
    "    'data': [trace1],\n",
    "    'layout': layout,\n",
    "})"
   ]
  },
  {
   "cell_type": "code",
   "execution_count": 13,
   "metadata": {},
   "outputs": [
    {
     "data": {
      "application/vnd.plotly.v1+json": {
       "data": [
        {
         "mode": "text",
         "text": [
          "1",
          "5=1+2^2",
          "3",
          "7=3+2^2",
          "2",
          "6=2+2^2",
          "4",
          "8=4+2^2",
          "1",
          "3=1+2^1",
          "2",
          "4=2+2^1",
          "1",
          "2=1+2^0",
          "1"
         ],
         "type": "scatter",
         "uid": "4b499bf2-cf28-11e8-ae2e-bda3ede16b9c",
         "x": [
          2.5,
          6.5,
          10.5,
          14.5,
          18.5,
          22.5,
          26.5,
          30.5,
          4.5,
          12.5,
          20.5,
          28.5,
          8.5,
          24.5,
          16.5
         ],
         "y": [
          1.5,
          1.5,
          1.5,
          1.5,
          1.5,
          1.5,
          1.5,
          1.5,
          3.5,
          3.5,
          3.5,
          3.5,
          5.5,
          5.5,
          7.5
         ]
        }
       ],
       "layout": {
        "shapes": [
         {
          "fillcolor": "gray",
          "line": {
           "color": "rgba(128, 0, 128, 1)",
           "width": 2
          },
          "opacity": 0.3,
          "type": "rect",
          "x0": 1,
          "x1": 4,
          "y0": 1,
          "y1": 2
         },
         {
          "fillcolor": "gray",
          "line": {
           "color": "rgba(128, 0, 128, 1)",
           "width": 2
          },
          "opacity": 0.3,
          "type": "rect",
          "x0": 5,
          "x1": 8,
          "y0": 1,
          "y1": 2
         },
         {
          "fillcolor": "gray",
          "line": {
           "color": "rgba(128, 0, 128, 1)",
           "width": 2
          },
          "opacity": 0.3,
          "type": "rect",
          "x0": 9,
          "x1": 12,
          "y0": 1,
          "y1": 2
         },
         {
          "fillcolor": "gray",
          "line": {
           "color": "rgba(128, 0, 128, 1)",
           "width": 2
          },
          "opacity": 0.3,
          "type": "rect",
          "x0": 13,
          "x1": 16,
          "y0": 1,
          "y1": 2
         },
         {
          "fillcolor": "gray",
          "line": {
           "color": "rgba(128, 0, 128, 1)",
           "width": 2
          },
          "opacity": 0.3,
          "type": "rect",
          "x0": 17,
          "x1": 20,
          "y0": 1,
          "y1": 2
         },
         {
          "fillcolor": "gray",
          "line": {
           "color": "rgba(128, 0, 128, 1)",
           "width": 2
          },
          "opacity": 0.3,
          "type": "rect",
          "x0": 21,
          "x1": 24,
          "y0": 1,
          "y1": 2
         },
         {
          "fillcolor": "gray",
          "line": {
           "color": "rgba(128, 0, 128, 1)",
           "width": 2
          },
          "opacity": 0.3,
          "type": "rect",
          "x0": 25,
          "x1": 28,
          "y0": 1,
          "y1": 2
         },
         {
          "fillcolor": "gray",
          "line": {
           "color": "rgba(128, 0, 128, 1)",
           "width": 2
          },
          "opacity": 0.3,
          "type": "rect",
          "x0": 29,
          "x1": 32,
          "y0": 1,
          "y1": 2
         },
         {
          "fillcolor": "gray",
          "line": {
           "color": "rgba(128, 0, 128, 1)",
           "width": 2
          },
          "opacity": 0.3,
          "type": "rect",
          "x0": 1,
          "x1": 8,
          "y0": 3,
          "y1": 4
         },
         {
          "fillcolor": "gray",
          "line": {
           "color": "rgba(128, 0, 128, 1)",
           "width": 2
          },
          "opacity": 0.3,
          "type": "rect",
          "x0": 9,
          "x1": 16,
          "y0": 3,
          "y1": 4
         },
         {
          "fillcolor": "gray",
          "line": {
           "color": "rgba(128, 0, 128, 1)",
           "width": 2
          },
          "opacity": 0.3,
          "type": "rect",
          "x0": 17,
          "x1": 24,
          "y0": 3,
          "y1": 4
         },
         {
          "fillcolor": "gray",
          "line": {
           "color": "rgba(128, 0, 128, 1)",
           "width": 2
          },
          "opacity": 0.3,
          "type": "rect",
          "x0": 25,
          "x1": 32,
          "y0": 3,
          "y1": 4
         },
         {
          "fillcolor": "gray",
          "line": {
           "color": "rgba(128, 0, 128, 1)",
           "width": 2
          },
          "opacity": 0.3,
          "type": "rect",
          "x0": 1,
          "x1": 16,
          "y0": 5,
          "y1": 6
         },
         {
          "fillcolor": "gray",
          "line": {
           "color": "rgba(128, 0, 128, 1)",
           "width": 2
          },
          "opacity": 0.3,
          "type": "rect",
          "x0": 17,
          "x1": 32,
          "y0": 5,
          "y1": 6
         },
         {
          "fillcolor": "gray",
          "line": {
           "color": "rgba(128, 0, 128, 1)",
           "width": 2
          },
          "opacity": 0.3,
          "type": "rect",
          "x0": 1,
          "x1": 32,
          "y0": 7,
          "y1": 8
         }
        ],
        "xaxis": {
         "range": [
          0,
          35
         ],
         "showgrid": false,
         "showline": false,
         "showticklabels": false,
         "ticks": "",
         "zeroline": false
        },
        "yaxis": {
         "range": [
          0,
          10
         ],
         "showgrid": false,
         "showline": false,
         "showticklabels": false,
         "ticks": "",
         "zeroline": false
        }
       }
      },
      "text/html": [
       "<div id=\"e9f55bba-c17a-4e6f-b303-f2e2a2dae46d\" style=\"height: 525px; width: 100%;\" class=\"plotly-graph-div\"></div><script type=\"text/javascript\">require([\"plotly\"], function(Plotly) { window.PLOTLYENV=window.PLOTLYENV || {};window.PLOTLYENV.BASE_URL=\"https://plot.ly\";Plotly.newPlot(\"e9f55bba-c17a-4e6f-b303-f2e2a2dae46d\", [{\"mode\": \"text\", \"text\": [\"1\", \"5=1+2^2\", \"3\", \"7=3+2^2\", \"2\", \"6=2+2^2\", \"4\", \"8=4+2^2\", \"1\", \"3=1+2^1\", \"2\", \"4=2+2^1\", \"1\", \"2=1+2^0\", \"1\"], \"x\": [2.5, 6.5, 10.5, 14.5, 18.5, 22.5, 26.5, 30.5, 4.5, 12.5, 20.5, 28.5, 8.5, 24.5, 16.5], \"y\": [1.5, 1.5, 1.5, 1.5, 1.5, 1.5, 1.5, 1.5, 3.5, 3.5, 3.5, 3.5, 5.5, 5.5, 7.5], \"type\": \"scatter\", \"uid\": \"4b4cbde6-cf28-11e8-ae2e-bda3ede16b9c\"}], {\"shapes\": [{\"fillcolor\": \"gray\", \"line\": {\"color\": \"rgba(128, 0, 128, 1)\", \"width\": 2}, \"opacity\": 0.3, \"type\": \"rect\", \"x0\": 1, \"x1\": 4, \"y0\": 1, \"y1\": 2}, {\"fillcolor\": \"gray\", \"line\": {\"color\": \"rgba(128, 0, 128, 1)\", \"width\": 2}, \"opacity\": 0.3, \"type\": \"rect\", \"x0\": 5, \"x1\": 8, \"y0\": 1, \"y1\": 2}, {\"fillcolor\": \"gray\", \"line\": {\"color\": \"rgba(128, 0, 128, 1)\", \"width\": 2}, \"opacity\": 0.3, \"type\": \"rect\", \"x0\": 9, \"x1\": 12, \"y0\": 1, \"y1\": 2}, {\"fillcolor\": \"gray\", \"line\": {\"color\": \"rgba(128, 0, 128, 1)\", \"width\": 2}, \"opacity\": 0.3, \"type\": \"rect\", \"x0\": 13, \"x1\": 16, \"y0\": 1, \"y1\": 2}, {\"fillcolor\": \"gray\", \"line\": {\"color\": \"rgba(128, 0, 128, 1)\", \"width\": 2}, \"opacity\": 0.3, \"type\": \"rect\", \"x0\": 17, \"x1\": 20, \"y0\": 1, \"y1\": 2}, {\"fillcolor\": \"gray\", \"line\": {\"color\": \"rgba(128, 0, 128, 1)\", \"width\": 2}, \"opacity\": 0.3, \"type\": \"rect\", \"x0\": 21, \"x1\": 24, \"y0\": 1, \"y1\": 2}, {\"fillcolor\": \"gray\", \"line\": {\"color\": \"rgba(128, 0, 128, 1)\", \"width\": 2}, \"opacity\": 0.3, \"type\": \"rect\", \"x0\": 25, \"x1\": 28, \"y0\": 1, \"y1\": 2}, {\"fillcolor\": \"gray\", \"line\": {\"color\": \"rgba(128, 0, 128, 1)\", \"width\": 2}, \"opacity\": 0.3, \"type\": \"rect\", \"x0\": 29, \"x1\": 32, \"y0\": 1, \"y1\": 2}, {\"fillcolor\": \"gray\", \"line\": {\"color\": \"rgba(128, 0, 128, 1)\", \"width\": 2}, \"opacity\": 0.3, \"type\": \"rect\", \"x0\": 1, \"x1\": 8, \"y0\": 3, \"y1\": 4}, {\"fillcolor\": \"gray\", \"line\": {\"color\": \"rgba(128, 0, 128, 1)\", \"width\": 2}, \"opacity\": 0.3, \"type\": \"rect\", \"x0\": 9, \"x1\": 16, \"y0\": 3, \"y1\": 4}, {\"fillcolor\": \"gray\", \"line\": {\"color\": \"rgba(128, 0, 128, 1)\", \"width\": 2}, \"opacity\": 0.3, \"type\": \"rect\", \"x0\": 17, \"x1\": 24, \"y0\": 3, \"y1\": 4}, {\"fillcolor\": \"gray\", \"line\": {\"color\": \"rgba(128, 0, 128, 1)\", \"width\": 2}, \"opacity\": 0.3, \"type\": \"rect\", \"x0\": 25, \"x1\": 32, \"y0\": 3, \"y1\": 4}, {\"fillcolor\": \"gray\", \"line\": {\"color\": \"rgba(128, 0, 128, 1)\", \"width\": 2}, \"opacity\": 0.3, \"type\": \"rect\", \"x0\": 1, \"x1\": 16, \"y0\": 5, \"y1\": 6}, {\"fillcolor\": \"gray\", \"line\": {\"color\": \"rgba(128, 0, 128, 1)\", \"width\": 2}, \"opacity\": 0.3, \"type\": \"rect\", \"x0\": 17, \"x1\": 32, \"y0\": 5, \"y1\": 6}, {\"fillcolor\": \"gray\", \"line\": {\"color\": \"rgba(128, 0, 128, 1)\", \"width\": 2}, \"opacity\": 0.3, \"type\": \"rect\", \"x0\": 1, \"x1\": 32, \"y0\": 7, \"y1\": 8}], \"xaxis\": {\"range\": [0, 35], \"showgrid\": false, \"showline\": false, \"showticklabels\": false, \"ticks\": \"\", \"zeroline\": false}, \"yaxis\": {\"range\": [0, 10], \"showgrid\": false, \"showline\": false, \"showticklabels\": false, \"ticks\": \"\", \"zeroline\": false}}, {\"showLink\": true, \"linkText\": \"Export to plot.ly\"})});</script>"
      ],
      "text/vnd.plotly.v1+html": [
       "<div id=\"e9f55bba-c17a-4e6f-b303-f2e2a2dae46d\" style=\"height: 525px; width: 100%;\" class=\"plotly-graph-div\"></div><script type=\"text/javascript\">require([\"plotly\"], function(Plotly) { window.PLOTLYENV=window.PLOTLYENV || {};window.PLOTLYENV.BASE_URL=\"https://plot.ly\";Plotly.newPlot(\"e9f55bba-c17a-4e6f-b303-f2e2a2dae46d\", [{\"mode\": \"text\", \"text\": [\"1\", \"5=1+2^2\", \"3\", \"7=3+2^2\", \"2\", \"6=2+2^2\", \"4\", \"8=4+2^2\", \"1\", \"3=1+2^1\", \"2\", \"4=2+2^1\", \"1\", \"2=1+2^0\", \"1\"], \"x\": [2.5, 6.5, 10.5, 14.5, 18.5, 22.5, 26.5, 30.5, 4.5, 12.5, 20.5, 28.5, 8.5, 24.5, 16.5], \"y\": [1.5, 1.5, 1.5, 1.5, 1.5, 1.5, 1.5, 1.5, 3.5, 3.5, 3.5, 3.5, 5.5, 5.5, 7.5], \"type\": \"scatter\", \"uid\": \"4b4cbde6-cf28-11e8-ae2e-bda3ede16b9c\"}], {\"shapes\": [{\"fillcolor\": \"gray\", \"line\": {\"color\": \"rgba(128, 0, 128, 1)\", \"width\": 2}, \"opacity\": 0.3, \"type\": \"rect\", \"x0\": 1, \"x1\": 4, \"y0\": 1, \"y1\": 2}, {\"fillcolor\": \"gray\", \"line\": {\"color\": \"rgba(128, 0, 128, 1)\", \"width\": 2}, \"opacity\": 0.3, \"type\": \"rect\", \"x0\": 5, \"x1\": 8, \"y0\": 1, \"y1\": 2}, {\"fillcolor\": \"gray\", \"line\": {\"color\": \"rgba(128, 0, 128, 1)\", \"width\": 2}, \"opacity\": 0.3, \"type\": \"rect\", \"x0\": 9, \"x1\": 12, \"y0\": 1, \"y1\": 2}, {\"fillcolor\": \"gray\", \"line\": {\"color\": \"rgba(128, 0, 128, 1)\", \"width\": 2}, \"opacity\": 0.3, \"type\": \"rect\", \"x0\": 13, \"x1\": 16, \"y0\": 1, \"y1\": 2}, {\"fillcolor\": \"gray\", \"line\": {\"color\": \"rgba(128, 0, 128, 1)\", \"width\": 2}, \"opacity\": 0.3, \"type\": \"rect\", \"x0\": 17, \"x1\": 20, \"y0\": 1, \"y1\": 2}, {\"fillcolor\": \"gray\", \"line\": {\"color\": \"rgba(128, 0, 128, 1)\", \"width\": 2}, \"opacity\": 0.3, \"type\": \"rect\", \"x0\": 21, \"x1\": 24, \"y0\": 1, \"y1\": 2}, {\"fillcolor\": \"gray\", \"line\": {\"color\": \"rgba(128, 0, 128, 1)\", \"width\": 2}, \"opacity\": 0.3, \"type\": \"rect\", \"x0\": 25, \"x1\": 28, \"y0\": 1, \"y1\": 2}, {\"fillcolor\": \"gray\", \"line\": {\"color\": \"rgba(128, 0, 128, 1)\", \"width\": 2}, \"opacity\": 0.3, \"type\": \"rect\", \"x0\": 29, \"x1\": 32, \"y0\": 1, \"y1\": 2}, {\"fillcolor\": \"gray\", \"line\": {\"color\": \"rgba(128, 0, 128, 1)\", \"width\": 2}, \"opacity\": 0.3, \"type\": \"rect\", \"x0\": 1, \"x1\": 8, \"y0\": 3, \"y1\": 4}, {\"fillcolor\": \"gray\", \"line\": {\"color\": \"rgba(128, 0, 128, 1)\", \"width\": 2}, \"opacity\": 0.3, \"type\": \"rect\", \"x0\": 9, \"x1\": 16, \"y0\": 3, \"y1\": 4}, {\"fillcolor\": \"gray\", \"line\": {\"color\": \"rgba(128, 0, 128, 1)\", \"width\": 2}, \"opacity\": 0.3, \"type\": \"rect\", \"x0\": 17, \"x1\": 24, \"y0\": 3, \"y1\": 4}, {\"fillcolor\": \"gray\", \"line\": {\"color\": \"rgba(128, 0, 128, 1)\", \"width\": 2}, \"opacity\": 0.3, \"type\": \"rect\", \"x0\": 25, \"x1\": 32, \"y0\": 3, \"y1\": 4}, {\"fillcolor\": \"gray\", \"line\": {\"color\": \"rgba(128, 0, 128, 1)\", \"width\": 2}, \"opacity\": 0.3, \"type\": \"rect\", \"x0\": 1, \"x1\": 16, \"y0\": 5, \"y1\": 6}, {\"fillcolor\": \"gray\", \"line\": {\"color\": \"rgba(128, 0, 128, 1)\", \"width\": 2}, \"opacity\": 0.3, \"type\": \"rect\", \"x0\": 17, \"x1\": 32, \"y0\": 5, \"y1\": 6}, {\"fillcolor\": \"gray\", \"line\": {\"color\": \"rgba(128, 0, 128, 1)\", \"width\": 2}, \"opacity\": 0.3, \"type\": \"rect\", \"x0\": 1, \"x1\": 32, \"y0\": 7, \"y1\": 8}], \"xaxis\": {\"range\": [0, 35], \"showgrid\": false, \"showline\": false, \"showticklabels\": false, \"ticks\": \"\", \"zeroline\": false}, \"yaxis\": {\"range\": [0, 10], \"showgrid\": false, \"showline\": false, \"showticklabels\": false, \"ticks\": \"\", \"zeroline\": false}}, {\"showLink\": true, \"linkText\": \"Export to plot.ly\"})});</script>"
      ]
     },
     "metadata": {},
     "output_type": "display_data"
    }
   ],
   "source": [
    "trace2 = go.Scatter(\n",
    "    x=x,\n",
    "    y=y,\n",
    "    text=[1,'5=1+2^2',3,'7=3+2^2',2,'6=2+2^2',4,'8=4+2^2',1,'3=1+2^1',2,'4=2+2^1',1,'2=1+2^0',1],\n",
    "    mode='text',\n",
    ")\n",
    "iplot({\n",
    "    'data': [trace2],\n",
    "    'layout': layout,\n",
    "})"
   ]
  },
  {
   "cell_type": "markdown",
   "metadata": {},
   "source": [
    "$$ RANK\\_LSON = RANK $$\n",
    "$$ RANK\\_RSON = RANK + 2^{depth} $$"
   ]
  },
  {
   "cell_type": "markdown",
   "metadata": {},
   "source": [
    "# MPI\n",
    "\n",
    "```cpp\n",
    "/* Skipped: Base sort and help func */\n",
    "void mpi_sort(int a[], int l, int r, int id, int max_id, int deep) {\n",
    "\tMPI_Status status;\n",
    "\tint rson_id = id + pow(2, deep);\n",
    "\tif (rson_id > max_id) {\n",
    "\t\tqsort(a, l, r);\n",
    "\t\treturn;\n",
    "\t}\n",
    "\trson_id--;\n",
    "\t\n",
    "\tif (l > r) {\n",
    "\t\tMPI_Send(a + l, 0, MPI::INT, rson_id, 0, MPI_COMM_WORLD);\n",
    "\t\tMPI_Recv(a + l, 0, MPI::INT, rson_id, MPI_ANY_TAG, MPI_COMM_WORLD, &status);\n",
    "\t\treturn;\n",
    "\t}\n",
    "\t\n",
    "\tP ret = partition(a, l, r);\n",
    "\tint lsize = ret.first - l;\n",
    "\tint rsize = r - ret.second;\n",
    "\tif (lsize < rsize) {\n",
    "\t\tMPI_Send(a + l, lsize, MPI::INT, rson_id, l, MPI_COMM_WORLD);\n",
    "\t\tmpi_sort(a, ret.second + 1, r, id, max_id, deep + 1);\n",
    "\t\tMPI_Recv(a + l, lsize, MPI::INT, rson_id, MPI_ANY_TAG, MPI_COMM_WORLD, &status);\n",
    "\t} else {\n",
    "\t\tMPI_Send(a + ret.second + 1, rsize, MPI::INT, rson_id, ret.second + 1, MPI_COMM_WORLD);\n",
    "\t\tmpi_sort(a, l, ret.first - 1, id, max_id, deep + 1);\n",
    "\t\tMPI_Recv(a + ret.second + 1, rsize, MPI::INT, rson_id, MPI_ANY_TAG, MPI_COMM_WORLD, &status);\n",
    "\t}\n",
    "}\n",
    "```"
   ]
  },
  {
   "cell_type": "markdown",
   "metadata": {},
   "source": [
    "# MPI\n",
    "\n",
    "```cpp\n",
    "int main(int argc, char *argv[]) {\n",
    "    /* Skipped: input and initialisation*/\n",
    "\tmyid++;\n",
    "    // id start from 1\n",
    "\tint retcode = 0;\n",
    "\tif (myid == 1) {\n",
    "\t\tint n, seed;\n",
    "\t\tsscanf(argv[1], \"%d\", &n);\n",
    "\t\tsscanf(argv[2], \"%d\", &seed);\n",
    "\t\tint *data = (int*)malloc(sizeof(int)*n);\n",
    "\t\tsrand(seed);\n",
    "\t\tfor (int i = 0; i < n; i++)\n",
    "\t\t\tif (0 == seed) data[i] = 0;\n",
    "\t\t\telse if (-1 == seed) data[i] = n - i;\n",
    "\t\t\telse data[i] = rand() % n + 1;\n",
    "\n",
    "\t\tdouble tmp = MPI_Wtime();\n",
    "\t\tmpi_sort(data, 0, n - 1, myid, numprocs, 0);\n",
    "\t\ttmp = MPI_Wtime() - tmp;\n",
    "\t\tprintf(\"%lf\\n\", tmp);\n",
    "\t\tretcode = validate(data, n);\n",
    "\t\tfree(data);\n",
    "\t} else {\n",
    "\t\tint *subarray = NULL;\n",
    "\t\tMPI_Status status;\n",
    "\t\tint sub_size = 0;\n",
    "\t\tint index = 0;\n",
    "\t\tint parent_id = 0;\n",
    "\t\twhile (pow(2, index) < myid) index++;\n",
    "\t\tMPI_Probe(MPI_ANY_SOURCE, MPI_ANY_TAG, MPI_COMM_WORLD, &status);\n",
    "\t\tMPI_Get_count(&status, MPI::INT, &sub_size);\n",
    "\t\tparent_id = status.MPI_SOURCE;\n",
    "\t\tsubarray = (int*)malloc(sub_size * sizeof(int));\n",
    "\t\t\n",
    "\t\tMPI_Recv(subarray, sub_size, MPI::INT, MPI_ANY_SOURCE, MPI_ANY_TAG, MPI_COMM_WORLD, &status);\n",
    "\t\tmpi_sort(subarray, 0, sub_size - 1, myid, numprocs, index);\n",
    "\t\tMPI_Send(subarray, sub_size, MPI::INT, parent_id, parent_id,MPI_COMM_WORLD);\n",
    "\t\t\n",
    "\t\tfree(subarray);\n",
    "\t}\n",
    "\tMPI_Finalize();\n",
    "\treturn retcode;\n",
    "}\n",
    "```"
   ]
  },
  {
   "cell_type": "code",
   "execution_count": 14,
   "metadata": {},
   "outputs": [],
   "source": [
    "def trace5():\n",
    "    # x轴为线程数\n",
    "    ret = []\n",
    "    seed = 123456\n",
    "    testSize = [int(1e4), ]\n",
    "    for i in range(3):\n",
    "        testSize.append(testSize[-1] * 2)\n",
    "    testSize.append(int(1e7))\n",
    "    for i in range(3):\n",
    "        testSize.append(testSize[-1] * 2)\n",
    "\n",
    "    procs = [i + 1 for i in range(32)]\n",
    "    \n",
    "    for n in testSize:\n",
    "        y = []\n",
    "        for proc in procs:\n",
    "            timeInSec = run('mpi', proc, n, seed)\n",
    "            y.append(timeInSec)\n",
    "        ret.append(go.Scatter(x=procs, y=y, mode='lines+markers', name='{} items'.format(n)))\n",
    "    return ret\n",
    "\n",
    "def trace6():\n",
    "    # 线程数量=4,8,16\n",
    "    # seed=123456\n",
    "    # 固定种子，增加测试集大小\n",
    "    ret = []\n",
    "    seed = 123456\n",
    "    testSize = [1000, ]\n",
    "    for i in range(16):\n",
    "        testSize.append(testSize[-1] * 2)\n",
    "\n",
    "    for proc in [1, 2, 4, 8, 16]:\n",
    "        y = []\n",
    "        for n in testSize:\n",
    "            timeInSec = run('mpi', proc, n, seed)\n",
    "            y.append(timeInSec)\n",
    "        ret.append(go.Scatter(x=testSize, y=y, mode='lines+markers', name='{} procs'.format(proc)))\n",
    "    return ret"
   ]
  },
  {
   "cell_type": "code",
   "execution_count": 15,
   "metadata": {
    "scrolled": true
   },
   "outputs": [
    {
     "name": "stdout",
     "output_type": "stream",
     "text": [
      "CPU times: user 135 ms, sys: 850 ms, total: 985 ms\n",
      "Wall time: 40min 43s\n"
     ]
    }
   ],
   "source": [
    "%%time\n",
    "trace_mpi_testsize = trace5()"
   ]
  },
  {
   "cell_type": "code",
   "execution_count": 16,
   "metadata": {},
   "outputs": [
    {
     "name": "stdout",
     "output_type": "stream",
     "text": [
      "CPU times: user 70.2 ms, sys: 252 ms, total: 322 ms\n",
      "Wall time: 4min 43s\n"
     ]
    }
   ],
   "source": [
    "%%time\n",
    "trace_mpi_seed = trace6()"
   ]
  },
  {
   "cell_type": "code",
   "execution_count": 18,
   "metadata": {},
   "outputs": [
    {
     "data": {
      "application/vnd.plotly.v1+json": {
       "data": [
        {
         "mode": "lines+markers",
         "name": "10000 items",
         "type": "scatter",
         "uid": "d3d26256-cf32-11e8-ae2e-bda3ede16b9c",
         "x": [
          1,
          2,
          3,
          4,
          5,
          6,
          7,
          8,
          9,
          10,
          11,
          12,
          13,
          14,
          15,
          16,
          17,
          18,
          19,
          20,
          21,
          22,
          23,
          24,
          25,
          26,
          27,
          28,
          29,
          30,
          31,
          32
         ],
         "y": [
          0.002976,
          0.002584,
          0.001942,
          0.002,
          0.001571,
          0.001529,
          0.001524,
          0.001595,
          0.016004,
          0.016086,
          0.041564,
          0.061536,
          0.028987,
          0.03077,
          0.049428,
          0.056012,
          0.04971,
          0.061615,
          0.037641,
          0.101557,
          0.037233,
          0.089617,
          0.093712,
          0.172845,
          0.089579,
          0.113703,
          0.101647,
          0.169551,
          0.097617,
          0.121593,
          0.097614,
          0.123884
         ]
        },
        {
         "mode": "lines+markers",
         "name": "20000 items",
         "type": "scatter",
         "uid": "d3d2647c-cf32-11e8-ae2e-bda3ede16b9c",
         "x": [
          1,
          2,
          3,
          4,
          5,
          6,
          7,
          8,
          9,
          10,
          11,
          12,
          13,
          14,
          15,
          16,
          17,
          18,
          19,
          20,
          21,
          22,
          23,
          24,
          25,
          26,
          27,
          28,
          29,
          30,
          31,
          32
         ],
         "y": [
          0.006157,
          0.005682,
          0.003775,
          0.003639,
          0.002943,
          0.002978,
          0.002885,
          0.002851,
          0.015563,
          0.029344,
          0.029412,
          0.028893,
          0.045517,
          0.073394,
          0.041309,
          0.041615,
          0.061383,
          0.073502,
          0.069506,
          0.069376,
          0.082203,
          0.127735,
          0.065557,
          0.089328,
          0.099743,
          0.093424,
          0.077453,
          0.089495,
          0.149398,
          0.121484,
          0.128804,
          0.165868
         ]
        },
        {
         "mode": "lines+markers",
         "name": "40000 items",
         "type": "scatter",
         "uid": "d3d26580-cf32-11e8-ae2e-bda3ede16b9c",
         "x": [
          1,
          2,
          3,
          4,
          5,
          6,
          7,
          8,
          9,
          10,
          11,
          12,
          13,
          14,
          15,
          16,
          17,
          18,
          19,
          20,
          21,
          22,
          23,
          24,
          25,
          26,
          27,
          28,
          29,
          30,
          31,
          32
         ],
         "y": [
          0.01287,
          0.009588,
          0.00813,
          0.008312,
          0.006255,
          0.006328,
          0.00632,
          0.0064,
          0.014551,
          0.053071,
          0.022615,
          0.048903,
          0.053112,
          0.041127,
          0.045196,
          0.057041,
          0.069067,
          0.069244,
          0.041193,
          0.117022,
          0.101067,
          0.093165,
          0.065196,
          0.053234,
          0.129138,
          0.081124,
          0.101014,
          0.11305,
          0.077254,
          0.124691,
          0.113306,
          0.129108
         ]
        },
        {
         "mode": "lines+markers",
         "name": "80000 items",
         "type": "scatter",
         "uid": "d3d26652-cf32-11e8-ae2e-bda3ede16b9c",
         "x": [
          1,
          2,
          3,
          4,
          5,
          6,
          7,
          8,
          9,
          10,
          11,
          12,
          13,
          14,
          15,
          16,
          17,
          18,
          19,
          20,
          21,
          22,
          23,
          24,
          25,
          26,
          27,
          28,
          29,
          30,
          31,
          32
         ],
         "y": [
          0.027792,
          0.01521,
          0.014588,
          0.012303,
          0.012254,
          0.008581,
          0.008292,
          0.008374,
          0.044453,
          0.026954,
          0.048512,
          0.028963,
          0.056454,
          0.047625,
          0.140494,
          0.032498,
          0.096456,
          0.088425,
          0.148324,
          0.083516,
          0.120532,
          0.148438,
          0.09648,
          0.128423,
          0.16055,
          0.136451,
          0.060598,
          0.168544,
          0.236616,
          0.17151,
          0.220236,
          0.164618
         ]
        }
       ],
       "layout": {
        "showlegend": true,
        "title": "plot 5 of quick sort<br>mpi<br>fixed small test size",
        "xaxis": {
         "title": "number of procs"
        },
        "yaxis": {
         "title": "runtime(s)"
        }
       }
      },
      "text/html": [
       "<div id=\"1c818352-61a7-4f69-9a3d-6df11591c80c\" style=\"height: 525px; width: 100%;\" class=\"plotly-graph-div\"></div><script type=\"text/javascript\">require([\"plotly\"], function(Plotly) { window.PLOTLYENV=window.PLOTLYENV || {};window.PLOTLYENV.BASE_URL=\"https://plot.ly\";Plotly.newPlot(\"1c818352-61a7-4f69-9a3d-6df11591c80c\", [{\"mode\": \"lines+markers\", \"name\": \"10000 items\", \"x\": [1, 2, 3, 4, 5, 6, 7, 8, 9, 10, 11, 12, 13, 14, 15, 16, 17, 18, 19, 20, 21, 22, 23, 24, 25, 26, 27, 28, 29, 30, 31, 32], \"y\": [0.002976, 0.002584, 0.001942, 0.002, 0.001571, 0.001529, 0.001524, 0.001595, 0.016004, 0.016086, 0.041564, 0.061536, 0.028987, 0.03077, 0.049428, 0.056012, 0.04971, 0.061615, 0.037641, 0.101557, 0.037233, 0.089617, 0.093712, 0.172845, 0.089579, 0.113703, 0.101647, 0.169551, 0.097617, 0.121593, 0.097614, 0.123884], \"type\": \"scatter\", \"uid\": \"d3d5d68e-cf32-11e8-ae2e-bda3ede16b9c\"}, {\"mode\": \"lines+markers\", \"name\": \"20000 items\", \"x\": [1, 2, 3, 4, 5, 6, 7, 8, 9, 10, 11, 12, 13, 14, 15, 16, 17, 18, 19, 20, 21, 22, 23, 24, 25, 26, 27, 28, 29, 30, 31, 32], \"y\": [0.006157, 0.005682, 0.003775, 0.003639, 0.002943, 0.002978, 0.002885, 0.002851, 0.015563, 0.029344, 0.029412, 0.028893, 0.045517, 0.073394, 0.041309, 0.041615, 0.061383, 0.073502, 0.069506, 0.069376, 0.082203, 0.127735, 0.065557, 0.089328, 0.099743, 0.093424, 0.077453, 0.089495, 0.149398, 0.121484, 0.128804, 0.165868], \"type\": \"scatter\", \"uid\": \"d3d5d850-cf32-11e8-ae2e-bda3ede16b9c\"}, {\"mode\": \"lines+markers\", \"name\": \"40000 items\", \"x\": [1, 2, 3, 4, 5, 6, 7, 8, 9, 10, 11, 12, 13, 14, 15, 16, 17, 18, 19, 20, 21, 22, 23, 24, 25, 26, 27, 28, 29, 30, 31, 32], \"y\": [0.01287, 0.009588, 0.00813, 0.008312, 0.006255, 0.006328, 0.00632, 0.0064, 0.014551, 0.053071, 0.022615, 0.048903, 0.053112, 0.041127, 0.045196, 0.057041, 0.069067, 0.069244, 0.041193, 0.117022, 0.101067, 0.093165, 0.065196, 0.053234, 0.129138, 0.081124, 0.101014, 0.11305, 0.077254, 0.124691, 0.113306, 0.129108], \"type\": \"scatter\", \"uid\": \"d3d5d918-cf32-11e8-ae2e-bda3ede16b9c\"}, {\"mode\": \"lines+markers\", \"name\": \"80000 items\", \"x\": [1, 2, 3, 4, 5, 6, 7, 8, 9, 10, 11, 12, 13, 14, 15, 16, 17, 18, 19, 20, 21, 22, 23, 24, 25, 26, 27, 28, 29, 30, 31, 32], \"y\": [0.027792, 0.01521, 0.014588, 0.012303, 0.012254, 0.008581, 0.008292, 0.008374, 0.044453, 0.026954, 0.048512, 0.028963, 0.056454, 0.047625, 0.140494, 0.032498, 0.096456, 0.088425, 0.148324, 0.083516, 0.120532, 0.148438, 0.09648, 0.128423, 0.16055, 0.136451, 0.060598, 0.168544, 0.236616, 0.17151, 0.220236, 0.164618], \"type\": \"scatter\", \"uid\": \"d3d5d9ae-cf32-11e8-ae2e-bda3ede16b9c\"}], {\"showlegend\": true, \"title\": \"plot 5 of quick sort<br>mpi<br>fixed small test size\", \"xaxis\": {\"title\": \"number of procs\"}, \"yaxis\": {\"title\": \"runtime(s)\"}}, {\"showLink\": true, \"linkText\": \"Export to plot.ly\"})});</script>"
      ],
      "text/vnd.plotly.v1+html": [
       "<div id=\"1c818352-61a7-4f69-9a3d-6df11591c80c\" style=\"height: 525px; width: 100%;\" class=\"plotly-graph-div\"></div><script type=\"text/javascript\">require([\"plotly\"], function(Plotly) { window.PLOTLYENV=window.PLOTLYENV || {};window.PLOTLYENV.BASE_URL=\"https://plot.ly\";Plotly.newPlot(\"1c818352-61a7-4f69-9a3d-6df11591c80c\", [{\"mode\": \"lines+markers\", \"name\": \"10000 items\", \"x\": [1, 2, 3, 4, 5, 6, 7, 8, 9, 10, 11, 12, 13, 14, 15, 16, 17, 18, 19, 20, 21, 22, 23, 24, 25, 26, 27, 28, 29, 30, 31, 32], \"y\": [0.002976, 0.002584, 0.001942, 0.002, 0.001571, 0.001529, 0.001524, 0.001595, 0.016004, 0.016086, 0.041564, 0.061536, 0.028987, 0.03077, 0.049428, 0.056012, 0.04971, 0.061615, 0.037641, 0.101557, 0.037233, 0.089617, 0.093712, 0.172845, 0.089579, 0.113703, 0.101647, 0.169551, 0.097617, 0.121593, 0.097614, 0.123884], \"type\": \"scatter\", \"uid\": \"d3d5d68e-cf32-11e8-ae2e-bda3ede16b9c\"}, {\"mode\": \"lines+markers\", \"name\": \"20000 items\", \"x\": [1, 2, 3, 4, 5, 6, 7, 8, 9, 10, 11, 12, 13, 14, 15, 16, 17, 18, 19, 20, 21, 22, 23, 24, 25, 26, 27, 28, 29, 30, 31, 32], \"y\": [0.006157, 0.005682, 0.003775, 0.003639, 0.002943, 0.002978, 0.002885, 0.002851, 0.015563, 0.029344, 0.029412, 0.028893, 0.045517, 0.073394, 0.041309, 0.041615, 0.061383, 0.073502, 0.069506, 0.069376, 0.082203, 0.127735, 0.065557, 0.089328, 0.099743, 0.093424, 0.077453, 0.089495, 0.149398, 0.121484, 0.128804, 0.165868], \"type\": \"scatter\", \"uid\": \"d3d5d850-cf32-11e8-ae2e-bda3ede16b9c\"}, {\"mode\": \"lines+markers\", \"name\": \"40000 items\", \"x\": [1, 2, 3, 4, 5, 6, 7, 8, 9, 10, 11, 12, 13, 14, 15, 16, 17, 18, 19, 20, 21, 22, 23, 24, 25, 26, 27, 28, 29, 30, 31, 32], \"y\": [0.01287, 0.009588, 0.00813, 0.008312, 0.006255, 0.006328, 0.00632, 0.0064, 0.014551, 0.053071, 0.022615, 0.048903, 0.053112, 0.041127, 0.045196, 0.057041, 0.069067, 0.069244, 0.041193, 0.117022, 0.101067, 0.093165, 0.065196, 0.053234, 0.129138, 0.081124, 0.101014, 0.11305, 0.077254, 0.124691, 0.113306, 0.129108], \"type\": \"scatter\", \"uid\": \"d3d5d918-cf32-11e8-ae2e-bda3ede16b9c\"}, {\"mode\": \"lines+markers\", \"name\": \"80000 items\", \"x\": [1, 2, 3, 4, 5, 6, 7, 8, 9, 10, 11, 12, 13, 14, 15, 16, 17, 18, 19, 20, 21, 22, 23, 24, 25, 26, 27, 28, 29, 30, 31, 32], \"y\": [0.027792, 0.01521, 0.014588, 0.012303, 0.012254, 0.008581, 0.008292, 0.008374, 0.044453, 0.026954, 0.048512, 0.028963, 0.056454, 0.047625, 0.140494, 0.032498, 0.096456, 0.088425, 0.148324, 0.083516, 0.120532, 0.148438, 0.09648, 0.128423, 0.16055, 0.136451, 0.060598, 0.168544, 0.236616, 0.17151, 0.220236, 0.164618], \"type\": \"scatter\", \"uid\": \"d3d5d9ae-cf32-11e8-ae2e-bda3ede16b9c\"}], {\"showlegend\": true, \"title\": \"plot 5 of quick sort<br>mpi<br>fixed small test size\", \"xaxis\": {\"title\": \"number of procs\"}, \"yaxis\": {\"title\": \"runtime(s)\"}}, {\"showLink\": true, \"linkText\": \"Export to plot.ly\"})});</script>"
      ]
     },
     "metadata": {},
     "output_type": "display_data"
    },
    {
     "data": {
      "application/vnd.plotly.v1+json": {
       "data": [
        {
         "mode": "lines+markers",
         "name": "10000000 items",
         "type": "scatter",
         "uid": "d3db259e-cf32-11e8-ae2e-bda3ede16b9c",
         "x": [
          1,
          2,
          3,
          4,
          5,
          6,
          7,
          8,
          9,
          10,
          11,
          12,
          13,
          14,
          15,
          16,
          17,
          18,
          19,
          20,
          21,
          22,
          23,
          24,
          25,
          26,
          27,
          28,
          29,
          30,
          31,
          32
         ],
         "y": [
          5.184629,
          5.125018,
          3.699677,
          3.685939,
          2.75544,
          3.711856,
          2.77259,
          2.749345,
          2.122783,
          3.023129,
          2.9791,
          2.859805,
          2.910922,
          3.80744,
          4.708677,
          4.072593,
          4.160478,
          4.849438,
          4.518855,
          5.128622,
          5.204767,
          5.585577,
          6.030869,
          6.319439,
          6.037304,
          6.408127,
          6.903582,
          7.827876,
          7.542137,
          9.698934,
          8.377767,
          8.898043
         ]
        },
        {
         "mode": "lines+markers",
         "name": "20000000 items",
         "type": "scatter",
         "uid": "d3db2742-cf32-11e8-ae2e-bda3ede16b9c",
         "x": [
          1,
          2,
          3,
          4,
          5,
          6,
          7,
          8,
          9,
          10,
          11,
          12,
          13,
          14,
          15,
          16,
          17,
          18,
          19,
          20,
          21,
          22,
          23,
          24,
          25,
          26,
          27,
          28,
          29,
          30,
          31,
          32
         ],
         "y": [
          10.63789,
          8.210591,
          6.771127,
          6.250275,
          4.694466,
          4.677601,
          4.688822,
          4.697707,
          4.40028,
          5.058102,
          5.464036,
          6.678149,
          7.04359,
          7.688268,
          8.186954,
          8.563695,
          6.690174,
          7.467215,
          6.660415,
          8.543412,
          9.96372,
          8.463564,
          8.565504,
          8.82437,
          10.31391,
          10.826254,
          9.826044,
          10.434053,
          10.416218,
          12.86819,
          12.611119,
          15.522483
         ]
        },
        {
         "mode": "lines+markers",
         "name": "40000000 items",
         "type": "scatter",
         "uid": "d3db2800-cf32-11e8-ae2e-bda3ede16b9c",
         "x": [
          1,
          2,
          3,
          4,
          5,
          6,
          7,
          8,
          9,
          10,
          11,
          12,
          13,
          14,
          15,
          16,
          17,
          18,
          19,
          20,
          21,
          22,
          23,
          24,
          25,
          26,
          27,
          28,
          29,
          30,
          31,
          32
         ],
         "y": [
          21.984135,
          20.894434,
          17.585205,
          17.426287,
          13.761764,
          13.716043,
          13.70915,
          13.757917,
          14.658319,
          17.08849,
          17.405776,
          18.709767,
          22.201778,
          21.426952,
          22.637958,
          24.999979,
          27.322121,
          25.830778,
          29.559259,
          34.773321,
          31.373067,
          34.310649,
          38.024097,
          36.354543,
          41.889958,
          35.801743,
          42.048084,
          42.46181,
          41.972434,
          53.784702,
          41.95115,
          55.382808
         ]
        },
        {
         "mode": "lines+markers",
         "name": "80000000 items",
         "type": "scatter",
         "uid": "d3db2896-cf32-11e8-ae2e-bda3ede16b9c",
         "x": [
          1,
          2,
          3,
          4,
          5,
          6,
          7,
          8,
          9,
          10,
          11,
          12,
          13,
          14,
          15,
          16,
          17,
          18,
          19,
          20,
          21,
          22,
          23,
          24,
          25,
          26,
          27,
          28,
          29,
          30,
          31,
          32
         ],
         "y": [
          45.342786,
          34.367374,
          21.73559,
          21.293639,
          16.753665,
          15.629197,
          12.849705,
          13.39342,
          14.685672,
          16.322819,
          16.824423,
          20.186285,
          18.461451,
          18.503462,
          23.008973,
          22.019736,
          19.615992,
          23.457683,
          22.669342,
          23.823585,
          25.312624,
          26.513811,
          27.714374,
          52.841579,
          35.506892,
          31.636851,
          35.10604,
          33.506004,
          36.72859,
          37.320189,
          39.580646,
          48.149185
         ]
        }
       ],
       "layout": {
        "showlegend": true,
        "title": "plot 5 of quick sort<br>mpi<br>fixed big test size",
        "xaxis": {
         "title": "number of procs"
        },
        "yaxis": {
         "title": "runtime(s)"
        }
       }
      },
      "text/html": [
       "<div id=\"12eccf8b-4a71-4b87-9bb4-ac40e98ecb4d\" style=\"height: 525px; width: 100%;\" class=\"plotly-graph-div\"></div><script type=\"text/javascript\">require([\"plotly\"], function(Plotly) { window.PLOTLYENV=window.PLOTLYENV || {};window.PLOTLYENV.BASE_URL=\"https://plot.ly\";Plotly.newPlot(\"12eccf8b-4a71-4b87-9bb4-ac40e98ecb4d\", [{\"mode\": \"lines+markers\", \"name\": \"10000000 items\", \"x\": [1, 2, 3, 4, 5, 6, 7, 8, 9, 10, 11, 12, 13, 14, 15, 16, 17, 18, 19, 20, 21, 22, 23, 24, 25, 26, 27, 28, 29, 30, 31, 32], \"y\": [5.184629, 5.125018, 3.699677, 3.685939, 2.75544, 3.711856, 2.77259, 2.749345, 2.122783, 3.023129, 2.9791, 2.859805, 2.910922, 3.80744, 4.708677, 4.072593, 4.160478, 4.849438, 4.518855, 5.128622, 5.204767, 5.585577, 6.030869, 6.319439, 6.037304, 6.408127, 6.903582, 7.827876, 7.542137, 9.698934, 8.377767, 8.898043], \"type\": \"scatter\", \"uid\": \"d3de6f2e-cf32-11e8-ae2e-bda3ede16b9c\"}, {\"mode\": \"lines+markers\", \"name\": \"20000000 items\", \"x\": [1, 2, 3, 4, 5, 6, 7, 8, 9, 10, 11, 12, 13, 14, 15, 16, 17, 18, 19, 20, 21, 22, 23, 24, 25, 26, 27, 28, 29, 30, 31, 32], \"y\": [10.63789, 8.210591, 6.771127, 6.250275, 4.694466, 4.677601, 4.688822, 4.697707, 4.40028, 5.058102, 5.464036, 6.678149, 7.04359, 7.688268, 8.186954, 8.563695, 6.690174, 7.467215, 6.660415, 8.543412, 9.96372, 8.463564, 8.565504, 8.82437, 10.31391, 10.826254, 9.826044, 10.434053, 10.416218, 12.86819, 12.611119, 15.522483], \"type\": \"scatter\", \"uid\": \"d3de70be-cf32-11e8-ae2e-bda3ede16b9c\"}, {\"mode\": \"lines+markers\", \"name\": \"40000000 items\", \"x\": [1, 2, 3, 4, 5, 6, 7, 8, 9, 10, 11, 12, 13, 14, 15, 16, 17, 18, 19, 20, 21, 22, 23, 24, 25, 26, 27, 28, 29, 30, 31, 32], \"y\": [21.984135, 20.894434, 17.585205, 17.426287, 13.761764, 13.716043, 13.70915, 13.757917, 14.658319, 17.08849, 17.405776, 18.709767, 22.201778, 21.426952, 22.637958, 24.999979, 27.322121, 25.830778, 29.559259, 34.773321, 31.373067, 34.310649, 38.024097, 36.354543, 41.889958, 35.801743, 42.048084, 42.46181, 41.972434, 53.784702, 41.95115, 55.382808], \"type\": \"scatter\", \"uid\": \"d3de717c-cf32-11e8-ae2e-bda3ede16b9c\"}, {\"mode\": \"lines+markers\", \"name\": \"80000000 items\", \"x\": [1, 2, 3, 4, 5, 6, 7, 8, 9, 10, 11, 12, 13, 14, 15, 16, 17, 18, 19, 20, 21, 22, 23, 24, 25, 26, 27, 28, 29, 30, 31, 32], \"y\": [45.342786, 34.367374, 21.73559, 21.293639, 16.753665, 15.629197, 12.849705, 13.39342, 14.685672, 16.322819, 16.824423, 20.186285, 18.461451, 18.503462, 23.008973, 22.019736, 19.615992, 23.457683, 22.669342, 23.823585, 25.312624, 26.513811, 27.714374, 52.841579, 35.506892, 31.636851, 35.10604, 33.506004, 36.72859, 37.320189, 39.580646, 48.149185], \"type\": \"scatter\", \"uid\": \"d3de7212-cf32-11e8-ae2e-bda3ede16b9c\"}], {\"showlegend\": true, \"title\": \"plot 5 of quick sort<br>mpi<br>fixed big test size\", \"xaxis\": {\"title\": \"number of procs\"}, \"yaxis\": {\"title\": \"runtime(s)\"}}, {\"showLink\": true, \"linkText\": \"Export to plot.ly\"})});</script>"
      ],
      "text/vnd.plotly.v1+html": [
       "<div id=\"12eccf8b-4a71-4b87-9bb4-ac40e98ecb4d\" style=\"height: 525px; width: 100%;\" class=\"plotly-graph-div\"></div><script type=\"text/javascript\">require([\"plotly\"], function(Plotly) { window.PLOTLYENV=window.PLOTLYENV || {};window.PLOTLYENV.BASE_URL=\"https://plot.ly\";Plotly.newPlot(\"12eccf8b-4a71-4b87-9bb4-ac40e98ecb4d\", [{\"mode\": \"lines+markers\", \"name\": \"10000000 items\", \"x\": [1, 2, 3, 4, 5, 6, 7, 8, 9, 10, 11, 12, 13, 14, 15, 16, 17, 18, 19, 20, 21, 22, 23, 24, 25, 26, 27, 28, 29, 30, 31, 32], \"y\": [5.184629, 5.125018, 3.699677, 3.685939, 2.75544, 3.711856, 2.77259, 2.749345, 2.122783, 3.023129, 2.9791, 2.859805, 2.910922, 3.80744, 4.708677, 4.072593, 4.160478, 4.849438, 4.518855, 5.128622, 5.204767, 5.585577, 6.030869, 6.319439, 6.037304, 6.408127, 6.903582, 7.827876, 7.542137, 9.698934, 8.377767, 8.898043], \"type\": \"scatter\", \"uid\": \"d3de6f2e-cf32-11e8-ae2e-bda3ede16b9c\"}, {\"mode\": \"lines+markers\", \"name\": \"20000000 items\", \"x\": [1, 2, 3, 4, 5, 6, 7, 8, 9, 10, 11, 12, 13, 14, 15, 16, 17, 18, 19, 20, 21, 22, 23, 24, 25, 26, 27, 28, 29, 30, 31, 32], \"y\": [10.63789, 8.210591, 6.771127, 6.250275, 4.694466, 4.677601, 4.688822, 4.697707, 4.40028, 5.058102, 5.464036, 6.678149, 7.04359, 7.688268, 8.186954, 8.563695, 6.690174, 7.467215, 6.660415, 8.543412, 9.96372, 8.463564, 8.565504, 8.82437, 10.31391, 10.826254, 9.826044, 10.434053, 10.416218, 12.86819, 12.611119, 15.522483], \"type\": \"scatter\", \"uid\": \"d3de70be-cf32-11e8-ae2e-bda3ede16b9c\"}, {\"mode\": \"lines+markers\", \"name\": \"40000000 items\", \"x\": [1, 2, 3, 4, 5, 6, 7, 8, 9, 10, 11, 12, 13, 14, 15, 16, 17, 18, 19, 20, 21, 22, 23, 24, 25, 26, 27, 28, 29, 30, 31, 32], \"y\": [21.984135, 20.894434, 17.585205, 17.426287, 13.761764, 13.716043, 13.70915, 13.757917, 14.658319, 17.08849, 17.405776, 18.709767, 22.201778, 21.426952, 22.637958, 24.999979, 27.322121, 25.830778, 29.559259, 34.773321, 31.373067, 34.310649, 38.024097, 36.354543, 41.889958, 35.801743, 42.048084, 42.46181, 41.972434, 53.784702, 41.95115, 55.382808], \"type\": \"scatter\", \"uid\": \"d3de717c-cf32-11e8-ae2e-bda3ede16b9c\"}, {\"mode\": \"lines+markers\", \"name\": \"80000000 items\", \"x\": [1, 2, 3, 4, 5, 6, 7, 8, 9, 10, 11, 12, 13, 14, 15, 16, 17, 18, 19, 20, 21, 22, 23, 24, 25, 26, 27, 28, 29, 30, 31, 32], \"y\": [45.342786, 34.367374, 21.73559, 21.293639, 16.753665, 15.629197, 12.849705, 13.39342, 14.685672, 16.322819, 16.824423, 20.186285, 18.461451, 18.503462, 23.008973, 22.019736, 19.615992, 23.457683, 22.669342, 23.823585, 25.312624, 26.513811, 27.714374, 52.841579, 35.506892, 31.636851, 35.10604, 33.506004, 36.72859, 37.320189, 39.580646, 48.149185], \"type\": \"scatter\", \"uid\": \"d3de7212-cf32-11e8-ae2e-bda3ede16b9c\"}], {\"showlegend\": true, \"title\": \"plot 5 of quick sort<br>mpi<br>fixed big test size\", \"xaxis\": {\"title\": \"number of procs\"}, \"yaxis\": {\"title\": \"runtime(s)\"}}, {\"showLink\": true, \"linkText\": \"Export to plot.ly\"})});</script>"
      ]
     },
     "metadata": {},
     "output_type": "display_data"
    },
    {
     "data": {
      "application/vnd.plotly.v1+json": {
       "data": [
        {
         "mode": "lines+markers",
         "name": "1 procs",
         "type": "scatter",
         "uid": "d3e3e7a6-cf32-11e8-ae2e-bda3ede16b9c",
         "x": [
          1000,
          2000,
          4000,
          8000,
          16000,
          32000,
          64000,
          128000,
          256000,
          512000,
          1024000,
          2048000,
          4096000,
          8192000,
          16384000,
          32768000,
          65536000
         ],
         "y": [
          0.000227,
          0.000498,
          0.001049,
          0.002153,
          0.004703,
          0.009981,
          0.02356,
          0.04889,
          0.100371,
          0.208479,
          0.450354,
          0.9143,
          1.963762,
          4.082816,
          8.552645,
          17.983429,
          37.365497
         ]
        },
        {
         "mode": "lines+markers",
         "name": "2 procs",
         "type": "scatter",
         "uid": "d3e3e918-cf32-11e8-ae2e-bda3ede16b9c",
         "x": [
          1000,
          2000,
          4000,
          8000,
          16000,
          32000,
          64000,
          128000,
          256000,
          512000,
          1024000,
          2048000,
          4096000,
          8192000,
          16384000,
          32768000,
          65536000
         ],
         "y": [
          0.000224,
          0.000475,
          0.0006,
          0.002264,
          0.0039,
          0.006738,
          0.020937,
          0.030971,
          0.100374,
          0.185512,
          0.424006,
          0.542881,
          1.862494,
          3.783754,
          6.480269,
          15.295733,
          26.221916
         ]
        },
        {
         "mode": "lines+markers",
         "name": "4 procs",
         "type": "scatter",
         "uid": "d3e3e9e0-cf32-11e8-ae2e-bda3ede16b9c",
         "x": [
          1000,
          2000,
          4000,
          8000,
          16000,
          32000,
          64000,
          128000,
          256000,
          512000,
          1024000,
          2048000,
          4096000,
          8192000,
          16384000,
          32768000,
          65536000
         ],
         "y": [
          0.000159,
          0.000438,
          0.000565,
          0.001265,
          0.002258,
          0.00593,
          0.026468,
          0.027994,
          0.088926,
          0.118295,
          0.319469,
          0.43644,
          1.13782,
          2.188929,
          5.455694,
          14.08337,
          19.15922
         ]
        },
        {
         "mode": "lines+markers",
         "name": "8 procs",
         "type": "scatter",
         "uid": "d3e3ea76-cf32-11e8-ae2e-bda3ede16b9c",
         "x": [
          1000,
          2000,
          4000,
          8000,
          16000,
          32000,
          64000,
          128000,
          256000,
          512000,
          1024000,
          2048000,
          4096000,
          8192000,
          16384000,
          32768000,
          65536000
         ],
         "y": [
          0.00017,
          0.000722,
          0.0005,
          0.00125,
          0.002217,
          0.005636,
          0.012666,
          0.027581,
          0.073051,
          0.085455,
          0.218661,
          0.329002,
          0.883334,
          1.822844,
          3.729081,
          13.807897,
          17.105228
         ]
        },
        {
         "mode": "lines+markers",
         "name": "16 procs",
         "type": "scatter",
         "uid": "d3e3eb02-cf32-11e8-ae2e-bda3ede16b9c",
         "x": [
          1000,
          2000,
          4000,
          8000,
          16000,
          32000,
          64000,
          128000,
          256000,
          512000,
          1024000,
          2048000,
          4096000,
          8192000,
          16384000,
          32768000,
          65536000
         ],
         "y": [
          0.041681,
          0.057638,
          0.05365,
          0.029728,
          0.029585,
          0.084219,
          0.088658,
          0.039623,
          0.225614,
          0.181579,
          0.465361,
          0.964079,
          1.927381,
          3.59445,
          6.171751,
          17.379744,
          23.729562
         ]
        }
       ],
       "layout": {
        "showlegend": true,
        "title": "plot 6 of quick sort<br>mpi<br>fixed seed: 123456",
        "xaxis": {
         "title": "size of test"
        },
        "yaxis": {
         "title": "runtime(s)"
        }
       }
      },
      "text/html": [
       "<div id=\"474cfc9e-5536-4579-b53f-797c82da567a\" style=\"height: 525px; width: 100%;\" class=\"plotly-graph-div\"></div><script type=\"text/javascript\">require([\"plotly\"], function(Plotly) { window.PLOTLYENV=window.PLOTLYENV || {};window.PLOTLYENV.BASE_URL=\"https://plot.ly\";Plotly.newPlot(\"474cfc9e-5536-4579-b53f-797c82da567a\", [{\"mode\": \"lines+markers\", \"name\": \"1 procs\", \"x\": [1000, 2000, 4000, 8000, 16000, 32000, 64000, 128000, 256000, 512000, 1024000, 2048000, 4096000, 8192000, 16384000, 32768000, 65536000], \"y\": [0.000227, 0.000498, 0.001049, 0.002153, 0.004703, 0.009981, 0.02356, 0.04889, 0.100371, 0.208479, 0.450354, 0.9143, 1.963762, 4.082816, 8.552645, 17.983429, 37.365497], \"type\": \"scatter\", \"uid\": \"d3e76fe8-cf32-11e8-ae2e-bda3ede16b9c\"}, {\"mode\": \"lines+markers\", \"name\": \"2 procs\", \"x\": [1000, 2000, 4000, 8000, 16000, 32000, 64000, 128000, 256000, 512000, 1024000, 2048000, 4096000, 8192000, 16384000, 32768000, 65536000], \"y\": [0.000224, 0.000475, 0.0006, 0.002264, 0.0039, 0.006738, 0.020937, 0.030971, 0.100374, 0.185512, 0.424006, 0.542881, 1.862494, 3.783754, 6.480269, 15.295733, 26.221916], \"type\": \"scatter\", \"uid\": \"d3e7716e-cf32-11e8-ae2e-bda3ede16b9c\"}, {\"mode\": \"lines+markers\", \"name\": \"4 procs\", \"x\": [1000, 2000, 4000, 8000, 16000, 32000, 64000, 128000, 256000, 512000, 1024000, 2048000, 4096000, 8192000, 16384000, 32768000, 65536000], \"y\": [0.000159, 0.000438, 0.000565, 0.001265, 0.002258, 0.00593, 0.026468, 0.027994, 0.088926, 0.118295, 0.319469, 0.43644, 1.13782, 2.188929, 5.455694, 14.08337, 19.15922], \"type\": \"scatter\", \"uid\": \"d3e7722c-cf32-11e8-ae2e-bda3ede16b9c\"}, {\"mode\": \"lines+markers\", \"name\": \"8 procs\", \"x\": [1000, 2000, 4000, 8000, 16000, 32000, 64000, 128000, 256000, 512000, 1024000, 2048000, 4096000, 8192000, 16384000, 32768000, 65536000], \"y\": [0.00017, 0.000722, 0.0005, 0.00125, 0.002217, 0.005636, 0.012666, 0.027581, 0.073051, 0.085455, 0.218661, 0.329002, 0.883334, 1.822844, 3.729081, 13.807897, 17.105228], \"type\": \"scatter\", \"uid\": \"d3e772c2-cf32-11e8-ae2e-bda3ede16b9c\"}, {\"mode\": \"lines+markers\", \"name\": \"16 procs\", \"x\": [1000, 2000, 4000, 8000, 16000, 32000, 64000, 128000, 256000, 512000, 1024000, 2048000, 4096000, 8192000, 16384000, 32768000, 65536000], \"y\": [0.041681, 0.057638, 0.05365, 0.029728, 0.029585, 0.084219, 0.088658, 0.039623, 0.225614, 0.181579, 0.465361, 0.964079, 1.927381, 3.59445, 6.171751, 17.379744, 23.729562], \"type\": \"scatter\", \"uid\": \"d3e7734e-cf32-11e8-ae2e-bda3ede16b9c\"}], {\"showlegend\": true, \"title\": \"plot 6 of quick sort<br>mpi<br>fixed seed: 123456\", \"xaxis\": {\"title\": \"size of test\"}, \"yaxis\": {\"title\": \"runtime(s)\"}}, {\"showLink\": true, \"linkText\": \"Export to plot.ly\"})});</script>"
      ],
      "text/vnd.plotly.v1+html": [
       "<div id=\"474cfc9e-5536-4579-b53f-797c82da567a\" style=\"height: 525px; width: 100%;\" class=\"plotly-graph-div\"></div><script type=\"text/javascript\">require([\"plotly\"], function(Plotly) { window.PLOTLYENV=window.PLOTLYENV || {};window.PLOTLYENV.BASE_URL=\"https://plot.ly\";Plotly.newPlot(\"474cfc9e-5536-4579-b53f-797c82da567a\", [{\"mode\": \"lines+markers\", \"name\": \"1 procs\", \"x\": [1000, 2000, 4000, 8000, 16000, 32000, 64000, 128000, 256000, 512000, 1024000, 2048000, 4096000, 8192000, 16384000, 32768000, 65536000], \"y\": [0.000227, 0.000498, 0.001049, 0.002153, 0.004703, 0.009981, 0.02356, 0.04889, 0.100371, 0.208479, 0.450354, 0.9143, 1.963762, 4.082816, 8.552645, 17.983429, 37.365497], \"type\": \"scatter\", \"uid\": \"d3e76fe8-cf32-11e8-ae2e-bda3ede16b9c\"}, {\"mode\": \"lines+markers\", \"name\": \"2 procs\", \"x\": [1000, 2000, 4000, 8000, 16000, 32000, 64000, 128000, 256000, 512000, 1024000, 2048000, 4096000, 8192000, 16384000, 32768000, 65536000], \"y\": [0.000224, 0.000475, 0.0006, 0.002264, 0.0039, 0.006738, 0.020937, 0.030971, 0.100374, 0.185512, 0.424006, 0.542881, 1.862494, 3.783754, 6.480269, 15.295733, 26.221916], \"type\": \"scatter\", \"uid\": \"d3e7716e-cf32-11e8-ae2e-bda3ede16b9c\"}, {\"mode\": \"lines+markers\", \"name\": \"4 procs\", \"x\": [1000, 2000, 4000, 8000, 16000, 32000, 64000, 128000, 256000, 512000, 1024000, 2048000, 4096000, 8192000, 16384000, 32768000, 65536000], \"y\": [0.000159, 0.000438, 0.000565, 0.001265, 0.002258, 0.00593, 0.026468, 0.027994, 0.088926, 0.118295, 0.319469, 0.43644, 1.13782, 2.188929, 5.455694, 14.08337, 19.15922], \"type\": \"scatter\", \"uid\": \"d3e7722c-cf32-11e8-ae2e-bda3ede16b9c\"}, {\"mode\": \"lines+markers\", \"name\": \"8 procs\", \"x\": [1000, 2000, 4000, 8000, 16000, 32000, 64000, 128000, 256000, 512000, 1024000, 2048000, 4096000, 8192000, 16384000, 32768000, 65536000], \"y\": [0.00017, 0.000722, 0.0005, 0.00125, 0.002217, 0.005636, 0.012666, 0.027581, 0.073051, 0.085455, 0.218661, 0.329002, 0.883334, 1.822844, 3.729081, 13.807897, 17.105228], \"type\": \"scatter\", \"uid\": \"d3e772c2-cf32-11e8-ae2e-bda3ede16b9c\"}, {\"mode\": \"lines+markers\", \"name\": \"16 procs\", \"x\": [1000, 2000, 4000, 8000, 16000, 32000, 64000, 128000, 256000, 512000, 1024000, 2048000, 4096000, 8192000, 16384000, 32768000, 65536000], \"y\": [0.041681, 0.057638, 0.05365, 0.029728, 0.029585, 0.084219, 0.088658, 0.039623, 0.225614, 0.181579, 0.465361, 0.964079, 1.927381, 3.59445, 6.171751, 17.379744, 23.729562], \"type\": \"scatter\", \"uid\": \"d3e7734e-cf32-11e8-ae2e-bda3ede16b9c\"}], {\"showlegend\": true, \"title\": \"plot 6 of quick sort<br>mpi<br>fixed seed: 123456\", \"xaxis\": {\"title\": \"size of test\"}, \"yaxis\": {\"title\": \"runtime(s)\"}}, {\"showLink\": true, \"linkText\": \"Export to plot.ly\"})});</script>"
      ]
     },
     "metadata": {},
     "output_type": "display_data"
    }
   ],
   "source": [
    "iplot({\n",
    "    \"data\": trace_mpi_testsize[:4],\n",
    "    \"layout\": go.Layout(title=\"plot 5 of quick sort<br>mpi<br>fixed small test size\", \n",
    "                        xaxis=dict(title='number of procs'),\n",
    "                        yaxis=dict(title='runtime(s)'),\n",
    "                        showlegend=True,\n",
    "                       )\n",
    "})\n",
    "\n",
    "iplot({\n",
    "    \"data\": trace_mpi_testsize[4:],\n",
    "    \"layout\": go.Layout(title=\"plot 5 of quick sort<br>mpi<br>fixed big test size\", \n",
    "                        xaxis=dict(title='number of procs'),\n",
    "                        yaxis=dict(title='runtime(s)'),\n",
    "                        showlegend=True,\n",
    "                       )\n",
    "})\n",
    "\n",
    "iplot({\n",
    "    \"data\": trace_mpi_seed,\n",
    "    \"layout\": go.Layout(title=\"plot 6 of quick sort<br>mpi<br>fixed seed: 123456\", \n",
    "                        xaxis=dict(title='size of test'),\n",
    "                        yaxis=dict(title='runtime(s)'),\n",
    "                        showlegend=True,\n",
    "                       )\n",
    "})"
   ]
  },
  {
   "cell_type": "markdown",
   "metadata": {},
   "source": [
    "# 三种快排效率的对比\n",
    "\n",
    "### 测试方案\n",
    "\n",
    "左边纵轴为运行时间，右边纵轴为运行时间和串行快排运行时间之比\n",
    "\n",
    "- 横轴为workers数量（对openmp来说是线程数，对mpi来说是进程数，取值1-20），seed固定为6666，测试集大小为1e4,2e4,1e7,2e7,\n",
    "\n",
    "- 横轴为测试集大小（$1000 * 2^k, 0 <= k < 16$）,seed固定为6666，workers为1,2,4,8,16\n",
    "\n",
    "一共9张图"
   ]
  },
  {
   "cell_type": "code",
   "execution_count": 10,
   "metadata": {},
   "outputs": [],
   "source": [
    "def sol1(method, n):\n",
    "    seed = 6666\n",
    "    x = [i for i in range(1, 21)]\n",
    "    y = []\n",
    "    for worker in x:\n",
    "        timeInSec = run(method, worker, n, seed)\n",
    "        y.append(timeInSec)\n",
    "    return go.Scatter(x=x, y=y, mode='lines+markers', name=method)"
   ]
  },
  {
   "cell_type": "code",
   "execution_count": 14,
   "metadata": {},
   "outputs": [
    {
     "data": {
      "application/vnd.plotly.v1+json": {
       "data": [
        {
         "mode": "lines+markers",
         "name": "openmp",
         "type": "scatter",
         "uid": "5d875cba-cf81-11e8-b6e1-b1937b7a57bd",
         "x": [
          1,
          2,
          3,
          4,
          5,
          6,
          7,
          8,
          9,
          10,
          11,
          12,
          13,
          14,
          15,
          16,
          17,
          18,
          19,
          20
         ],
         "y": [
          0.003252,
          0.002459,
          0.003379,
          0.007977,
          0.008789,
          0.015506,
          0.017274,
          0.017957,
          0.014018,
          0.01448,
          0.016183,
          0.015843,
          0.014083,
          0.018621,
          0.017138,
          0.020636,
          0.022803,
          0.0202,
          0.022612,
          0.020873
         ]
        },
        {
         "mode": "lines+markers",
         "name": "mpi",
         "type": "scatter",
         "uid": "5d875f08-cf81-11e8-b6e1-b1937b7a57bd",
         "x": [
          1,
          2,
          3,
          4,
          5,
          6,
          7,
          8,
          9,
          10,
          11,
          12,
          13,
          14,
          15,
          16,
          17,
          18,
          19,
          20
         ],
         "y": [
          0.002753,
          0.0022,
          0.002061,
          0.002104,
          0.001907,
          0.001878,
          0.001899,
          0.001881,
          0.015721,
          0.017462,
          0.025461,
          0.049634,
          0.021564,
          0.045055,
          0.09356,
          0.093524,
          0.061523,
          0.065744,
          0.069448,
          0.069656
         ]
        },
        {
         "name": "openmp ratio",
         "type": "scatter",
         "uid": "5d875fd0-cf81-11e8-b6e1-b1937b7a57bd",
         "x": [
          1,
          2,
          3,
          4,
          5,
          6,
          7,
          8,
          9,
          10,
          11,
          12,
          13,
          14,
          15,
          16,
          17,
          18,
          19,
          20
         ],
         "y": [
          1.185131195335277,
          0.896137026239067,
          1.2314139941690962,
          2.9070699708454812,
          3.20298833819242,
          5.650874635568513,
          6.2951895043731785,
          6.544096209912537,
          5.108600583090379,
          5.276967930029155,
          5.897594752186589,
          5.77368804664723,
          5.13228862973761,
          6.786078717201166,
          6.245626822157435,
          7.520408163265307,
          8.310131195335277,
          7.3615160349854225,
          8.240524781341108,
          7.6067784256559765
         ],
         "yaxis": "y2"
        },
        {
         "name": "mpi ratio",
         "type": "scatter",
         "uid": "5d876066-cf81-11e8-b6e1-b1937b7a57bd",
         "x": [
          1,
          2,
          3,
          4,
          5,
          6,
          7,
          8,
          9,
          10,
          11,
          12,
          13,
          14,
          15,
          16,
          17,
          18,
          19,
          20
         ],
         "y": [
          1.003279883381924,
          0.8017492711370263,
          0.7510932944606414,
          0.7667638483965015,
          0.6949708454810496,
          0.684402332361516,
          0.6920553935860059,
          0.6854956268221575,
          5.729227405247813,
          6.363702623906705,
          9.278790087463557,
          18.088192419825074,
          7.85860058309038,
          16.419460641399418,
          34.096209912536445,
          34.083090379008745,
          22.42091836734694,
          23.959183673469386,
          25.309037900874635,
          25.38483965014577
         ],
         "yaxis": "y2"
        }
       ],
       "layout": {
        "showlegend": true,
        "title": "plot 7-1 of quick sort<br>fixed seed: SEED = 6666<br>fixed size = 10000",
        "xaxis": {
         "title": "workers"
        },
        "yaxis": {
         "title": "runtime(s)"
        },
        "yaxis2": {
         "overlaying": "y",
         "side": "right",
         "title": "ratio"
        }
       }
      },
      "text/html": [
       "<div id=\"5fe42c4c-98fc-4644-a177-d9d26564d279\" style=\"height: 525px; width: 100%;\" class=\"plotly-graph-div\"></div><script type=\"text/javascript\">require([\"plotly\"], function(Plotly) { window.PLOTLYENV=window.PLOTLYENV || {};window.PLOTLYENV.BASE_URL=\"https://plot.ly\";Plotly.newPlot(\"5fe42c4c-98fc-4644-a177-d9d26564d279\", [{\"mode\": \"lines+markers\", \"name\": \"openmp\", \"x\": [1, 2, 3, 4, 5, 6, 7, 8, 9, 10, 11, 12, 13, 14, 15, 16, 17, 18, 19, 20], \"y\": [0.003252, 0.002459, 0.003379, 0.007977, 0.008789, 0.015506, 0.017274, 0.017957, 0.014018, 0.01448, 0.016183, 0.015843, 0.014083, 0.018621, 0.017138, 0.020636, 0.022803, 0.0202, 0.022612, 0.020873], \"type\": \"scatter\", \"uid\": \"5d8adf0c-cf81-11e8-b6e1-b1937b7a57bd\"}, {\"mode\": \"lines+markers\", \"name\": \"mpi\", \"x\": [1, 2, 3, 4, 5, 6, 7, 8, 9, 10, 11, 12, 13, 14, 15, 16, 17, 18, 19, 20], \"y\": [0.002753, 0.0022, 0.002061, 0.002104, 0.001907, 0.001878, 0.001899, 0.001881, 0.015721, 0.017462, 0.025461, 0.049634, 0.021564, 0.045055, 0.09356, 0.093524, 0.061523, 0.065744, 0.069448, 0.069656], \"type\": \"scatter\", \"uid\": \"5d8ae0a6-cf81-11e8-b6e1-b1937b7a57bd\"}, {\"name\": \"openmp ratio\", \"x\": [1, 2, 3, 4, 5, 6, 7, 8, 9, 10, 11, 12, 13, 14, 15, 16, 17, 18, 19, 20], \"y\": [1.185131195335277, 0.896137026239067, 1.2314139941690962, 2.9070699708454812, 3.20298833819242, 5.650874635568513, 6.2951895043731785, 6.544096209912537, 5.108600583090379, 5.276967930029155, 5.897594752186589, 5.77368804664723, 5.13228862973761, 6.786078717201166, 6.245626822157435, 7.520408163265307, 8.310131195335277, 7.3615160349854225, 8.240524781341108, 7.6067784256559765], \"yaxis\": \"y2\", \"type\": \"scatter\", \"uid\": \"5d8ae164-cf81-11e8-b6e1-b1937b7a57bd\"}, {\"name\": \"mpi ratio\", \"x\": [1, 2, 3, 4, 5, 6, 7, 8, 9, 10, 11, 12, 13, 14, 15, 16, 17, 18, 19, 20], \"y\": [1.003279883381924, 0.8017492711370263, 0.7510932944606414, 0.7667638483965015, 0.6949708454810496, 0.684402332361516, 0.6920553935860059, 0.6854956268221575, 5.729227405247813, 6.363702623906705, 9.278790087463557, 18.088192419825074, 7.85860058309038, 16.419460641399418, 34.096209912536445, 34.083090379008745, 22.42091836734694, 23.959183673469386, 25.309037900874635, 25.38483965014577], \"yaxis\": \"y2\", \"type\": \"scatter\", \"uid\": \"5d8ae204-cf81-11e8-b6e1-b1937b7a57bd\"}], {\"showlegend\": true, \"title\": \"plot 7-1 of quick sort<br>fixed seed: SEED = 6666<br>fixed size = 10000\", \"xaxis\": {\"title\": \"workers\"}, \"yaxis\": {\"title\": \"runtime(s)\"}, \"yaxis2\": {\"overlaying\": \"y\", \"side\": \"right\", \"title\": \"ratio\"}}, {\"showLink\": true, \"linkText\": \"Export to plot.ly\"})});</script>"
      ],
      "text/vnd.plotly.v1+html": [
       "<div id=\"5fe42c4c-98fc-4644-a177-d9d26564d279\" style=\"height: 525px; width: 100%;\" class=\"plotly-graph-div\"></div><script type=\"text/javascript\">require([\"plotly\"], function(Plotly) { window.PLOTLYENV=window.PLOTLYENV || {};window.PLOTLYENV.BASE_URL=\"https://plot.ly\";Plotly.newPlot(\"5fe42c4c-98fc-4644-a177-d9d26564d279\", [{\"mode\": \"lines+markers\", \"name\": \"openmp\", \"x\": [1, 2, 3, 4, 5, 6, 7, 8, 9, 10, 11, 12, 13, 14, 15, 16, 17, 18, 19, 20], \"y\": [0.003252, 0.002459, 0.003379, 0.007977, 0.008789, 0.015506, 0.017274, 0.017957, 0.014018, 0.01448, 0.016183, 0.015843, 0.014083, 0.018621, 0.017138, 0.020636, 0.022803, 0.0202, 0.022612, 0.020873], \"type\": \"scatter\", \"uid\": \"5d8adf0c-cf81-11e8-b6e1-b1937b7a57bd\"}, {\"mode\": \"lines+markers\", \"name\": \"mpi\", \"x\": [1, 2, 3, 4, 5, 6, 7, 8, 9, 10, 11, 12, 13, 14, 15, 16, 17, 18, 19, 20], \"y\": [0.002753, 0.0022, 0.002061, 0.002104, 0.001907, 0.001878, 0.001899, 0.001881, 0.015721, 0.017462, 0.025461, 0.049634, 0.021564, 0.045055, 0.09356, 0.093524, 0.061523, 0.065744, 0.069448, 0.069656], \"type\": \"scatter\", \"uid\": \"5d8ae0a6-cf81-11e8-b6e1-b1937b7a57bd\"}, {\"name\": \"openmp ratio\", \"x\": [1, 2, 3, 4, 5, 6, 7, 8, 9, 10, 11, 12, 13, 14, 15, 16, 17, 18, 19, 20], \"y\": [1.185131195335277, 0.896137026239067, 1.2314139941690962, 2.9070699708454812, 3.20298833819242, 5.650874635568513, 6.2951895043731785, 6.544096209912537, 5.108600583090379, 5.276967930029155, 5.897594752186589, 5.77368804664723, 5.13228862973761, 6.786078717201166, 6.245626822157435, 7.520408163265307, 8.310131195335277, 7.3615160349854225, 8.240524781341108, 7.6067784256559765], \"yaxis\": \"y2\", \"type\": \"scatter\", \"uid\": \"5d8ae164-cf81-11e8-b6e1-b1937b7a57bd\"}, {\"name\": \"mpi ratio\", \"x\": [1, 2, 3, 4, 5, 6, 7, 8, 9, 10, 11, 12, 13, 14, 15, 16, 17, 18, 19, 20], \"y\": [1.003279883381924, 0.8017492711370263, 0.7510932944606414, 0.7667638483965015, 0.6949708454810496, 0.684402332361516, 0.6920553935860059, 0.6854956268221575, 5.729227405247813, 6.363702623906705, 9.278790087463557, 18.088192419825074, 7.85860058309038, 16.419460641399418, 34.096209912536445, 34.083090379008745, 22.42091836734694, 23.959183673469386, 25.309037900874635, 25.38483965014577], \"yaxis\": \"y2\", \"type\": \"scatter\", \"uid\": \"5d8ae204-cf81-11e8-b6e1-b1937b7a57bd\"}], {\"showlegend\": true, \"title\": \"plot 7-1 of quick sort<br>fixed seed: SEED = 6666<br>fixed size = 10000\", \"xaxis\": {\"title\": \"workers\"}, \"yaxis\": {\"title\": \"runtime(s)\"}, \"yaxis2\": {\"overlaying\": \"y\", \"side\": \"right\", \"title\": \"ratio\"}}, {\"showLink\": true, \"linkText\": \"Export to plot.ly\"})});</script>"
      ]
     },
     "metadata": {},
     "output_type": "display_data"
    },
    {
     "data": {
      "application/vnd.plotly.v1+json": {
       "data": [
        {
         "mode": "lines+markers",
         "name": "openmp",
         "type": "scatter",
         "uid": "5fd6a674-cf81-11e8-b6e1-b1937b7a57bd",
         "x": [
          1,
          2,
          3,
          4,
          5,
          6,
          7,
          8,
          9,
          10,
          11,
          12,
          13,
          14,
          15,
          16,
          17,
          18,
          19,
          20
         ],
         "y": [
          0.006725,
          0.005572,
          0.008436,
          0.01081,
          0.014039,
          0.014979,
          0.015276,
          0.019751,
          0.016555,
          0.018417,
          0.018371,
          0.02154,
          0.024748,
          0.022979,
          0.033408,
          0.027968,
          0.033666,
          0.031919,
          0.036002,
          0.040189
         ]
        },
        {
         "mode": "lines+markers",
         "name": "mpi",
         "type": "scatter",
         "uid": "5fd6a930-cf81-11e8-b6e1-b1937b7a57bd",
         "x": [
          1,
          2,
          3,
          4,
          5,
          6,
          7,
          8,
          9,
          10,
          11,
          12,
          13,
          14,
          15,
          16,
          17,
          18,
          19,
          20
         ],
         "y": [
          0.006514,
          0.005945,
          0.00501,
          0.00506,
          0.003803,
          0.003818,
          0.003803,
          0.003844,
          0.01676,
          0.017354,
          0.018334,
          0.033355,
          0.053571,
          0.073536,
          0.033388,
          0.065382,
          0.085398,
          0.105368,
          0.073316,
          0.069355
         ]
        },
        {
         "name": "openmp ratio",
         "type": "scatter",
         "uid": "5fd6a9f8-cf81-11e8-b6e1-b1937b7a57bd",
         "x": [
          1,
          2,
          3,
          4,
          5,
          6,
          7,
          8,
          9,
          10,
          11,
          12,
          13,
          14,
          15,
          16,
          17,
          18,
          19,
          20
         ],
         "y": [
          1.027501909854851,
          0.8513368983957219,
          1.2889228418640186,
          1.651642475171887,
          2.144996180290298,
          2.2886172650878533,
          2.333995416348358,
          3.017723453017571,
          2.5294117647058827,
          2.813903743315508,
          2.806875477463713,
          3.2910618792971738,
          3.781207028265852,
          3.510924369747899,
          5.104354469060352,
          4.273185637891521,
          5.143773873185639,
          4.876852559205501,
          5.500687547746372,
          6.140412528647824
         ],
         "yaxis": "y2"
        },
        {
         "name": "mpi ratio",
         "type": "scatter",
         "uid": "5fd6aa98-cf81-11e8-b6e1-b1937b7a57bd",
         "x": [
          1,
          2,
          3,
          4,
          5,
          6,
          7,
          8,
          9,
          10,
          11,
          12,
          13,
          14,
          15,
          16,
          17,
          18,
          19,
          20
         ],
         "y": [
          0.9952635599694424,
          0.9083269671504965,
          0.7654698242933538,
          0.7731092436974791,
          0.5810542398777693,
          0.5833460656990069,
          0.5810542398777693,
          0.587318563789152,
          2.560733384262796,
          2.6514896867838047,
          2.80122230710466,
          5.096256684491979,
          8.185026737967915,
          11.235446906035143,
          5.101298701298702,
          9.98961038961039,
          13.047822765469826,
          16.099006875477464,
          11.201833460656992,
          10.596638655462186
         ],
         "yaxis": "y2"
        }
       ],
       "layout": {
        "showlegend": true,
        "title": "plot 7-2 of quick sort<br>fixed seed: SEED = 6666<br>fixed size = 20000",
        "xaxis": {
         "title": "workers"
        },
        "yaxis": {
         "title": "runtime(s)"
        },
        "yaxis2": {
         "overlaying": "y",
         "side": "right",
         "title": "ratio"
        }
       }
      },
      "text/html": [
       "<div id=\"df15cb78-fea0-4cb5-bcf1-34514d1e31ef\" style=\"height: 525px; width: 100%;\" class=\"plotly-graph-div\"></div><script type=\"text/javascript\">require([\"plotly\"], function(Plotly) { window.PLOTLYENV=window.PLOTLYENV || {};window.PLOTLYENV.BASE_URL=\"https://plot.ly\";Plotly.newPlot(\"df15cb78-fea0-4cb5-bcf1-34514d1e31ef\", [{\"mode\": \"lines+markers\", \"name\": \"openmp\", \"x\": [1, 2, 3, 4, 5, 6, 7, 8, 9, 10, 11, 12, 13, 14, 15, 16, 17, 18, 19, 20], \"y\": [0.006725, 0.005572, 0.008436, 0.01081, 0.014039, 0.014979, 0.015276, 0.019751, 0.016555, 0.018417, 0.018371, 0.02154, 0.024748, 0.022979, 0.033408, 0.027968, 0.033666, 0.031919, 0.036002, 0.040189], \"type\": \"scatter\", \"uid\": \"5fda0b2a-cf81-11e8-b6e1-b1937b7a57bd\"}, {\"mode\": \"lines+markers\", \"name\": \"mpi\", \"x\": [1, 2, 3, 4, 5, 6, 7, 8, 9, 10, 11, 12, 13, 14, 15, 16, 17, 18, 19, 20], \"y\": [0.006514, 0.005945, 0.00501, 0.00506, 0.003803, 0.003818, 0.003803, 0.003844, 0.01676, 0.017354, 0.018334, 0.033355, 0.053571, 0.073536, 0.033388, 0.065382, 0.085398, 0.105368, 0.073316, 0.069355], \"type\": \"scatter\", \"uid\": \"5fda0c92-cf81-11e8-b6e1-b1937b7a57bd\"}, {\"name\": \"openmp ratio\", \"x\": [1, 2, 3, 4, 5, 6, 7, 8, 9, 10, 11, 12, 13, 14, 15, 16, 17, 18, 19, 20], \"y\": [1.027501909854851, 0.8513368983957219, 1.2889228418640186, 1.651642475171887, 2.144996180290298, 2.2886172650878533, 2.333995416348358, 3.017723453017571, 2.5294117647058827, 2.813903743315508, 2.806875477463713, 3.2910618792971738, 3.781207028265852, 3.510924369747899, 5.104354469060352, 4.273185637891521, 5.143773873185639, 4.876852559205501, 5.500687547746372, 6.140412528647824], \"yaxis\": \"y2\", \"type\": \"scatter\", \"uid\": \"5fda0d50-cf81-11e8-b6e1-b1937b7a57bd\"}, {\"name\": \"mpi ratio\", \"x\": [1, 2, 3, 4, 5, 6, 7, 8, 9, 10, 11, 12, 13, 14, 15, 16, 17, 18, 19, 20], \"y\": [0.9952635599694424, 0.9083269671504965, 0.7654698242933538, 0.7731092436974791, 0.5810542398777693, 0.5833460656990069, 0.5810542398777693, 0.587318563789152, 2.560733384262796, 2.6514896867838047, 2.80122230710466, 5.096256684491979, 8.185026737967915, 11.235446906035143, 5.101298701298702, 9.98961038961039, 13.047822765469826, 16.099006875477464, 11.201833460656992, 10.596638655462186], \"yaxis\": \"y2\", \"type\": \"scatter\", \"uid\": \"5fda0df0-cf81-11e8-b6e1-b1937b7a57bd\"}], {\"showlegend\": true, \"title\": \"plot 7-2 of quick sort<br>fixed seed: SEED = 6666<br>fixed size = 20000\", \"xaxis\": {\"title\": \"workers\"}, \"yaxis\": {\"title\": \"runtime(s)\"}, \"yaxis2\": {\"overlaying\": \"y\", \"side\": \"right\", \"title\": \"ratio\"}}, {\"showLink\": true, \"linkText\": \"Export to plot.ly\"})});</script>"
      ],
      "text/vnd.plotly.v1+html": [
       "<div id=\"df15cb78-fea0-4cb5-bcf1-34514d1e31ef\" style=\"height: 525px; width: 100%;\" class=\"plotly-graph-div\"></div><script type=\"text/javascript\">require([\"plotly\"], function(Plotly) { window.PLOTLYENV=window.PLOTLYENV || {};window.PLOTLYENV.BASE_URL=\"https://plot.ly\";Plotly.newPlot(\"df15cb78-fea0-4cb5-bcf1-34514d1e31ef\", [{\"mode\": \"lines+markers\", \"name\": \"openmp\", \"x\": [1, 2, 3, 4, 5, 6, 7, 8, 9, 10, 11, 12, 13, 14, 15, 16, 17, 18, 19, 20], \"y\": [0.006725, 0.005572, 0.008436, 0.01081, 0.014039, 0.014979, 0.015276, 0.019751, 0.016555, 0.018417, 0.018371, 0.02154, 0.024748, 0.022979, 0.033408, 0.027968, 0.033666, 0.031919, 0.036002, 0.040189], \"type\": \"scatter\", \"uid\": \"5fda0b2a-cf81-11e8-b6e1-b1937b7a57bd\"}, {\"mode\": \"lines+markers\", \"name\": \"mpi\", \"x\": [1, 2, 3, 4, 5, 6, 7, 8, 9, 10, 11, 12, 13, 14, 15, 16, 17, 18, 19, 20], \"y\": [0.006514, 0.005945, 0.00501, 0.00506, 0.003803, 0.003818, 0.003803, 0.003844, 0.01676, 0.017354, 0.018334, 0.033355, 0.053571, 0.073536, 0.033388, 0.065382, 0.085398, 0.105368, 0.073316, 0.069355], \"type\": \"scatter\", \"uid\": \"5fda0c92-cf81-11e8-b6e1-b1937b7a57bd\"}, {\"name\": \"openmp ratio\", \"x\": [1, 2, 3, 4, 5, 6, 7, 8, 9, 10, 11, 12, 13, 14, 15, 16, 17, 18, 19, 20], \"y\": [1.027501909854851, 0.8513368983957219, 1.2889228418640186, 1.651642475171887, 2.144996180290298, 2.2886172650878533, 2.333995416348358, 3.017723453017571, 2.5294117647058827, 2.813903743315508, 2.806875477463713, 3.2910618792971738, 3.781207028265852, 3.510924369747899, 5.104354469060352, 4.273185637891521, 5.143773873185639, 4.876852559205501, 5.500687547746372, 6.140412528647824], \"yaxis\": \"y2\", \"type\": \"scatter\", \"uid\": \"5fda0d50-cf81-11e8-b6e1-b1937b7a57bd\"}, {\"name\": \"mpi ratio\", \"x\": [1, 2, 3, 4, 5, 6, 7, 8, 9, 10, 11, 12, 13, 14, 15, 16, 17, 18, 19, 20], \"y\": [0.9952635599694424, 0.9083269671504965, 0.7654698242933538, 0.7731092436974791, 0.5810542398777693, 0.5833460656990069, 0.5810542398777693, 0.587318563789152, 2.560733384262796, 2.6514896867838047, 2.80122230710466, 5.096256684491979, 8.185026737967915, 11.235446906035143, 5.101298701298702, 9.98961038961039, 13.047822765469826, 16.099006875477464, 11.201833460656992, 10.596638655462186], \"yaxis\": \"y2\", \"type\": \"scatter\", \"uid\": \"5fda0df0-cf81-11e8-b6e1-b1937b7a57bd\"}], {\"showlegend\": true, \"title\": \"plot 7-2 of quick sort<br>fixed seed: SEED = 6666<br>fixed size = 20000\", \"xaxis\": {\"title\": \"workers\"}, \"yaxis\": {\"title\": \"runtime(s)\"}, \"yaxis2\": {\"overlaying\": \"y\", \"side\": \"right\", \"title\": \"ratio\"}}, {\"showLink\": true, \"linkText\": \"Export to plot.ly\"})});</script>"
      ]
     },
     "metadata": {},
     "output_type": "display_data"
    },
    {
     "data": {
      "application/vnd.plotly.v1+json": {
       "data": [
        {
         "mode": "lines+markers",
         "name": "openmp",
         "type": "scatter",
         "uid": "c240975c-cf81-11e8-b6e1-b1937b7a57bd",
         "x": [
          1,
          2,
          3,
          4,
          5,
          6,
          7,
          8,
          9,
          10,
          11,
          12,
          13,
          14,
          15,
          16,
          17,
          18,
          19,
          20
         ],
         "y": [
          5.44094,
          3.450644,
          2.617866,
          2.771105,
          2.786274,
          2.976778,
          3.062639,
          3.2174,
          3.121754,
          3.3442,
          3.251403,
          3.213777,
          3.217162,
          3.336082,
          3.344544,
          3.303666,
          3.351179,
          3.31399,
          3.244688,
          3.393995
         ]
        },
        {
         "mode": "lines+markers",
         "name": "mpi",
         "type": "scatter",
         "uid": "c2409a9a-cf81-11e8-b6e1-b1937b7a57bd",
         "x": [
          1,
          2,
          3,
          4,
          5,
          6,
          7,
          8,
          9,
          10,
          11,
          12,
          13,
          14,
          15,
          16,
          17,
          18,
          19,
          20
         ],
         "y": [
          5.248843,
          5.287113,
          3.770754,
          3.777566,
          3.041116,
          3.023147,
          3.021726,
          3.046774,
          2.974097,
          3.225784,
          3.54383,
          4.126798,
          5.128919,
          4.957326,
          4.983959,
          5.552581,
          4.174324,
          4.068262,
          4.423681,
          4.782284
         ]
        },
        {
         "name": "openmp ratio",
         "type": "scatter",
         "uid": "c2409ba8-cf81-11e8-b6e1-b1937b7a57bd",
         "x": [
          1,
          2,
          3,
          4,
          5,
          6,
          7,
          8,
          9,
          10,
          11,
          12,
          13,
          14,
          15,
          16,
          17,
          18,
          19,
          20
         ],
         "y": [
          1.037980865534115,
          0.6582874366874291,
          0.49941642740635456,
          0.5286501902954109,
          0.5315440159485678,
          0.5678869101557655,
          0.5842668141972777,
          0.613790932590593,
          0.5955443211843147,
          0.6379808655341148,
          0.6202777645296984,
          0.6130997643961578,
          0.6137455287732384,
          0.6364321756631723,
          0.6380464912197029,
          0.6302480994305446,
          0.6393122657077177,
          0.632217633087555,
          0.6189967282543376,
          0.6474803742953346
         ],
         "yaxis": "y2"
        },
        {
         "name": "mpi ratio",
         "type": "scatter",
         "uid": "c2409c84-cf81-11e8-b6e1-b1937b7a57bd",
         "x": [
          1,
          2,
          3,
          4,
          5,
          6,
          7,
          8,
          9,
          10,
          11,
          12,
          13,
          14,
          15,
          16,
          17,
          18,
          19,
          20
         ],
         "y": [
          1.0013340709863883,
          1.0086349285080647,
          0.7193555710293121,
          0.7206551122218301,
          0.5801608210841592,
          0.5767328328738899,
          0.5764617453761554,
          0.5812402109942101,
          0.5673754495073304,
          0.6153903679044612,
          0.6760647481328156,
          0.7872789187023664,
          0.9784558886652612,
          0.9457206902143327,
          0.9508015299941813,
          1.059278880547898,
          0.7963455650199834,
          0.7761118689012466,
          0.8439159838606599,
          0.9123275179564466
         ],
         "yaxis": "y2"
        }
       ],
       "layout": {
        "showlegend": true,
        "title": "plot 7-3 of quick sort<br>fixed seed: SEED = 6666<br>fixed size = 10000000",
        "xaxis": {
         "title": "workers"
        },
        "yaxis": {
         "title": "runtime(s)"
        },
        "yaxis2": {
         "overlaying": "y",
         "side": "right",
         "title": "ratio"
        }
       }
      },
      "text/html": [
       "<div id=\"bf4e92af-4a39-4a98-924b-36d3a6986f50\" style=\"height: 525px; width: 100%;\" class=\"plotly-graph-div\"></div><script type=\"text/javascript\">require([\"plotly\"], function(Plotly) { window.PLOTLYENV=window.PLOTLYENV || {};window.PLOTLYENV.BASE_URL=\"https://plot.ly\";Plotly.newPlot(\"bf4e92af-4a39-4a98-924b-36d3a6986f50\", [{\"mode\": \"lines+markers\", \"name\": \"openmp\", \"x\": [1, 2, 3, 4, 5, 6, 7, 8, 9, 10, 11, 12, 13, 14, 15, 16, 17, 18, 19, 20], \"y\": [5.44094, 3.450644, 2.617866, 2.771105, 2.786274, 2.976778, 3.062639, 3.2174, 3.121754, 3.3442, 3.251403, 3.213777, 3.217162, 3.336082, 3.344544, 3.303666, 3.351179, 3.31399, 3.244688, 3.393995], \"type\": \"scatter\", \"uid\": \"c24568b8-cf81-11e8-b6e1-b1937b7a57bd\"}, {\"mode\": \"lines+markers\", \"name\": \"mpi\", \"x\": [1, 2, 3, 4, 5, 6, 7, 8, 9, 10, 11, 12, 13, 14, 15, 16, 17, 18, 19, 20], \"y\": [5.248843, 5.287113, 3.770754, 3.777566, 3.041116, 3.023147, 3.021726, 3.046774, 2.974097, 3.225784, 3.54383, 4.126798, 5.128919, 4.957326, 4.983959, 5.552581, 4.174324, 4.068262, 4.423681, 4.782284], \"type\": \"scatter\", \"uid\": \"c2456a98-cf81-11e8-b6e1-b1937b7a57bd\"}, {\"name\": \"openmp ratio\", \"x\": [1, 2, 3, 4, 5, 6, 7, 8, 9, 10, 11, 12, 13, 14, 15, 16, 17, 18, 19, 20], \"y\": [1.037980865534115, 0.6582874366874291, 0.49941642740635456, 0.5286501902954109, 0.5315440159485678, 0.5678869101557655, 0.5842668141972777, 0.613790932590593, 0.5955443211843147, 0.6379808655341148, 0.6202777645296984, 0.6130997643961578, 0.6137455287732384, 0.6364321756631723, 0.6380464912197029, 0.6302480994305446, 0.6393122657077177, 0.632217633087555, 0.6189967282543376, 0.6474803742953346], \"yaxis\": \"y2\", \"type\": \"scatter\", \"uid\": \"c2456b9c-cf81-11e8-b6e1-b1937b7a57bd\"}, {\"name\": \"mpi ratio\", \"x\": [1, 2, 3, 4, 5, 6, 7, 8, 9, 10, 11, 12, 13, 14, 15, 16, 17, 18, 19, 20], \"y\": [1.0013340709863883, 1.0086349285080647, 0.7193555710293121, 0.7206551122218301, 0.5801608210841592, 0.5767328328738899, 0.5764617453761554, 0.5812402109942101, 0.5673754495073304, 0.6153903679044612, 0.6760647481328156, 0.7872789187023664, 0.9784558886652612, 0.9457206902143327, 0.9508015299941813, 1.059278880547898, 0.7963455650199834, 0.7761118689012466, 0.8439159838606599, 0.9123275179564466], \"yaxis\": \"y2\", \"type\": \"scatter\", \"uid\": \"c2456c6e-cf81-11e8-b6e1-b1937b7a57bd\"}], {\"showlegend\": true, \"title\": \"plot 7-3 of quick sort<br>fixed seed: SEED = 6666<br>fixed size = 10000000\", \"xaxis\": {\"title\": \"workers\"}, \"yaxis\": {\"title\": \"runtime(s)\"}, \"yaxis2\": {\"overlaying\": \"y\", \"side\": \"right\", \"title\": \"ratio\"}}, {\"showLink\": true, \"linkText\": \"Export to plot.ly\"})});</script>"
      ],
      "text/vnd.plotly.v1+html": [
       "<div id=\"bf4e92af-4a39-4a98-924b-36d3a6986f50\" style=\"height: 525px; width: 100%;\" class=\"plotly-graph-div\"></div><script type=\"text/javascript\">require([\"plotly\"], function(Plotly) { window.PLOTLYENV=window.PLOTLYENV || {};window.PLOTLYENV.BASE_URL=\"https://plot.ly\";Plotly.newPlot(\"bf4e92af-4a39-4a98-924b-36d3a6986f50\", [{\"mode\": \"lines+markers\", \"name\": \"openmp\", \"x\": [1, 2, 3, 4, 5, 6, 7, 8, 9, 10, 11, 12, 13, 14, 15, 16, 17, 18, 19, 20], \"y\": [5.44094, 3.450644, 2.617866, 2.771105, 2.786274, 2.976778, 3.062639, 3.2174, 3.121754, 3.3442, 3.251403, 3.213777, 3.217162, 3.336082, 3.344544, 3.303666, 3.351179, 3.31399, 3.244688, 3.393995], \"type\": \"scatter\", \"uid\": \"c24568b8-cf81-11e8-b6e1-b1937b7a57bd\"}, {\"mode\": \"lines+markers\", \"name\": \"mpi\", \"x\": [1, 2, 3, 4, 5, 6, 7, 8, 9, 10, 11, 12, 13, 14, 15, 16, 17, 18, 19, 20], \"y\": [5.248843, 5.287113, 3.770754, 3.777566, 3.041116, 3.023147, 3.021726, 3.046774, 2.974097, 3.225784, 3.54383, 4.126798, 5.128919, 4.957326, 4.983959, 5.552581, 4.174324, 4.068262, 4.423681, 4.782284], \"type\": \"scatter\", \"uid\": \"c2456a98-cf81-11e8-b6e1-b1937b7a57bd\"}, {\"name\": \"openmp ratio\", \"x\": [1, 2, 3, 4, 5, 6, 7, 8, 9, 10, 11, 12, 13, 14, 15, 16, 17, 18, 19, 20], \"y\": [1.037980865534115, 0.6582874366874291, 0.49941642740635456, 0.5286501902954109, 0.5315440159485678, 0.5678869101557655, 0.5842668141972777, 0.613790932590593, 0.5955443211843147, 0.6379808655341148, 0.6202777645296984, 0.6130997643961578, 0.6137455287732384, 0.6364321756631723, 0.6380464912197029, 0.6302480994305446, 0.6393122657077177, 0.632217633087555, 0.6189967282543376, 0.6474803742953346], \"yaxis\": \"y2\", \"type\": \"scatter\", \"uid\": \"c2456b9c-cf81-11e8-b6e1-b1937b7a57bd\"}, {\"name\": \"mpi ratio\", \"x\": [1, 2, 3, 4, 5, 6, 7, 8, 9, 10, 11, 12, 13, 14, 15, 16, 17, 18, 19, 20], \"y\": [1.0013340709863883, 1.0086349285080647, 0.7193555710293121, 0.7206551122218301, 0.5801608210841592, 0.5767328328738899, 0.5764617453761554, 0.5812402109942101, 0.5673754495073304, 0.6153903679044612, 0.6760647481328156, 0.7872789187023664, 0.9784558886652612, 0.9457206902143327, 0.9508015299941813, 1.059278880547898, 0.7963455650199834, 0.7761118689012466, 0.8439159838606599, 0.9123275179564466], \"yaxis\": \"y2\", \"type\": \"scatter\", \"uid\": \"c2456c6e-cf81-11e8-b6e1-b1937b7a57bd\"}], {\"showlegend\": true, \"title\": \"plot 7-3 of quick sort<br>fixed seed: SEED = 6666<br>fixed size = 10000000\", \"xaxis\": {\"title\": \"workers\"}, \"yaxis\": {\"title\": \"runtime(s)\"}, \"yaxis2\": {\"overlaying\": \"y\", \"side\": \"right\", \"title\": \"ratio\"}}, {\"showLink\": true, \"linkText\": \"Export to plot.ly\"})});</script>"
      ]
     },
     "metadata": {},
     "output_type": "display_data"
    },
    {
     "data": {
      "application/vnd.plotly.v1+json": {
       "data": [
        {
         "mode": "lines+markers",
         "name": "openmp",
         "type": "scatter",
         "uid": "6e60408c-cf82-11e8-b6e1-b1937b7a57bd",
         "x": [
          1,
          2,
          3,
          4,
          5,
          6,
          7,
          8,
          9,
          10,
          11,
          12,
          13,
          14,
          15,
          16,
          17,
          18,
          19,
          20
         ],
         "y": [
          10.758255,
          6.307514,
          5.487579,
          5.442216,
          5.522342,
          5.724623,
          5.935555,
          6.28634,
          6.125568,
          6.406601,
          6.24902,
          6.316313,
          6.319711,
          6.612751,
          6.355899,
          6.429274,
          6.413724,
          6.3498,
          6.532527,
          6.480499
         ]
        },
        {
         "mode": "lines+markers",
         "name": "mpi",
         "type": "scatter",
         "uid": "6e604348-cf82-11e8-b6e1-b1937b7a57bd",
         "x": [
          1,
          2,
          3,
          4,
          5,
          6,
          7,
          8,
          9,
          10,
          11,
          12,
          13,
          14,
          15,
          16,
          17,
          18,
          19,
          20
         ],
         "y": [
          10.461359,
          6.194192,
          5.825575,
          5.82592,
          4.810953,
          4.779338,
          4.828433,
          5.111551,
          4.213244,
          4.465384,
          4.475549,
          5.52164,
          5.739472,
          6.108194,
          7.853341,
          7.787226,
          7.834153,
          8.838101,
          9.296169,
          8.436321
         ]
        },
        {
         "name": "openmp ratio",
         "type": "scatter",
         "uid": "6e604406-cf82-11e8-b6e1-b1937b7a57bd",
         "x": [
          1,
          2,
          3,
          4,
          5,
          6,
          7,
          8,
          9,
          10,
          11,
          12,
          13,
          14,
          15,
          16,
          17,
          18,
          19,
          20
         ],
         "y": [
          1.0285448366752918,
          0.6030309708179549,
          0.5246409428199797,
          0.5203040053309445,
          0.5279644654690844,
          0.5473035755856892,
          0.5674697660589205,
          0.6010066268726065,
          0.585635991906066,
          0.6125042006523141,
          0.597438641794662,
          0.6038722007402708,
          0.6041970671200901,
          0.6322132071854937,
          0.6076568271415439,
          0.6146718567528563,
          0.6131851963037128,
          0.6070737311878895,
          0.624543377740343,
          0.6195692317694079
         ],
         "yaxis": "y2"
        },
        {
         "name": "mpi ratio",
         "type": "scatter",
         "uid": "6e6044a6-cf82-11e8-b6e1-b1937b7a57bd",
         "x": [
          1,
          2,
          3,
          4,
          5,
          6,
          7,
          8,
          9,
          10,
          11,
          12,
          13,
          14,
          15,
          16,
          17,
          18,
          19,
          20
         ],
         "y": [
          1.0001600430605702,
          0.5921968013377076,
          0.5569551090687721,
          0.5569880928536567,
          0.45995199664234626,
          0.4569294390796664,
          0.46162317507649614,
          0.48869072060965507,
          0.4028079239479965,
          0.42691381241404497,
          0.42788563900346904,
          0.5278973506372323,
          0.5487232168081544,
          0.5839749476203155,
          0.750820029475075,
          0.7444990934239416,
          0.7489855574044534,
          0.8449681802081037,
          0.8887618508587974,
          0.806555933567789
         ],
         "yaxis": "y2"
        }
       ],
       "layout": {
        "showlegend": true,
        "title": "plot 7-4 of quick sort<br>fixed seed: SEED = 6666<br>fixed size = 20000000",
        "xaxis": {
         "title": "workers"
        },
        "yaxis": {
         "title": "runtime(s)"
        },
        "yaxis2": {
         "overlaying": "y",
         "side": "right",
         "title": "ratio"
        }
       }
      },
      "text/html": [
       "<div id=\"a1b02f0e-fb22-49da-b97f-f25fb17eb187\" style=\"height: 525px; width: 100%;\" class=\"plotly-graph-div\"></div><script type=\"text/javascript\">require([\"plotly\"], function(Plotly) { window.PLOTLYENV=window.PLOTLYENV || {};window.PLOTLYENV.BASE_URL=\"https://plot.ly\";Plotly.newPlot(\"a1b02f0e-fb22-49da-b97f-f25fb17eb187\", [{\"mode\": \"lines+markers\", \"name\": \"openmp\", \"x\": [1, 2, 3, 4, 5, 6, 7, 8, 9, 10, 11, 12, 13, 14, 15, 16, 17, 18, 19, 20], \"y\": [10.758255, 6.307514, 5.487579, 5.442216, 5.522342, 5.724623, 5.935555, 6.28634, 6.125568, 6.406601, 6.24902, 6.316313, 6.319711, 6.612751, 6.355899, 6.429274, 6.413724, 6.3498, 6.532527, 6.480499], \"type\": \"scatter\", \"uid\": \"6e63e1e2-cf82-11e8-b6e1-b1937b7a57bd\"}, {\"mode\": \"lines+markers\", \"name\": \"mpi\", \"x\": [1, 2, 3, 4, 5, 6, 7, 8, 9, 10, 11, 12, 13, 14, 15, 16, 17, 18, 19, 20], \"y\": [10.461359, 6.194192, 5.825575, 5.82592, 4.810953, 4.779338, 4.828433, 5.111551, 4.213244, 4.465384, 4.475549, 5.52164, 5.739472, 6.108194, 7.853341, 7.787226, 7.834153, 8.838101, 9.296169, 8.436321], \"type\": \"scatter\", \"uid\": \"6e63e3ea-cf82-11e8-b6e1-b1937b7a57bd\"}, {\"name\": \"openmp ratio\", \"x\": [1, 2, 3, 4, 5, 6, 7, 8, 9, 10, 11, 12, 13, 14, 15, 16, 17, 18, 19, 20], \"y\": [1.0285448366752918, 0.6030309708179549, 0.5246409428199797, 0.5203040053309445, 0.5279644654690844, 0.5473035755856892, 0.5674697660589205, 0.6010066268726065, 0.585635991906066, 0.6125042006523141, 0.597438641794662, 0.6038722007402708, 0.6041970671200901, 0.6322132071854937, 0.6076568271415439, 0.6146718567528563, 0.6131851963037128, 0.6070737311878895, 0.624543377740343, 0.6195692317694079], \"yaxis\": \"y2\", \"type\": \"scatter\", \"uid\": \"6e63e4da-cf82-11e8-b6e1-b1937b7a57bd\"}, {\"name\": \"mpi ratio\", \"x\": [1, 2, 3, 4, 5, 6, 7, 8, 9, 10, 11, 12, 13, 14, 15, 16, 17, 18, 19, 20], \"y\": [1.0001600430605702, 0.5921968013377076, 0.5569551090687721, 0.5569880928536567, 0.45995199664234626, 0.4569294390796664, 0.46162317507649614, 0.48869072060965507, 0.4028079239479965, 0.42691381241404497, 0.42788563900346904, 0.5278973506372323, 0.5487232168081544, 0.5839749476203155, 0.750820029475075, 0.7444990934239416, 0.7489855574044534, 0.8449681802081037, 0.8887618508587974, 0.806555933567789], \"yaxis\": \"y2\", \"type\": \"scatter\", \"uid\": \"6e63e570-cf82-11e8-b6e1-b1937b7a57bd\"}], {\"showlegend\": true, \"title\": \"plot 7-4 of quick sort<br>fixed seed: SEED = 6666<br>fixed size = 20000000\", \"xaxis\": {\"title\": \"workers\"}, \"yaxis\": {\"title\": \"runtime(s)\"}, \"yaxis2\": {\"overlaying\": \"y\", \"side\": \"right\", \"title\": \"ratio\"}}, {\"showLink\": true, \"linkText\": \"Export to plot.ly\"})});</script>"
      ],
      "text/vnd.plotly.v1+html": [
       "<div id=\"a1b02f0e-fb22-49da-b97f-f25fb17eb187\" style=\"height: 525px; width: 100%;\" class=\"plotly-graph-div\"></div><script type=\"text/javascript\">require([\"plotly\"], function(Plotly) { window.PLOTLYENV=window.PLOTLYENV || {};window.PLOTLYENV.BASE_URL=\"https://plot.ly\";Plotly.newPlot(\"a1b02f0e-fb22-49da-b97f-f25fb17eb187\", [{\"mode\": \"lines+markers\", \"name\": \"openmp\", \"x\": [1, 2, 3, 4, 5, 6, 7, 8, 9, 10, 11, 12, 13, 14, 15, 16, 17, 18, 19, 20], \"y\": [10.758255, 6.307514, 5.487579, 5.442216, 5.522342, 5.724623, 5.935555, 6.28634, 6.125568, 6.406601, 6.24902, 6.316313, 6.319711, 6.612751, 6.355899, 6.429274, 6.413724, 6.3498, 6.532527, 6.480499], \"type\": \"scatter\", \"uid\": \"6e63e1e2-cf82-11e8-b6e1-b1937b7a57bd\"}, {\"mode\": \"lines+markers\", \"name\": \"mpi\", \"x\": [1, 2, 3, 4, 5, 6, 7, 8, 9, 10, 11, 12, 13, 14, 15, 16, 17, 18, 19, 20], \"y\": [10.461359, 6.194192, 5.825575, 5.82592, 4.810953, 4.779338, 4.828433, 5.111551, 4.213244, 4.465384, 4.475549, 5.52164, 5.739472, 6.108194, 7.853341, 7.787226, 7.834153, 8.838101, 9.296169, 8.436321], \"type\": \"scatter\", \"uid\": \"6e63e3ea-cf82-11e8-b6e1-b1937b7a57bd\"}, {\"name\": \"openmp ratio\", \"x\": [1, 2, 3, 4, 5, 6, 7, 8, 9, 10, 11, 12, 13, 14, 15, 16, 17, 18, 19, 20], \"y\": [1.0285448366752918, 0.6030309708179549, 0.5246409428199797, 0.5203040053309445, 0.5279644654690844, 0.5473035755856892, 0.5674697660589205, 0.6010066268726065, 0.585635991906066, 0.6125042006523141, 0.597438641794662, 0.6038722007402708, 0.6041970671200901, 0.6322132071854937, 0.6076568271415439, 0.6146718567528563, 0.6131851963037128, 0.6070737311878895, 0.624543377740343, 0.6195692317694079], \"yaxis\": \"y2\", \"type\": \"scatter\", \"uid\": \"6e63e4da-cf82-11e8-b6e1-b1937b7a57bd\"}, {\"name\": \"mpi ratio\", \"x\": [1, 2, 3, 4, 5, 6, 7, 8, 9, 10, 11, 12, 13, 14, 15, 16, 17, 18, 19, 20], \"y\": [1.0001600430605702, 0.5921968013377076, 0.5569551090687721, 0.5569880928536567, 0.45995199664234626, 0.4569294390796664, 0.46162317507649614, 0.48869072060965507, 0.4028079239479965, 0.42691381241404497, 0.42788563900346904, 0.5278973506372323, 0.5487232168081544, 0.5839749476203155, 0.750820029475075, 0.7444990934239416, 0.7489855574044534, 0.8449681802081037, 0.8887618508587974, 0.806555933567789], \"yaxis\": \"y2\", \"type\": \"scatter\", \"uid\": \"6e63e570-cf82-11e8-b6e1-b1937b7a57bd\"}], {\"showlegend\": true, \"title\": \"plot 7-4 of quick sort<br>fixed seed: SEED = 6666<br>fixed size = 20000000\", \"xaxis\": {\"title\": \"workers\"}, \"yaxis\": {\"title\": \"runtime(s)\"}, \"yaxis2\": {\"overlaying\": \"y\", \"side\": \"right\", \"title\": \"ratio\"}}, {\"showLink\": true, \"linkText\": \"Export to plot.ly\"})});</script>"
      ]
     },
     "metadata": {},
     "output_type": "display_data"
    },
    {
     "name": "stdout",
     "output_type": "stream",
     "text": [
      "CPU times: user 431 ms, sys: 561 ms, total: 992 ms\n",
      "Wall time: 7min 41s\n"
     ]
    }
   ],
   "source": [
    "%%time\n",
    "cnt = 0\n",
    "for n in [1e4, 2e4, 1e7, 2e7]:\n",
    "    n = int(n)\n",
    "    cnt += 1\n",
    "    naive_time_in_sec = run('naive', 1, n, 6666)\n",
    "    trace_openmp = sol1('openmp', n)\n",
    "    trace_mpi = sol1('mpi', n)\n",
    "    trace_openmp_ratio = go.Scatter(\n",
    "        x=trace_openmp.x,\n",
    "        y=[trace_openmp.y[i] / naive_time_in_sec for i in range(len(trace_openmp.x))],\n",
    "        name='openmp ratio',\n",
    "        yaxis='y2'\n",
    "    )\n",
    "    trace_mpi_ratio = go.Scatter(\n",
    "        x=trace_mpi.x,\n",
    "        y=[trace_mpi.y[i] / naive_time_in_sec for i in range(len(trace_mpi.x))],\n",
    "        name='mpi ratio',\n",
    "        yaxis='y2'\n",
    "    )\n",
    "    iplot({\n",
    "        \"data\": [trace_openmp, trace_mpi, trace_openmp_ratio, trace_mpi_ratio],\n",
    "        \"layout\": go.Layout(title=\"plot 7-{} of quick sort<br>fixed seed: SEED = 6666<br>fixed size = {}\".format(cnt, n),\n",
    "                            xaxis=dict(title='workers'),\n",
    "                            yaxis=dict(title='runtime(s)'),\n",
    "                            yaxis2=dict(title='ratio', overlaying='y', side='right'),\n",
    "                            showlegend=True,\n",
    "                           )\n",
    "    })"
   ]
  },
  {
   "cell_type": "code",
   "execution_count": 15,
   "metadata": {},
   "outputs": [],
   "source": [
    "def sol2(method, worker):\n",
    "    seed = 6666\n",
    "    x = [1000, ]\n",
    "    for i in range(16):\n",
    "        x.append(x[-1] * 2)\n",
    "    y = []\n",
    "    for n in x:\n",
    "        timeInSec = run(method, worker, n, seed)\n",
    "        y.append(timeInSec)\n",
    "    return go.Scatter(x=x, y=y, mode='lines+markers', name=method)"
   ]
  },
  {
   "cell_type": "code",
   "execution_count": 17,
   "metadata": {},
   "outputs": [
    {
     "name": "stdout",
     "output_type": "stream",
     "text": [
      "CPU times: user 12.1 ms, sys: 52.8 ms, total: 64.9 ms\n",
      "Wall time: 1min 14s\n"
     ]
    }
   ],
   "source": [
    "%%time\n",
    "naive_x = [1000, ]\n",
    "for i in range(16):\n",
    "    naive_x.append(naive_x[-1] * 2)\n",
    "naive_y = []\n",
    "for n in naive_x:\n",
    "    timeInSec = run('naive', 1, n, 6666)\n",
    "    naive_y.append(timeInSec)"
   ]
  },
  {
   "cell_type": "code",
   "execution_count": 18,
   "metadata": {
    "scrolled": false
   },
   "outputs": [
    {
     "data": {
      "application/vnd.plotly.v1+json": {
       "data": [
        {
         "mode": "lines+markers",
         "name": "openmp",
         "type": "scatter",
         "uid": "75ce1ede-cf91-11e8-b6e1-b1937b7a57bd",
         "x": [
          1000,
          2000,
          4000,
          8000,
          16000,
          32000,
          64000,
          128000,
          256000,
          512000,
          1024000,
          2048000,
          4096000,
          8192000,
          16384000,
          32768000,
          65536000
         ],
         "y": [
          0.000304,
          0.000561,
          0.001212,
          0.002392,
          0.005126,
          0.010822,
          0.023568,
          0.049104,
          0.106268,
          0.225414,
          0.470155,
          0.952169,
          2.082373,
          4.259527,
          9.197776,
          18.512295,
          39.868561
         ]
        },
        {
         "mode": "lines+markers",
         "name": "mpi",
         "type": "scatter",
         "uid": "75ce2172-cf91-11e8-b6e1-b1937b7a57bd",
         "x": [
          1000,
          2000,
          4000,
          8000,
          16000,
          32000,
          64000,
          128000,
          256000,
          512000,
          1024000,
          2048000,
          4096000,
          8192000,
          16384000,
          32768000,
          65536000
         ],
         "y": [
          0.000239,
          0.000453,
          0.001059,
          0.002261,
          0.00471,
          0.01011,
          0.021285,
          0.045228,
          0.09715,
          0.215826,
          0.448365,
          0.92703,
          2.011473,
          4.082361,
          8.618992,
          17.817812,
          37.816947
         ]
        },
        {
         "name": "openmp ratio",
         "type": "scatter",
         "uid": "75ce2230-cf91-11e8-b6e1-b1937b7a57bd",
         "x": [
          1000,
          2000,
          4000,
          8000,
          16000,
          32000,
          64000,
          128000,
          256000,
          512000,
          1024000,
          2048000,
          4096000,
          8192000,
          16384000,
          32768000,
          65536000
         ],
         "y": [
          1.4205607476635516,
          1.2663656884875847,
          1.2304568527918782,
          0.9835526315789473,
          1.0869380831212894,
          1.0655769988184325,
          1.0591883510853444,
          1.0564771186987671,
          1.0859741454192429,
          1.0656763835440286,
          1.032649520086099,
          1.0042144207860801,
          1.0055653529375406,
          1.0141187674469823,
          1.0266959732735532,
          1.0479977233359536,
          1.0590183515087133
         ],
         "yaxis": "y2"
        },
        {
         "name": "mpi ratio",
         "type": "scatter",
         "uid": "75ce22d0-cf91-11e8-b6e1-b1937b7a57bd",
         "x": [
          1000,
          2000,
          4000,
          8000,
          16000,
          32000,
          64000,
          128000,
          256000,
          512000,
          1024000,
          2048000,
          4096000,
          8192000,
          16384000,
          32768000,
          65536000
         ],
         "y": [
          1.1168224299065421,
          1.0225733634311513,
          1.0751269035532995,
          0.9296874999999999,
          0.9987277353689568,
          0.9954706577392674,
          0.9565862208440069,
          0.9730846188601303,
          0.9927954626743651,
          1.0203477652442772,
          0.9847899141206704,
          0.9777013266566333,
          0.9713281708749267,
          0.9719386461439565,
          0.9620895725311173,
          1.0086824140836148,
          1.0045218554798698
         ],
         "yaxis": "y2"
        }
       ],
       "layout": {
        "showlegend": true,
        "title": "plot 8-1 of quick sort<br>fixed seed: SEED = 6666<br>fixed worker = 1",
        "xaxis": {
         "title": "size of test"
        },
        "yaxis": {
         "title": "runtime(s)"
        },
        "yaxis2": {
         "overlaying": "y",
         "side": "right",
         "title": "ratio"
        }
       }
      },
      "text/html": [
       "<div id=\"17505cc5-24f2-4d5f-9a5a-a94ae2f7b69f\" style=\"height: 525px; width: 100%;\" class=\"plotly-graph-div\"></div><script type=\"text/javascript\">require([\"plotly\"], function(Plotly) { window.PLOTLYENV=window.PLOTLYENV || {};window.PLOTLYENV.BASE_URL=\"https://plot.ly\";Plotly.newPlot(\"17505cc5-24f2-4d5f-9a5a-a94ae2f7b69f\", [{\"mode\": \"lines+markers\", \"name\": \"openmp\", \"x\": [1000, 2000, 4000, 8000, 16000, 32000, 64000, 128000, 256000, 512000, 1024000, 2048000, 4096000, 8192000, 16384000, 32768000, 65536000], \"y\": [0.000304, 0.000561, 0.001212, 0.002392, 0.005126, 0.010822, 0.023568, 0.049104, 0.106268, 0.225414, 0.470155, 0.952169, 2.082373, 4.259527, 9.197776, 18.512295, 39.868561], \"type\": \"scatter\", \"uid\": \"75de08da-cf91-11e8-b6e1-b1937b7a57bd\"}, {\"mode\": \"lines+markers\", \"name\": \"mpi\", \"x\": [1000, 2000, 4000, 8000, 16000, 32000, 64000, 128000, 256000, 512000, 1024000, 2048000, 4096000, 8192000, 16384000, 32768000, 65536000], \"y\": [0.000239, 0.000453, 0.001059, 0.002261, 0.00471, 0.01011, 0.021285, 0.045228, 0.09715, 0.215826, 0.448365, 0.92703, 2.011473, 4.082361, 8.618992, 17.817812, 37.816947], \"type\": \"scatter\", \"uid\": \"75de0ab0-cf91-11e8-b6e1-b1937b7a57bd\"}, {\"name\": \"openmp ratio\", \"x\": [1000, 2000, 4000, 8000, 16000, 32000, 64000, 128000, 256000, 512000, 1024000, 2048000, 4096000, 8192000, 16384000, 32768000, 65536000], \"y\": [1.4205607476635516, 1.2663656884875847, 1.2304568527918782, 0.9835526315789473, 1.0869380831212894, 1.0655769988184325, 1.0591883510853444, 1.0564771186987671, 1.0859741454192429, 1.0656763835440286, 1.032649520086099, 1.0042144207860801, 1.0055653529375406, 1.0141187674469823, 1.0266959732735532, 1.0479977233359536, 1.0590183515087133], \"yaxis\": \"y2\", \"type\": \"scatter\", \"uid\": \"75de0b6e-cf91-11e8-b6e1-b1937b7a57bd\"}, {\"name\": \"mpi ratio\", \"x\": [1000, 2000, 4000, 8000, 16000, 32000, 64000, 128000, 256000, 512000, 1024000, 2048000, 4096000, 8192000, 16384000, 32768000, 65536000], \"y\": [1.1168224299065421, 1.0225733634311513, 1.0751269035532995, 0.9296874999999999, 0.9987277353689568, 0.9954706577392674, 0.9565862208440069, 0.9730846188601303, 0.9927954626743651, 1.0203477652442772, 0.9847899141206704, 0.9777013266566333, 0.9713281708749267, 0.9719386461439565, 0.9620895725311173, 1.0086824140836148, 1.0045218554798698], \"yaxis\": \"y2\", \"type\": \"scatter\", \"uid\": \"75de0c04-cf91-11e8-b6e1-b1937b7a57bd\"}], {\"showlegend\": true, \"title\": \"plot 8-1 of quick sort<br>fixed seed: SEED = 6666<br>fixed worker = 1\", \"xaxis\": {\"title\": \"size of test\"}, \"yaxis\": {\"title\": \"runtime(s)\"}, \"yaxis2\": {\"overlaying\": \"y\", \"side\": \"right\", \"title\": \"ratio\"}}, {\"showLink\": true, \"linkText\": \"Export to plot.ly\"})});</script>"
      ],
      "text/vnd.plotly.v1+html": [
       "<div id=\"17505cc5-24f2-4d5f-9a5a-a94ae2f7b69f\" style=\"height: 525px; width: 100%;\" class=\"plotly-graph-div\"></div><script type=\"text/javascript\">require([\"plotly\"], function(Plotly) { window.PLOTLYENV=window.PLOTLYENV || {};window.PLOTLYENV.BASE_URL=\"https://plot.ly\";Plotly.newPlot(\"17505cc5-24f2-4d5f-9a5a-a94ae2f7b69f\", [{\"mode\": \"lines+markers\", \"name\": \"openmp\", \"x\": [1000, 2000, 4000, 8000, 16000, 32000, 64000, 128000, 256000, 512000, 1024000, 2048000, 4096000, 8192000, 16384000, 32768000, 65536000], \"y\": [0.000304, 0.000561, 0.001212, 0.002392, 0.005126, 0.010822, 0.023568, 0.049104, 0.106268, 0.225414, 0.470155, 0.952169, 2.082373, 4.259527, 9.197776, 18.512295, 39.868561], \"type\": \"scatter\", \"uid\": \"75de08da-cf91-11e8-b6e1-b1937b7a57bd\"}, {\"mode\": \"lines+markers\", \"name\": \"mpi\", \"x\": [1000, 2000, 4000, 8000, 16000, 32000, 64000, 128000, 256000, 512000, 1024000, 2048000, 4096000, 8192000, 16384000, 32768000, 65536000], \"y\": [0.000239, 0.000453, 0.001059, 0.002261, 0.00471, 0.01011, 0.021285, 0.045228, 0.09715, 0.215826, 0.448365, 0.92703, 2.011473, 4.082361, 8.618992, 17.817812, 37.816947], \"type\": \"scatter\", \"uid\": \"75de0ab0-cf91-11e8-b6e1-b1937b7a57bd\"}, {\"name\": \"openmp ratio\", \"x\": [1000, 2000, 4000, 8000, 16000, 32000, 64000, 128000, 256000, 512000, 1024000, 2048000, 4096000, 8192000, 16384000, 32768000, 65536000], \"y\": [1.4205607476635516, 1.2663656884875847, 1.2304568527918782, 0.9835526315789473, 1.0869380831212894, 1.0655769988184325, 1.0591883510853444, 1.0564771186987671, 1.0859741454192429, 1.0656763835440286, 1.032649520086099, 1.0042144207860801, 1.0055653529375406, 1.0141187674469823, 1.0266959732735532, 1.0479977233359536, 1.0590183515087133], \"yaxis\": \"y2\", \"type\": \"scatter\", \"uid\": \"75de0b6e-cf91-11e8-b6e1-b1937b7a57bd\"}, {\"name\": \"mpi ratio\", \"x\": [1000, 2000, 4000, 8000, 16000, 32000, 64000, 128000, 256000, 512000, 1024000, 2048000, 4096000, 8192000, 16384000, 32768000, 65536000], \"y\": [1.1168224299065421, 1.0225733634311513, 1.0751269035532995, 0.9296874999999999, 0.9987277353689568, 0.9954706577392674, 0.9565862208440069, 0.9730846188601303, 0.9927954626743651, 1.0203477652442772, 0.9847899141206704, 0.9777013266566333, 0.9713281708749267, 0.9719386461439565, 0.9620895725311173, 1.0086824140836148, 1.0045218554798698], \"yaxis\": \"y2\", \"type\": \"scatter\", \"uid\": \"75de0c04-cf91-11e8-b6e1-b1937b7a57bd\"}], {\"showlegend\": true, \"title\": \"plot 8-1 of quick sort<br>fixed seed: SEED = 6666<br>fixed worker = 1\", \"xaxis\": {\"title\": \"size of test\"}, \"yaxis\": {\"title\": \"runtime(s)\"}, \"yaxis2\": {\"overlaying\": \"y\", \"side\": \"right\", \"title\": \"ratio\"}}, {\"showLink\": true, \"linkText\": \"Export to plot.ly\"})});</script>"
      ]
     },
     "metadata": {},
     "output_type": "display_data"
    },
    {
     "data": {
      "application/vnd.plotly.v1+json": {
       "data": [
        {
         "mode": "lines+markers",
         "name": "openmp",
         "type": "scatter",
         "uid": "b58f50e2-cf91-11e8-b6e1-b1937b7a57bd",
         "x": [
          1000,
          2000,
          4000,
          8000,
          16000,
          32000,
          64000,
          128000,
          256000,
          512000,
          1024000,
          2048000,
          4096000,
          8192000,
          16384000,
          32768000,
          65536000
         ],
         "y": [
          0.00065,
          0.001959,
          0.002983,
          0.004553,
          0.004725,
          0.010805,
          0.016316,
          0.032716,
          0.07665,
          0.136521,
          0.281806,
          0.588559,
          1.217575,
          2.554247,
          5.212566,
          10.46812,
          21.200688
         ]
        },
        {
         "mode": "lines+markers",
         "name": "mpi",
         "type": "scatter",
         "uid": "b58f53ee-cf91-11e8-b6e1-b1937b7a57bd",
         "x": [
          1000,
          2000,
          4000,
          8000,
          16000,
          32000,
          64000,
          128000,
          256000,
          512000,
          1024000,
          2048000,
          4096000,
          8192000,
          16384000,
          32768000,
          65536000
         ],
         "y": [
          0.000159,
          0.000301,
          0.000946,
          0.002055,
          0.004475,
          0.00898,
          0.019755,
          0.039745,
          0.091415,
          0.204342,
          0.338752,
          0.687858,
          1.872945,
          3.362199,
          7.248293,
          16.394285,
          29.526229
         ]
        },
        {
         "name": "openmp ratio",
         "type": "scatter",
         "uid": "b58f54b6-cf91-11e8-b6e1-b1937b7a57bd",
         "x": [
          1000,
          2000,
          4000,
          8000,
          16000,
          32000,
          64000,
          128000,
          256000,
          512000,
          1024000,
          2048000,
          4096000,
          8192000,
          16384000,
          32768000,
          65536000
         ],
         "y": [
          3.0373831775700935,
          4.422121896162528,
          3.0284263959390865,
          1.8721217105263155,
          1.001908396946565,
          1.0639031114612052,
          0.7332704148128174,
          0.703887777275759,
          0.7833018241275356,
          0.6454222255841,
          0.6189593445935558,
          0.6207295504090499,
          0.5879596184751369,
          0.6081214696831718,
          0.581849408228971,
          0.5926097184388842,
          0.5631484330876793
         ],
         "yaxis": "y2"
        },
        {
         "name": "mpi ratio",
         "type": "scatter",
         "uid": "b58f5556-cf91-11e8-b6e1-b1937b7a57bd",
         "x": [
          1000,
          2000,
          4000,
          8000,
          16000,
          32000,
          64000,
          128000,
          256000,
          512000,
          1024000,
          2048000,
          4096000,
          8192000,
          16384000,
          32768000,
          65536000
         ],
         "y": [
          0.7429906542056074,
          0.6794582392776524,
          0.9604060913705584,
          0.8449835526315789,
          0.9488973706530959,
          0.8842063804647499,
          0.8878252662801672,
          0.8551173648314293,
          0.9341883398906545,
          0.9660555403220469,
          0.7440356695732391,
          0.7254562194873719,
          0.9044338358005997,
          0.8004806885345428,
          0.8090861569369469,
          0.9280952661850286,
          0.78429764148871
         ],
         "yaxis": "y2"
        }
       ],
       "layout": {
        "showlegend": true,
        "title": "plot 8-2 of quick sort<br>fixed seed: SEED = 6666<br>fixed worker = 2",
        "xaxis": {
         "title": "size of test"
        },
        "yaxis": {
         "title": "runtime(s)"
        },
        "yaxis2": {
         "overlaying": "y",
         "side": "right",
         "title": "ratio"
        }
       }
      },
      "text/html": [
       "<div id=\"3aed9623-92d8-44b5-b120-cd9b3771b05c\" style=\"height: 525px; width: 100%;\" class=\"plotly-graph-div\"></div><script type=\"text/javascript\">require([\"plotly\"], function(Plotly) { window.PLOTLYENV=window.PLOTLYENV || {};window.PLOTLYENV.BASE_URL=\"https://plot.ly\";Plotly.newPlot(\"3aed9623-92d8-44b5-b120-cd9b3771b05c\", [{\"mode\": \"lines+markers\", \"name\": \"openmp\", \"x\": [1000, 2000, 4000, 8000, 16000, 32000, 64000, 128000, 256000, 512000, 1024000, 2048000, 4096000, 8192000, 16384000, 32768000, 65536000], \"y\": [0.00065, 0.001959, 0.002983, 0.004553, 0.004725, 0.010805, 0.016316, 0.032716, 0.07665, 0.136521, 0.281806, 0.588559, 1.217575, 2.554247, 5.212566, 10.46812, 21.200688], \"type\": \"scatter\", \"uid\": \"b592bbec-cf91-11e8-b6e1-b1937b7a57bd\"}, {\"mode\": \"lines+markers\", \"name\": \"mpi\", \"x\": [1000, 2000, 4000, 8000, 16000, 32000, 64000, 128000, 256000, 512000, 1024000, 2048000, 4096000, 8192000, 16384000, 32768000, 65536000], \"y\": [0.000159, 0.000301, 0.000946, 0.002055, 0.004475, 0.00898, 0.019755, 0.039745, 0.091415, 0.204342, 0.338752, 0.687858, 1.872945, 3.362199, 7.248293, 16.394285, 29.526229], \"type\": \"scatter\", \"uid\": \"b592bd68-cf91-11e8-b6e1-b1937b7a57bd\"}, {\"name\": \"openmp ratio\", \"x\": [1000, 2000, 4000, 8000, 16000, 32000, 64000, 128000, 256000, 512000, 1024000, 2048000, 4096000, 8192000, 16384000, 32768000, 65536000], \"y\": [3.0373831775700935, 4.422121896162528, 3.0284263959390865, 1.8721217105263155, 1.001908396946565, 1.0639031114612052, 0.7332704148128174, 0.703887777275759, 0.7833018241275356, 0.6454222255841, 0.6189593445935558, 0.6207295504090499, 0.5879596184751369, 0.6081214696831718, 0.581849408228971, 0.5926097184388842, 0.5631484330876793], \"yaxis\": \"y2\", \"type\": \"scatter\", \"uid\": \"b592be26-cf91-11e8-b6e1-b1937b7a57bd\"}, {\"name\": \"mpi ratio\", \"x\": [1000, 2000, 4000, 8000, 16000, 32000, 64000, 128000, 256000, 512000, 1024000, 2048000, 4096000, 8192000, 16384000, 32768000, 65536000], \"y\": [0.7429906542056074, 0.6794582392776524, 0.9604060913705584, 0.8449835526315789, 0.9488973706530959, 0.8842063804647499, 0.8878252662801672, 0.8551173648314293, 0.9341883398906545, 0.9660555403220469, 0.7440356695732391, 0.7254562194873719, 0.9044338358005997, 0.8004806885345428, 0.8090861569369469, 0.9280952661850286, 0.78429764148871], \"yaxis\": \"y2\", \"type\": \"scatter\", \"uid\": \"b592bebc-cf91-11e8-b6e1-b1937b7a57bd\"}], {\"showlegend\": true, \"title\": \"plot 8-2 of quick sort<br>fixed seed: SEED = 6666<br>fixed worker = 2\", \"xaxis\": {\"title\": \"size of test\"}, \"yaxis\": {\"title\": \"runtime(s)\"}, \"yaxis2\": {\"overlaying\": \"y\", \"side\": \"right\", \"title\": \"ratio\"}}, {\"showLink\": true, \"linkText\": \"Export to plot.ly\"})});</script>"
      ],
      "text/vnd.plotly.v1+html": [
       "<div id=\"3aed9623-92d8-44b5-b120-cd9b3771b05c\" style=\"height: 525px; width: 100%;\" class=\"plotly-graph-div\"></div><script type=\"text/javascript\">require([\"plotly\"], function(Plotly) { window.PLOTLYENV=window.PLOTLYENV || {};window.PLOTLYENV.BASE_URL=\"https://plot.ly\";Plotly.newPlot(\"3aed9623-92d8-44b5-b120-cd9b3771b05c\", [{\"mode\": \"lines+markers\", \"name\": \"openmp\", \"x\": [1000, 2000, 4000, 8000, 16000, 32000, 64000, 128000, 256000, 512000, 1024000, 2048000, 4096000, 8192000, 16384000, 32768000, 65536000], \"y\": [0.00065, 0.001959, 0.002983, 0.004553, 0.004725, 0.010805, 0.016316, 0.032716, 0.07665, 0.136521, 0.281806, 0.588559, 1.217575, 2.554247, 5.212566, 10.46812, 21.200688], \"type\": \"scatter\", \"uid\": \"b592bbec-cf91-11e8-b6e1-b1937b7a57bd\"}, {\"mode\": \"lines+markers\", \"name\": \"mpi\", \"x\": [1000, 2000, 4000, 8000, 16000, 32000, 64000, 128000, 256000, 512000, 1024000, 2048000, 4096000, 8192000, 16384000, 32768000, 65536000], \"y\": [0.000159, 0.000301, 0.000946, 0.002055, 0.004475, 0.00898, 0.019755, 0.039745, 0.091415, 0.204342, 0.338752, 0.687858, 1.872945, 3.362199, 7.248293, 16.394285, 29.526229], \"type\": \"scatter\", \"uid\": \"b592bd68-cf91-11e8-b6e1-b1937b7a57bd\"}, {\"name\": \"openmp ratio\", \"x\": [1000, 2000, 4000, 8000, 16000, 32000, 64000, 128000, 256000, 512000, 1024000, 2048000, 4096000, 8192000, 16384000, 32768000, 65536000], \"y\": [3.0373831775700935, 4.422121896162528, 3.0284263959390865, 1.8721217105263155, 1.001908396946565, 1.0639031114612052, 0.7332704148128174, 0.703887777275759, 0.7833018241275356, 0.6454222255841, 0.6189593445935558, 0.6207295504090499, 0.5879596184751369, 0.6081214696831718, 0.581849408228971, 0.5926097184388842, 0.5631484330876793], \"yaxis\": \"y2\", \"type\": \"scatter\", \"uid\": \"b592be26-cf91-11e8-b6e1-b1937b7a57bd\"}, {\"name\": \"mpi ratio\", \"x\": [1000, 2000, 4000, 8000, 16000, 32000, 64000, 128000, 256000, 512000, 1024000, 2048000, 4096000, 8192000, 16384000, 32768000, 65536000], \"y\": [0.7429906542056074, 0.6794582392776524, 0.9604060913705584, 0.8449835526315789, 0.9488973706530959, 0.8842063804647499, 0.8878252662801672, 0.8551173648314293, 0.9341883398906545, 0.9660555403220469, 0.7440356695732391, 0.7254562194873719, 0.9044338358005997, 0.8004806885345428, 0.8090861569369469, 0.9280952661850286, 0.78429764148871], \"yaxis\": \"y2\", \"type\": \"scatter\", \"uid\": \"b592bebc-cf91-11e8-b6e1-b1937b7a57bd\"}], {\"showlegend\": true, \"title\": \"plot 8-2 of quick sort<br>fixed seed: SEED = 6666<br>fixed worker = 2\", \"xaxis\": {\"title\": \"size of test\"}, \"yaxis\": {\"title\": \"runtime(s)\"}, \"yaxis2\": {\"overlaying\": \"y\", \"side\": \"right\", \"title\": \"ratio\"}}, {\"showLink\": true, \"linkText\": \"Export to plot.ly\"})});</script>"
      ]
     },
     "metadata": {},
     "output_type": "display_data"
    },
    {
     "data": {
      "application/vnd.plotly.v1+json": {
       "data": [
        {
         "mode": "lines+markers",
         "name": "openmp",
         "type": "scatter",
         "uid": "e999b2c4-cf91-11e8-b6e1-b1937b7a57bd",
         "x": [
          1000,
          2000,
          4000,
          8000,
          16000,
          32000,
          64000,
          128000,
          256000,
          512000,
          1024000,
          2048000,
          4096000,
          8192000,
          16384000,
          32768000,
          65536000
         ],
         "y": [
          0.001829,
          0.003721,
          0.003433,
          0.003695,
          0.011499,
          0.012387,
          0.023519,
          0.035271,
          0.071177,
          0.144114,
          0.272828,
          0.507743,
          1.094199,
          2.105256,
          4.120897,
          8.754576,
          16.253412
         ]
        },
        {
         "mode": "lines+markers",
         "name": "mpi",
         "type": "scatter",
         "uid": "e999b580-cf91-11e8-b6e1-b1937b7a57bd",
         "x": [
          1000,
          2000,
          4000,
          8000,
          16000,
          32000,
          64000,
          128000,
          256000,
          512000,
          1024000,
          2048000,
          4096000,
          8192000,
          16384000,
          32768000,
          65536000
         ],
         "y": [
          0.000169,
          0.000232,
          0.000783,
          0.002179,
          0.004007,
          0.007299,
          0.012218,
          0.024097,
          0.061364,
          0.168981,
          0.234623,
          0.454206,
          1.059721,
          2.179543,
          5.230113,
          11.621699,
          27.55559
         ]
        },
        {
         "name": "openmp ratio",
         "type": "scatter",
         "uid": "e999b63e-cf91-11e8-b6e1-b1937b7a57bd",
         "x": [
          1000,
          2000,
          4000,
          8000,
          16000,
          32000,
          64000,
          128000,
          256000,
          512000,
          1024000,
          2048000,
          4096000,
          8192000,
          16384000,
          32768000,
          65536000
         ],
         "y": [
          8.546728971962617,
          8.399548532731377,
          3.485279187817259,
          1.5193256578947367,
          2.4382951653944023,
          1.2196730996455298,
          1.056986202867287,
          0.7588588394758923,
          0.7273721322364723,
          0.6813192008396289,
          0.5992400448066069,
          0.535496159456133,
          0.5283820927465464,
          0.5012245772547899,
          0.4599925412594377,
          0.49560444649199786,
          0.4317352106746953
         ],
         "yaxis": "y2"
        },
        {
         "name": "mpi ratio",
         "type": "scatter",
         "uid": "e999b6f2-cf91-11e8-b6e1-b1937b7a57bd",
         "x": [
          1000,
          2000,
          4000,
          8000,
          16000,
          32000,
          64000,
          128000,
          256000,
          512000,
          1024000,
          2048000,
          4096000,
          8192000,
          16384000,
          32768000,
          65536000
         ],
         "y": [
          0.7897196261682242,
          0.5237020316027088,
          0.7949238578680202,
          0.895970394736842,
          0.8496607294317219,
          0.7186884600236313,
          0.5490989169026111,
          0.518449192108264,
          0.6270911041847632,
          0.7988814402284397,
          0.515326495200861,
          0.47903283472530855,
          0.5117328746484532,
          0.5189110107196638,
          0.5838080810910881,
          0.6579148664871497,
          0.7319520635984325
         ],
         "yaxis": "y2"
        }
       ],
       "layout": {
        "showlegend": true,
        "title": "plot 8-3 of quick sort<br>fixed seed: SEED = 6666<br>fixed worker = 4",
        "xaxis": {
         "title": "size of test"
        },
        "yaxis": {
         "title": "runtime(s)"
        },
        "yaxis2": {
         "overlaying": "y",
         "side": "right",
         "title": "ratio"
        }
       }
      },
      "text/html": [
       "<div id=\"8b860d49-71be-456b-a9a9-f5ee0b7704f8\" style=\"height: 525px; width: 100%;\" class=\"plotly-graph-div\"></div><script type=\"text/javascript\">require([\"plotly\"], function(Plotly) { window.PLOTLYENV=window.PLOTLYENV || {};window.PLOTLYENV.BASE_URL=\"https://plot.ly\";Plotly.newPlot(\"8b860d49-71be-456b-a9a9-f5ee0b7704f8\", [{\"mode\": \"lines+markers\", \"name\": \"openmp\", \"x\": [1000, 2000, 4000, 8000, 16000, 32000, 64000, 128000, 256000, 512000, 1024000, 2048000, 4096000, 8192000, 16384000, 32768000, 65536000], \"y\": [0.001829, 0.003721, 0.003433, 0.003695, 0.011499, 0.012387, 0.023519, 0.035271, 0.071177, 0.144114, 0.272828, 0.507743, 1.094199, 2.105256, 4.120897, 8.754576, 16.253412], \"type\": \"scatter\", \"uid\": \"e99d571c-cf91-11e8-b6e1-b1937b7a57bd\"}, {\"mode\": \"lines+markers\", \"name\": \"mpi\", \"x\": [1000, 2000, 4000, 8000, 16000, 32000, 64000, 128000, 256000, 512000, 1024000, 2048000, 4096000, 8192000, 16384000, 32768000, 65536000], \"y\": [0.000169, 0.000232, 0.000783, 0.002179, 0.004007, 0.007299, 0.012218, 0.024097, 0.061364, 0.168981, 0.234623, 0.454206, 1.059721, 2.179543, 5.230113, 11.621699, 27.55559], \"type\": \"scatter\", \"uid\": \"e99d58fc-cf91-11e8-b6e1-b1937b7a57bd\"}, {\"name\": \"openmp ratio\", \"x\": [1000, 2000, 4000, 8000, 16000, 32000, 64000, 128000, 256000, 512000, 1024000, 2048000, 4096000, 8192000, 16384000, 32768000, 65536000], \"y\": [8.546728971962617, 8.399548532731377, 3.485279187817259, 1.5193256578947367, 2.4382951653944023, 1.2196730996455298, 1.056986202867287, 0.7588588394758923, 0.7273721322364723, 0.6813192008396289, 0.5992400448066069, 0.535496159456133, 0.5283820927465464, 0.5012245772547899, 0.4599925412594377, 0.49560444649199786, 0.4317352106746953], \"yaxis\": \"y2\", \"type\": \"scatter\", \"uid\": \"e99d5a5a-cf91-11e8-b6e1-b1937b7a57bd\"}, {\"name\": \"mpi ratio\", \"x\": [1000, 2000, 4000, 8000, 16000, 32000, 64000, 128000, 256000, 512000, 1024000, 2048000, 4096000, 8192000, 16384000, 32768000, 65536000], \"y\": [0.7897196261682242, 0.5237020316027088, 0.7949238578680202, 0.895970394736842, 0.8496607294317219, 0.7186884600236313, 0.5490989169026111, 0.518449192108264, 0.6270911041847632, 0.7988814402284397, 0.515326495200861, 0.47903283472530855, 0.5117328746484532, 0.5189110107196638, 0.5838080810910881, 0.6579148664871497, 0.7319520635984325], \"yaxis\": \"y2\", \"type\": \"scatter\", \"uid\": \"e99d5b7c-cf91-11e8-b6e1-b1937b7a57bd\"}], {\"showlegend\": true, \"title\": \"plot 8-3 of quick sort<br>fixed seed: SEED = 6666<br>fixed worker = 4\", \"xaxis\": {\"title\": \"size of test\"}, \"yaxis\": {\"title\": \"runtime(s)\"}, \"yaxis2\": {\"overlaying\": \"y\", \"side\": \"right\", \"title\": \"ratio\"}}, {\"showLink\": true, \"linkText\": \"Export to plot.ly\"})});</script>"
      ],
      "text/vnd.plotly.v1+html": [
       "<div id=\"8b860d49-71be-456b-a9a9-f5ee0b7704f8\" style=\"height: 525px; width: 100%;\" class=\"plotly-graph-div\"></div><script type=\"text/javascript\">require([\"plotly\"], function(Plotly) { window.PLOTLYENV=window.PLOTLYENV || {};window.PLOTLYENV.BASE_URL=\"https://plot.ly\";Plotly.newPlot(\"8b860d49-71be-456b-a9a9-f5ee0b7704f8\", [{\"mode\": \"lines+markers\", \"name\": \"openmp\", \"x\": [1000, 2000, 4000, 8000, 16000, 32000, 64000, 128000, 256000, 512000, 1024000, 2048000, 4096000, 8192000, 16384000, 32768000, 65536000], \"y\": [0.001829, 0.003721, 0.003433, 0.003695, 0.011499, 0.012387, 0.023519, 0.035271, 0.071177, 0.144114, 0.272828, 0.507743, 1.094199, 2.105256, 4.120897, 8.754576, 16.253412], \"type\": \"scatter\", \"uid\": \"e99d571c-cf91-11e8-b6e1-b1937b7a57bd\"}, {\"mode\": \"lines+markers\", \"name\": \"mpi\", \"x\": [1000, 2000, 4000, 8000, 16000, 32000, 64000, 128000, 256000, 512000, 1024000, 2048000, 4096000, 8192000, 16384000, 32768000, 65536000], \"y\": [0.000169, 0.000232, 0.000783, 0.002179, 0.004007, 0.007299, 0.012218, 0.024097, 0.061364, 0.168981, 0.234623, 0.454206, 1.059721, 2.179543, 5.230113, 11.621699, 27.55559], \"type\": \"scatter\", \"uid\": \"e99d58fc-cf91-11e8-b6e1-b1937b7a57bd\"}, {\"name\": \"openmp ratio\", \"x\": [1000, 2000, 4000, 8000, 16000, 32000, 64000, 128000, 256000, 512000, 1024000, 2048000, 4096000, 8192000, 16384000, 32768000, 65536000], \"y\": [8.546728971962617, 8.399548532731377, 3.485279187817259, 1.5193256578947367, 2.4382951653944023, 1.2196730996455298, 1.056986202867287, 0.7588588394758923, 0.7273721322364723, 0.6813192008396289, 0.5992400448066069, 0.535496159456133, 0.5283820927465464, 0.5012245772547899, 0.4599925412594377, 0.49560444649199786, 0.4317352106746953], \"yaxis\": \"y2\", \"type\": \"scatter\", \"uid\": \"e99d5a5a-cf91-11e8-b6e1-b1937b7a57bd\"}, {\"name\": \"mpi ratio\", \"x\": [1000, 2000, 4000, 8000, 16000, 32000, 64000, 128000, 256000, 512000, 1024000, 2048000, 4096000, 8192000, 16384000, 32768000, 65536000], \"y\": [0.7897196261682242, 0.5237020316027088, 0.7949238578680202, 0.895970394736842, 0.8496607294317219, 0.7186884600236313, 0.5490989169026111, 0.518449192108264, 0.6270911041847632, 0.7988814402284397, 0.515326495200861, 0.47903283472530855, 0.5117328746484532, 0.5189110107196638, 0.5838080810910881, 0.6579148664871497, 0.7319520635984325], \"yaxis\": \"y2\", \"type\": \"scatter\", \"uid\": \"e99d5b7c-cf91-11e8-b6e1-b1937b7a57bd\"}], {\"showlegend\": true, \"title\": \"plot 8-3 of quick sort<br>fixed seed: SEED = 6666<br>fixed worker = 4\", \"xaxis\": {\"title\": \"size of test\"}, \"yaxis\": {\"title\": \"runtime(s)\"}, \"yaxis2\": {\"overlaying\": \"y\", \"side\": \"right\", \"title\": \"ratio\"}}, {\"showLink\": true, \"linkText\": \"Export to plot.ly\"})});</script>"
      ]
     },
     "metadata": {},
     "output_type": "display_data"
    },
    {
     "data": {
      "application/vnd.plotly.v1+json": {
       "data": [
        {
         "mode": "lines+markers",
         "name": "openmp",
         "type": "scatter",
         "uid": "1d6a6d32-cf92-11e8-b6e1-b1937b7a57bd",
         "x": [
          1000,
          2000,
          4000,
          8000,
          16000,
          32000,
          64000,
          128000,
          256000,
          512000,
          1024000,
          2048000,
          4096000,
          8192000,
          16384000,
          32768000,
          65536000
         ],
         "y": [
          0.00363,
          0.005421,
          0.010246,
          0.015326,
          0.022002,
          0.025024,
          0.035688,
          0.057036,
          0.097991,
          0.193337,
          0.341925,
          0.670233,
          1.325045,
          2.556856,
          5.187959,
          9.953368,
          19.222845
         ]
        },
        {
         "mode": "lines+markers",
         "name": "mpi",
         "type": "scatter",
         "uid": "1d6a6fc6-cf92-11e8-b6e1-b1937b7a57bd",
         "x": [
          1000,
          2000,
          4000,
          8000,
          16000,
          32000,
          64000,
          128000,
          256000,
          512000,
          1024000,
          2048000,
          4096000,
          8192000,
          16384000,
          32768000,
          65536000
         ],
         "y": [
          0.000568,
          0.000298,
          0.00069,
          0.001638,
          0.003162,
          0.006017,
          0.010125,
          0.022202,
          0.037882,
          0.165125,
          0.152151,
          0.443856,
          0.711191,
          1.781483,
          4.99653,
          7.048424,
          25.693515
         ]
        },
        {
         "name": "openmp ratio",
         "type": "scatter",
         "uid": "1d6a7098-cf92-11e8-b6e1-b1937b7a57bd",
         "x": [
          1000,
          2000,
          4000,
          8000,
          16000,
          32000,
          64000,
          128000,
          256000,
          512000,
          1024000,
          2048000,
          4096000,
          8192000,
          16384000,
          32768000,
          65536000
         ],
         "y": [
          16.962616822429908,
          12.237020316027088,
          10.402030456852792,
          6.301809210526315,
          4.6653944020356235,
          2.463962189838519,
          1.6038829715518403,
          1.2271348350868134,
          1.0013898114557254,
          0.9140278552585548,
          0.7510048540490676,
          0.7068678395187376,
          0.639856232808975,
          0.6087426268830837,
          0.5791026672978653,
          0.5634691432653236,
          0.510611497194682
         ],
         "yaxis": "y2"
        },
        {
         "name": "mpi ratio",
         "type": "scatter",
         "uid": "1d6a712e-cf92-11e8-b6e1-b1937b7a57bd",
         "x": [
          1000,
          2000,
          4000,
          8000,
          16000,
          32000,
          64000,
          128000,
          256000,
          512000,
          1024000,
          2048000,
          4096000,
          8192000,
          16384000,
          32768000,
          65536000
         ],
         "y": [
          2.654205607476636,
          0.672686230248307,
          0.700507614213198,
          0.6735197368421052,
          0.6704834605597965,
          0.5924576604962584,
          0.455035728731293,
          0.47767809118096344,
          0.38712380563078025,
          0.7806516579835667,
          0.33418480528893674,
          0.46811710521181255,
          0.34342984130172766,
          0.4241398972674083,
          0.5577345253179146,
          0.3990176423348102,
          0.6824902433715728
         ],
         "yaxis": "y2"
        }
       ],
       "layout": {
        "showlegend": true,
        "title": "plot 8-4 of quick sort<br>fixed seed: SEED = 6666<br>fixed worker = 8",
        "xaxis": {
         "title": "size of test"
        },
        "yaxis": {
         "title": "runtime(s)"
        },
        "yaxis2": {
         "overlaying": "y",
         "side": "right",
         "title": "ratio"
        }
       }
      },
      "text/html": [
       "<div id=\"aab2180e-371d-48ae-9202-3c59f0f2c32e\" style=\"height: 525px; width: 100%;\" class=\"plotly-graph-div\"></div><script type=\"text/javascript\">require([\"plotly\"], function(Plotly) { window.PLOTLYENV=window.PLOTLYENV || {};window.PLOTLYENV.BASE_URL=\"https://plot.ly\";Plotly.newPlot(\"aab2180e-371d-48ae-9202-3c59f0f2c32e\", [{\"mode\": \"lines+markers\", \"name\": \"openmp\", \"x\": [1000, 2000, 4000, 8000, 16000, 32000, 64000, 128000, 256000, 512000, 1024000, 2048000, 4096000, 8192000, 16384000, 32768000, 65536000], \"y\": [0.00363, 0.005421, 0.010246, 0.015326, 0.022002, 0.025024, 0.035688, 0.057036, 0.097991, 0.193337, 0.341925, 0.670233, 1.325045, 2.556856, 5.187959, 9.953368, 19.222845], \"type\": \"scatter\", \"uid\": \"1d6df7f4-cf92-11e8-b6e1-b1937b7a57bd\"}, {\"mode\": \"lines+markers\", \"name\": \"mpi\", \"x\": [1000, 2000, 4000, 8000, 16000, 32000, 64000, 128000, 256000, 512000, 1024000, 2048000, 4096000, 8192000, 16384000, 32768000, 65536000], \"y\": [0.000568, 0.000298, 0.00069, 0.001638, 0.003162, 0.006017, 0.010125, 0.022202, 0.037882, 0.165125, 0.152151, 0.443856, 0.711191, 1.781483, 4.99653, 7.048424, 25.693515], \"type\": \"scatter\", \"uid\": \"1d6df9c0-cf92-11e8-b6e1-b1937b7a57bd\"}, {\"name\": \"openmp ratio\", \"x\": [1000, 2000, 4000, 8000, 16000, 32000, 64000, 128000, 256000, 512000, 1024000, 2048000, 4096000, 8192000, 16384000, 32768000, 65536000], \"y\": [16.962616822429908, 12.237020316027088, 10.402030456852792, 6.301809210526315, 4.6653944020356235, 2.463962189838519, 1.6038829715518403, 1.2271348350868134, 1.0013898114557254, 0.9140278552585548, 0.7510048540490676, 0.7068678395187376, 0.639856232808975, 0.6087426268830837, 0.5791026672978653, 0.5634691432653236, 0.510611497194682], \"yaxis\": \"y2\", \"type\": \"scatter\", \"uid\": \"1d6dfa7e-cf92-11e8-b6e1-b1937b7a57bd\"}, {\"name\": \"mpi ratio\", \"x\": [1000, 2000, 4000, 8000, 16000, 32000, 64000, 128000, 256000, 512000, 1024000, 2048000, 4096000, 8192000, 16384000, 32768000, 65536000], \"y\": [2.654205607476636, 0.672686230248307, 0.700507614213198, 0.6735197368421052, 0.6704834605597965, 0.5924576604962584, 0.455035728731293, 0.47767809118096344, 0.38712380563078025, 0.7806516579835667, 0.33418480528893674, 0.46811710521181255, 0.34342984130172766, 0.4241398972674083, 0.5577345253179146, 0.3990176423348102, 0.6824902433715728], \"yaxis\": \"y2\", \"type\": \"scatter\", \"uid\": \"1d6dfb1e-cf92-11e8-b6e1-b1937b7a57bd\"}], {\"showlegend\": true, \"title\": \"plot 8-4 of quick sort<br>fixed seed: SEED = 6666<br>fixed worker = 8\", \"xaxis\": {\"title\": \"size of test\"}, \"yaxis\": {\"title\": \"runtime(s)\"}, \"yaxis2\": {\"overlaying\": \"y\", \"side\": \"right\", \"title\": \"ratio\"}}, {\"showLink\": true, \"linkText\": \"Export to plot.ly\"})});</script>"
      ],
      "text/vnd.plotly.v1+html": [
       "<div id=\"aab2180e-371d-48ae-9202-3c59f0f2c32e\" style=\"height: 525px; width: 100%;\" class=\"plotly-graph-div\"></div><script type=\"text/javascript\">require([\"plotly\"], function(Plotly) { window.PLOTLYENV=window.PLOTLYENV || {};window.PLOTLYENV.BASE_URL=\"https://plot.ly\";Plotly.newPlot(\"aab2180e-371d-48ae-9202-3c59f0f2c32e\", [{\"mode\": \"lines+markers\", \"name\": \"openmp\", \"x\": [1000, 2000, 4000, 8000, 16000, 32000, 64000, 128000, 256000, 512000, 1024000, 2048000, 4096000, 8192000, 16384000, 32768000, 65536000], \"y\": [0.00363, 0.005421, 0.010246, 0.015326, 0.022002, 0.025024, 0.035688, 0.057036, 0.097991, 0.193337, 0.341925, 0.670233, 1.325045, 2.556856, 5.187959, 9.953368, 19.222845], \"type\": \"scatter\", \"uid\": \"1d6df7f4-cf92-11e8-b6e1-b1937b7a57bd\"}, {\"mode\": \"lines+markers\", \"name\": \"mpi\", \"x\": [1000, 2000, 4000, 8000, 16000, 32000, 64000, 128000, 256000, 512000, 1024000, 2048000, 4096000, 8192000, 16384000, 32768000, 65536000], \"y\": [0.000568, 0.000298, 0.00069, 0.001638, 0.003162, 0.006017, 0.010125, 0.022202, 0.037882, 0.165125, 0.152151, 0.443856, 0.711191, 1.781483, 4.99653, 7.048424, 25.693515], \"type\": \"scatter\", \"uid\": \"1d6df9c0-cf92-11e8-b6e1-b1937b7a57bd\"}, {\"name\": \"openmp ratio\", \"x\": [1000, 2000, 4000, 8000, 16000, 32000, 64000, 128000, 256000, 512000, 1024000, 2048000, 4096000, 8192000, 16384000, 32768000, 65536000], \"y\": [16.962616822429908, 12.237020316027088, 10.402030456852792, 6.301809210526315, 4.6653944020356235, 2.463962189838519, 1.6038829715518403, 1.2271348350868134, 1.0013898114557254, 0.9140278552585548, 0.7510048540490676, 0.7068678395187376, 0.639856232808975, 0.6087426268830837, 0.5791026672978653, 0.5634691432653236, 0.510611497194682], \"yaxis\": \"y2\", \"type\": \"scatter\", \"uid\": \"1d6dfa7e-cf92-11e8-b6e1-b1937b7a57bd\"}, {\"name\": \"mpi ratio\", \"x\": [1000, 2000, 4000, 8000, 16000, 32000, 64000, 128000, 256000, 512000, 1024000, 2048000, 4096000, 8192000, 16384000, 32768000, 65536000], \"y\": [2.654205607476636, 0.672686230248307, 0.700507614213198, 0.6735197368421052, 0.6704834605597965, 0.5924576604962584, 0.455035728731293, 0.47767809118096344, 0.38712380563078025, 0.7806516579835667, 0.33418480528893674, 0.46811710521181255, 0.34342984130172766, 0.4241398972674083, 0.5577345253179146, 0.3990176423348102, 0.6824902433715728], \"yaxis\": \"y2\", \"type\": \"scatter\", \"uid\": \"1d6dfb1e-cf92-11e8-b6e1-b1937b7a57bd\"}], {\"showlegend\": true, \"title\": \"plot 8-4 of quick sort<br>fixed seed: SEED = 6666<br>fixed worker = 8\", \"xaxis\": {\"title\": \"size of test\"}, \"yaxis\": {\"title\": \"runtime(s)\"}, \"yaxis2\": {\"overlaying\": \"y\", \"side\": \"right\", \"title\": \"ratio\"}}, {\"showLink\": true, \"linkText\": \"Export to plot.ly\"})});</script>"
      ]
     },
     "metadata": {},
     "output_type": "display_data"
    },
    {
     "data": {
      "application/vnd.plotly.v1+json": {
       "data": [
        {
         "mode": "lines+markers",
         "name": "openmp",
         "type": "scatter",
         "uid": "67580bc0-cf92-11e8-b6e1-b1937b7a57bd",
         "x": [
          1000,
          2000,
          4000,
          8000,
          16000,
          32000,
          64000,
          128000,
          256000,
          512000,
          1024000,
          2048000,
          4096000,
          8192000,
          16384000,
          32768000,
          65536000
         ],
         "y": [
          0.002556,
          0.00454,
          0.008359,
          0.015179,
          0.026846,
          0.029047,
          0.041669,
          0.067884,
          0.117423,
          0.206221,
          0.359908,
          0.720376,
          1.360485,
          2.626554,
          5.16502,
          10.123722,
          19.852742
         ]
        },
        {
         "mode": "lines+markers",
         "name": "mpi",
         "type": "scatter",
         "uid": "67580e5e-cf92-11e8-b6e1-b1937b7a57bd",
         "x": [
          1000,
          2000,
          4000,
          8000,
          16000,
          32000,
          64000,
          128000,
          256000,
          512000,
          1024000,
          2048000,
          4096000,
          8192000,
          16384000,
          32768000,
          65536000
         ],
         "y": [
          0.093809,
          0.09301,
          0.051021,
          0.077483,
          0.057525,
          0.029154,
          0.14083,
          0.092687,
          0.211884,
          0.270152,
          0.341741,
          0.814586,
          2.895654,
          2.82682,
          9.987427,
          13.714624,
          40.338329
         ]
        },
        {
         "name": "openmp ratio",
         "type": "scatter",
         "uid": "67580f26-cf92-11e8-b6e1-b1937b7a57bd",
         "x": [
          1000,
          2000,
          4000,
          8000,
          16000,
          32000,
          64000,
          128000,
          256000,
          512000,
          1024000,
          2048000,
          4096000,
          8192000,
          16384000,
          32768000,
          65536000
         ],
         "y": [
          11.94392523364486,
          10.248306997742663,
          8.486294416243656,
          6.241365131578947,
          5.69253604749788,
          2.8600827097282395,
          1.872679879555975,
          1.4605305621893758,
          1.199969342394359,
          0.9749387770539235,
          0.7905027564848778,
          0.7597516486970205,
          0.6569699949006398,
          0.6253364998303663,
          0.576542115819886,
          0.5731130369133652,
          0.5273432895099422
         ],
         "yaxis": "y2"
        },
        {
         "name": "mpi ratio",
         "type": "scatter",
         "uid": "67580fbc-cf92-11e8-b6e1-b1937b7a57bd",
         "x": [
          1000,
          2000,
          4000,
          8000,
          16000,
          32000,
          64000,
          128000,
          256000,
          512000,
          1024000,
          2048000,
          4096000,
          8192000,
          16384000,
          32768000,
          65536000
         ],
         "y": [
          438.35981308411215,
          209.9548532731377,
          51.797969543147204,
          31.859786184210524,
          12.197837150127228,
          2.870618353682552,
          6.329153745899061,
          1.9941694098410037,
          2.165285371212508,
          1.2771815697657927,
          0.7506007160271476,
          0.859111153766243,
          1.3982938390456472,
          0.6730163265063182,
          1.114840270546224,
          0.7763972391542285,
          1.0714966783023878
         ],
         "yaxis": "y2"
        }
       ],
       "layout": {
        "showlegend": true,
        "title": "plot 8-5 of quick sort<br>fixed seed: SEED = 6666<br>fixed worker = 16",
        "xaxis": {
         "title": "size of test"
        },
        "yaxis": {
         "title": "runtime(s)"
        },
        "yaxis2": {
         "overlaying": "y",
         "side": "right",
         "title": "ratio"
        }
       }
      },
      "text/html": [
       "<div id=\"685e46d3-5e7b-4546-a0c3-12c503fc3608\" style=\"height: 525px; width: 100%;\" class=\"plotly-graph-div\"></div><script type=\"text/javascript\">require([\"plotly\"], function(Plotly) { window.PLOTLYENV=window.PLOTLYENV || {};window.PLOTLYENV.BASE_URL=\"https://plot.ly\";Plotly.newPlot(\"685e46d3-5e7b-4546-a0c3-12c503fc3608\", [{\"mode\": \"lines+markers\", \"name\": \"openmp\", \"x\": [1000, 2000, 4000, 8000, 16000, 32000, 64000, 128000, 256000, 512000, 1024000, 2048000, 4096000, 8192000, 16384000, 32768000, 65536000], \"y\": [0.002556, 0.00454, 0.008359, 0.015179, 0.026846, 0.029047, 0.041669, 0.067884, 0.117423, 0.206221, 0.359908, 0.720376, 1.360485, 2.626554, 5.16502, 10.123722, 19.852742], \"type\": \"scatter\", \"uid\": \"675b864c-cf92-11e8-b6e1-b1937b7a57bd\"}, {\"mode\": \"lines+markers\", \"name\": \"mpi\", \"x\": [1000, 2000, 4000, 8000, 16000, 32000, 64000, 128000, 256000, 512000, 1024000, 2048000, 4096000, 8192000, 16384000, 32768000, 65536000], \"y\": [0.093809, 0.09301, 0.051021, 0.077483, 0.057525, 0.029154, 0.14083, 0.092687, 0.211884, 0.270152, 0.341741, 0.814586, 2.895654, 2.82682, 9.987427, 13.714624, 40.338329], \"type\": \"scatter\", \"uid\": \"675b87dc-cf92-11e8-b6e1-b1937b7a57bd\"}, {\"name\": \"openmp ratio\", \"x\": [1000, 2000, 4000, 8000, 16000, 32000, 64000, 128000, 256000, 512000, 1024000, 2048000, 4096000, 8192000, 16384000, 32768000, 65536000], \"y\": [11.94392523364486, 10.248306997742663, 8.486294416243656, 6.241365131578947, 5.69253604749788, 2.8600827097282395, 1.872679879555975, 1.4605305621893758, 1.199969342394359, 0.9749387770539235, 0.7905027564848778, 0.7597516486970205, 0.6569699949006398, 0.6253364998303663, 0.576542115819886, 0.5731130369133652, 0.5273432895099422], \"yaxis\": \"y2\", \"type\": \"scatter\", \"uid\": \"675b889a-cf92-11e8-b6e1-b1937b7a57bd\"}, {\"name\": \"mpi ratio\", \"x\": [1000, 2000, 4000, 8000, 16000, 32000, 64000, 128000, 256000, 512000, 1024000, 2048000, 4096000, 8192000, 16384000, 32768000, 65536000], \"y\": [438.35981308411215, 209.9548532731377, 51.797969543147204, 31.859786184210524, 12.197837150127228, 2.870618353682552, 6.329153745899061, 1.9941694098410037, 2.165285371212508, 1.2771815697657927, 0.7506007160271476, 0.859111153766243, 1.3982938390456472, 0.6730163265063182, 1.114840270546224, 0.7763972391542285, 1.0714966783023878], \"yaxis\": \"y2\", \"type\": \"scatter\", \"uid\": \"675b8958-cf92-11e8-b6e1-b1937b7a57bd\"}], {\"showlegend\": true, \"title\": \"plot 8-5 of quick sort<br>fixed seed: SEED = 6666<br>fixed worker = 16\", \"xaxis\": {\"title\": \"size of test\"}, \"yaxis\": {\"title\": \"runtime(s)\"}, \"yaxis2\": {\"overlaying\": \"y\", \"side\": \"right\", \"title\": \"ratio\"}}, {\"showLink\": true, \"linkText\": \"Export to plot.ly\"})});</script>"
      ],
      "text/vnd.plotly.v1+html": [
       "<div id=\"685e46d3-5e7b-4546-a0c3-12c503fc3608\" style=\"height: 525px; width: 100%;\" class=\"plotly-graph-div\"></div><script type=\"text/javascript\">require([\"plotly\"], function(Plotly) { window.PLOTLYENV=window.PLOTLYENV || {};window.PLOTLYENV.BASE_URL=\"https://plot.ly\";Plotly.newPlot(\"685e46d3-5e7b-4546-a0c3-12c503fc3608\", [{\"mode\": \"lines+markers\", \"name\": \"openmp\", \"x\": [1000, 2000, 4000, 8000, 16000, 32000, 64000, 128000, 256000, 512000, 1024000, 2048000, 4096000, 8192000, 16384000, 32768000, 65536000], \"y\": [0.002556, 0.00454, 0.008359, 0.015179, 0.026846, 0.029047, 0.041669, 0.067884, 0.117423, 0.206221, 0.359908, 0.720376, 1.360485, 2.626554, 5.16502, 10.123722, 19.852742], \"type\": \"scatter\", \"uid\": \"675b864c-cf92-11e8-b6e1-b1937b7a57bd\"}, {\"mode\": \"lines+markers\", \"name\": \"mpi\", \"x\": [1000, 2000, 4000, 8000, 16000, 32000, 64000, 128000, 256000, 512000, 1024000, 2048000, 4096000, 8192000, 16384000, 32768000, 65536000], \"y\": [0.093809, 0.09301, 0.051021, 0.077483, 0.057525, 0.029154, 0.14083, 0.092687, 0.211884, 0.270152, 0.341741, 0.814586, 2.895654, 2.82682, 9.987427, 13.714624, 40.338329], \"type\": \"scatter\", \"uid\": \"675b87dc-cf92-11e8-b6e1-b1937b7a57bd\"}, {\"name\": \"openmp ratio\", \"x\": [1000, 2000, 4000, 8000, 16000, 32000, 64000, 128000, 256000, 512000, 1024000, 2048000, 4096000, 8192000, 16384000, 32768000, 65536000], \"y\": [11.94392523364486, 10.248306997742663, 8.486294416243656, 6.241365131578947, 5.69253604749788, 2.8600827097282395, 1.872679879555975, 1.4605305621893758, 1.199969342394359, 0.9749387770539235, 0.7905027564848778, 0.7597516486970205, 0.6569699949006398, 0.6253364998303663, 0.576542115819886, 0.5731130369133652, 0.5273432895099422], \"yaxis\": \"y2\", \"type\": \"scatter\", \"uid\": \"675b889a-cf92-11e8-b6e1-b1937b7a57bd\"}, {\"name\": \"mpi ratio\", \"x\": [1000, 2000, 4000, 8000, 16000, 32000, 64000, 128000, 256000, 512000, 1024000, 2048000, 4096000, 8192000, 16384000, 32768000, 65536000], \"y\": [438.35981308411215, 209.9548532731377, 51.797969543147204, 31.859786184210524, 12.197837150127228, 2.870618353682552, 6.329153745899061, 1.9941694098410037, 2.165285371212508, 1.2771815697657927, 0.7506007160271476, 0.859111153766243, 1.3982938390456472, 0.6730163265063182, 1.114840270546224, 0.7763972391542285, 1.0714966783023878], \"yaxis\": \"y2\", \"type\": \"scatter\", \"uid\": \"675b8958-cf92-11e8-b6e1-b1937b7a57bd\"}], {\"showlegend\": true, \"title\": \"plot 8-5 of quick sort<br>fixed seed: SEED = 6666<br>fixed worker = 16\", \"xaxis\": {\"title\": \"size of test\"}, \"yaxis\": {\"title\": \"runtime(s)\"}, \"yaxis2\": {\"overlaying\": \"y\", \"side\": \"right\", \"title\": \"ratio\"}}, {\"showLink\": true, \"linkText\": \"Export to plot.ly\"})});</script>"
      ]
     },
     "metadata": {},
     "output_type": "display_data"
    },
    {
     "name": "stdout",
     "output_type": "stream",
     "text": [
      "CPU times: user 487 ms, sys: 588 ms, total: 1.07 s\n",
      "Wall time: 9min 18s\n"
     ]
    }
   ],
   "source": [
    "%%time\n",
    "cnt = 0\n",
    "for worker in [1, 2, 4, 8, 16]:\n",
    "    cnt += 1\n",
    "    trace_openmp = sol2('openmp', worker)\n",
    "    trace_mpi = sol2('mpi', worker)\n",
    "    trace_openmp_ratio = go.Scatter(\n",
    "        x=trace_openmp.x,\n",
    "        y=[trace_openmp.y[i] / naive_y[i] for i in range(len(trace_openmp.x))],\n",
    "        name='openmp ratio',\n",
    "        yaxis='y2'\n",
    "    )\n",
    "    trace_mpi_ratio = go.Scatter(\n",
    "        x=trace_mpi.x,\n",
    "        y=[trace_mpi.y[i] / naive_y[i] for i in range(len(trace_mpi.x))],\n",
    "        name='mpi ratio',\n",
    "        yaxis='y2'\n",
    "    )\n",
    "    iplot({\n",
    "        \"data\": [trace_openmp, trace_mpi, trace_openmp_ratio, trace_mpi_ratio],\n",
    "        \"layout\": go.Layout(title=\"plot 8-{} of quick sort<br>fixed seed: SEED = 6666<br>fixed worker = {}\".format(cnt, worker),\n",
    "                            xaxis=dict(title='size of test'),\n",
    "                            yaxis=dict(title='runtime(s)'),\n",
    "                            yaxis2=dict(title='ratio', overlaying='y', side='right'),\n",
    "                            showlegend=True,\n",
    "                           )\n",
    "    })"
   ]
  },
  {
   "cell_type": "markdown",
   "metadata": {},
   "source": [
    "# 总结\n",
    "\n",
    "OpenMP的优点： \n",
    "\n",
    "- OpenMP相对于MPI而言更容易使用，对原始代码改动小\n",
    "- 代码更容易理解和维护 \n",
    "\n",
    "OpenMP的缺点：\n",
    "\n",
    "- 使用多线程，所有线程共享内存空间，硬件制约较大\n",
    "- 对递归的优化不明显\n",
    "\n",
    "MPI的优点：\n",
    "\n",
    "- 与OpenMP相比，在规模更大的情况下一般表现较好\n",
    "- 编写代码时对细节控制力更强\n",
    "- 使用多进程，能够充分利用单机的多核性能\n",
    "\n",
    "MPI的缺点：\n",
    "\n",
    "- 如果单机运行，多进程运行时进程开销和通信开销都比较大，在进程数量比较小或者数据集比较小的时候可能效率反而不如串行\n",
    "- 多机运行时需要注意通信代价\n",
    "- 对原始代码改动较大，相比openmp来说不太好维护，需要比较谨慎的考虑数据划分和任务划分"
   ]
  }
 ],
 "metadata": {
  "kernelspec": {
   "display_name": "Python 3",
   "language": "python",
   "name": "python3"
  },
  "language_info": {
   "codemirror_mode": {
    "name": "ipython",
    "version": 3
   },
   "file_extension": ".py",
   "mimetype": "text/x-python",
   "name": "python",
   "nbconvert_exporter": "python",
   "pygments_lexer": "ipython3",
   "version": "3.7.0"
  }
 },
 "nbformat": 4,
 "nbformat_minor": 2
}
