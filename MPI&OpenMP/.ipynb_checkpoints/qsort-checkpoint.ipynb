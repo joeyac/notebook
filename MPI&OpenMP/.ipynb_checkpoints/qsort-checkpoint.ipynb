{
 "cells": [
  {
   "cell_type": "markdown",
   "metadata": {},
   "source": [
    "# 选题介绍 - 快速排序\n",
    "\n",
    "## 小组成员\n",
    "\n",
    "- 计1504 41416058 徐经纬\n",
    "- 计1504 41524206 李凯\n",
    "- 计1504 41524208 李鸿卓\n",
    "- 计1504 41524201 朱柯佳\n",
    "- 计1502 61562034 艾万\n"
   ]
  },
  {
   "cell_type": "markdown",
   "metadata": {},
   "source": [
    "## 朴素快速排序算法\n",
    "\n",
    "\n",
    "众所周知的基于分治思想的排序算法，朴素的实现上，最优时间复杂度为$O(nlogn)$，最坏时间复杂度可以被卡到$O(n^2)$\n",
    "\n",
    "以下针对整形数组来介绍和探究快速排序算法的应用和扩展\n",
    "\n",
    "主要算法步骤：\n",
    "\n",
    "- 从数组中选择一个目标值aim，按照下面的方式划分数组：\n",
    "    \n",
    "    - 所有小于aim的元素都划分到aim的左侧\n",
    "    \n",
    "    - 所有不小于aim的元素都划分到aim的右侧\n",
    "\n",
    "- 递归对左右两部分分别进行上一步操作，直至整个数组处理完成"
   ]
  },
  {
   "cell_type": "markdown",
   "metadata": {},
   "source": [
    "### 一个简单的例子\n",
    "\n",
    "    8 5 7 3 9    - 选择目标值为7\n",
    "\n",
    "    7 5 8 3 9    - 将目标位置和当前最左边位置互换，令left=1(val=5), right=5(val=9)\n",
    "\n",
    "    7 5 8 3 9    - 右移left，左移right至满足交换条件：left=3(val=8), right=4(val=3), 交换两个位置的值\n",
    "\n",
    "    7 5 3 8 9    - left=4 > right=3, 结束交换，交换right位置和最左边位置\n",
    "\n",
    "    3 5 7 8 9    - 对[3 5]和[8 9]两部分递归进行处理\n",
    "    \n",
    "    3 5 7 8 9    - 完成排序"
   ]
  },
  {
   "cell_type": "markdown",
   "metadata": {},
   "source": [
    "### 优化\n",
    "\n",
    "主要算法步骤：\n",
    "\n",
    "- 从数组中选择一个目标值aim，按照下面的方式划分数组：\n",
    "    \n",
    "    - 所有小于aim的元素都划分到aim的左侧\n",
    "    \n",
    "    - 所有不小于aim的元素都划分到aim的右侧\n",
    "\n",
    "- 递归对左右两部分分别进行上一步操作，直至整个数组处理完成\n",
    "\n",
    "主要优化点：\n",
    "\n",
    "- [x] 目标位置选取优化：对于固定选取最左边位置，完全逆序数据会被卡到最差复杂度 => 结论：固定目标位置的选取都是不优秀的\n",
    "- [x] 划分方式优化：对于朴素二分方式，完全相同数据会被卡到最差复杂度 => 结论：对于存在大量相同数据的数据集，朴素二分方式是不优秀的\n"
   ]
  },
  {
   "cell_type": "markdown",
   "metadata": {},
   "source": [
    "```cpp\n",
    "using namespace std;\n",
    "typedef pair<int, int> P;\n",
    "\n",
    "P partition(int a[], int l, int r) {\n",
    "\tif (l >= r) return P(l, r);\n",
    "\tint cur = l;\n",
    "\tint left = l;\n",
    "\tint right = r;\n",
    "\tint p = rand() % (r - l + 1);\n",
    "\tint aim = a[l + p];\n",
    "\tswap(a[l + p], a[l]);\n",
    "\twhile (cur <= right) {\n",
    "\t\tif (a[cur] == aim) cur++;\n",
    "\t\telse if (a[cur] < aim) swap(a[cur++], a[left++]);\n",
    "\t\telse swap(a[cur], a[right--]);\n",
    "\t}\n",
    "\treturn P(left, right);\n",
    "}\n",
    "\n",
    "void qsort(int a[], int l, int r) {\n",
    "\tif (l >= r) return;\n",
    "\tP ret = partition(a, l, r);\n",
    "    int left = ret.first, right = ret.second;\n",
    "\tqsort(a, l, left - 1);\n",
    "\tqsort(a, right + 1, r);\n",
    "}\n",
    "```\n",
    "\n",
    "- $a[l...left - 1] < aim$\n",
    "- $a[left...right] = aim$\n",
    "- $a[right+ 1...r] > aim$"
   ]
  },
  {
   "cell_type": "markdown",
   "metadata": {},
   "source": [
    "# OpenMp - 快速排序\n",
    "\n",
    "```cpp\n",
    "void qsort(int a[], int l, int r) {\n",
    "\tif (l >= r) return;\n",
    "\tP ret = partition(a, l, r);\n",
    "\tqsort(a, l, ret.first - 1);\n",
    "\tqsort(a, ret.second + 1, r);\n",
    "}\n",
    "```"
   ]
  },
  {
   "cell_type": "markdown",
   "metadata": {},
   "source": [
    "# OpenMp - 快速排序\n",
    "\n",
    "```cpp\n",
    "void qsort(int a[], int l, int r) {\n",
    "\tif (l >= r) return;\n",
    "\tP ret = partition(a, l, r);\n",
    "\tint left = ret.first, right = ret.second;\n",
    "\t{\n",
    "\t\t#pragma omp task firstprivate(a, l, left)\n",
    "\t\t{\n",
    "\t\t\tqsort(a, l, left - 1);\n",
    "\t\t}\n",
    "\t\t#pragma omp task firstprivate(a, right, r)\n",
    "\t\t{\n",
    "\t\t\tqsort(a, right + 1, r);\n",
    "\t\t}\n",
    "\t}\n",
    "}\n",
    "```\n",
    "\n",
    "### section or task?\n",
    "\n",
    "```cpp\n",
    "#pragma omp parallel sections\n",
    "{\n",
    "    #pragma omp section\n",
    "    qsort(a, l, left - 1);\n",
    "    #pragma omp section\n",
    "    qsort(a, ret.second + 1, r);\n",
    "}\n",
    "```\n",
    "                     [    sections     ]\n",
    "    Thread 0: -------< section 1 >---->*------\n",
    "    Thread 1: -------< section 2      >*------\n",
    "    Thread 2: ------------------------>*------\n",
    "    ...                                *\n",
    "    Thread N-1: ---------------------->*------\n",
    "\n",
    "\n",
    "### firstprivate\n",
    "\n",
    "以元素进入task前的值作为初值\n",
    "\n",
    "测试方案：固定机器\n",
    "method: naive openmp mpi\n",
    "workers: 1 2 3 4 5 6 7 8\n",
    "testSize: 1e1 1e2 1e3 1e4 1e5 1e6 1e7 1e8\n",
    "seed: -1(reverse) 0(equ) 1 2 3 4 5 6\n",
    "\n",
    "a) method:\n",
    "\t1. naive:\n",
    "\t\tp1: testSize=1e7 seed=__all__\n",
    "\t\tp2: seed=1 testSize=__all__\n",
    "\n",
    "\t2. openmp or mpi:\n",
    "\t\tp3: seed=-1 testsize=1e7 workers=__all__\n",
    "\t\tp4: seed=0  testsize=1e7 workers=__all__\n",
    "\t\tp5: seed=2  testsize=1e7 workers=__all__\n",
    "\t\t\n",
    "\t\tp6: seed=3\n",
    "\n",
    "\n",
    "\n"
   ]
  },
  {
   "cell_type": "code",
   "execution_count": 3,
   "metadata": {},
   "outputs": [],
   "source": [
    "import subprocess\n",
    "def run(method, workers, testSize, seed, compiled=True):\n",
    "    if method not in ['naive', 'openmp', 'mpi']:\n",
    "        raise ValueError(method)\n",
    "    script = './run-{}.sh'.format(method)\n",
    "    cmd = [script, '-w {}'.format(workers), '-n {}'.format(testSize), '-s {}'.format(seed), ]\n",
    "    if not compiled:\n",
    "        cmd.append('-c')\n",
    "    return subprocess.check_output(cmd)"
   ]
  },
  {
   "cell_type": "code",
   "execution_count": 16,
   "metadata": {},
   "outputs": [
    {
     "data": {
      "text/plain": [
       "b'4.824022\\n'"
      ]
     },
     "execution_count": 16,
     "metadata": {},
     "output_type": "execute_result"
    }
   ],
   "source": [
    "run('naive', 4, 10000000, 4516)"
   ]
  },
  {
   "cell_type": "code",
   "execution_count": 33,
   "metadata": {},
   "outputs": [
    {
     "data": {
      "text/plain": [
       "b'1.341798\\n'"
      ]
     },
     "execution_count": 33,
     "metadata": {},
     "output_type": "execute_result"
    }
   ],
   "source": [
    "run(\"mpi\", 2, 3000000, 4516)"
   ]
  },
  {
   "cell_type": "code",
   "execution_count": 41,
   "metadata": {},
   "outputs": [
    {
     "data": {
      "text/plain": [
       "b'1.579056\\n'"
      ]
     },
     "execution_count": 41,
     "metadata": {},
     "output_type": "execute_result"
    }
   ],
   "source": [
    "run(\"openmp\", 6, 3000000, 4516)"
   ]
  },
  {
   "cell_type": "code",
   "execution_count": null,
   "metadata": {},
   "outputs": [],
   "source": []
  }
 ],
 "metadata": {
  "kernelspec": {
   "display_name": "Python 3",
   "language": "python",
   "name": "python3"
  },
  "language_info": {
   "codemirror_mode": {
    "name": "ipython",
    "version": 3
   },
   "file_extension": ".py",
   "mimetype": "text/x-python",
   "name": "python",
   "nbconvert_exporter": "python",
   "pygments_lexer": "ipython3",
   "version": "3.7.0"
  }
 },
 "nbformat": 4,
 "nbformat_minor": 2
}
