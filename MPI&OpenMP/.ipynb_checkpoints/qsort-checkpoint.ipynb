{
 "cells": [
  {
   "cell_type": "markdown",
   "metadata": {},
   "source": [
    "# 选题介绍 - 快速排序\n",
    "\n",
    "## 小组成员\n",
    "\n",
    "- 计1504 41416058 徐经纬\n",
    "- 计1504 41524206 李凯\n",
    "- 计1504 41524208 李鸿卓\n",
    "- 计1504 41524201 朱柯佳\n",
    "- 计1502 61562034 艾万\n"
   ]
  },
  {
   "cell_type": "markdown",
   "metadata": {},
   "source": [
    "## 朴素快速排序算法\n",
    "\n",
    "\n",
    "众所周知的基于分治思想的排序算法，朴素的实现上，最优时间复杂度为$O(nlogn)$，最坏时间复杂度可以被卡到$O(n^2)$\n",
    "\n",
    "以下针对整形数组来介绍和探究快速排序算法的应用和扩展\n",
    "\n",
    "主要算法步骤：\n",
    "\n",
    "- 从数组中选择一个目标值aim，按照下面的方式划分数组：\n",
    "    \n",
    "    - 所有小于aim的元素都划分到aim的左侧\n",
    "    \n",
    "    - 所有不小于aim的元素都划分到aim的右侧\n",
    "\n",
    "- 递归对左右两部分分别进行上一步操作，直至整个数组处理完成"
   ]
  },
  {
   "cell_type": "markdown",
   "metadata": {},
   "source": [
    "### 一个简单的例子\n",
    "\n",
    "    8 5 7 3 9    - 选择目标值为7\n",
    "\n",
    "    7 5 8 3 9    - 将目标位置和当前最左边位置互换，令left=1(val=5), right=5(val=9)\n",
    "\n",
    "    7 5 8 3 9    - 右移left，左移right至满足交换条件：left=3(val=8), right=4(val=3), 交换两个位置的值\n",
    "\n",
    "    7 5 3 8 9    - left=4 > right=3, 结束交换，交换right位置和最左边位置\n",
    "\n",
    "    3 5 7 8 9    - 对[3 5]和[8 9]两部分递归进行处理\n",
    "    \n",
    "    3 5 7 8 9    - 完成排序"
   ]
  },
  {
   "cell_type": "markdown",
   "metadata": {},
   "source": [
    "### 优化\n",
    "\n",
    "主要算法步骤：\n",
    "\n",
    "- 从数组中选择一个目标值aim，按照下面的方式划分数组：\n",
    "    \n",
    "    - 所有小于aim的元素都划分到aim的左侧\n",
    "    \n",
    "    - 所有不小于aim的元素都划分到aim的右侧\n",
    "\n",
    "- 递归对左右两部分分别进行上一步操作，直至整个数组处理完成\n",
    "\n",
    "主要优化点：\n",
    "\n",
    "- [x] 目标位置选取优化：对于固定选取最左边位置，完全逆序数据会被卡到最差复杂度 => 结论：固定目标位置的选取都是不优秀的\n",
    "- [x] 划分方式优化：对于朴素二分方式，完全相同数据会被卡到最差复杂度 => 结论：对于存在大量相同数据的数据集，朴素二分方式是不优秀的\n"
   ]
  },
  {
   "cell_type": "markdown",
   "metadata": {},
   "source": [
    "```cpp\n",
    "using namespace std;\n",
    "typedef pair<int, int> P;\n",
    "\n",
    "P partition(int a[], int l, int r) {\n",
    "\tif (l >= r) return P(l, r);\n",
    "\tint cur = l;\n",
    "\tint left = l;\n",
    "\tint right = r;\n",
    "\tint p = rand() % (r - l + 1);\n",
    "\tint aim = a[l + p];\n",
    "\tswap(a[l + p], a[l]);\n",
    "\twhile (cur <= right) {\n",
    "\t\tif (a[cur] == aim) cur++;\n",
    "\t\telse if (a[cur] < aim) swap(a[cur++], a[left++]);\n",
    "\t\telse swap(a[cur], a[right--]);\n",
    "\t}\n",
    "\treturn P(left, right);\n",
    "}\n",
    "\n",
    "void qsort(int a[], int l, int r) {\n",
    "\tif (l >= r) return;\n",
    "\tP ret = partition(a, l, r);\n",
    "    int left = ret.first, right = ret.second;\n",
    "\tqsort(a, l, left - 1);\n",
    "\tqsort(a, right + 1, r);\n",
    "}\n",
    "```\n",
    "\n",
    "- $a[l...left - 1] < aim$\n",
    "- $a[left...right] = aim$\n",
    "- $a[right+ 1...r] > aim$"
   ]
  },
  {
   "cell_type": "code",
   "execution_count": 1,
   "metadata": {},
   "outputs": [],
   "source": [
    "import subprocess\n",
    "def run(method, workers, testSize, seed, compiled=True):\n",
    "    if method not in ['naive', 'openmp', 'mpi']:\n",
    "        raise ValueError(method)\n",
    "    # print(\"run: method={}, workers={}, n={}, seed={}\".format(method, workers, testSize, seed))\n",
    "    script = './run-{}.sh'.format(method)\n",
    "    cmd = [script, '-w {}'.format(workers), '-n {}'.format(testSize), '-s {}'.format(seed), ]\n",
    "    if not compiled:\n",
    "        cmd.append('-c')\n",
    "    return float(subprocess.check_output(cmd))"
   ]
  },
  {
   "cell_type": "code",
   "execution_count": 2,
   "metadata": {},
   "outputs": [
    {
     "data": {
      "text/plain": [
       "0.919498"
      ]
     },
     "execution_count": 2,
     "metadata": {},
     "output_type": "execute_result"
    }
   ],
   "source": [
    "run('naive', 2, 10000000, 4516)"
   ]
  },
  {
   "cell_type": "code",
   "execution_count": 3,
   "metadata": {},
   "outputs": [
    {
     "data": {
      "text/plain": [
       "1.135773"
      ]
     },
     "execution_count": 3,
     "metadata": {},
     "output_type": "execute_result"
    }
   ],
   "source": [
    "run(\"openmp\", 2, 10000000, 4516)"
   ]
  },
  {
   "cell_type": "code",
   "execution_count": 4,
   "metadata": {},
   "outputs": [
    {
     "data": {
      "text/html": [
       "<script>requirejs.config({paths: { 'plotly': ['https://cdn.plot.ly/plotly-latest.min']},});if(!window.Plotly) {{require(['plotly'],function(plotly) {window.Plotly=plotly;});}}</script>"
      ],
      "text/vnd.plotly.v1+html": [
       "<script>requirejs.config({paths: { 'plotly': ['https://cdn.plot.ly/plotly-latest.min']},});if(!window.Plotly) {{require(['plotly'],function(plotly) {window.Plotly=plotly;});}}</script>"
      ]
     },
     "metadata": {},
     "output_type": "display_data"
    }
   ],
   "source": [
    "import math\n",
    "import random\n",
    "import plotly.plotly\n",
    "import plotly.graph_objs as go\n",
    "from plotly.offline import iplot, init_notebook_mode\n",
    "\n",
    "init_notebook_mode(connected=True)\n",
    "\n",
    "def trace1():\n",
    "    testSize = int(5e6)\n",
    "    seed = [i - 1 for i in range(20)]\n",
    "    y = []\n",
    "    for i in seed:\n",
    "        timeInSec = run('naive', 1, testSize, i)\n",
    "        y.append(timeInSec)\n",
    "\n",
    "    return go.Scatter(x=seed, y=y, mode='lines+markers', name='fixed test size')\n",
    "\n",
    "def trace2():\n",
    "    seed = 123456\n",
    "    y = []\n",
    "    testSize = [1000, ]\n",
    "    for i in range(16):\n",
    "        testSize.append(testSize[-1] * 2)\n",
    "    \n",
    "    for i in testSize:\n",
    "        timeInSec = run('naive', 1, i, seed)\n",
    "        y.append(timeInSec)\n",
    "\n",
    "    return go.Scatter(x=testSize, y=y, mode='lines+markers', name='fixed seed')"
   ]
  },
  {
   "cell_type": "code",
   "execution_count": 5,
   "metadata": {},
   "outputs": [
    {
     "name": "stdout",
     "output_type": "stream",
     "text": [
      "CPU times: user 55.9 ms, sys: 121 ms, total: 176 ms\n",
      "Wall time: 24.5 s\n"
     ]
    }
   ],
   "source": [
    "%%time\n",
    "trace_naive_testsize = trace1()\n",
    "trace_naive_seed = trace2()"
   ]
  },
  {
   "cell_type": "code",
   "execution_count": 6,
   "metadata": {},
   "outputs": [
    {
     "data": {
      "application/vnd.plotly.v1+json": {
       "data": [
        {
         "mode": "lines+markers",
         "name": "fixed test size",
         "type": "scatter",
         "uid": "a9b589d6-cf04-11e8-9d12-0242ac110002",
         "x": [
          -1,
          0,
          1,
          2,
          3,
          4,
          5,
          6,
          7,
          8,
          9,
          10,
          11,
          12,
          13,
          14,
          15,
          16,
          17,
          18
         ],
         "y": [
          0.301458,
          0.002835,
          0.479353,
          0.471117,
          0.472716,
          0.464262,
          0.477565,
          0.465758,
          0.461045,
          0.463904,
          0.473554,
          0.471118,
          0.467297,
          0.463457,
          0.434022,
          0.468512,
          0.470722,
          0.473631,
          0.468115,
          0.454051
         ]
        },
        {
         "marker": {
          "color": "rgb(158,202,225)",
          "line": {
           "color": "rgb(8,48,107)",
           "width": 1.5
          }
         },
         "name": "bar trance",
         "opacity": 0.6,
         "type": "bar",
         "uid": "a9b58bc0-cf04-11e8-9d12-0242ac110002",
         "x": [
          -1,
          0,
          1,
          2,
          3,
          4,
          5,
          6,
          7,
          8,
          9,
          10,
          11,
          12,
          13,
          14,
          15,
          16,
          17,
          18
         ],
         "y": [
          0.301458,
          0.002835,
          0.479353,
          0.471117,
          0.472716,
          0.464262,
          0.477565,
          0.465758,
          0.461045,
          0.463904,
          0.473554,
          0.471118,
          0.467297,
          0.463457,
          0.434022,
          0.468512,
          0.470722,
          0.473631,
          0.468115,
          0.454051
         ]
        }
       ],
       "layout": {
        "showlegend": true,
        "title": "plot 1 of quick sort<br>fixed test size: 5M elements",
        "xaxis": {
         "title": "seed"
        },
        "yaxis": {
         "title": "runtime(s)"
        }
       }
      },
      "text/html": [
       "<div id=\"f9a624d3-a72a-428f-8fa8-153888325081\" style=\"height: 525px; width: 100%;\" class=\"plotly-graph-div\"></div><script type=\"text/javascript\">require([\"plotly\"], function(Plotly) { window.PLOTLYENV=window.PLOTLYENV || {};window.PLOTLYENV.BASE_URL=\"https://plot.ly\";Plotly.newPlot(\"f9a624d3-a72a-428f-8fa8-153888325081\", [{\"mode\": \"lines+markers\", \"name\": \"fixed test size\", \"x\": [-1, 0, 1, 2, 3, 4, 5, 6, 7, 8, 9, 10, 11, 12, 13, 14, 15, 16, 17, 18], \"y\": [0.301458, 0.002835, 0.479353, 0.471117, 0.472716, 0.464262, 0.477565, 0.465758, 0.461045, 0.463904, 0.473554, 0.471118, 0.467297, 0.463457, 0.434022, 0.468512, 0.470722, 0.473631, 0.468115, 0.454051], \"type\": \"scatter\", \"uid\": \"a9b7d66e-cf04-11e8-9d12-0242ac110002\"}, {\"marker\": {\"color\": \"rgb(158,202,225)\", \"line\": {\"color\": \"rgb(8,48,107)\", \"width\": 1.5}}, \"name\": \"bar trance\", \"opacity\": 0.6, \"x\": [-1, 0, 1, 2, 3, 4, 5, 6, 7, 8, 9, 10, 11, 12, 13, 14, 15, 16, 17, 18], \"y\": [0.301458, 0.002835, 0.479353, 0.471117, 0.472716, 0.464262, 0.477565, 0.465758, 0.461045, 0.463904, 0.473554, 0.471118, 0.467297, 0.463457, 0.434022, 0.468512, 0.470722, 0.473631, 0.468115, 0.454051], \"type\": \"bar\", \"uid\": \"a9b7d7ea-cf04-11e8-9d12-0242ac110002\"}], {\"showlegend\": true, \"title\": \"plot 1 of quick sort<br>fixed test size: 5M elements\", \"xaxis\": {\"title\": \"seed\"}, \"yaxis\": {\"title\": \"runtime(s)\"}}, {\"showLink\": true, \"linkText\": \"Export to plot.ly\"})});</script>"
      ],
      "text/vnd.plotly.v1+html": [
       "<div id=\"f9a624d3-a72a-428f-8fa8-153888325081\" style=\"height: 525px; width: 100%;\" class=\"plotly-graph-div\"></div><script type=\"text/javascript\">require([\"plotly\"], function(Plotly) { window.PLOTLYENV=window.PLOTLYENV || {};window.PLOTLYENV.BASE_URL=\"https://plot.ly\";Plotly.newPlot(\"f9a624d3-a72a-428f-8fa8-153888325081\", [{\"mode\": \"lines+markers\", \"name\": \"fixed test size\", \"x\": [-1, 0, 1, 2, 3, 4, 5, 6, 7, 8, 9, 10, 11, 12, 13, 14, 15, 16, 17, 18], \"y\": [0.301458, 0.002835, 0.479353, 0.471117, 0.472716, 0.464262, 0.477565, 0.465758, 0.461045, 0.463904, 0.473554, 0.471118, 0.467297, 0.463457, 0.434022, 0.468512, 0.470722, 0.473631, 0.468115, 0.454051], \"type\": \"scatter\", \"uid\": \"a9b7d66e-cf04-11e8-9d12-0242ac110002\"}, {\"marker\": {\"color\": \"rgb(158,202,225)\", \"line\": {\"color\": \"rgb(8,48,107)\", \"width\": 1.5}}, \"name\": \"bar trance\", \"opacity\": 0.6, \"x\": [-1, 0, 1, 2, 3, 4, 5, 6, 7, 8, 9, 10, 11, 12, 13, 14, 15, 16, 17, 18], \"y\": [0.301458, 0.002835, 0.479353, 0.471117, 0.472716, 0.464262, 0.477565, 0.465758, 0.461045, 0.463904, 0.473554, 0.471118, 0.467297, 0.463457, 0.434022, 0.468512, 0.470722, 0.473631, 0.468115, 0.454051], \"type\": \"bar\", \"uid\": \"a9b7d7ea-cf04-11e8-9d12-0242ac110002\"}], {\"showlegend\": true, \"title\": \"plot 1 of quick sort<br>fixed test size: 5M elements\", \"xaxis\": {\"title\": \"seed\"}, \"yaxis\": {\"title\": \"runtime(s)\"}}, {\"showLink\": true, \"linkText\": \"Export to plot.ly\"})});</script>"
      ]
     },
     "metadata": {},
     "output_type": "display_data"
    },
    {
     "data": {
      "application/vnd.plotly.v1+json": {
       "data": [
        {
         "mode": "lines+markers",
         "name": "fixed seed",
         "type": "scatter",
         "uid": "a9bc4bcc-cf04-11e8-9d12-0242ac110002",
         "x": [
          1000,
          2000,
          4000,
          8000,
          16000,
          32000,
          64000,
          128000,
          256000,
          512000,
          1024000,
          2048000,
          4096000,
          8192000,
          16384000,
          32768000,
          65536000
         ],
         "y": [
          7.1e-05,
          0.000155,
          0.000659,
          0.000924,
          0.002415,
          0.003879,
          0.005615,
          0.014308,
          0.024966,
          0.0435,
          0.10065,
          0.183082,
          0.378421,
          0.733648,
          1.550789,
          3.200365,
          6.658219
         ]
        },
        {
         "name": "ratio",
         "type": "scatter",
         "uid": "a9bc4d70-cf04-11e8-9d12-0242ac110002",
         "x": [
          1000,
          2000,
          4000,
          8000,
          16000,
          32000,
          64000,
          128000,
          256000,
          512000,
          1024000,
          2048000,
          4096000,
          8192000,
          16384000,
          32768000,
          65536000
         ],
         "y": [
          7.124376564047555e-09,
          7.067437949550015e-09,
          1.3768424708372763e-08,
          8.908061206650728e-09,
          1.0807663710355815e-08,
          8.099725860958245e-09,
          5.49514971740437e-09,
          6.588628508088235e-09,
          5.428287235044817e-09,
          4.479695446536802e-09,
          4.922972933275059e-09,
          4.2638761612127694e-09,
          4.205993205425229e-09,
          3.8995681364477175e-09,
          3.9494909827073e-09,
          3.912049699797267e-09,
          3.912701351098505e-09
         ],
         "yaxis": "y2"
        }
       ],
       "layout": {
        "showlegend": true,
        "title": "plot 2 of quick sort<br>fixed seed: SEED = 123456",
        "xaxis": {
         "title": "test size"
        },
        "yaxis": {
         "title": "runtime(s)"
        },
        "yaxis2": {
         "overlaying": "y",
         "side": "right",
         "title": "ratio"
        }
       }
      },
      "text/html": [
       "<div id=\"3a9cdec7-bbb8-4bfb-bb97-3dcb3de2baa5\" style=\"height: 525px; width: 100%;\" class=\"plotly-graph-div\"></div><script type=\"text/javascript\">require([\"plotly\"], function(Plotly) { window.PLOTLYENV=window.PLOTLYENV || {};window.PLOTLYENV.BASE_URL=\"https://plot.ly\";Plotly.newPlot(\"3a9cdec7-bbb8-4bfb-bb97-3dcb3de2baa5\", [{\"mode\": \"lines+markers\", \"name\": \"fixed seed\", \"x\": [1000, 2000, 4000, 8000, 16000, 32000, 64000, 128000, 256000, 512000, 1024000, 2048000, 4096000, 8192000, 16384000, 32768000, 65536000], \"y\": [7.1e-05, 0.000155, 0.000659, 0.000924, 0.002415, 0.003879, 0.005615, 0.014308, 0.024966, 0.0435, 0.10065, 0.183082, 0.378421, 0.733648, 1.550789, 3.200365, 6.658219], \"type\": \"scatter\", \"uid\": \"a9be98e6-cf04-11e8-9d12-0242ac110002\"}, {\"name\": \"ratio\", \"x\": [1000, 2000, 4000, 8000, 16000, 32000, 64000, 128000, 256000, 512000, 1024000, 2048000, 4096000, 8192000, 16384000, 32768000, 65536000], \"y\": [7.124376564047555e-09, 7.067437949550015e-09, 1.3768424708372763e-08, 8.908061206650728e-09, 1.0807663710355815e-08, 8.099725860958245e-09, 5.49514971740437e-09, 6.588628508088235e-09, 5.428287235044817e-09, 4.479695446536802e-09, 4.922972933275059e-09, 4.2638761612127694e-09, 4.205993205425229e-09, 3.8995681364477175e-09, 3.9494909827073e-09, 3.912049699797267e-09, 3.912701351098505e-09], \"yaxis\": \"y2\", \"type\": \"scatter\", \"uid\": \"a9be9a8a-cf04-11e8-9d12-0242ac110002\"}], {\"showlegend\": true, \"title\": \"plot 2 of quick sort<br>fixed seed: SEED = 123456\", \"xaxis\": {\"title\": \"test size\"}, \"yaxis\": {\"title\": \"runtime(s)\"}, \"yaxis2\": {\"overlaying\": \"y\", \"side\": \"right\", \"title\": \"ratio\"}}, {\"showLink\": true, \"linkText\": \"Export to plot.ly\"})});</script>"
      ],
      "text/vnd.plotly.v1+html": [
       "<div id=\"3a9cdec7-bbb8-4bfb-bb97-3dcb3de2baa5\" style=\"height: 525px; width: 100%;\" class=\"plotly-graph-div\"></div><script type=\"text/javascript\">require([\"plotly\"], function(Plotly) { window.PLOTLYENV=window.PLOTLYENV || {};window.PLOTLYENV.BASE_URL=\"https://plot.ly\";Plotly.newPlot(\"3a9cdec7-bbb8-4bfb-bb97-3dcb3de2baa5\", [{\"mode\": \"lines+markers\", \"name\": \"fixed seed\", \"x\": [1000, 2000, 4000, 8000, 16000, 32000, 64000, 128000, 256000, 512000, 1024000, 2048000, 4096000, 8192000, 16384000, 32768000, 65536000], \"y\": [7.1e-05, 0.000155, 0.000659, 0.000924, 0.002415, 0.003879, 0.005615, 0.014308, 0.024966, 0.0435, 0.10065, 0.183082, 0.378421, 0.733648, 1.550789, 3.200365, 6.658219], \"type\": \"scatter\", \"uid\": \"a9be98e6-cf04-11e8-9d12-0242ac110002\"}, {\"name\": \"ratio\", \"x\": [1000, 2000, 4000, 8000, 16000, 32000, 64000, 128000, 256000, 512000, 1024000, 2048000, 4096000, 8192000, 16384000, 32768000, 65536000], \"y\": [7.124376564047555e-09, 7.067437949550015e-09, 1.3768424708372763e-08, 8.908061206650728e-09, 1.0807663710355815e-08, 8.099725860958245e-09, 5.49514971740437e-09, 6.588628508088235e-09, 5.428287235044817e-09, 4.479695446536802e-09, 4.922972933275059e-09, 4.2638761612127694e-09, 4.205993205425229e-09, 3.8995681364477175e-09, 3.9494909827073e-09, 3.912049699797267e-09, 3.912701351098505e-09], \"yaxis\": \"y2\", \"type\": \"scatter\", \"uid\": \"a9be9a8a-cf04-11e8-9d12-0242ac110002\"}], {\"showlegend\": true, \"title\": \"plot 2 of quick sort<br>fixed seed: SEED = 123456\", \"xaxis\": {\"title\": \"test size\"}, \"yaxis\": {\"title\": \"runtime(s)\"}, \"yaxis2\": {\"overlaying\": \"y\", \"side\": \"right\", \"title\": \"ratio\"}}, {\"showLink\": true, \"linkText\": \"Export to plot.ly\"})});</script>"
      ]
     },
     "metadata": {},
     "output_type": "display_data"
    }
   ],
   "source": [
    "bar_trance = go.Bar(\n",
    "    x=trace_naive_testsize.x,\n",
    "    y=trace_naive_testsize.y,\n",
    "    name='bar trance',\n",
    "    marker=dict(\n",
    "        color='rgb(158,202,225)',\n",
    "        line=dict(\n",
    "            color='rgb(8,48,107)',\n",
    "            width=1.5),\n",
    "        ),\n",
    "    opacity=0.6\n",
    ")\n",
    "\n",
    "iplot({\n",
    "    \"data\": [trace_naive_testsize, bar_trance],\n",
    "    \"layout\": go.Layout(title=\"plot 1 of quick sort<br>fixed test size: 5M elements\", \n",
    "                        xaxis=dict(title='seed'),\n",
    "                        yaxis=dict(title='runtime(s)'),\n",
    "                        showlegend=True,\n",
    "                       )\n",
    "})\n",
    "\n",
    "def nlogn(val):\n",
    "    return math.log(val) / math.log(2) * val\n",
    "\n",
    "ratio_trace = go.Scatter(\n",
    "    x=trace_naive_seed.x,\n",
    "    y=[trace_naive_seed.y[i] / nlogn(trace_naive_seed.x[i]) for i in range(len(trace_naive_seed.x))],\n",
    "    name='ratio',\n",
    "    yaxis='y2'\n",
    ")\n",
    "\n",
    "iplot({\n",
    "    \"data\": [trace_naive_seed, ratio_trace],\n",
    "    \"layout\": go.Layout(title=\"plot 2 of quick sort<br>fixed seed: SEED = 123456\",\n",
    "                        xaxis=dict(title='test size'),\n",
    "                        yaxis=dict(title='runtime(s)'),\n",
    "                        yaxis2=dict(title='ratio', overlaying='y', side='right'),\n",
    "                        showlegend=True,\n",
    "                       )\n",
    "})"
   ]
  },
  {
   "cell_type": "markdown",
   "metadata": {},
   "source": [
    "# OpenMP\n",
    "\n",
    "```cpp\n",
    "void qsort(int a[], int l, int r) {\n",
    "\tif (l >= r) return;\n",
    "\tP ret = partition(a, l, r);\n",
    "\tqsort(a, l, ret.first - 1);\n",
    "\tqsort(a, ret.second + 1, r);\n",
    "}\n",
    "```"
   ]
  },
  {
   "cell_type": "markdown",
   "metadata": {},
   "source": [
    "# OpenMP\n",
    "\n",
    "```cpp\n",
    "void qsort(int a[], int l, int r) {\n",
    "\tif (l >= r) return;\n",
    "\tP ret = partition(a, l, r);\n",
    "\tint left = ret.first, right = ret.second;\n",
    "\t{\n",
    "\t\t#pragma omp task firstprivate(a, l, left)\n",
    "\t\t{\n",
    "\t\t\tqsort(a, l, left - 1);\n",
    "\t\t}\n",
    "\t\t#pragma omp task firstprivate(a, right, r)\n",
    "\t\t{\n",
    "\t\t\tqsort(a, right + 1, r);\n",
    "\t\t}\n",
    "\t}\n",
    "}\n",
    "\n",
    "/////////////////\n",
    "\n",
    "omp_set_nested(1);\n",
    "\n",
    "omp_set_num_threads(num_of_threads);\n",
    "\n",
    "#pragma omp parallel shared(data, n)\n",
    "{\n",
    "    #pragma omp single nowait\n",
    "    {\n",
    "        qsort(data, 0, n - 1);\n",
    "    }\n",
    "}\n",
    "```\n",
    "\n",
    "### section | task\n",
    "\n",
    "### firstprivate\n",
    "\n",
    "### single nowait\n",
    "\n"
   ]
  },
  {
   "cell_type": "code",
   "execution_count": 20,
   "metadata": {},
   "outputs": [],
   "source": [
    "def trace3():\n",
    "    # x轴为线程数\n",
    "    ret = []\n",
    "    seed = 123456\n",
    "    testSize = [int(1e4), ]\n",
    "    for i in range(3):\n",
    "        testSize.append(testSize[-1] * 2)\n",
    "    testSize.append(int(1e7))\n",
    "    for i in range(3):\n",
    "        testSize.append(testSize[-1] * 2)\n",
    "        \n",
    "    threads = [i + 1 for i in range(20)]\n",
    "    \n",
    "    for n in testSize:\n",
    "        y = []\n",
    "        for thread in threads:\n",
    "            timeInSec = run('openmp', thread, n, seed)\n",
    "            y.append(timeInSec)\n",
    "        ret.append(go.Scatter(x=threads, y=y, mode='lines+markers', name='{} items'.format(n)))\n",
    "    return ret\n",
    "\n",
    "def trace4():\n",
    "    # 线程数量=4,8,16\n",
    "    # seed=123456\n",
    "    # 固定种子，增加测试集大小\n",
    "    ret = []\n",
    "    seed = 123456\n",
    "    testSize = [1000, ]\n",
    "    for i in range(16):\n",
    "        testSize.append(testSize[-1] * 2)\n",
    "\n",
    "    for thread in [1, 2, 3, 4, 5, 6]:\n",
    "        y = []\n",
    "        for n in testSize:\n",
    "            timeInSec = run('openmp', thread, n, seed)\n",
    "            y.append(timeInSec)\n",
    "        ret.append(go.Scatter(x=testSize, y=y, mode='lines+markers', name='{} threads'.format(thread)))\n",
    "    return ret"
   ]
  },
  {
   "cell_type": "code",
   "execution_count": 21,
   "metadata": {},
   "outputs": [
    {
     "name": "stdout",
     "output_type": "stream",
     "text": [
      "CPU times: user 186 ms, sys: 639 ms, total: 824 ms\n",
      "Wall time: 9min 4s\n"
     ]
    }
   ],
   "source": [
    "%%time\n",
    "trace_openmp_testsize = trace3()\n",
    "trace_openmp_seed = trace4()"
   ]
  },
  {
   "cell_type": "code",
   "execution_count": 22,
   "metadata": {},
   "outputs": [
    {
     "data": {
      "application/vnd.plotly.v1+json": {
       "data": [
        {
         "mode": "lines+markers",
         "name": "10000 items",
         "type": "scatter",
         "uid": "d842429a-cf08-11e8-9d12-0242ac110002",
         "x": [
          1,
          2,
          3,
          4,
          5,
          6,
          7,
          8,
          9,
          10,
          11,
          12,
          13,
          14,
          15,
          16,
          17,
          18,
          19,
          20
         ],
         "y": [
          0.002593,
          0.003488,
          0.00384,
          0.004845,
          0.005419,
          0.006169,
          0.006861,
          0.006549,
          0.007164,
          0.007155,
          0.007934,
          0.009611,
          0.010433,
          0.010583,
          0.010932,
          0.010194,
          0.010821,
          0.010598,
          0.010735,
          0.010861
         ]
        },
        {
         "mode": "lines+markers",
         "name": "20000 items",
         "type": "scatter",
         "uid": "d84246a0-cf08-11e8-9d12-0242ac110002",
         "x": [
          1,
          2,
          3,
          4,
          5,
          6,
          7,
          8,
          9,
          10,
          11,
          12,
          13,
          14,
          15,
          16,
          17,
          18,
          19,
          20
         ],
         "y": [
          0.001967,
          0.003549,
          0.004457,
          0.005907,
          0.007471,
          0.007623,
          0.008117,
          0.009831,
          0.009335,
          0.009241,
          0.009591,
          0.012066,
          0.012019,
          0.012627,
          0.010633,
          0.015128,
          0.013996,
          0.01394,
          0.017092,
          0.016847
         ]
        },
        {
         "mode": "lines+markers",
         "name": "40000 items",
         "type": "scatter",
         "uid": "d84247d6-cf08-11e8-9d12-0242ac110002",
         "x": [
          1,
          2,
          3,
          4,
          5,
          6,
          7,
          8,
          9,
          10,
          11,
          12,
          13,
          14,
          15,
          16,
          17,
          18,
          19,
          20
         ],
         "y": [
          0.004624,
          0.007048,
          0.007908,
          0.008986,
          0.010372,
          0.010545,
          0.012132,
          0.012499,
          0.012158,
          0.014535,
          0.014026,
          0.013852,
          0.014609,
          0.01874,
          0.019157,
          0.01875,
          0.019665,
          0.018501,
          0.020058,
          0.022122
         ]
        },
        {
         "mode": "lines+markers",
         "name": "80000 items",
         "type": "scatter",
         "uid": "d84249ac-cf08-11e8-9d12-0242ac110002",
         "x": [
          1,
          2,
          3,
          4,
          5,
          6,
          7,
          8,
          9,
          10,
          11,
          12,
          13,
          14,
          15,
          16,
          17,
          18,
          19,
          20
         ],
         "y": [
          0.008355,
          0.01449,
          0.013392,
          0.015322,
          0.01707,
          0.016792,
          0.018458,
          0.018424,
          0.019775,
          0.021182,
          0.02039,
          0.021324,
          0.024358,
          0.027001,
          0.023668,
          0.023728,
          0.025075,
          0.02635,
          0.026637,
          0.02947
         ]
        },
        {
         "mode": "lines+markers",
         "name": "10000000 items",
         "type": "scatter",
         "uid": "d8424a92-cf08-11e8-9d12-0242ac110002",
         "x": [
          1,
          2,
          3,
          4,
          5,
          6,
          7,
          8,
          9,
          10,
          11,
          12,
          13,
          14,
          15,
          16,
          17,
          18,
          19,
          20
         ],
         "y": [
          1.23702,
          1.124149,
          1.040025,
          1.130027,
          1.183625,
          1.269945,
          1.386725,
          1.405596,
          1.475863,
          1.493462,
          1.474985,
          1.511156,
          1.519123,
          1.527533,
          1.529141,
          1.522259,
          1.568334,
          1.558503,
          1.591633,
          1.549064
         ]
        },
        {
         "mode": "lines+markers",
         "name": "20000000 items",
         "type": "scatter",
         "uid": "d8424b6e-cf08-11e8-9d12-0242ac110002",
         "x": [
          1,
          2,
          3,
          4,
          5,
          6,
          7,
          8,
          9,
          10,
          11,
          12,
          13,
          14,
          15,
          16,
          17,
          18,
          19,
          20
         ],
         "y": [
          2.278604,
          2.139048,
          2.04535,
          2.245132,
          2.414399,
          2.611569,
          2.784028,
          2.875909,
          2.942506,
          3.110745,
          3.009406,
          3.028617,
          3.038321,
          3.023736,
          3.019306,
          3.052812,
          3.119417,
          3.093352,
          3.103708,
          3.11423
         ]
        },
        {
         "mode": "lines+markers",
         "name": "40000000 items",
         "type": "scatter",
         "uid": "d8424c54-cf08-11e8-9d12-0242ac110002",
         "x": [
          1,
          2,
          3,
          4,
          5,
          6,
          7,
          8,
          9,
          10,
          11,
          12,
          13,
          14,
          15,
          16,
          17,
          18,
          19,
          20
         ],
         "y": [
          4.710347,
          4.160868,
          3.777346,
          4.463436,
          4.658293,
          4.861654,
          5.411549,
          5.63451,
          5.766056,
          5.903125,
          5.887436,
          5.937521,
          5.949901,
          5.9426,
          5.939231,
          5.909049,
          6.012525,
          6.052878,
          6.065926,
          6.064304
         ]
        },
        {
         "mode": "lines+markers",
         "name": "80000000 items",
         "type": "scatter",
         "uid": "d8424d30-cf08-11e8-9d12-0242ac110002",
         "x": [
          1,
          2,
          3,
          4,
          5,
          6,
          7,
          8,
          9,
          10,
          11,
          12,
          13,
          14,
          15,
          16,
          17,
          18,
          19,
          20
         ],
         "y": [
          9.697404,
          9.038264,
          7.728233,
          8.708316,
          9.404118,
          10.050881,
          10.691719,
          11.182842,
          11.56301,
          11.763578,
          12.401985,
          11.822852,
          11.902708,
          11.996702,
          11.934367,
          11.909283,
          12.122806,
          12.137781,
          12.242351,
          12.247666
         ]
        }
       ],
       "layout": {
        "showlegend": true,
        "title": "plot 3 of quick sort<br>openMP<br>fixed test size",
        "xaxis": {
         "title": "number of threads"
        },
        "yaxis": {
         "title": "runtime(s)"
        }
       }
      },
      "text/html": [
       "<div id=\"767d3f8b-3385-4691-a4d8-40f20410f04c\" style=\"height: 525px; width: 100%;\" class=\"plotly-graph-div\"></div><script type=\"text/javascript\">require([\"plotly\"], function(Plotly) { window.PLOTLYENV=window.PLOTLYENV || {};window.PLOTLYENV.BASE_URL=\"https://plot.ly\";Plotly.newPlot(\"767d3f8b-3385-4691-a4d8-40f20410f04c\", [{\"mode\": \"lines+markers\", \"name\": \"10000 items\", \"x\": [1, 2, 3, 4, 5, 6, 7, 8, 9, 10, 11, 12, 13, 14, 15, 16, 17, 18, 19, 20], \"y\": [0.002593, 0.003488, 0.00384, 0.004845, 0.005419, 0.006169, 0.006861, 0.006549, 0.007164, 0.007155, 0.007934, 0.009611, 0.010433, 0.010583, 0.010932, 0.010194, 0.010821, 0.010598, 0.010735, 0.010861], \"type\": \"scatter\", \"uid\": \"d846f11e-cf08-11e8-9d12-0242ac110002\"}, {\"mode\": \"lines+markers\", \"name\": \"20000 items\", \"x\": [1, 2, 3, 4, 5, 6, 7, 8, 9, 10, 11, 12, 13, 14, 15, 16, 17, 18, 19, 20], \"y\": [0.001967, 0.003549, 0.004457, 0.005907, 0.007471, 0.007623, 0.008117, 0.009831, 0.009335, 0.009241, 0.009591, 0.012066, 0.012019, 0.012627, 0.010633, 0.015128, 0.013996, 0.01394, 0.017092, 0.016847], \"type\": \"scatter\", \"uid\": \"d846f2a4-cf08-11e8-9d12-0242ac110002\"}, {\"mode\": \"lines+markers\", \"name\": \"40000 items\", \"x\": [1, 2, 3, 4, 5, 6, 7, 8, 9, 10, 11, 12, 13, 14, 15, 16, 17, 18, 19, 20], \"y\": [0.004624, 0.007048, 0.007908, 0.008986, 0.010372, 0.010545, 0.012132, 0.012499, 0.012158, 0.014535, 0.014026, 0.013852, 0.014609, 0.01874, 0.019157, 0.01875, 0.019665, 0.018501, 0.020058, 0.022122], \"type\": \"scatter\", \"uid\": \"d846f3a8-cf08-11e8-9d12-0242ac110002\"}, {\"mode\": \"lines+markers\", \"name\": \"80000 items\", \"x\": [1, 2, 3, 4, 5, 6, 7, 8, 9, 10, 11, 12, 13, 14, 15, 16, 17, 18, 19, 20], \"y\": [0.008355, 0.01449, 0.013392, 0.015322, 0.01707, 0.016792, 0.018458, 0.018424, 0.019775, 0.021182, 0.02039, 0.021324, 0.024358, 0.027001, 0.023668, 0.023728, 0.025075, 0.02635, 0.026637, 0.02947], \"type\": \"scatter\", \"uid\": \"d846f4ac-cf08-11e8-9d12-0242ac110002\"}, {\"mode\": \"lines+markers\", \"name\": \"10000000 items\", \"x\": [1, 2, 3, 4, 5, 6, 7, 8, 9, 10, 11, 12, 13, 14, 15, 16, 17, 18, 19, 20], \"y\": [1.23702, 1.124149, 1.040025, 1.130027, 1.183625, 1.269945, 1.386725, 1.405596, 1.475863, 1.493462, 1.474985, 1.511156, 1.519123, 1.527533, 1.529141, 1.522259, 1.568334, 1.558503, 1.591633, 1.549064], \"type\": \"scatter\", \"uid\": \"d846f588-cf08-11e8-9d12-0242ac110002\"}, {\"mode\": \"lines+markers\", \"name\": \"20000000 items\", \"x\": [1, 2, 3, 4, 5, 6, 7, 8, 9, 10, 11, 12, 13, 14, 15, 16, 17, 18, 19, 20], \"y\": [2.278604, 2.139048, 2.04535, 2.245132, 2.414399, 2.611569, 2.784028, 2.875909, 2.942506, 3.110745, 3.009406, 3.028617, 3.038321, 3.023736, 3.019306, 3.052812, 3.119417, 3.093352, 3.103708, 3.11423], \"type\": \"scatter\", \"uid\": \"d846f664-cf08-11e8-9d12-0242ac110002\"}, {\"mode\": \"lines+markers\", \"name\": \"40000000 items\", \"x\": [1, 2, 3, 4, 5, 6, 7, 8, 9, 10, 11, 12, 13, 14, 15, 16, 17, 18, 19, 20], \"y\": [4.710347, 4.160868, 3.777346, 4.463436, 4.658293, 4.861654, 5.411549, 5.63451, 5.766056, 5.903125, 5.887436, 5.937521, 5.949901, 5.9426, 5.939231, 5.909049, 6.012525, 6.052878, 6.065926, 6.064304], \"type\": \"scatter\", \"uid\": \"d846f740-cf08-11e8-9d12-0242ac110002\"}, {\"mode\": \"lines+markers\", \"name\": \"80000000 items\", \"x\": [1, 2, 3, 4, 5, 6, 7, 8, 9, 10, 11, 12, 13, 14, 15, 16, 17, 18, 19, 20], \"y\": [9.697404, 9.038264, 7.728233, 8.708316, 9.404118, 10.050881, 10.691719, 11.182842, 11.56301, 11.763578, 12.401985, 11.822852, 11.902708, 11.996702, 11.934367, 11.909283, 12.122806, 12.137781, 12.242351, 12.247666], \"type\": \"scatter\", \"uid\": \"d846f81c-cf08-11e8-9d12-0242ac110002\"}], {\"showlegend\": true, \"title\": \"plot 3 of quick sort<br>openMP<br>fixed test size\", \"xaxis\": {\"title\": \"number of threads\"}, \"yaxis\": {\"title\": \"runtime(s)\"}}, {\"showLink\": true, \"linkText\": \"Export to plot.ly\"})});</script>"
      ],
      "text/vnd.plotly.v1+html": [
       "<div id=\"767d3f8b-3385-4691-a4d8-40f20410f04c\" style=\"height: 525px; width: 100%;\" class=\"plotly-graph-div\"></div><script type=\"text/javascript\">require([\"plotly\"], function(Plotly) { window.PLOTLYENV=window.PLOTLYENV || {};window.PLOTLYENV.BASE_URL=\"https://plot.ly\";Plotly.newPlot(\"767d3f8b-3385-4691-a4d8-40f20410f04c\", [{\"mode\": \"lines+markers\", \"name\": \"10000 items\", \"x\": [1, 2, 3, 4, 5, 6, 7, 8, 9, 10, 11, 12, 13, 14, 15, 16, 17, 18, 19, 20], \"y\": [0.002593, 0.003488, 0.00384, 0.004845, 0.005419, 0.006169, 0.006861, 0.006549, 0.007164, 0.007155, 0.007934, 0.009611, 0.010433, 0.010583, 0.010932, 0.010194, 0.010821, 0.010598, 0.010735, 0.010861], \"type\": \"scatter\", \"uid\": \"d846f11e-cf08-11e8-9d12-0242ac110002\"}, {\"mode\": \"lines+markers\", \"name\": \"20000 items\", \"x\": [1, 2, 3, 4, 5, 6, 7, 8, 9, 10, 11, 12, 13, 14, 15, 16, 17, 18, 19, 20], \"y\": [0.001967, 0.003549, 0.004457, 0.005907, 0.007471, 0.007623, 0.008117, 0.009831, 0.009335, 0.009241, 0.009591, 0.012066, 0.012019, 0.012627, 0.010633, 0.015128, 0.013996, 0.01394, 0.017092, 0.016847], \"type\": \"scatter\", \"uid\": \"d846f2a4-cf08-11e8-9d12-0242ac110002\"}, {\"mode\": \"lines+markers\", \"name\": \"40000 items\", \"x\": [1, 2, 3, 4, 5, 6, 7, 8, 9, 10, 11, 12, 13, 14, 15, 16, 17, 18, 19, 20], \"y\": [0.004624, 0.007048, 0.007908, 0.008986, 0.010372, 0.010545, 0.012132, 0.012499, 0.012158, 0.014535, 0.014026, 0.013852, 0.014609, 0.01874, 0.019157, 0.01875, 0.019665, 0.018501, 0.020058, 0.022122], \"type\": \"scatter\", \"uid\": \"d846f3a8-cf08-11e8-9d12-0242ac110002\"}, {\"mode\": \"lines+markers\", \"name\": \"80000 items\", \"x\": [1, 2, 3, 4, 5, 6, 7, 8, 9, 10, 11, 12, 13, 14, 15, 16, 17, 18, 19, 20], \"y\": [0.008355, 0.01449, 0.013392, 0.015322, 0.01707, 0.016792, 0.018458, 0.018424, 0.019775, 0.021182, 0.02039, 0.021324, 0.024358, 0.027001, 0.023668, 0.023728, 0.025075, 0.02635, 0.026637, 0.02947], \"type\": \"scatter\", \"uid\": \"d846f4ac-cf08-11e8-9d12-0242ac110002\"}, {\"mode\": \"lines+markers\", \"name\": \"10000000 items\", \"x\": [1, 2, 3, 4, 5, 6, 7, 8, 9, 10, 11, 12, 13, 14, 15, 16, 17, 18, 19, 20], \"y\": [1.23702, 1.124149, 1.040025, 1.130027, 1.183625, 1.269945, 1.386725, 1.405596, 1.475863, 1.493462, 1.474985, 1.511156, 1.519123, 1.527533, 1.529141, 1.522259, 1.568334, 1.558503, 1.591633, 1.549064], \"type\": \"scatter\", \"uid\": \"d846f588-cf08-11e8-9d12-0242ac110002\"}, {\"mode\": \"lines+markers\", \"name\": \"20000000 items\", \"x\": [1, 2, 3, 4, 5, 6, 7, 8, 9, 10, 11, 12, 13, 14, 15, 16, 17, 18, 19, 20], \"y\": [2.278604, 2.139048, 2.04535, 2.245132, 2.414399, 2.611569, 2.784028, 2.875909, 2.942506, 3.110745, 3.009406, 3.028617, 3.038321, 3.023736, 3.019306, 3.052812, 3.119417, 3.093352, 3.103708, 3.11423], \"type\": \"scatter\", \"uid\": \"d846f664-cf08-11e8-9d12-0242ac110002\"}, {\"mode\": \"lines+markers\", \"name\": \"40000000 items\", \"x\": [1, 2, 3, 4, 5, 6, 7, 8, 9, 10, 11, 12, 13, 14, 15, 16, 17, 18, 19, 20], \"y\": [4.710347, 4.160868, 3.777346, 4.463436, 4.658293, 4.861654, 5.411549, 5.63451, 5.766056, 5.903125, 5.887436, 5.937521, 5.949901, 5.9426, 5.939231, 5.909049, 6.012525, 6.052878, 6.065926, 6.064304], \"type\": \"scatter\", \"uid\": \"d846f740-cf08-11e8-9d12-0242ac110002\"}, {\"mode\": \"lines+markers\", \"name\": \"80000000 items\", \"x\": [1, 2, 3, 4, 5, 6, 7, 8, 9, 10, 11, 12, 13, 14, 15, 16, 17, 18, 19, 20], \"y\": [9.697404, 9.038264, 7.728233, 8.708316, 9.404118, 10.050881, 10.691719, 11.182842, 11.56301, 11.763578, 12.401985, 11.822852, 11.902708, 11.996702, 11.934367, 11.909283, 12.122806, 12.137781, 12.242351, 12.247666], \"type\": \"scatter\", \"uid\": \"d846f81c-cf08-11e8-9d12-0242ac110002\"}], {\"showlegend\": true, \"title\": \"plot 3 of quick sort<br>openMP<br>fixed test size\", \"xaxis\": {\"title\": \"number of threads\"}, \"yaxis\": {\"title\": \"runtime(s)\"}}, {\"showLink\": true, \"linkText\": \"Export to plot.ly\"})});</script>"
      ]
     },
     "metadata": {},
     "output_type": "display_data"
    },
    {
     "data": {
      "application/vnd.plotly.v1+json": {
       "data": [
        {
         "mode": "lines+markers",
         "name": "1 threads",
         "type": "scatter",
         "uid": "d84c9e84-cf08-11e8-9d12-0242ac110002",
         "x": [
          1000,
          2000,
          4000,
          8000,
          16000,
          32000,
          64000,
          128000,
          256000,
          512000,
          1024000,
          2048000,
          4096000,
          8192000,
          16384000,
          32768000,
          65536000
         ],
         "y": [
          0.000186,
          0.000402,
          0.000651,
          0.001227,
          0.002782,
          0.005173,
          0.012408,
          0.014123,
          0.027977,
          0.052971,
          0.106254,
          0.222865,
          0.463638,
          0.929461,
          1.862977,
          3.807401,
          7.876285
         ]
        },
        {
         "mode": "lines+markers",
         "name": "2 threads",
         "type": "scatter",
         "uid": "d84ca2e4-cf08-11e8-9d12-0242ac110002",
         "x": [
          1000,
          2000,
          4000,
          8000,
          16000,
          32000,
          64000,
          128000,
          256000,
          512000,
          1024000,
          2048000,
          4096000,
          8192000,
          16384000,
          32768000,
          65536000
         ],
         "y": [
          0.001029,
          0.001367,
          0.002037,
          0.002573,
          0.004544,
          0.008289,
          0.011294,
          0.024563,
          0.037676,
          0.069195,
          0.123026,
          0.254122,
          0.444297,
          0.846033,
          1.794416,
          3.387363,
          7.142457
         ]
        },
        {
         "mode": "lines+markers",
         "name": "3 threads",
         "type": "scatter",
         "uid": "d84ca3f2-cf08-11e8-9d12-0242ac110002",
         "x": [
          1000,
          2000,
          4000,
          8000,
          16000,
          32000,
          64000,
          128000,
          256000,
          512000,
          1024000,
          2048000,
          4096000,
          8192000,
          16384000,
          32768000,
          65536000
         ],
         "y": [
          0.001162,
          0.001851,
          0.002321,
          0.002917,
          0.005765,
          0.007108,
          0.012801,
          0.022979,
          0.035778,
          0.060212,
          0.115338,
          0.236954,
          0.435369,
          0.832391,
          1.784085,
          3.325282,
          6.55193
         ]
        },
        {
         "mode": "lines+markers",
         "name": "4 threads",
         "type": "scatter",
         "uid": "d84ca4d8-cf08-11e8-9d12-0242ac110002",
         "x": [
          1000,
          2000,
          4000,
          8000,
          16000,
          32000,
          64000,
          128000,
          256000,
          512000,
          1024000,
          2048000,
          4096000,
          8192000,
          16384000,
          32768000,
          65536000
         ],
         "y": [
          0.001363,
          0.002159,
          0.002833,
          0.004008,
          0.007095,
          0.007495,
          0.013146,
          0.021107,
          0.037352,
          0.066106,
          0.123079,
          0.252261,
          0.46402,
          0.866065,
          1.85965,
          3.486991,
          7.040456
         ]
        },
        {
         "mode": "lines+markers",
         "name": "5 threads",
         "type": "scatter",
         "uid": "d84ca5b4-cf08-11e8-9d12-0242ac110002",
         "x": [
          1000,
          2000,
          4000,
          8000,
          16000,
          32000,
          64000,
          128000,
          256000,
          512000,
          1024000,
          2048000,
          4096000,
          8192000,
          16384000,
          32768000,
          65536000
         ],
         "y": [
          0.001352,
          0.00252,
          0.00366,
          0.004695,
          0.008254,
          0.007443,
          0.015795,
          0.023985,
          0.040464,
          0.067734,
          0.136678,
          0.26227,
          0.497252,
          0.977931,
          1.932791,
          3.83972,
          7.731217
         ]
        },
        {
         "mode": "lines+markers",
         "name": "6 threads",
         "type": "scatter",
         "uid": "d84ca686-cf08-11e8-9d12-0242ac110002",
         "x": [
          1000,
          2000,
          4000,
          8000,
          16000,
          32000,
          64000,
          128000,
          256000,
          512000,
          1024000,
          2048000,
          4096000,
          8192000,
          16384000,
          32768000,
          65536000
         ],
         "y": [
          0.00122,
          0.002119,
          0.004129,
          0.005378,
          0.007827,
          0.009299,
          0.01472,
          0.02493,
          0.043511,
          0.075464,
          0.140878,
          0.279589,
          0.530018,
          1.028193,
          2.140085,
          4.129067,
          8.284485
         ]
        }
       ],
       "layout": {
        "showlegend": true,
        "title": "plot 4 of quick sort<br>openMP<br>fixed seed: 123456",
        "xaxis": {
         "title": "size of test"
        },
        "yaxis": {
         "title": "runtime(s)"
        }
       }
      },
      "text/html": [
       "<div id=\"b5877f9e-bbd8-42b0-8b62-bad3955cbee5\" style=\"height: 525px; width: 100%;\" class=\"plotly-graph-div\"></div><script type=\"text/javascript\">require([\"plotly\"], function(Plotly) { window.PLOTLYENV=window.PLOTLYENV || {};window.PLOTLYENV.BASE_URL=\"https://plot.ly\";Plotly.newPlot(\"b5877f9e-bbd8-42b0-8b62-bad3955cbee5\", [{\"mode\": \"lines+markers\", \"name\": \"1 threads\", \"x\": [1000, 2000, 4000, 8000, 16000, 32000, 64000, 128000, 256000, 512000, 1024000, 2048000, 4096000, 8192000, 16384000, 32768000, 65536000], \"y\": [0.000186, 0.000402, 0.000651, 0.001227, 0.002782, 0.005173, 0.012408, 0.014123, 0.027977, 0.052971, 0.106254, 0.222865, 0.463638, 0.929461, 1.862977, 3.807401, 7.876285], \"type\": \"scatter\", \"uid\": \"d8507446-cf08-11e8-9d12-0242ac110002\"}, {\"mode\": \"lines+markers\", \"name\": \"2 threads\", \"x\": [1000, 2000, 4000, 8000, 16000, 32000, 64000, 128000, 256000, 512000, 1024000, 2048000, 4096000, 8192000, 16384000, 32768000, 65536000], \"y\": [0.001029, 0.001367, 0.002037, 0.002573, 0.004544, 0.008289, 0.011294, 0.024563, 0.037676, 0.069195, 0.123026, 0.254122, 0.444297, 0.846033, 1.794416, 3.387363, 7.142457], \"type\": \"scatter\", \"uid\": \"d85075b8-cf08-11e8-9d12-0242ac110002\"}, {\"mode\": \"lines+markers\", \"name\": \"3 threads\", \"x\": [1000, 2000, 4000, 8000, 16000, 32000, 64000, 128000, 256000, 512000, 1024000, 2048000, 4096000, 8192000, 16384000, 32768000, 65536000], \"y\": [0.001162, 0.001851, 0.002321, 0.002917, 0.005765, 0.007108, 0.012801, 0.022979, 0.035778, 0.060212, 0.115338, 0.236954, 0.435369, 0.832391, 1.784085, 3.325282, 6.55193], \"type\": \"scatter\", \"uid\": \"d85076bc-cf08-11e8-9d12-0242ac110002\"}, {\"mode\": \"lines+markers\", \"name\": \"4 threads\", \"x\": [1000, 2000, 4000, 8000, 16000, 32000, 64000, 128000, 256000, 512000, 1024000, 2048000, 4096000, 8192000, 16384000, 32768000, 65536000], \"y\": [0.001363, 0.002159, 0.002833, 0.004008, 0.007095, 0.007495, 0.013146, 0.021107, 0.037352, 0.066106, 0.123079, 0.252261, 0.46402, 0.866065, 1.85965, 3.486991, 7.040456], \"type\": \"scatter\", \"uid\": \"d85077a2-cf08-11e8-9d12-0242ac110002\"}, {\"mode\": \"lines+markers\", \"name\": \"5 threads\", \"x\": [1000, 2000, 4000, 8000, 16000, 32000, 64000, 128000, 256000, 512000, 1024000, 2048000, 4096000, 8192000, 16384000, 32768000, 65536000], \"y\": [0.001352, 0.00252, 0.00366, 0.004695, 0.008254, 0.007443, 0.015795, 0.023985, 0.040464, 0.067734, 0.136678, 0.26227, 0.497252, 0.977931, 1.932791, 3.83972, 7.731217], \"type\": \"scatter\", \"uid\": \"d850787e-cf08-11e8-9d12-0242ac110002\"}, {\"mode\": \"lines+markers\", \"name\": \"6 threads\", \"x\": [1000, 2000, 4000, 8000, 16000, 32000, 64000, 128000, 256000, 512000, 1024000, 2048000, 4096000, 8192000, 16384000, 32768000, 65536000], \"y\": [0.00122, 0.002119, 0.004129, 0.005378, 0.007827, 0.009299, 0.01472, 0.02493, 0.043511, 0.075464, 0.140878, 0.279589, 0.530018, 1.028193, 2.140085, 4.129067, 8.284485], \"type\": \"scatter\", \"uid\": \"d8507950-cf08-11e8-9d12-0242ac110002\"}], {\"showlegend\": true, \"title\": \"plot 4 of quick sort<br>openMP<br>fixed seed: 123456\", \"xaxis\": {\"title\": \"size of test\"}, \"yaxis\": {\"title\": \"runtime(s)\"}}, {\"showLink\": true, \"linkText\": \"Export to plot.ly\"})});</script>"
      ],
      "text/vnd.plotly.v1+html": [
       "<div id=\"b5877f9e-bbd8-42b0-8b62-bad3955cbee5\" style=\"height: 525px; width: 100%;\" class=\"plotly-graph-div\"></div><script type=\"text/javascript\">require([\"plotly\"], function(Plotly) { window.PLOTLYENV=window.PLOTLYENV || {};window.PLOTLYENV.BASE_URL=\"https://plot.ly\";Plotly.newPlot(\"b5877f9e-bbd8-42b0-8b62-bad3955cbee5\", [{\"mode\": \"lines+markers\", \"name\": \"1 threads\", \"x\": [1000, 2000, 4000, 8000, 16000, 32000, 64000, 128000, 256000, 512000, 1024000, 2048000, 4096000, 8192000, 16384000, 32768000, 65536000], \"y\": [0.000186, 0.000402, 0.000651, 0.001227, 0.002782, 0.005173, 0.012408, 0.014123, 0.027977, 0.052971, 0.106254, 0.222865, 0.463638, 0.929461, 1.862977, 3.807401, 7.876285], \"type\": \"scatter\", \"uid\": \"d8507446-cf08-11e8-9d12-0242ac110002\"}, {\"mode\": \"lines+markers\", \"name\": \"2 threads\", \"x\": [1000, 2000, 4000, 8000, 16000, 32000, 64000, 128000, 256000, 512000, 1024000, 2048000, 4096000, 8192000, 16384000, 32768000, 65536000], \"y\": [0.001029, 0.001367, 0.002037, 0.002573, 0.004544, 0.008289, 0.011294, 0.024563, 0.037676, 0.069195, 0.123026, 0.254122, 0.444297, 0.846033, 1.794416, 3.387363, 7.142457], \"type\": \"scatter\", \"uid\": \"d85075b8-cf08-11e8-9d12-0242ac110002\"}, {\"mode\": \"lines+markers\", \"name\": \"3 threads\", \"x\": [1000, 2000, 4000, 8000, 16000, 32000, 64000, 128000, 256000, 512000, 1024000, 2048000, 4096000, 8192000, 16384000, 32768000, 65536000], \"y\": [0.001162, 0.001851, 0.002321, 0.002917, 0.005765, 0.007108, 0.012801, 0.022979, 0.035778, 0.060212, 0.115338, 0.236954, 0.435369, 0.832391, 1.784085, 3.325282, 6.55193], \"type\": \"scatter\", \"uid\": \"d85076bc-cf08-11e8-9d12-0242ac110002\"}, {\"mode\": \"lines+markers\", \"name\": \"4 threads\", \"x\": [1000, 2000, 4000, 8000, 16000, 32000, 64000, 128000, 256000, 512000, 1024000, 2048000, 4096000, 8192000, 16384000, 32768000, 65536000], \"y\": [0.001363, 0.002159, 0.002833, 0.004008, 0.007095, 0.007495, 0.013146, 0.021107, 0.037352, 0.066106, 0.123079, 0.252261, 0.46402, 0.866065, 1.85965, 3.486991, 7.040456], \"type\": \"scatter\", \"uid\": \"d85077a2-cf08-11e8-9d12-0242ac110002\"}, {\"mode\": \"lines+markers\", \"name\": \"5 threads\", \"x\": [1000, 2000, 4000, 8000, 16000, 32000, 64000, 128000, 256000, 512000, 1024000, 2048000, 4096000, 8192000, 16384000, 32768000, 65536000], \"y\": [0.001352, 0.00252, 0.00366, 0.004695, 0.008254, 0.007443, 0.015795, 0.023985, 0.040464, 0.067734, 0.136678, 0.26227, 0.497252, 0.977931, 1.932791, 3.83972, 7.731217], \"type\": \"scatter\", \"uid\": \"d850787e-cf08-11e8-9d12-0242ac110002\"}, {\"mode\": \"lines+markers\", \"name\": \"6 threads\", \"x\": [1000, 2000, 4000, 8000, 16000, 32000, 64000, 128000, 256000, 512000, 1024000, 2048000, 4096000, 8192000, 16384000, 32768000, 65536000], \"y\": [0.00122, 0.002119, 0.004129, 0.005378, 0.007827, 0.009299, 0.01472, 0.02493, 0.043511, 0.075464, 0.140878, 0.279589, 0.530018, 1.028193, 2.140085, 4.129067, 8.284485], \"type\": \"scatter\", \"uid\": \"d8507950-cf08-11e8-9d12-0242ac110002\"}], {\"showlegend\": true, \"title\": \"plot 4 of quick sort<br>openMP<br>fixed seed: 123456\", \"xaxis\": {\"title\": \"size of test\"}, \"yaxis\": {\"title\": \"runtime(s)\"}}, {\"showLink\": true, \"linkText\": \"Export to plot.ly\"})});</script>"
      ]
     },
     "metadata": {},
     "output_type": "display_data"
    }
   ],
   "source": [
    "iplot({\n",
    "    \"data\": trace_openmp_testsize,\n",
    "    \"layout\": go.Layout(title=\"plot 3 of quick sort<br>openMP<br>fixed test size\", \n",
    "                        xaxis=dict(title='number of threads'),\n",
    "                        yaxis=dict(title='runtime(s)'),\n",
    "                        showlegend=True,\n",
    "                       )\n",
    "})\n",
    "\n",
    "iplot({\n",
    "    \"data\": trace_openmp_seed,\n",
    "    \"layout\": go.Layout(title=\"plot 4 of quick sort<br>openMP<br>fixed seed: 123456\", \n",
    "                        xaxis=dict(title='size of test'),\n",
    "                        yaxis=dict(title='runtime(s)'),\n",
    "                        showlegend=True,\n",
    "                       )\n",
    "})"
   ]
  },
  {
   "cell_type": "markdown",
   "metadata": {},
   "source": [
    "# MPI\n",
    "\n",
    "### 任务划分\n",
    "\n",
    "### 数据划分"
   ]
  },
  {
   "cell_type": "code",
   "execution_count": 10,
   "metadata": {},
   "outputs": [
    {
     "data": {
      "application/vnd.plotly.v1+json": {
       "data": [
        {
         "mode": "text",
         "text": [
          "8",
          "9",
          "10",
          "11",
          "12",
          "13",
          "14",
          "15",
          "4",
          "5",
          "6",
          "7",
          "2",
          "3",
          "1"
         ],
         "type": "scatter",
         "uid": "e2be8f16-cf04-11e8-9d12-0242ac110002",
         "x": [
          2.5,
          6.5,
          10.5,
          14.5,
          18.5,
          22.5,
          26.5,
          30.5,
          4.5,
          12.5,
          20.5,
          28.5,
          8.5,
          24.5,
          16.5
         ],
         "y": [
          1.5,
          1.5,
          1.5,
          1.5,
          1.5,
          1.5,
          1.5,
          1.5,
          3.5,
          3.5,
          3.5,
          3.5,
          5.5,
          5.5,
          7.5
         ]
        }
       ],
       "layout": {
        "shapes": [
         {
          "fillcolor": "gray",
          "line": {
           "color": "rgba(128, 0, 128, 1)",
           "width": 2
          },
          "opacity": 0.3,
          "type": "rect",
          "x0": 1,
          "x1": 4,
          "y0": 1,
          "y1": 2
         },
         {
          "fillcolor": "gray",
          "line": {
           "color": "rgba(128, 0, 128, 1)",
           "width": 2
          },
          "opacity": 0.3,
          "type": "rect",
          "x0": 5,
          "x1": 8,
          "y0": 1,
          "y1": 2
         },
         {
          "fillcolor": "gray",
          "line": {
           "color": "rgba(128, 0, 128, 1)",
           "width": 2
          },
          "opacity": 0.3,
          "type": "rect",
          "x0": 9,
          "x1": 12,
          "y0": 1,
          "y1": 2
         },
         {
          "fillcolor": "gray",
          "line": {
           "color": "rgba(128, 0, 128, 1)",
           "width": 2
          },
          "opacity": 0.3,
          "type": "rect",
          "x0": 13,
          "x1": 16,
          "y0": 1,
          "y1": 2
         },
         {
          "fillcolor": "gray",
          "line": {
           "color": "rgba(128, 0, 128, 1)",
           "width": 2
          },
          "opacity": 0.3,
          "type": "rect",
          "x0": 17,
          "x1": 20,
          "y0": 1,
          "y1": 2
         },
         {
          "fillcolor": "gray",
          "line": {
           "color": "rgba(128, 0, 128, 1)",
           "width": 2
          },
          "opacity": 0.3,
          "type": "rect",
          "x0": 21,
          "x1": 24,
          "y0": 1,
          "y1": 2
         },
         {
          "fillcolor": "gray",
          "line": {
           "color": "rgba(128, 0, 128, 1)",
           "width": 2
          },
          "opacity": 0.3,
          "type": "rect",
          "x0": 25,
          "x1": 28,
          "y0": 1,
          "y1": 2
         },
         {
          "fillcolor": "gray",
          "line": {
           "color": "rgba(128, 0, 128, 1)",
           "width": 2
          },
          "opacity": 0.3,
          "type": "rect",
          "x0": 29,
          "x1": 32,
          "y0": 1,
          "y1": 2
         },
         {
          "fillcolor": "gray",
          "line": {
           "color": "rgba(128, 0, 128, 1)",
           "width": 2
          },
          "opacity": 0.3,
          "type": "rect",
          "x0": 1,
          "x1": 8,
          "y0": 3,
          "y1": 4
         },
         {
          "fillcolor": "gray",
          "line": {
           "color": "rgba(128, 0, 128, 1)",
           "width": 2
          },
          "opacity": 0.3,
          "type": "rect",
          "x0": 9,
          "x1": 16,
          "y0": 3,
          "y1": 4
         },
         {
          "fillcolor": "gray",
          "line": {
           "color": "rgba(128, 0, 128, 1)",
           "width": 2
          },
          "opacity": 0.3,
          "type": "rect",
          "x0": 17,
          "x1": 24,
          "y0": 3,
          "y1": 4
         },
         {
          "fillcolor": "gray",
          "line": {
           "color": "rgba(128, 0, 128, 1)",
           "width": 2
          },
          "opacity": 0.3,
          "type": "rect",
          "x0": 25,
          "x1": 32,
          "y0": 3,
          "y1": 4
         },
         {
          "fillcolor": "gray",
          "line": {
           "color": "rgba(128, 0, 128, 1)",
           "width": 2
          },
          "opacity": 0.3,
          "type": "rect",
          "x0": 1,
          "x1": 16,
          "y0": 5,
          "y1": 6
         },
         {
          "fillcolor": "gray",
          "line": {
           "color": "rgba(128, 0, 128, 1)",
           "width": 2
          },
          "opacity": 0.3,
          "type": "rect",
          "x0": 17,
          "x1": 32,
          "y0": 5,
          "y1": 6
         },
         {
          "fillcolor": "gray",
          "line": {
           "color": "rgba(128, 0, 128, 1)",
           "width": 2
          },
          "opacity": 0.3,
          "type": "rect",
          "x0": 1,
          "x1": 32,
          "y0": 7,
          "y1": 8
         }
        ],
        "xaxis": {
         "range": [
          0,
          35
         ],
         "showgrid": false,
         "showline": false,
         "showticklabels": false,
         "ticks": "",
         "zeroline": false
        },
        "yaxis": {
         "range": [
          0,
          10
         ],
         "showgrid": false,
         "showline": false,
         "showticklabels": false,
         "ticks": "",
         "zeroline": false
        }
       }
      },
      "text/html": [
       "<div id=\"b17e272d-5d2d-4e60-85fd-182b7040c415\" style=\"height: 525px; width: 100%;\" class=\"plotly-graph-div\"></div><script type=\"text/javascript\">require([\"plotly\"], function(Plotly) { window.PLOTLYENV=window.PLOTLYENV || {};window.PLOTLYENV.BASE_URL=\"https://plot.ly\";Plotly.newPlot(\"b17e272d-5d2d-4e60-85fd-182b7040c415\", [{\"mode\": \"text\", \"text\": [\"8\", \"9\", \"10\", \"11\", \"12\", \"13\", \"14\", \"15\", \"4\", \"5\", \"6\", \"7\", \"2\", \"3\", \"1\"], \"x\": [2.5, 6.5, 10.5, 14.5, 18.5, 22.5, 26.5, 30.5, 4.5, 12.5, 20.5, 28.5, 8.5, 24.5, 16.5], \"y\": [1.5, 1.5, 1.5, 1.5, 1.5, 1.5, 1.5, 1.5, 3.5, 3.5, 3.5, 3.5, 5.5, 5.5, 7.5], \"type\": \"scatter\", \"uid\": \"e2c23260-cf04-11e8-9d12-0242ac110002\"}], {\"shapes\": [{\"fillcolor\": \"gray\", \"line\": {\"color\": \"rgba(128, 0, 128, 1)\", \"width\": 2}, \"opacity\": 0.3, \"type\": \"rect\", \"x0\": 1, \"x1\": 4, \"y0\": 1, \"y1\": 2}, {\"fillcolor\": \"gray\", \"line\": {\"color\": \"rgba(128, 0, 128, 1)\", \"width\": 2}, \"opacity\": 0.3, \"type\": \"rect\", \"x0\": 5, \"x1\": 8, \"y0\": 1, \"y1\": 2}, {\"fillcolor\": \"gray\", \"line\": {\"color\": \"rgba(128, 0, 128, 1)\", \"width\": 2}, \"opacity\": 0.3, \"type\": \"rect\", \"x0\": 9, \"x1\": 12, \"y0\": 1, \"y1\": 2}, {\"fillcolor\": \"gray\", \"line\": {\"color\": \"rgba(128, 0, 128, 1)\", \"width\": 2}, \"opacity\": 0.3, \"type\": \"rect\", \"x0\": 13, \"x1\": 16, \"y0\": 1, \"y1\": 2}, {\"fillcolor\": \"gray\", \"line\": {\"color\": \"rgba(128, 0, 128, 1)\", \"width\": 2}, \"opacity\": 0.3, \"type\": \"rect\", \"x0\": 17, \"x1\": 20, \"y0\": 1, \"y1\": 2}, {\"fillcolor\": \"gray\", \"line\": {\"color\": \"rgba(128, 0, 128, 1)\", \"width\": 2}, \"opacity\": 0.3, \"type\": \"rect\", \"x0\": 21, \"x1\": 24, \"y0\": 1, \"y1\": 2}, {\"fillcolor\": \"gray\", \"line\": {\"color\": \"rgba(128, 0, 128, 1)\", \"width\": 2}, \"opacity\": 0.3, \"type\": \"rect\", \"x0\": 25, \"x1\": 28, \"y0\": 1, \"y1\": 2}, {\"fillcolor\": \"gray\", \"line\": {\"color\": \"rgba(128, 0, 128, 1)\", \"width\": 2}, \"opacity\": 0.3, \"type\": \"rect\", \"x0\": 29, \"x1\": 32, \"y0\": 1, \"y1\": 2}, {\"fillcolor\": \"gray\", \"line\": {\"color\": \"rgba(128, 0, 128, 1)\", \"width\": 2}, \"opacity\": 0.3, \"type\": \"rect\", \"x0\": 1, \"x1\": 8, \"y0\": 3, \"y1\": 4}, {\"fillcolor\": \"gray\", \"line\": {\"color\": \"rgba(128, 0, 128, 1)\", \"width\": 2}, \"opacity\": 0.3, \"type\": \"rect\", \"x0\": 9, \"x1\": 16, \"y0\": 3, \"y1\": 4}, {\"fillcolor\": \"gray\", \"line\": {\"color\": \"rgba(128, 0, 128, 1)\", \"width\": 2}, \"opacity\": 0.3, \"type\": \"rect\", \"x0\": 17, \"x1\": 24, \"y0\": 3, \"y1\": 4}, {\"fillcolor\": \"gray\", \"line\": {\"color\": \"rgba(128, 0, 128, 1)\", \"width\": 2}, \"opacity\": 0.3, \"type\": \"rect\", \"x0\": 25, \"x1\": 32, \"y0\": 3, \"y1\": 4}, {\"fillcolor\": \"gray\", \"line\": {\"color\": \"rgba(128, 0, 128, 1)\", \"width\": 2}, \"opacity\": 0.3, \"type\": \"rect\", \"x0\": 1, \"x1\": 16, \"y0\": 5, \"y1\": 6}, {\"fillcolor\": \"gray\", \"line\": {\"color\": \"rgba(128, 0, 128, 1)\", \"width\": 2}, \"opacity\": 0.3, \"type\": \"rect\", \"x0\": 17, \"x1\": 32, \"y0\": 5, \"y1\": 6}, {\"fillcolor\": \"gray\", \"line\": {\"color\": \"rgba(128, 0, 128, 1)\", \"width\": 2}, \"opacity\": 0.3, \"type\": \"rect\", \"x0\": 1, \"x1\": 32, \"y0\": 7, \"y1\": 8}], \"xaxis\": {\"range\": [0, 35], \"showgrid\": false, \"showline\": false, \"showticklabels\": false, \"ticks\": \"\", \"zeroline\": false}, \"yaxis\": {\"range\": [0, 10], \"showgrid\": false, \"showline\": false, \"showticklabels\": false, \"ticks\": \"\", \"zeroline\": false}}, {\"showLink\": true, \"linkText\": \"Export to plot.ly\"})});</script>"
      ],
      "text/vnd.plotly.v1+html": [
       "<div id=\"b17e272d-5d2d-4e60-85fd-182b7040c415\" style=\"height: 525px; width: 100%;\" class=\"plotly-graph-div\"></div><script type=\"text/javascript\">require([\"plotly\"], function(Plotly) { window.PLOTLYENV=window.PLOTLYENV || {};window.PLOTLYENV.BASE_URL=\"https://plot.ly\";Plotly.newPlot(\"b17e272d-5d2d-4e60-85fd-182b7040c415\", [{\"mode\": \"text\", \"text\": [\"8\", \"9\", \"10\", \"11\", \"12\", \"13\", \"14\", \"15\", \"4\", \"5\", \"6\", \"7\", \"2\", \"3\", \"1\"], \"x\": [2.5, 6.5, 10.5, 14.5, 18.5, 22.5, 26.5, 30.5, 4.5, 12.5, 20.5, 28.5, 8.5, 24.5, 16.5], \"y\": [1.5, 1.5, 1.5, 1.5, 1.5, 1.5, 1.5, 1.5, 3.5, 3.5, 3.5, 3.5, 5.5, 5.5, 7.5], \"type\": \"scatter\", \"uid\": \"e2c23260-cf04-11e8-9d12-0242ac110002\"}], {\"shapes\": [{\"fillcolor\": \"gray\", \"line\": {\"color\": \"rgba(128, 0, 128, 1)\", \"width\": 2}, \"opacity\": 0.3, \"type\": \"rect\", \"x0\": 1, \"x1\": 4, \"y0\": 1, \"y1\": 2}, {\"fillcolor\": \"gray\", \"line\": {\"color\": \"rgba(128, 0, 128, 1)\", \"width\": 2}, \"opacity\": 0.3, \"type\": \"rect\", \"x0\": 5, \"x1\": 8, \"y0\": 1, \"y1\": 2}, {\"fillcolor\": \"gray\", \"line\": {\"color\": \"rgba(128, 0, 128, 1)\", \"width\": 2}, \"opacity\": 0.3, \"type\": \"rect\", \"x0\": 9, \"x1\": 12, \"y0\": 1, \"y1\": 2}, {\"fillcolor\": \"gray\", \"line\": {\"color\": \"rgba(128, 0, 128, 1)\", \"width\": 2}, \"opacity\": 0.3, \"type\": \"rect\", \"x0\": 13, \"x1\": 16, \"y0\": 1, \"y1\": 2}, {\"fillcolor\": \"gray\", \"line\": {\"color\": \"rgba(128, 0, 128, 1)\", \"width\": 2}, \"opacity\": 0.3, \"type\": \"rect\", \"x0\": 17, \"x1\": 20, \"y0\": 1, \"y1\": 2}, {\"fillcolor\": \"gray\", \"line\": {\"color\": \"rgba(128, 0, 128, 1)\", \"width\": 2}, \"opacity\": 0.3, \"type\": \"rect\", \"x0\": 21, \"x1\": 24, \"y0\": 1, \"y1\": 2}, {\"fillcolor\": \"gray\", \"line\": {\"color\": \"rgba(128, 0, 128, 1)\", \"width\": 2}, \"opacity\": 0.3, \"type\": \"rect\", \"x0\": 25, \"x1\": 28, \"y0\": 1, \"y1\": 2}, {\"fillcolor\": \"gray\", \"line\": {\"color\": \"rgba(128, 0, 128, 1)\", \"width\": 2}, \"opacity\": 0.3, \"type\": \"rect\", \"x0\": 29, \"x1\": 32, \"y0\": 1, \"y1\": 2}, {\"fillcolor\": \"gray\", \"line\": {\"color\": \"rgba(128, 0, 128, 1)\", \"width\": 2}, \"opacity\": 0.3, \"type\": \"rect\", \"x0\": 1, \"x1\": 8, \"y0\": 3, \"y1\": 4}, {\"fillcolor\": \"gray\", \"line\": {\"color\": \"rgba(128, 0, 128, 1)\", \"width\": 2}, \"opacity\": 0.3, \"type\": \"rect\", \"x0\": 9, \"x1\": 16, \"y0\": 3, \"y1\": 4}, {\"fillcolor\": \"gray\", \"line\": {\"color\": \"rgba(128, 0, 128, 1)\", \"width\": 2}, \"opacity\": 0.3, \"type\": \"rect\", \"x0\": 17, \"x1\": 24, \"y0\": 3, \"y1\": 4}, {\"fillcolor\": \"gray\", \"line\": {\"color\": \"rgba(128, 0, 128, 1)\", \"width\": 2}, \"opacity\": 0.3, \"type\": \"rect\", \"x0\": 25, \"x1\": 32, \"y0\": 3, \"y1\": 4}, {\"fillcolor\": \"gray\", \"line\": {\"color\": \"rgba(128, 0, 128, 1)\", \"width\": 2}, \"opacity\": 0.3, \"type\": \"rect\", \"x0\": 1, \"x1\": 16, \"y0\": 5, \"y1\": 6}, {\"fillcolor\": \"gray\", \"line\": {\"color\": \"rgba(128, 0, 128, 1)\", \"width\": 2}, \"opacity\": 0.3, \"type\": \"rect\", \"x0\": 17, \"x1\": 32, \"y0\": 5, \"y1\": 6}, {\"fillcolor\": \"gray\", \"line\": {\"color\": \"rgba(128, 0, 128, 1)\", \"width\": 2}, \"opacity\": 0.3, \"type\": \"rect\", \"x0\": 1, \"x1\": 32, \"y0\": 7, \"y1\": 8}], \"xaxis\": {\"range\": [0, 35], \"showgrid\": false, \"showline\": false, \"showticklabels\": false, \"ticks\": \"\", \"zeroline\": false}, \"yaxis\": {\"range\": [0, 10], \"showgrid\": false, \"showline\": false, \"showticklabels\": false, \"ticks\": \"\", \"zeroline\": false}}, {\"showLink\": true, \"linkText\": \"Export to plot.ly\"})});</script>"
      ]
     },
     "metadata": {},
     "output_type": "display_data"
    }
   ],
   "source": [
    "def gen_shapes(stx, sty, width, height, n, gapx=1):\n",
    "    ret = []\n",
    "    point_x = []\n",
    "    point_y = []\n",
    "    edy = sty + height\n",
    "    for i in range(n):\n",
    "        x = stx + i * (width + gapx)\n",
    "        edx = x + width\n",
    "        ret.append({\n",
    "            'type': 'rect',\n",
    "            'x0': x,\n",
    "            'y0': sty,\n",
    "            'x1': edx,\n",
    "            'y1': edy,\n",
    "            'line': {\n",
    "                'color': 'rgba(128, 0, 128, 1)',\n",
    "                'width': 2,\n",
    "            },\n",
    "            'fillcolor': 'gray',\n",
    "            'opacity': 0.3,\n",
    "        })\n",
    "        point_x.append(x / 2 + edx / 2)\n",
    "        point_y.append(sty / 2 + edy / 2)\n",
    "    return ret, point_x, point_y\n",
    "\n",
    "def gen_all_shapes(stx, sty, base_width, base_height, n, gapx, gapy):\n",
    "    ret = []\n",
    "    point_x = []\n",
    "    point_y = []\n",
    "    for i in range(n):\n",
    "        l = 2 ** (n - i - 1)\n",
    "        cnt = 2 ** i\n",
    "        curx = stx\n",
    "        cury = sty + i * (base_height + gapy)\n",
    "        width = cnt * (base_width + gapx) - gapx\n",
    "        shapes, px, py = gen_shapes(curx, cury, width, base_height, l, gapx)\n",
    "        ret.extend(shapes)\n",
    "        point_x.extend(px)\n",
    "        point_y.extend(py)\n",
    "    return ret, point_x, point_y\n",
    "\n",
    "shapes, x, y = gen_all_shapes(1, 1, 3, 1, 4, 1, 1)\n",
    "text = []\n",
    "for i in range(4):\n",
    "    l = 2 ** (3 - i)\n",
    "    for j in range(l, l + l):\n",
    "        text.append(j)\n",
    "\n",
    "trace0 = go.Scatter(\n",
    "    x=x,\n",
    "    y=y,\n",
    "    text=text,\n",
    "    mode='text',\n",
    ")\n",
    "data = [trace0]\n",
    "\n",
    "layout = {\n",
    "    'xaxis': {\n",
    "        'range': [0, 35],\n",
    "        'showgrid': False,\n",
    "        'zeroline': False,\n",
    "        'showline': False,\n",
    "        'ticks': '',\n",
    "        'showticklabels': False,\n",
    "    },\n",
    "    'yaxis': {\n",
    "        'range': [0, 10],\n",
    "        'showgrid': False,\n",
    "        'zeroline': False,\n",
    "        'showline': False,\n",
    "        'ticks': '',\n",
    "        'showticklabels': False,\n",
    "    },\n",
    "    'shapes': shapes,\n",
    "}\n",
    "fig = {\n",
    "    'data': data,\n",
    "    'layout': layout,\n",
    "}\n",
    "iplot(fig)"
   ]
  },
  {
   "cell_type": "code",
   "execution_count": 11,
   "metadata": {},
   "outputs": [
    {
     "data": {
      "application/vnd.plotly.v1+json": {
       "data": [
        {
         "mode": "text",
         "text": [
          "1",
          "5",
          "3",
          "6",
          "2",
          "7",
          "4",
          "8",
          "1",
          "3",
          "2",
          "4",
          "1",
          "2",
          "1"
         ],
         "type": "scatter",
         "uid": "e2c62d20-cf04-11e8-9d12-0242ac110002",
         "x": [
          2.5,
          6.5,
          10.5,
          14.5,
          18.5,
          22.5,
          26.5,
          30.5,
          4.5,
          12.5,
          20.5,
          28.5,
          8.5,
          24.5,
          16.5
         ],
         "y": [
          1.5,
          1.5,
          1.5,
          1.5,
          1.5,
          1.5,
          1.5,
          1.5,
          3.5,
          3.5,
          3.5,
          3.5,
          5.5,
          5.5,
          7.5
         ]
        }
       ],
       "layout": {
        "shapes": [
         {
          "fillcolor": "gray",
          "line": {
           "color": "rgba(128, 0, 128, 1)",
           "width": 2
          },
          "opacity": 0.3,
          "type": "rect",
          "x0": 1,
          "x1": 4,
          "y0": 1,
          "y1": 2
         },
         {
          "fillcolor": "gray",
          "line": {
           "color": "rgba(128, 0, 128, 1)",
           "width": 2
          },
          "opacity": 0.3,
          "type": "rect",
          "x0": 5,
          "x1": 8,
          "y0": 1,
          "y1": 2
         },
         {
          "fillcolor": "gray",
          "line": {
           "color": "rgba(128, 0, 128, 1)",
           "width": 2
          },
          "opacity": 0.3,
          "type": "rect",
          "x0": 9,
          "x1": 12,
          "y0": 1,
          "y1": 2
         },
         {
          "fillcolor": "gray",
          "line": {
           "color": "rgba(128, 0, 128, 1)",
           "width": 2
          },
          "opacity": 0.3,
          "type": "rect",
          "x0": 13,
          "x1": 16,
          "y0": 1,
          "y1": 2
         },
         {
          "fillcolor": "gray",
          "line": {
           "color": "rgba(128, 0, 128, 1)",
           "width": 2
          },
          "opacity": 0.3,
          "type": "rect",
          "x0": 17,
          "x1": 20,
          "y0": 1,
          "y1": 2
         },
         {
          "fillcolor": "gray",
          "line": {
           "color": "rgba(128, 0, 128, 1)",
           "width": 2
          },
          "opacity": 0.3,
          "type": "rect",
          "x0": 21,
          "x1": 24,
          "y0": 1,
          "y1": 2
         },
         {
          "fillcolor": "gray",
          "line": {
           "color": "rgba(128, 0, 128, 1)",
           "width": 2
          },
          "opacity": 0.3,
          "type": "rect",
          "x0": 25,
          "x1": 28,
          "y0": 1,
          "y1": 2
         },
         {
          "fillcolor": "gray",
          "line": {
           "color": "rgba(128, 0, 128, 1)",
           "width": 2
          },
          "opacity": 0.3,
          "type": "rect",
          "x0": 29,
          "x1": 32,
          "y0": 1,
          "y1": 2
         },
         {
          "fillcolor": "gray",
          "line": {
           "color": "rgba(128, 0, 128, 1)",
           "width": 2
          },
          "opacity": 0.3,
          "type": "rect",
          "x0": 1,
          "x1": 8,
          "y0": 3,
          "y1": 4
         },
         {
          "fillcolor": "gray",
          "line": {
           "color": "rgba(128, 0, 128, 1)",
           "width": 2
          },
          "opacity": 0.3,
          "type": "rect",
          "x0": 9,
          "x1": 16,
          "y0": 3,
          "y1": 4
         },
         {
          "fillcolor": "gray",
          "line": {
           "color": "rgba(128, 0, 128, 1)",
           "width": 2
          },
          "opacity": 0.3,
          "type": "rect",
          "x0": 17,
          "x1": 24,
          "y0": 3,
          "y1": 4
         },
         {
          "fillcolor": "gray",
          "line": {
           "color": "rgba(128, 0, 128, 1)",
           "width": 2
          },
          "opacity": 0.3,
          "type": "rect",
          "x0": 25,
          "x1": 32,
          "y0": 3,
          "y1": 4
         },
         {
          "fillcolor": "gray",
          "line": {
           "color": "rgba(128, 0, 128, 1)",
           "width": 2
          },
          "opacity": 0.3,
          "type": "rect",
          "x0": 1,
          "x1": 16,
          "y0": 5,
          "y1": 6
         },
         {
          "fillcolor": "gray",
          "line": {
           "color": "rgba(128, 0, 128, 1)",
           "width": 2
          },
          "opacity": 0.3,
          "type": "rect",
          "x0": 17,
          "x1": 32,
          "y0": 5,
          "y1": 6
         },
         {
          "fillcolor": "gray",
          "line": {
           "color": "rgba(128, 0, 128, 1)",
           "width": 2
          },
          "opacity": 0.3,
          "type": "rect",
          "x0": 1,
          "x1": 32,
          "y0": 7,
          "y1": 8
         }
        ],
        "xaxis": {
         "range": [
          0,
          35
         ],
         "showgrid": false,
         "showline": false,
         "showticklabels": false,
         "ticks": "",
         "zeroline": false
        },
        "yaxis": {
         "range": [
          0,
          10
         ],
         "showgrid": false,
         "showline": false,
         "showticklabels": false,
         "ticks": "",
         "zeroline": false
        }
       }
      },
      "text/html": [
       "<div id=\"b53451ca-154b-48c2-8e22-7081baa77178\" style=\"height: 525px; width: 100%;\" class=\"plotly-graph-div\"></div><script type=\"text/javascript\">require([\"plotly\"], function(Plotly) { window.PLOTLYENV=window.PLOTLYENV || {};window.PLOTLYENV.BASE_URL=\"https://plot.ly\";Plotly.newPlot(\"b53451ca-154b-48c2-8e22-7081baa77178\", [{\"mode\": \"text\", \"text\": [\"1\", \"5\", \"3\", \"6\", \"2\", \"7\", \"4\", \"8\", \"1\", \"3\", \"2\", \"4\", \"1\", \"2\", \"1\"], \"x\": [2.5, 6.5, 10.5, 14.5, 18.5, 22.5, 26.5, 30.5, 4.5, 12.5, 20.5, 28.5, 8.5, 24.5, 16.5], \"y\": [1.5, 1.5, 1.5, 1.5, 1.5, 1.5, 1.5, 1.5, 3.5, 3.5, 3.5, 3.5, 5.5, 5.5, 7.5], \"type\": \"scatter\", \"uid\": \"e2d01574-cf04-11e8-9d12-0242ac110002\"}], {\"shapes\": [{\"fillcolor\": \"gray\", \"line\": {\"color\": \"rgba(128, 0, 128, 1)\", \"width\": 2}, \"opacity\": 0.3, \"type\": \"rect\", \"x0\": 1, \"x1\": 4, \"y0\": 1, \"y1\": 2}, {\"fillcolor\": \"gray\", \"line\": {\"color\": \"rgba(128, 0, 128, 1)\", \"width\": 2}, \"opacity\": 0.3, \"type\": \"rect\", \"x0\": 5, \"x1\": 8, \"y0\": 1, \"y1\": 2}, {\"fillcolor\": \"gray\", \"line\": {\"color\": \"rgba(128, 0, 128, 1)\", \"width\": 2}, \"opacity\": 0.3, \"type\": \"rect\", \"x0\": 9, \"x1\": 12, \"y0\": 1, \"y1\": 2}, {\"fillcolor\": \"gray\", \"line\": {\"color\": \"rgba(128, 0, 128, 1)\", \"width\": 2}, \"opacity\": 0.3, \"type\": \"rect\", \"x0\": 13, \"x1\": 16, \"y0\": 1, \"y1\": 2}, {\"fillcolor\": \"gray\", \"line\": {\"color\": \"rgba(128, 0, 128, 1)\", \"width\": 2}, \"opacity\": 0.3, \"type\": \"rect\", \"x0\": 17, \"x1\": 20, \"y0\": 1, \"y1\": 2}, {\"fillcolor\": \"gray\", \"line\": {\"color\": \"rgba(128, 0, 128, 1)\", \"width\": 2}, \"opacity\": 0.3, \"type\": \"rect\", \"x0\": 21, \"x1\": 24, \"y0\": 1, \"y1\": 2}, {\"fillcolor\": \"gray\", \"line\": {\"color\": \"rgba(128, 0, 128, 1)\", \"width\": 2}, \"opacity\": 0.3, \"type\": \"rect\", \"x0\": 25, \"x1\": 28, \"y0\": 1, \"y1\": 2}, {\"fillcolor\": \"gray\", \"line\": {\"color\": \"rgba(128, 0, 128, 1)\", \"width\": 2}, \"opacity\": 0.3, \"type\": \"rect\", \"x0\": 29, \"x1\": 32, \"y0\": 1, \"y1\": 2}, {\"fillcolor\": \"gray\", \"line\": {\"color\": \"rgba(128, 0, 128, 1)\", \"width\": 2}, \"opacity\": 0.3, \"type\": \"rect\", \"x0\": 1, \"x1\": 8, \"y0\": 3, \"y1\": 4}, {\"fillcolor\": \"gray\", \"line\": {\"color\": \"rgba(128, 0, 128, 1)\", \"width\": 2}, \"opacity\": 0.3, \"type\": \"rect\", \"x0\": 9, \"x1\": 16, \"y0\": 3, \"y1\": 4}, {\"fillcolor\": \"gray\", \"line\": {\"color\": \"rgba(128, 0, 128, 1)\", \"width\": 2}, \"opacity\": 0.3, \"type\": \"rect\", \"x0\": 17, \"x1\": 24, \"y0\": 3, \"y1\": 4}, {\"fillcolor\": \"gray\", \"line\": {\"color\": \"rgba(128, 0, 128, 1)\", \"width\": 2}, \"opacity\": 0.3, \"type\": \"rect\", \"x0\": 25, \"x1\": 32, \"y0\": 3, \"y1\": 4}, {\"fillcolor\": \"gray\", \"line\": {\"color\": \"rgba(128, 0, 128, 1)\", \"width\": 2}, \"opacity\": 0.3, \"type\": \"rect\", \"x0\": 1, \"x1\": 16, \"y0\": 5, \"y1\": 6}, {\"fillcolor\": \"gray\", \"line\": {\"color\": \"rgba(128, 0, 128, 1)\", \"width\": 2}, \"opacity\": 0.3, \"type\": \"rect\", \"x0\": 17, \"x1\": 32, \"y0\": 5, \"y1\": 6}, {\"fillcolor\": \"gray\", \"line\": {\"color\": \"rgba(128, 0, 128, 1)\", \"width\": 2}, \"opacity\": 0.3, \"type\": \"rect\", \"x0\": 1, \"x1\": 32, \"y0\": 7, \"y1\": 8}], \"xaxis\": {\"range\": [0, 35], \"showgrid\": false, \"showline\": false, \"showticklabels\": false, \"ticks\": \"\", \"zeroline\": false}, \"yaxis\": {\"range\": [0, 10], \"showgrid\": false, \"showline\": false, \"showticklabels\": false, \"ticks\": \"\", \"zeroline\": false}}, {\"showLink\": true, \"linkText\": \"Export to plot.ly\"})});</script>"
      ],
      "text/vnd.plotly.v1+html": [
       "<div id=\"b53451ca-154b-48c2-8e22-7081baa77178\" style=\"height: 525px; width: 100%;\" class=\"plotly-graph-div\"></div><script type=\"text/javascript\">require([\"plotly\"], function(Plotly) { window.PLOTLYENV=window.PLOTLYENV || {};window.PLOTLYENV.BASE_URL=\"https://plot.ly\";Plotly.newPlot(\"b53451ca-154b-48c2-8e22-7081baa77178\", [{\"mode\": \"text\", \"text\": [\"1\", \"5\", \"3\", \"6\", \"2\", \"7\", \"4\", \"8\", \"1\", \"3\", \"2\", \"4\", \"1\", \"2\", \"1\"], \"x\": [2.5, 6.5, 10.5, 14.5, 18.5, 22.5, 26.5, 30.5, 4.5, 12.5, 20.5, 28.5, 8.5, 24.5, 16.5], \"y\": [1.5, 1.5, 1.5, 1.5, 1.5, 1.5, 1.5, 1.5, 3.5, 3.5, 3.5, 3.5, 5.5, 5.5, 7.5], \"type\": \"scatter\", \"uid\": \"e2d01574-cf04-11e8-9d12-0242ac110002\"}], {\"shapes\": [{\"fillcolor\": \"gray\", \"line\": {\"color\": \"rgba(128, 0, 128, 1)\", \"width\": 2}, \"opacity\": 0.3, \"type\": \"rect\", \"x0\": 1, \"x1\": 4, \"y0\": 1, \"y1\": 2}, {\"fillcolor\": \"gray\", \"line\": {\"color\": \"rgba(128, 0, 128, 1)\", \"width\": 2}, \"opacity\": 0.3, \"type\": \"rect\", \"x0\": 5, \"x1\": 8, \"y0\": 1, \"y1\": 2}, {\"fillcolor\": \"gray\", \"line\": {\"color\": \"rgba(128, 0, 128, 1)\", \"width\": 2}, \"opacity\": 0.3, \"type\": \"rect\", \"x0\": 9, \"x1\": 12, \"y0\": 1, \"y1\": 2}, {\"fillcolor\": \"gray\", \"line\": {\"color\": \"rgba(128, 0, 128, 1)\", \"width\": 2}, \"opacity\": 0.3, \"type\": \"rect\", \"x0\": 13, \"x1\": 16, \"y0\": 1, \"y1\": 2}, {\"fillcolor\": \"gray\", \"line\": {\"color\": \"rgba(128, 0, 128, 1)\", \"width\": 2}, \"opacity\": 0.3, \"type\": \"rect\", \"x0\": 17, \"x1\": 20, \"y0\": 1, \"y1\": 2}, {\"fillcolor\": \"gray\", \"line\": {\"color\": \"rgba(128, 0, 128, 1)\", \"width\": 2}, \"opacity\": 0.3, \"type\": \"rect\", \"x0\": 21, \"x1\": 24, \"y0\": 1, \"y1\": 2}, {\"fillcolor\": \"gray\", \"line\": {\"color\": \"rgba(128, 0, 128, 1)\", \"width\": 2}, \"opacity\": 0.3, \"type\": \"rect\", \"x0\": 25, \"x1\": 28, \"y0\": 1, \"y1\": 2}, {\"fillcolor\": \"gray\", \"line\": {\"color\": \"rgba(128, 0, 128, 1)\", \"width\": 2}, \"opacity\": 0.3, \"type\": \"rect\", \"x0\": 29, \"x1\": 32, \"y0\": 1, \"y1\": 2}, {\"fillcolor\": \"gray\", \"line\": {\"color\": \"rgba(128, 0, 128, 1)\", \"width\": 2}, \"opacity\": 0.3, \"type\": \"rect\", \"x0\": 1, \"x1\": 8, \"y0\": 3, \"y1\": 4}, {\"fillcolor\": \"gray\", \"line\": {\"color\": \"rgba(128, 0, 128, 1)\", \"width\": 2}, \"opacity\": 0.3, \"type\": \"rect\", \"x0\": 9, \"x1\": 16, \"y0\": 3, \"y1\": 4}, {\"fillcolor\": \"gray\", \"line\": {\"color\": \"rgba(128, 0, 128, 1)\", \"width\": 2}, \"opacity\": 0.3, \"type\": \"rect\", \"x0\": 17, \"x1\": 24, \"y0\": 3, \"y1\": 4}, {\"fillcolor\": \"gray\", \"line\": {\"color\": \"rgba(128, 0, 128, 1)\", \"width\": 2}, \"opacity\": 0.3, \"type\": \"rect\", \"x0\": 25, \"x1\": 32, \"y0\": 3, \"y1\": 4}, {\"fillcolor\": \"gray\", \"line\": {\"color\": \"rgba(128, 0, 128, 1)\", \"width\": 2}, \"opacity\": 0.3, \"type\": \"rect\", \"x0\": 1, \"x1\": 16, \"y0\": 5, \"y1\": 6}, {\"fillcolor\": \"gray\", \"line\": {\"color\": \"rgba(128, 0, 128, 1)\", \"width\": 2}, \"opacity\": 0.3, \"type\": \"rect\", \"x0\": 17, \"x1\": 32, \"y0\": 5, \"y1\": 6}, {\"fillcolor\": \"gray\", \"line\": {\"color\": \"rgba(128, 0, 128, 1)\", \"width\": 2}, \"opacity\": 0.3, \"type\": \"rect\", \"x0\": 1, \"x1\": 32, \"y0\": 7, \"y1\": 8}], \"xaxis\": {\"range\": [0, 35], \"showgrid\": false, \"showline\": false, \"showticklabels\": false, \"ticks\": \"\", \"zeroline\": false}, \"yaxis\": {\"range\": [0, 10], \"showgrid\": false, \"showline\": false, \"showticklabels\": false, \"ticks\": \"\", \"zeroline\": false}}, {\"showLink\": true, \"linkText\": \"Export to plot.ly\"})});</script>"
      ]
     },
     "metadata": {},
     "output_type": "display_data"
    }
   ],
   "source": [
    "trace1 = go.Scatter(\n",
    "    x=x,\n",
    "    y=y,\n",
    "    text=[1,5,3,6,2,7,4,8,1,3,2,4,1,2,1],\n",
    "    mode='text',\n",
    ")\n",
    "iplot({\n",
    "    'data': [trace1],\n",
    "    'layout': layout,\n",
    "})"
   ]
  },
  {
   "cell_type": "code",
   "execution_count": 12,
   "metadata": {},
   "outputs": [
    {
     "data": {
      "application/vnd.plotly.v1+json": {
       "data": [
        {
         "mode": "text",
         "text": [
          "1",
          "5=1+2^2",
          "3",
          "7=3+2^2",
          "2",
          "6=2+2^2",
          "4",
          "8=4+2^2",
          "1",
          "3=1+2^1",
          "2",
          "4=2+2^1",
          "1",
          "2=1+2^0",
          "1"
         ],
         "type": "scatter",
         "uid": "e2d54918-cf04-11e8-9d12-0242ac110002",
         "x": [
          2.5,
          6.5,
          10.5,
          14.5,
          18.5,
          22.5,
          26.5,
          30.5,
          4.5,
          12.5,
          20.5,
          28.5,
          8.5,
          24.5,
          16.5
         ],
         "y": [
          1.5,
          1.5,
          1.5,
          1.5,
          1.5,
          1.5,
          1.5,
          1.5,
          3.5,
          3.5,
          3.5,
          3.5,
          5.5,
          5.5,
          7.5
         ]
        }
       ],
       "layout": {
        "shapes": [
         {
          "fillcolor": "gray",
          "line": {
           "color": "rgba(128, 0, 128, 1)",
           "width": 2
          },
          "opacity": 0.3,
          "type": "rect",
          "x0": 1,
          "x1": 4,
          "y0": 1,
          "y1": 2
         },
         {
          "fillcolor": "gray",
          "line": {
           "color": "rgba(128, 0, 128, 1)",
           "width": 2
          },
          "opacity": 0.3,
          "type": "rect",
          "x0": 5,
          "x1": 8,
          "y0": 1,
          "y1": 2
         },
         {
          "fillcolor": "gray",
          "line": {
           "color": "rgba(128, 0, 128, 1)",
           "width": 2
          },
          "opacity": 0.3,
          "type": "rect",
          "x0": 9,
          "x1": 12,
          "y0": 1,
          "y1": 2
         },
         {
          "fillcolor": "gray",
          "line": {
           "color": "rgba(128, 0, 128, 1)",
           "width": 2
          },
          "opacity": 0.3,
          "type": "rect",
          "x0": 13,
          "x1": 16,
          "y0": 1,
          "y1": 2
         },
         {
          "fillcolor": "gray",
          "line": {
           "color": "rgba(128, 0, 128, 1)",
           "width": 2
          },
          "opacity": 0.3,
          "type": "rect",
          "x0": 17,
          "x1": 20,
          "y0": 1,
          "y1": 2
         },
         {
          "fillcolor": "gray",
          "line": {
           "color": "rgba(128, 0, 128, 1)",
           "width": 2
          },
          "opacity": 0.3,
          "type": "rect",
          "x0": 21,
          "x1": 24,
          "y0": 1,
          "y1": 2
         },
         {
          "fillcolor": "gray",
          "line": {
           "color": "rgba(128, 0, 128, 1)",
           "width": 2
          },
          "opacity": 0.3,
          "type": "rect",
          "x0": 25,
          "x1": 28,
          "y0": 1,
          "y1": 2
         },
         {
          "fillcolor": "gray",
          "line": {
           "color": "rgba(128, 0, 128, 1)",
           "width": 2
          },
          "opacity": 0.3,
          "type": "rect",
          "x0": 29,
          "x1": 32,
          "y0": 1,
          "y1": 2
         },
         {
          "fillcolor": "gray",
          "line": {
           "color": "rgba(128, 0, 128, 1)",
           "width": 2
          },
          "opacity": 0.3,
          "type": "rect",
          "x0": 1,
          "x1": 8,
          "y0": 3,
          "y1": 4
         },
         {
          "fillcolor": "gray",
          "line": {
           "color": "rgba(128, 0, 128, 1)",
           "width": 2
          },
          "opacity": 0.3,
          "type": "rect",
          "x0": 9,
          "x1": 16,
          "y0": 3,
          "y1": 4
         },
         {
          "fillcolor": "gray",
          "line": {
           "color": "rgba(128, 0, 128, 1)",
           "width": 2
          },
          "opacity": 0.3,
          "type": "rect",
          "x0": 17,
          "x1": 24,
          "y0": 3,
          "y1": 4
         },
         {
          "fillcolor": "gray",
          "line": {
           "color": "rgba(128, 0, 128, 1)",
           "width": 2
          },
          "opacity": 0.3,
          "type": "rect",
          "x0": 25,
          "x1": 32,
          "y0": 3,
          "y1": 4
         },
         {
          "fillcolor": "gray",
          "line": {
           "color": "rgba(128, 0, 128, 1)",
           "width": 2
          },
          "opacity": 0.3,
          "type": "rect",
          "x0": 1,
          "x1": 16,
          "y0": 5,
          "y1": 6
         },
         {
          "fillcolor": "gray",
          "line": {
           "color": "rgba(128, 0, 128, 1)",
           "width": 2
          },
          "opacity": 0.3,
          "type": "rect",
          "x0": 17,
          "x1": 32,
          "y0": 5,
          "y1": 6
         },
         {
          "fillcolor": "gray",
          "line": {
           "color": "rgba(128, 0, 128, 1)",
           "width": 2
          },
          "opacity": 0.3,
          "type": "rect",
          "x0": 1,
          "x1": 32,
          "y0": 7,
          "y1": 8
         }
        ],
        "xaxis": {
         "range": [
          0,
          35
         ],
         "showgrid": false,
         "showline": false,
         "showticklabels": false,
         "ticks": "",
         "zeroline": false
        },
        "yaxis": {
         "range": [
          0,
          10
         ],
         "showgrid": false,
         "showline": false,
         "showticklabels": false,
         "ticks": "",
         "zeroline": false
        }
       }
      },
      "text/html": [
       "<div id=\"1b4fa62b-a5b7-4e4b-b637-e2bccd1c0fc3\" style=\"height: 525px; width: 100%;\" class=\"plotly-graph-div\"></div><script type=\"text/javascript\">require([\"plotly\"], function(Plotly) { window.PLOTLYENV=window.PLOTLYENV || {};window.PLOTLYENV.BASE_URL=\"https://plot.ly\";Plotly.newPlot(\"1b4fa62b-a5b7-4e4b-b637-e2bccd1c0fc3\", [{\"mode\": \"text\", \"text\": [\"1\", \"5=1+2^2\", \"3\", \"7=3+2^2\", \"2\", \"6=2+2^2\", \"4\", \"8=4+2^2\", \"1\", \"3=1+2^1\", \"2\", \"4=2+2^1\", \"1\", \"2=1+2^0\", \"1\"], \"x\": [2.5, 6.5, 10.5, 14.5, 18.5, 22.5, 26.5, 30.5, 4.5, 12.5, 20.5, 28.5, 8.5, 24.5, 16.5], \"y\": [1.5, 1.5, 1.5, 1.5, 1.5, 1.5, 1.5, 1.5, 3.5, 3.5, 3.5, 3.5, 5.5, 5.5, 7.5], \"type\": \"scatter\", \"uid\": \"e2d816a2-cf04-11e8-9d12-0242ac110002\"}], {\"shapes\": [{\"fillcolor\": \"gray\", \"line\": {\"color\": \"rgba(128, 0, 128, 1)\", \"width\": 2}, \"opacity\": 0.3, \"type\": \"rect\", \"x0\": 1, \"x1\": 4, \"y0\": 1, \"y1\": 2}, {\"fillcolor\": \"gray\", \"line\": {\"color\": \"rgba(128, 0, 128, 1)\", \"width\": 2}, \"opacity\": 0.3, \"type\": \"rect\", \"x0\": 5, \"x1\": 8, \"y0\": 1, \"y1\": 2}, {\"fillcolor\": \"gray\", \"line\": {\"color\": \"rgba(128, 0, 128, 1)\", \"width\": 2}, \"opacity\": 0.3, \"type\": \"rect\", \"x0\": 9, \"x1\": 12, \"y0\": 1, \"y1\": 2}, {\"fillcolor\": \"gray\", \"line\": {\"color\": \"rgba(128, 0, 128, 1)\", \"width\": 2}, \"opacity\": 0.3, \"type\": \"rect\", \"x0\": 13, \"x1\": 16, \"y0\": 1, \"y1\": 2}, {\"fillcolor\": \"gray\", \"line\": {\"color\": \"rgba(128, 0, 128, 1)\", \"width\": 2}, \"opacity\": 0.3, \"type\": \"rect\", \"x0\": 17, \"x1\": 20, \"y0\": 1, \"y1\": 2}, {\"fillcolor\": \"gray\", \"line\": {\"color\": \"rgba(128, 0, 128, 1)\", \"width\": 2}, \"opacity\": 0.3, \"type\": \"rect\", \"x0\": 21, \"x1\": 24, \"y0\": 1, \"y1\": 2}, {\"fillcolor\": \"gray\", \"line\": {\"color\": \"rgba(128, 0, 128, 1)\", \"width\": 2}, \"opacity\": 0.3, \"type\": \"rect\", \"x0\": 25, \"x1\": 28, \"y0\": 1, \"y1\": 2}, {\"fillcolor\": \"gray\", \"line\": {\"color\": \"rgba(128, 0, 128, 1)\", \"width\": 2}, \"opacity\": 0.3, \"type\": \"rect\", \"x0\": 29, \"x1\": 32, \"y0\": 1, \"y1\": 2}, {\"fillcolor\": \"gray\", \"line\": {\"color\": \"rgba(128, 0, 128, 1)\", \"width\": 2}, \"opacity\": 0.3, \"type\": \"rect\", \"x0\": 1, \"x1\": 8, \"y0\": 3, \"y1\": 4}, {\"fillcolor\": \"gray\", \"line\": {\"color\": \"rgba(128, 0, 128, 1)\", \"width\": 2}, \"opacity\": 0.3, \"type\": \"rect\", \"x0\": 9, \"x1\": 16, \"y0\": 3, \"y1\": 4}, {\"fillcolor\": \"gray\", \"line\": {\"color\": \"rgba(128, 0, 128, 1)\", \"width\": 2}, \"opacity\": 0.3, \"type\": \"rect\", \"x0\": 17, \"x1\": 24, \"y0\": 3, \"y1\": 4}, {\"fillcolor\": \"gray\", \"line\": {\"color\": \"rgba(128, 0, 128, 1)\", \"width\": 2}, \"opacity\": 0.3, \"type\": \"rect\", \"x0\": 25, \"x1\": 32, \"y0\": 3, \"y1\": 4}, {\"fillcolor\": \"gray\", \"line\": {\"color\": \"rgba(128, 0, 128, 1)\", \"width\": 2}, \"opacity\": 0.3, \"type\": \"rect\", \"x0\": 1, \"x1\": 16, \"y0\": 5, \"y1\": 6}, {\"fillcolor\": \"gray\", \"line\": {\"color\": \"rgba(128, 0, 128, 1)\", \"width\": 2}, \"opacity\": 0.3, \"type\": \"rect\", \"x0\": 17, \"x1\": 32, \"y0\": 5, \"y1\": 6}, {\"fillcolor\": \"gray\", \"line\": {\"color\": \"rgba(128, 0, 128, 1)\", \"width\": 2}, \"opacity\": 0.3, \"type\": \"rect\", \"x0\": 1, \"x1\": 32, \"y0\": 7, \"y1\": 8}], \"xaxis\": {\"range\": [0, 35], \"showgrid\": false, \"showline\": false, \"showticklabels\": false, \"ticks\": \"\", \"zeroline\": false}, \"yaxis\": {\"range\": [0, 10], \"showgrid\": false, \"showline\": false, \"showticklabels\": false, \"ticks\": \"\", \"zeroline\": false}}, {\"showLink\": true, \"linkText\": \"Export to plot.ly\"})});</script>"
      ],
      "text/vnd.plotly.v1+html": [
       "<div id=\"1b4fa62b-a5b7-4e4b-b637-e2bccd1c0fc3\" style=\"height: 525px; width: 100%;\" class=\"plotly-graph-div\"></div><script type=\"text/javascript\">require([\"plotly\"], function(Plotly) { window.PLOTLYENV=window.PLOTLYENV || {};window.PLOTLYENV.BASE_URL=\"https://plot.ly\";Plotly.newPlot(\"1b4fa62b-a5b7-4e4b-b637-e2bccd1c0fc3\", [{\"mode\": \"text\", \"text\": [\"1\", \"5=1+2^2\", \"3\", \"7=3+2^2\", \"2\", \"6=2+2^2\", \"4\", \"8=4+2^2\", \"1\", \"3=1+2^1\", \"2\", \"4=2+2^1\", \"1\", \"2=1+2^0\", \"1\"], \"x\": [2.5, 6.5, 10.5, 14.5, 18.5, 22.5, 26.5, 30.5, 4.5, 12.5, 20.5, 28.5, 8.5, 24.5, 16.5], \"y\": [1.5, 1.5, 1.5, 1.5, 1.5, 1.5, 1.5, 1.5, 3.5, 3.5, 3.5, 3.5, 5.5, 5.5, 7.5], \"type\": \"scatter\", \"uid\": \"e2d816a2-cf04-11e8-9d12-0242ac110002\"}], {\"shapes\": [{\"fillcolor\": \"gray\", \"line\": {\"color\": \"rgba(128, 0, 128, 1)\", \"width\": 2}, \"opacity\": 0.3, \"type\": \"rect\", \"x0\": 1, \"x1\": 4, \"y0\": 1, \"y1\": 2}, {\"fillcolor\": \"gray\", \"line\": {\"color\": \"rgba(128, 0, 128, 1)\", \"width\": 2}, \"opacity\": 0.3, \"type\": \"rect\", \"x0\": 5, \"x1\": 8, \"y0\": 1, \"y1\": 2}, {\"fillcolor\": \"gray\", \"line\": {\"color\": \"rgba(128, 0, 128, 1)\", \"width\": 2}, \"opacity\": 0.3, \"type\": \"rect\", \"x0\": 9, \"x1\": 12, \"y0\": 1, \"y1\": 2}, {\"fillcolor\": \"gray\", \"line\": {\"color\": \"rgba(128, 0, 128, 1)\", \"width\": 2}, \"opacity\": 0.3, \"type\": \"rect\", \"x0\": 13, \"x1\": 16, \"y0\": 1, \"y1\": 2}, {\"fillcolor\": \"gray\", \"line\": {\"color\": \"rgba(128, 0, 128, 1)\", \"width\": 2}, \"opacity\": 0.3, \"type\": \"rect\", \"x0\": 17, \"x1\": 20, \"y0\": 1, \"y1\": 2}, {\"fillcolor\": \"gray\", \"line\": {\"color\": \"rgba(128, 0, 128, 1)\", \"width\": 2}, \"opacity\": 0.3, \"type\": \"rect\", \"x0\": 21, \"x1\": 24, \"y0\": 1, \"y1\": 2}, {\"fillcolor\": \"gray\", \"line\": {\"color\": \"rgba(128, 0, 128, 1)\", \"width\": 2}, \"opacity\": 0.3, \"type\": \"rect\", \"x0\": 25, \"x1\": 28, \"y0\": 1, \"y1\": 2}, {\"fillcolor\": \"gray\", \"line\": {\"color\": \"rgba(128, 0, 128, 1)\", \"width\": 2}, \"opacity\": 0.3, \"type\": \"rect\", \"x0\": 29, \"x1\": 32, \"y0\": 1, \"y1\": 2}, {\"fillcolor\": \"gray\", \"line\": {\"color\": \"rgba(128, 0, 128, 1)\", \"width\": 2}, \"opacity\": 0.3, \"type\": \"rect\", \"x0\": 1, \"x1\": 8, \"y0\": 3, \"y1\": 4}, {\"fillcolor\": \"gray\", \"line\": {\"color\": \"rgba(128, 0, 128, 1)\", \"width\": 2}, \"opacity\": 0.3, \"type\": \"rect\", \"x0\": 9, \"x1\": 16, \"y0\": 3, \"y1\": 4}, {\"fillcolor\": \"gray\", \"line\": {\"color\": \"rgba(128, 0, 128, 1)\", \"width\": 2}, \"opacity\": 0.3, \"type\": \"rect\", \"x0\": 17, \"x1\": 24, \"y0\": 3, \"y1\": 4}, {\"fillcolor\": \"gray\", \"line\": {\"color\": \"rgba(128, 0, 128, 1)\", \"width\": 2}, \"opacity\": 0.3, \"type\": \"rect\", \"x0\": 25, \"x1\": 32, \"y0\": 3, \"y1\": 4}, {\"fillcolor\": \"gray\", \"line\": {\"color\": \"rgba(128, 0, 128, 1)\", \"width\": 2}, \"opacity\": 0.3, \"type\": \"rect\", \"x0\": 1, \"x1\": 16, \"y0\": 5, \"y1\": 6}, {\"fillcolor\": \"gray\", \"line\": {\"color\": \"rgba(128, 0, 128, 1)\", \"width\": 2}, \"opacity\": 0.3, \"type\": \"rect\", \"x0\": 17, \"x1\": 32, \"y0\": 5, \"y1\": 6}, {\"fillcolor\": \"gray\", \"line\": {\"color\": \"rgba(128, 0, 128, 1)\", \"width\": 2}, \"opacity\": 0.3, \"type\": \"rect\", \"x0\": 1, \"x1\": 32, \"y0\": 7, \"y1\": 8}], \"xaxis\": {\"range\": [0, 35], \"showgrid\": false, \"showline\": false, \"showticklabels\": false, \"ticks\": \"\", \"zeroline\": false}, \"yaxis\": {\"range\": [0, 10], \"showgrid\": false, \"showline\": false, \"showticklabels\": false, \"ticks\": \"\", \"zeroline\": false}}, {\"showLink\": true, \"linkText\": \"Export to plot.ly\"})});</script>"
      ]
     },
     "metadata": {},
     "output_type": "display_data"
    }
   ],
   "source": [
    "trace2 = go.Scatter(\n",
    "    x=x,\n",
    "    y=y,\n",
    "    text=[1,'5=1+2^2',3,'7=3+2^2',2,'6=2+2^2',4,'8=4+2^2',1,'3=1+2^1',2,'4=2+2^1',1,'2=1+2^0',1],\n",
    "    mode='text',\n",
    ")\n",
    "iplot({\n",
    "    'data': [trace2],\n",
    "    'layout': layout,\n",
    "})"
   ]
  },
  {
   "cell_type": "markdown",
   "metadata": {},
   "source": [
    "$$ RANK\\_LSON = RANK $$\n",
    "$$ RANK\\_RSON = RANK + 2^{depth} $$"
   ]
  },
  {
   "cell_type": "markdown",
   "metadata": {},
   "source": [
    "# MPI\n",
    "\n",
    "```cpp\n",
    "/* Skipped: Base sort and help func */\n",
    "void mpi_sort(int a[], int l, int r, int id, int max_id, int deep) {\n",
    "\tMPI_Status status;\n",
    "\tint rson_id = id + pow(2, deep);\n",
    "\tif (rson_id > max_id) {\n",
    "\t\tqsort(a, l, r);\n",
    "\t\treturn;\n",
    "\t}\n",
    "\trson_id--;\n",
    "\t\n",
    "\tif (l > r) {\n",
    "\t\tMPI_Send(a + l, 0, MPI::INT, rson_id, 0, MPI_COMM_WORLD);\n",
    "\t\tMPI_Recv(a + l, 0, MPI::INT, rson_id, MPI_ANY_TAG, MPI_COMM_WORLD, &status);\n",
    "\t\treturn;\n",
    "\t}\n",
    "\t\n",
    "\tP ret = partition(a, l, r);\n",
    "\tint lsize = ret.first - l;\n",
    "\tint rsize = r - ret.second;\n",
    "\tif (lsize < rsize) {\n",
    "\t\tMPI_Send(a + l, lsize, MPI::INT, rson_id, l, MPI_COMM_WORLD);\n",
    "\t\tmpi_sort(a, ret.second + 1, r, id, max_id, deep + 1);\n",
    "\t\tMPI_Recv(a + l, lsize, MPI::INT, rson_id, MPI_ANY_TAG, MPI_COMM_WORLD, &status);\n",
    "\t} else {\n",
    "\t\tMPI_Send(a + ret.second + 1, rsize, MPI::INT, rson_id, ret.second + 1, MPI_COMM_WORLD);\n",
    "\t\tmpi_sort(a, l, ret.first - 1, id, max_id, deep + 1);\n",
    "\t\tMPI_Recv(a + ret.second + 1, rsize, MPI::INT, rson_id, MPI_ANY_TAG, MPI_COMM_WORLD, &status);\n",
    "\t}\n",
    "}\n",
    "```"
   ]
  },
  {
   "cell_type": "markdown",
   "metadata": {},
   "source": [
    "# MPI\n",
    "\n",
    "```cpp\n",
    "int main(int argc, char *argv[]) {\n",
    "    /* Skipped: input and initialisation*/\n",
    "\tmyid++;\n",
    "    // id start from 1\n",
    "\tint retcode = 0;\n",
    "\tif (myid == 1) {\n",
    "\t\tint n, seed;\n",
    "\t\tsscanf(argv[1], \"%d\", &n);\n",
    "\t\tsscanf(argv[2], \"%d\", &seed);\n",
    "\t\tint *data = (int*)malloc(sizeof(int)*n);\n",
    "\t\tsrand(seed);\n",
    "\t\tfor (int i = 0; i < n; i++)\n",
    "\t\t\tif (0 == seed) data[i] = 0;\n",
    "\t\t\telse if (-1 == seed) data[i] = n - i;\n",
    "\t\t\telse data[i] = rand() % n + 1;\n",
    "\n",
    "\t\tdouble tmp = MPI_Wtime();\n",
    "\t\tmpi_sort(data, 0, n - 1, myid, numprocs, 0);\n",
    "\t\ttmp = MPI_Wtime() - tmp;\n",
    "\t\tprintf(\"%lf\\n\", tmp);\n",
    "\t\tretcode = validate(data, n);\n",
    "\t\tfree(data);\n",
    "\t} else {\n",
    "\t\tint *subarray = NULL;\n",
    "\t\tMPI_Status status;\n",
    "\t\tint sub_size = 0;\n",
    "\t\tint index = 0;\n",
    "\t\tint parent_id = 0;\n",
    "\t\twhile (pow(2, index) < myid) index++;\n",
    "\t\tMPI_Probe(MPI_ANY_SOURCE, MPI_ANY_TAG, MPI_COMM_WORLD, &status);\n",
    "\t\tMPI_Get_count(&status, MPI::INT, &sub_size);\n",
    "\t\tparent_id = status.MPI_SOURCE;\n",
    "\t\tsubarray = (int*)malloc(sub_size * sizeof(int));\n",
    "\t\t\n",
    "\t\tMPI_Recv(subarray, sub_size, MPI::INT, MPI_ANY_SOURCE, MPI_ANY_TAG, MPI_COMM_WORLD, &status);\n",
    "\t\tmpi_sort(subarray, 0, sub_size - 1, myid, numprocs, index);\n",
    "\t\tMPI_Send(subarray, sub_size, MPI::INT, parent_id, parent_id,MPI_COMM_WORLD);\n",
    "\t\t\n",
    "\t\tfree(subarray);\n",
    "\t}\n",
    "\tMPI_Finalize();\n",
    "\treturn retcode;\n",
    "}\n",
    "```"
   ]
  },
  {
   "cell_type": "code",
   "execution_count": 13,
   "metadata": {},
   "outputs": [],
   "source": [
    "def trace5():\n",
    "    # x轴为线程数\n",
    "    ret = []\n",
    "    seed = 123456\n",
    "    testSize = [1000, ]\n",
    "    for i in range(6):\n",
    "        testSize.append(testSize[-1] * 2)\n",
    "    procs = [i + 1 for i in range(32)]\n",
    "    \n",
    "    for n in testSize:\n",
    "        y = []\n",
    "        for proc in procs:\n",
    "            timeInSec = run('mpi', proc, n, seed)\n",
    "            y.append(timeInSec)\n",
    "        ret.append(go.Scatter(x=procs, y=y, mode='lines+markers', name='{} items'.format(n)))\n",
    "    return ret\n",
    "\n",
    "def trace6():\n",
    "    # 线程数量=4,8,16\n",
    "    # seed=123456\n",
    "    # 固定种子，增加测试集大小\n",
    "    ret = []\n",
    "    seed = 123456\n",
    "    testSize = [1000, ]\n",
    "    for i in range(16):\n",
    "        testSize.append(testSize[-1] * 2)\n",
    "\n",
    "    for proc in [1, 2, 4, 8, 16]:\n",
    "        y = []\n",
    "        for n in testSize:\n",
    "            timeInSec = run('mpi', proc, n, seed)\n",
    "            y.append(timeInSec)\n",
    "        ret.append(go.Scatter(x=testSize, y=y, mode='lines+markers', name='{} procs'.format(proc)))\n",
    "    return ret"
   ]
  },
  {
   "cell_type": "code",
   "execution_count": 14,
   "metadata": {
    "scrolled": true
   },
   "outputs": [
    {
     "ename": "ValueError",
     "evalue": "could not convert string to float: b'0.000172\\n0.000174\\n'",
     "output_type": "error",
     "traceback": [
      "\u001b[0;31m---------------------------------------------------------------------------\u001b[0m",
      "\u001b[0;31mValueError\u001b[0m                                Traceback (most recent call last)",
      "\u001b[0;32m<timed exec>\u001b[0m in \u001b[0;36m<module>\u001b[0;34m()\u001b[0m\n",
      "\u001b[0;32m<ipython-input-13-766f5d5f2fea>\u001b[0m in \u001b[0;36mtrace5\u001b[0;34m()\u001b[0m\n\u001b[1;32m     11\u001b[0m         \u001b[0my\u001b[0m \u001b[0;34m=\u001b[0m \u001b[0;34m[\u001b[0m\u001b[0;34m]\u001b[0m\u001b[0;34m\u001b[0m\u001b[0m\n\u001b[1;32m     12\u001b[0m         \u001b[0;32mfor\u001b[0m \u001b[0mproc\u001b[0m \u001b[0;32min\u001b[0m \u001b[0mprocs\u001b[0m\u001b[0;34m:\u001b[0m\u001b[0;34m\u001b[0m\u001b[0m\n\u001b[0;32m---> 13\u001b[0;31m             \u001b[0mtimeInSec\u001b[0m \u001b[0;34m=\u001b[0m \u001b[0mrun\u001b[0m\u001b[0;34m(\u001b[0m\u001b[0;34m'mpi'\u001b[0m\u001b[0;34m,\u001b[0m \u001b[0mproc\u001b[0m\u001b[0;34m,\u001b[0m \u001b[0mn\u001b[0m\u001b[0;34m,\u001b[0m \u001b[0mseed\u001b[0m\u001b[0;34m)\u001b[0m\u001b[0;34m\u001b[0m\u001b[0m\n\u001b[0m\u001b[1;32m     14\u001b[0m             \u001b[0my\u001b[0m\u001b[0;34m.\u001b[0m\u001b[0mappend\u001b[0m\u001b[0;34m(\u001b[0m\u001b[0mtimeInSec\u001b[0m\u001b[0;34m)\u001b[0m\u001b[0;34m\u001b[0m\u001b[0m\n\u001b[1;32m     15\u001b[0m         \u001b[0mret\u001b[0m\u001b[0;34m.\u001b[0m\u001b[0mappend\u001b[0m\u001b[0;34m(\u001b[0m\u001b[0mgo\u001b[0m\u001b[0;34m.\u001b[0m\u001b[0mScatter\u001b[0m\u001b[0;34m(\u001b[0m\u001b[0mx\u001b[0m\u001b[0;34m=\u001b[0m\u001b[0mprocs\u001b[0m\u001b[0;34m,\u001b[0m \u001b[0my\u001b[0m\u001b[0;34m=\u001b[0m\u001b[0my\u001b[0m\u001b[0;34m,\u001b[0m \u001b[0mmode\u001b[0m\u001b[0;34m=\u001b[0m\u001b[0;34m'lines+markers'\u001b[0m\u001b[0;34m,\u001b[0m \u001b[0mname\u001b[0m\u001b[0;34m=\u001b[0m\u001b[0;34m'{} items'\u001b[0m\u001b[0;34m.\u001b[0m\u001b[0mformat\u001b[0m\u001b[0;34m(\u001b[0m\u001b[0mn\u001b[0m\u001b[0;34m)\u001b[0m\u001b[0;34m)\u001b[0m\u001b[0;34m)\u001b[0m\u001b[0;34m\u001b[0m\u001b[0m\n",
      "\u001b[0;32m<ipython-input-1-93e18c2da5b1>\u001b[0m in \u001b[0;36mrun\u001b[0;34m(method, workers, testSize, seed, compiled)\u001b[0m\n\u001b[1;32m      8\u001b[0m     \u001b[0;32mif\u001b[0m \u001b[0;32mnot\u001b[0m \u001b[0mcompiled\u001b[0m\u001b[0;34m:\u001b[0m\u001b[0;34m\u001b[0m\u001b[0m\n\u001b[1;32m      9\u001b[0m         \u001b[0mcmd\u001b[0m\u001b[0;34m.\u001b[0m\u001b[0mappend\u001b[0m\u001b[0;34m(\u001b[0m\u001b[0;34m'-c'\u001b[0m\u001b[0;34m)\u001b[0m\u001b[0;34m\u001b[0m\u001b[0m\n\u001b[0;32m---> 10\u001b[0;31m     \u001b[0;32mreturn\u001b[0m \u001b[0mfloat\u001b[0m\u001b[0;34m(\u001b[0m\u001b[0msubprocess\u001b[0m\u001b[0;34m.\u001b[0m\u001b[0mcheck_output\u001b[0m\u001b[0;34m(\u001b[0m\u001b[0mcmd\u001b[0m\u001b[0;34m)\u001b[0m\u001b[0;34m)\u001b[0m\u001b[0;34m\u001b[0m\u001b[0m\n\u001b[0m",
      "\u001b[0;31mValueError\u001b[0m: could not convert string to float: b'0.000172\\n0.000174\\n'"
     ]
    }
   ],
   "source": [
    "%%time\n",
    "trace_mpi_testsize = trace5()"
   ]
  },
  {
   "cell_type": "code",
   "execution_count": 15,
   "metadata": {},
   "outputs": [
    {
     "ename": "ValueError",
     "evalue": "could not convert string to float: b'0.000096\\n0.000122\\n'",
     "output_type": "error",
     "traceback": [
      "\u001b[0;31m---------------------------------------------------------------------------\u001b[0m",
      "\u001b[0;31mValueError\u001b[0m                                Traceback (most recent call last)",
      "\u001b[0;32m<timed exec>\u001b[0m in \u001b[0;36m<module>\u001b[0;34m()\u001b[0m\n",
      "\u001b[0;32m<ipython-input-13-766f5d5f2fea>\u001b[0m in \u001b[0;36mtrace6\u001b[0;34m()\u001b[0m\n\u001b[1;32m     29\u001b[0m         \u001b[0my\u001b[0m \u001b[0;34m=\u001b[0m \u001b[0;34m[\u001b[0m\u001b[0;34m]\u001b[0m\u001b[0;34m\u001b[0m\u001b[0m\n\u001b[1;32m     30\u001b[0m         \u001b[0;32mfor\u001b[0m \u001b[0mn\u001b[0m \u001b[0;32min\u001b[0m \u001b[0mtestSize\u001b[0m\u001b[0;34m:\u001b[0m\u001b[0;34m\u001b[0m\u001b[0m\n\u001b[0;32m---> 31\u001b[0;31m             \u001b[0mtimeInSec\u001b[0m \u001b[0;34m=\u001b[0m \u001b[0mrun\u001b[0m\u001b[0;34m(\u001b[0m\u001b[0;34m'mpi'\u001b[0m\u001b[0;34m,\u001b[0m \u001b[0mproc\u001b[0m\u001b[0;34m,\u001b[0m \u001b[0mn\u001b[0m\u001b[0;34m,\u001b[0m \u001b[0mseed\u001b[0m\u001b[0;34m)\u001b[0m\u001b[0;34m\u001b[0m\u001b[0m\n\u001b[0m\u001b[1;32m     32\u001b[0m             \u001b[0my\u001b[0m\u001b[0;34m.\u001b[0m\u001b[0mappend\u001b[0m\u001b[0;34m(\u001b[0m\u001b[0mtimeInSec\u001b[0m\u001b[0;34m)\u001b[0m\u001b[0;34m\u001b[0m\u001b[0m\n\u001b[1;32m     33\u001b[0m         \u001b[0mret\u001b[0m\u001b[0;34m.\u001b[0m\u001b[0mappend\u001b[0m\u001b[0;34m(\u001b[0m\u001b[0mgo\u001b[0m\u001b[0;34m.\u001b[0m\u001b[0mScatter\u001b[0m\u001b[0;34m(\u001b[0m\u001b[0mx\u001b[0m\u001b[0;34m=\u001b[0m\u001b[0mtestSize\u001b[0m\u001b[0;34m,\u001b[0m \u001b[0my\u001b[0m\u001b[0;34m=\u001b[0m\u001b[0my\u001b[0m\u001b[0;34m,\u001b[0m \u001b[0mmode\u001b[0m\u001b[0;34m=\u001b[0m\u001b[0;34m'lines+markers'\u001b[0m\u001b[0;34m,\u001b[0m \u001b[0mname\u001b[0m\u001b[0;34m=\u001b[0m\u001b[0;34m'{} procs'\u001b[0m\u001b[0;34m.\u001b[0m\u001b[0mformat\u001b[0m\u001b[0;34m(\u001b[0m\u001b[0mproc\u001b[0m\u001b[0;34m)\u001b[0m\u001b[0;34m)\u001b[0m\u001b[0;34m)\u001b[0m\u001b[0;34m\u001b[0m\u001b[0m\n",
      "\u001b[0;32m<ipython-input-1-93e18c2da5b1>\u001b[0m in \u001b[0;36mrun\u001b[0;34m(method, workers, testSize, seed, compiled)\u001b[0m\n\u001b[1;32m      8\u001b[0m     \u001b[0;32mif\u001b[0m \u001b[0;32mnot\u001b[0m \u001b[0mcompiled\u001b[0m\u001b[0;34m:\u001b[0m\u001b[0;34m\u001b[0m\u001b[0m\n\u001b[1;32m      9\u001b[0m         \u001b[0mcmd\u001b[0m\u001b[0;34m.\u001b[0m\u001b[0mappend\u001b[0m\u001b[0;34m(\u001b[0m\u001b[0;34m'-c'\u001b[0m\u001b[0;34m)\u001b[0m\u001b[0;34m\u001b[0m\u001b[0m\n\u001b[0;32m---> 10\u001b[0;31m     \u001b[0;32mreturn\u001b[0m \u001b[0mfloat\u001b[0m\u001b[0;34m(\u001b[0m\u001b[0msubprocess\u001b[0m\u001b[0;34m.\u001b[0m\u001b[0mcheck_output\u001b[0m\u001b[0;34m(\u001b[0m\u001b[0mcmd\u001b[0m\u001b[0;34m)\u001b[0m\u001b[0;34m)\u001b[0m\u001b[0;34m\u001b[0m\u001b[0m\n\u001b[0m",
      "\u001b[0;31mValueError\u001b[0m: could not convert string to float: b'0.000096\\n0.000122\\n'"
     ]
    }
   ],
   "source": [
    "%%time\n",
    "trace_mpi_seed = trace6()"
   ]
  },
  {
   "cell_type": "code",
   "execution_count": 16,
   "metadata": {},
   "outputs": [
    {
     "ename": "NameError",
     "evalue": "name 'trace_mpi_testsize' is not defined",
     "output_type": "error",
     "traceback": [
      "\u001b[0;31m---------------------------------------------------------------------------\u001b[0m",
      "\u001b[0;31mNameError\u001b[0m                                 Traceback (most recent call last)",
      "\u001b[0;32m<ipython-input-16-f26b4e3f58c4>\u001b[0m in \u001b[0;36m<module>\u001b[0;34m()\u001b[0m\n\u001b[1;32m      1\u001b[0m iplot({\n\u001b[0;32m----> 2\u001b[0;31m     \u001b[0;34m\"data\"\u001b[0m\u001b[0;34m:\u001b[0m \u001b[0mtrace_mpi_testsize\u001b[0m\u001b[0;34m,\u001b[0m\u001b[0;34m\u001b[0m\u001b[0m\n\u001b[0m\u001b[1;32m      3\u001b[0m     \"layout\": go.Layout(title=\"plot 5 of quick sort<br>mpi<br>fixed test size\", \n\u001b[1;32m      4\u001b[0m                         \u001b[0mxaxis\u001b[0m\u001b[0;34m=\u001b[0m\u001b[0mdict\u001b[0m\u001b[0;34m(\u001b[0m\u001b[0mtitle\u001b[0m\u001b[0;34m=\u001b[0m\u001b[0;34m'number of procs'\u001b[0m\u001b[0;34m)\u001b[0m\u001b[0;34m,\u001b[0m\u001b[0;34m\u001b[0m\u001b[0m\n\u001b[1;32m      5\u001b[0m                         \u001b[0myaxis\u001b[0m\u001b[0;34m=\u001b[0m\u001b[0mdict\u001b[0m\u001b[0;34m(\u001b[0m\u001b[0mtitle\u001b[0m\u001b[0;34m=\u001b[0m\u001b[0;34m'runtime(s)'\u001b[0m\u001b[0;34m)\u001b[0m\u001b[0;34m,\u001b[0m\u001b[0;34m\u001b[0m\u001b[0m\n",
      "\u001b[0;31mNameError\u001b[0m: name 'trace_mpi_testsize' is not defined"
     ]
    }
   ],
   "source": [
    "iplot({\n",
    "    \"data\": trace_mpi_testsize,\n",
    "    \"layout\": go.Layout(title=\"plot 5 of quick sort<br>mpi<br>fixed test size\", \n",
    "                        xaxis=dict(title='number of procs'),\n",
    "                        yaxis=dict(title='runtime(s)'),\n",
    "                        showlegend=True,\n",
    "                       )\n",
    "})\n",
    "\n",
    "iplot({\n",
    "    \"data\": trace_mpi_seed,\n",
    "    \"layout\": go.Layout(title=\"plot 6 of quick sort<br>mpi<br>fixed seed: 123456\", \n",
    "                        xaxis=dict(title='size of test'),\n",
    "                        yaxis=dict(title='runtime(s)'),\n",
    "                        showlegend=True,\n",
    "                       )\n",
    "})"
   ]
  }
 ],
 "metadata": {
  "kernelspec": {
   "display_name": "Python 3",
   "language": "python",
   "name": "python3"
  },
  "language_info": {
   "codemirror_mode": {
    "name": "ipython",
    "version": 3
   },
   "file_extension": ".py",
   "mimetype": "text/x-python",
   "name": "python",
   "nbconvert_exporter": "python",
   "pygments_lexer": "ipython3",
   "version": "3.6.3"
  }
 },
 "nbformat": 4,
 "nbformat_minor": 2
}
